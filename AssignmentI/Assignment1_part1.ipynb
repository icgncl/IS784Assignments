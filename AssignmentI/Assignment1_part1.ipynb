{
  "nbformat": 4,
  "nbformat_minor": 0,
  "metadata": {
    "colab": {
      "name": "e216642_Assignment1_part1.ipynb",
      "provenance": [],
      "collapsed_sections": [],
      "toc_visible": true
    },
    "kernelspec": {
      "display_name": "Python 3",
      "language": "python",
      "name": "python3"
    },
    "language_info": {
      "codemirror_mode": {
        "name": "ipython",
        "version": 3
      },
      "file_extension": ".py",
      "mimetype": "text/x-python",
      "name": "python",
      "nbconvert_exporter": "python",
      "pygments_lexer": "ipython3",
      "version": "3.8.5"
    },
    "accelerator": "GPU"
  },
  "cells": [
    {
      "cell_type": "markdown",
      "metadata": {
        "id": "sAI8gIO4RBBC"
      },
      "source": [
        "# IS 784 Assignment1\n"
      ]
    },
    {
      "cell_type": "markdown",
      "metadata": {
        "id": "9OcmaWOHdN2Y"
      },
      "source": [
        "## Discussion"
      ]
    },
    {
      "cell_type": "markdown",
      "metadata": {
        "id": "oRgLvny9XTuf"
      },
      "source": [
        "\n",
        "\n",
        "In the first part of the assignment, I have filled necessary parts, and obtained a result. I have used \"basic_english\" tokenizer instead of \"spacy\" tokenizer because \"spacy\" tokenizer was taking too much time when it is compared to \"basic_english\" tokenizer\n",
        "In the second part, I have tested it with\n",
        "only stemming, only with lemmatization and lemmatization-removing stop words.\n",
        "\n",
        "\n",
        "*   **Only stemming :** I have used SnowballStemmer from nltk and obtained 62.62% accuracy with it.\n",
        "*   **Only lemmatization :** I have used WordNetLemmatizer again from nltk and obtained 62.82% accuracy.\n",
        "*   **Lemmatization and Removing Stop Words :** In this part, I have removed stop words like 'the' from the tokens because the most of the frequenciest words were stop words. Accuracy was 65.84%.\n",
        "\n",
        "In the third part:\n",
        "* **Different Embedding Size :** I have tried with [100, 200, 300, 1000, 3000] embedding sizes. The best one is gotten with embedding_size = 1000.\n",
        "* **Reducing Vocabulary Size :** I have tried with most frequent [1000, 2000, 3000, 10000, 30000,100000] words. And the best accuracies are gotten with 10000 and 100000. However, training time has increased when vocabulary size increased. Therefore, I have choosen 10000 as best vocabulary size for this dataset.\n",
        "* **Pretrained Weights :** With the pretrained weights, accuracy has increased significantly, and because of already pretrained weights training time has decreased. Therefore, using pretrained weigths has very good results for this dataset.\n",
        "* **Change Depth of the Network :** When the depth of the network has increased, accuracy also increased for pretrained weigths. But increase on the accuracy was very low for using it because it also increased training time. However if the pretrained results were not used, increase on the depth would impact on accuracy significantly.\n",
        "\n",
        "\n"
      ]
    },
    {
      "cell_type": "code",
      "metadata": {
        "id": "njw5fulo7613"
      },
      "source": [
        "CUDA_LAUNCH_BLOCKING=\"1\""
      ],
      "execution_count": 43,
      "outputs": []
    },
    {
      "cell_type": "code",
      "metadata": {
        "id": "oQNN8CFoRBBP",
        "colab": {
          "base_uri": "https://localhost:8080/"
        },
        "outputId": "9ec0d6eb-6a86-4c64-ce18-14ff3534707f"
      },
      "source": [
        "import torch\n",
        "print(torch.__version__) #version of the pytorh\n",
        "import torch.nn.functional as F\n",
        "import torchtext.legacy as torchtext\n",
        "import random\n",
        "\n",
        "## Fill Here ##   Add any library that is needed for preprocessing steps\n",
        "from torchtext.data.utils import get_tokenizer\n",
        "import nltk # in order to stemming and lemmatization\n",
        "nltk.download('wordnet')\n",
        "from nltk.corpus import stopwords \n",
        "nltk.download('stopwords')\n",
        "from nltk.tokenize import RegexpTokenizer # in order to delete punctuations\n",
        "nltk.download('punkt')\n",
        "import matplotlib.pyplot as plt\n",
        "\n"
      ],
      "execution_count": 44,
      "outputs": [
        {
          "output_type": "stream",
          "text": [
            "1.8.1+cu101\n",
            "[nltk_data] Downloading package wordnet to /root/nltk_data...\n",
            "[nltk_data]   Package wordnet is already up-to-date!\n",
            "[nltk_data] Downloading package stopwords to /root/nltk_data...\n",
            "[nltk_data]   Package stopwords is already up-to-date!\n",
            "[nltk_data] Downloading package punkt to /root/nltk_data...\n",
            "[nltk_data]   Package punkt is already up-to-date!\n"
          ],
          "name": "stdout"
        }
      ]
    },
    {
      "cell_type": "markdown",
      "metadata": {
        "id": "ZRW0mcRQn_PK"
      },
      "source": [
        "### Finding Max Length \n"
      ]
    },
    {
      "cell_type": "markdown",
      "metadata": {
        "id": "9juFZANBZEqX"
      },
      "source": [
        "First thing we need to do is finding the max length of the text in the dataset because our input size is constant."
      ]
    },
    {
      "cell_type": "code",
      "metadata": {
        "id": "Pz3mTFB3OOAo"
      },
      "source": [
        "## In this cell create \"tokenize_fn\" that takes text and returns tokens\n",
        "##Example\n",
        "## def tokenize_fn(text):\n",
        "##   tokens = do_tokenize(text)\n",
        "##   return tokens\n",
        "\n",
        "##Fill here##\n",
        "\n",
        "# I have choosed \"basic english\" as tokenizer because process with \"spacy\" was taking so long.\n",
        "def tokenize_fn(text):\n",
        "  tokenizer = get_tokenizer(\"basic_english\")\n",
        "  tokens = tokenizer(text)\n",
        "  return tokens"
      ],
      "execution_count": 45,
      "outputs": []
    },
    {
      "cell_type": "code",
      "metadata": {
        "id": "D9Ni6oXTich-"
      },
      "source": [
        "TEXT = torchtext.data.Field(tokenize= tokenize_fn, batch_first=True) # preprocessing paraneters can be used to add aditional  preprocessing steps\n",
        "LABEL = torchtext.data.LabelField(dtype = torch.float)"
      ],
      "execution_count": 46,
      "outputs": []
    },
    {
      "cell_type": "code",
      "metadata": {
        "id": "5PEQVuI_m3uV"
      },
      "source": [
        "train_data, test_data = torchtext.datasets.IMDB.splits(TEXT, LABEL)"
      ],
      "execution_count": 47,
      "outputs": []
    },
    {
      "cell_type": "code",
      "metadata": {
        "id": "ac25bdxVXecP",
        "colab": {
          "base_uri": "https://localhost:8080/"
        },
        "outputId": "8a22a467-068e-4da4-c5e9-d5970485d57f"
      },
      "source": [
        "max_size=0  ## this part of the code find maximum length of the network\n",
        "count=0\n",
        "sum= 0\n",
        "for i in  range(len(train_data)):\n",
        "  if max_size < len(train_data[i].text):\n",
        "    max_size =len(train_data[i].text)\n",
        "    print(max_size)\n",
        "  count +=1\n",
        "  sum +=len(train_data[i].text)\n",
        "print(\"avarage: \", sum/count)"
      ],
      "execution_count": 48,
      "outputs": [
        {
          "output_type": "stream",
          "text": [
            "206\n",
            "712\n",
            "1086\n",
            "1096\n",
            "1128\n",
            "1160\n",
            "1299\n",
            "2022\n",
            "2752\n",
            "avarage:  270.68748\n"
          ],
          "name": "stdout"
        }
      ]
    },
    {
      "cell_type": "markdown",
      "metadata": {
        "id": "UG7I6kZ7oHKX"
      },
      "source": [
        "### Training Embeddings"
      ]
    },
    {
      "cell_type": "markdown",
      "metadata": {
        "id": "Gy6YWYP4oN58"
      },
      "source": [
        "We just have found the max length corpus. Now let's create our train and test datasets."
      ]
    },
    {
      "cell_type": "code",
      "metadata": {
        "id": "0_wJl9cwmuR0",
        "colab": {
          "base_uri": "https://localhost:8080/"
        },
        "outputId": "2410aa97-141b-41fb-eb42-bf2f660c24e1"
      },
      "source": [
        "TEXT = torchtext.data.Field(tokenize=tokenize_fn, batch_first=True,fix_length= max_size # it is filled with max size \n",
        "                            ) # preprocessing parameters can be used to add aditional  preprocessing steps\n",
        "LABEL = torchtext.data.LabelField(dtype = torch.float)\n",
        "train_data, test_data = torchtext.datasets.IMDB.splits(TEXT, LABEL) \n",
        "print(\"train length is: \",len(train_data))\n",
        "print(\"test length is: \",len(test_data))\n",
        "print(vars(train_data[0]))"
      ],
      "execution_count": 49,
      "outputs": [
        {
          "output_type": "stream",
          "text": [
            "train length is:  25000\n",
            "test length is:  25000\n",
            "{'text': ['alex', 'winter', 'and', 'keanu', 'reeves', 'return', 'as', 'the', 'two', 'dopes', 'from', 'san', 'dimas', 'who', 'get', 'sent', 'on', 'another', 'trip', 'of', 'a', 'lifetime', 'as', 'someone', 'from', 'the', 'future', 'feels', 'exactly', 'the', 'opposite', 'the', 'way', 'it', 'was', 'presented', 'in', 'the', 'first', 'movie', '.', 'the', 'only', 'difference', 'is', 'that', 'their', 'trip', 'is', 'somewhere', 'between', 'heaven', 'and', 'hell', 'and', 'ends', 'up', 'being', 'both', '.', 'when', 'they', 'meet', 'the', 'grim', 'reaper', ',', 'they', 'get', 'the', 'chance', 'of', 'an', 'after-lifetime', 'to', 'play', 'him', 'for', 'a', 'chance', 'to', 'return', 'and', 'stop', 'two', 'evil', 'robots', 'from', 'ruining', 'what', 'future', 'they', 'were', 'supposed', 'to', 'have', '.', 'besides', 'playing', 'roles', 'they', 'have', '.', '.', '.', 'er', '.', '.', '.', 'perfected', ',', 'they', 'also', 'play', '(', 'and', 'revive', 'a', 'couple', 'of', 'extra', 'sales', 'in', 'the', 'process', ')', 'some', 'classic', 'games', '(', 'i', 'even', 'have', 'my', 'original', 'copy', 'of', 'battleship', 'in', 'the', 'closet', ')', '.', 'the', 'reason', 'i', 'liked', 'this', 'movie', 'better', 'than', 'the', 'original', 'is', 'because', 'it', 'deals', 'with', 'what', 'it', 'might', 'be', 'like', 'instead', 'of', 'what', 'was', '.', 'without', 'spoiling', 'the', 'movie', ',', 'i', 'can', \"'\", 't', 'give', 'you', 'anymore', 'information', 'about', 'this', '(', 'i', 'guess', 'you', \"'\", 'll', 'just', 'have', 'to', 'watch', 'them', 'both', 'and', 'decide', 'for', 'yourself', '!', '8', 'out', 'of', '10', 'stars', '.'], 'label': 'pos'}\n"
          ],
          "name": "stdout"
        }
      ]
    },
    {
      "cell_type": "code",
      "metadata": {
        "id": "mb1Bthmaj1Lr"
      },
      "source": [
        "TEXT.build_vocab(train_data)\n",
        "LABEL.build_vocab(train_data)"
      ],
      "execution_count": 50,
      "outputs": []
    },
    {
      "cell_type": "code",
      "metadata": {
        "id": "LOLkG_dgjxH4",
        "colab": {
          "base_uri": "https://localhost:8080/"
        },
        "outputId": "3fb7182c-5b61-4d3c-93fc-0db94078cbf6"
      },
      "source": [
        "print(\"Unique tokens in TEXT vocabulary:\",len(TEXT.vocab))\n",
        "print(\"Unique tokens in LABEL vocabulary:\",len(LABEL.vocab))\n",
        "print(TEXT.vocab.freqs.most_common(20))\n",
        "print(LABEL.vocab.freqs)\n",
        "print(TEXT.unk_token)\n",
        "print(TEXT.pad_token)"
      ],
      "execution_count": 51,
      "outputs": [
        {
          "output_type": "stream",
          "text": [
            "Unique tokens in TEXT vocabulary: 100684\n",
            "Unique tokens in LABEL vocabulary: 2\n",
            "[('the', 335746), ('.', 327192), (',', 276280), ('and', 163290), ('a', 162473), ('of', 145437), ('to', 135208), (\"'\", 133857), ('is', 107221), ('it', 96024), ('in', 93307), ('i', 87401), ('this', 75878), ('that', 73153), ('s', 62933), ('was', 48170), ('as', 46807), ('for', 44116), ('with', 44041), ('movie', 43421)]\n",
            "Counter({'pos': 12500, 'neg': 12500})\n",
            "<unk>\n",
            "<pad>\n"
          ],
          "name": "stdout"
        }
      ]
    },
    {
      "cell_type": "code",
      "metadata": {
        "id": "Z9PiSpoDmuy-"
      },
      "source": [
        "device = torch.device('cuda' if torch.cuda.is_available() else 'cpu')\n",
        "\n",
        "##Create a train and test iterators using Bucket iterator method with batch size 32\n",
        "train_iterator, test_iterator = torchtext.data.BucketIterator.splits((train_data, test_data), batch_size=32, device=device)"
      ],
      "execution_count": 52,
      "outputs": []
    },
    {
      "cell_type": "markdown",
      "metadata": {
        "id": "TRCXsKl5-u3e"
      },
      "source": [
        "Let's create our network;"
      ]
    },
    {
      "cell_type": "code",
      "metadata": {
        "id": "xBCxdM6joBbZ"
      },
      "source": [
        "class Network(torch.nn.Module):\n",
        "    def __init__(self,pad_idx):\n",
        "        super().__init__()\n",
        "        self.embedding = torch.nn.Embedding(num_embeddings = len(TEXT.vocab), embedding_dim =100,padding_idx = pad_idx)##Fill Here ## create an embedding layer with 100 size\n",
        "        self.layer1 = torch.nn.Linear(max_size*100,1)\n",
        "\n",
        "    def forward(self, x):\n",
        "        x = self.embedding(x).view(x.size(0),-1)\n",
        "        x = self.layer1(x)\n",
        "        return x       "
      ],
      "execution_count": 53,
      "outputs": []
    },
    {
      "cell_type": "code",
      "metadata": {
        "id": "ENDe2sd5rJn4",
        "colab": {
          "base_uri": "https://localhost:8080/"
        },
        "outputId": "d7d53667-0f68-48cf-b412-b2aa6bc31e50"
      },
      "source": [
        "model = Network(pad_idx = TEXT.vocab.stoi[TEXT.pad_token])\n",
        "print(model)"
      ],
      "execution_count": 54,
      "outputs": [
        {
          "output_type": "stream",
          "text": [
            "Network(\n",
            "  (embedding): Embedding(100684, 100, padding_idx=1)\n",
            "  (layer1): Linear(in_features=275200, out_features=1, bias=True)\n",
            ")\n"
          ],
          "name": "stdout"
        }
      ]
    },
    {
      "cell_type": "code",
      "metadata": {
        "id": "W5B5TDLdqi93"
      },
      "source": [
        "# Choose a Loss function from torch.nn according to your network\n",
        "loss_fn = torch.nn.BCEWithLogitsLoss()##Fill here## \n",
        "\n",
        "#Define an Adam optimizer with learning rate 0.001 to optimize the parameters of our network\n",
        "optimizer = torch.optim.Adam(params= model.parameters(),lr= 0.0001)  ## Fill here##"
      ],
      "execution_count": 55,
      "outputs": []
    },
    {
      "cell_type": "code",
      "metadata": {
        "id": "6v0Fw71NqNgD"
      },
      "source": [
        "model = model.to(device)\n",
        "loss_fn = loss_fn.to(device)"
      ],
      "execution_count": 56,
      "outputs": []
    },
    {
      "cell_type": "markdown",
      "metadata": {
        "id": "uJUAGG5EDYJo"
      },
      "source": [
        "We can train our network now."
      ]
    },
    {
      "cell_type": "code",
      "metadata": {
        "id": "LpFvTmIyXGyR"
      },
      "source": [
        "def accuracy_fn(predictions, labels):  ## create a accuraccy function for further use\n",
        "  correct = (torch.round(torch.sigmoid(predictions)) == batch.label.squeeze(0)).float() \n",
        "  accuracy = correct.sum() / len(correct)  ##Fill here\n",
        "  return accuracy"
      ],
      "execution_count": 57,
      "outputs": []
    },
    {
      "cell_type": "code",
      "metadata": {
        "id": "IVmtOVeVQJoM",
        "colab": {
          "base_uri": "https://localhost:8080/"
        },
        "outputId": "c47246f9-5d1b-430f-b117-d4a082fd80c8"
      },
      "source": [
        "import time\n",
        "# Training loop\n",
        "N_EPOCHS = 2\n",
        "\n",
        "tr_loss = []\n",
        "model.train()\n",
        "\n",
        "for epoch in range(N_EPOCHS):\n",
        "    \n",
        "    # Calculate training time\n",
        "    start_time = time.time()\n",
        "\n",
        "    epoch_loss = 0\n",
        "    epoch_acc = 0\n",
        "\n",
        "    \n",
        "    batch_no = 0\n",
        "    for batch in train_iterator:\n",
        "        predictions = model(batch.text).squeeze(1)\n",
        "        loss = loss_fn(predictions, batch.label.squeeze(0))\n",
        "        ###Fill Here###\n",
        "        # Reset the gradients\n",
        "        optimizer.zero_grad()\n",
        "        # Backprop \n",
        "        loss.backward()  \n",
        "        # Optimize the weights\n",
        "        optimizer.step()\n",
        "        ##################################\n",
        "\n",
        "        # Record accuracy and loss\n",
        "        epoch_loss += loss.item()\n",
        "\n",
        "        acc =   accuracy_fn(predictions,batch.label.squeeze(0)) \n",
        "        epoch_acc +=acc.item()\n",
        "\n",
        "        batch_no = batch_no +1\n",
        "        \n",
        "        \n",
        "    \n",
        "    train_loss = epoch_loss / len(train_iterator)\n",
        "\n",
        "    end_time = time.time()\n",
        "\n",
        "    elapsed_time = end_time - start_time\n",
        "    elapsed_mins = int(elapsed_time / 60)\n",
        "    elapsed_secs = int(elapsed_time - (elapsed_mins * 60))\n",
        "    \n",
        "    print('\\n')    \n",
        "    print(f'Epoch: {epoch+1:2} | Epoch Time: {elapsed_mins}m {elapsed_secs}s')\n",
        "    print(f'\\tAvarage Train Loss: {train_loss:.3f} ')\n",
        "    print('\\n') "
      ],
      "execution_count": 58,
      "outputs": [
        {
          "output_type": "stream",
          "text": [
            "\n",
            "\n",
            "Epoch:  1 | Epoch Time: 0m 14s\n",
            "\tAvarage Train Loss: 0.672 \n",
            "\n",
            "\n",
            "\n",
            "\n",
            "Epoch:  2 | Epoch Time: 0m 14s\n",
            "\tAvarage Train Loss: 0.452 \n",
            "\n",
            "\n"
          ],
          "name": "stdout"
        }
      ]
    },
    {
      "cell_type": "code",
      "metadata": {
        "id": "hCdD1EBy4W8V",
        "colab": {
          "base_uri": "https://localhost:8080/"
        },
        "outputId": "ab1f7980-8e25-4627-d43f-6e25ba551275"
      },
      "source": [
        "test_epoch_loss = 0\n",
        "test_epoch_acc = 0\n",
        "\n",
        "# Turm on evalutaion mode\n",
        "model.eval()\n",
        "\n",
        "# No need to backprop in eval\n",
        "with torch.no_grad():\n",
        "\n",
        "    for batch in test_iterator:\n",
        "\n",
        "        test_predictions = model(batch.text).squeeze(1)\n",
        "        \n",
        "        test_loss = loss_fn(test_predictions, batch.label)\n",
        "\n",
        "        test_epoch_loss += test_loss.item()\n",
        "        \n",
        "        acc = accuracy_fn(test_predictions,batch.label.squeeze(0))\n",
        "        test_epoch_acc +=acc.item()\n",
        "\n",
        "test_loss = test_epoch_loss/len(test_iterator)\n",
        "test_acc = test_epoch_acc  / len(test_iterator)\n",
        "print(f'Test Loss: {test_loss:.3f} | | Test Acc: {test_acc*100:.2f}%')"
      ],
      "execution_count": 59,
      "outputs": [
        {
          "output_type": "stream",
          "text": [
            "Test Loss: 0.649 | | Test Acc: 63.50%\n"
          ],
          "name": "stdout"
        }
      ]
    },
    {
      "cell_type": "markdown",
      "metadata": {
        "id": "ZZcUrjVXhhDN"
      },
      "source": [
        "## Part 2"
      ]
    },
    {
      "cell_type": "markdown",
      "metadata": {
        "id": "nEZ2bIE0pXgt"
      },
      "source": [
        "### Part2-A : With Stemming"
      ]
    },
    {
      "cell_type": "code",
      "metadata": {
        "id": "ZrExixVLv_r6"
      },
      "source": [
        "def my_stemmer(text):\n",
        "  stems = []\n",
        "  stemmer = nltk.stem.SnowballStemmer('english') \n",
        "  for token in text:\n",
        "    token = stemmer.stem(token)\n",
        "    if token != \"\":\n",
        "      stems.append(token)\n",
        "  return stems "
      ],
      "execution_count": 60,
      "outputs": []
    },
    {
      "cell_type": "code",
      "metadata": {
        "id": "fXYLZ7mAt5GS",
        "colab": {
          "base_uri": "https://localhost:8080/"
        },
        "outputId": "8c2c8a52-7994-4427-8922-4be0c05eaa1b"
      },
      "source": [
        "TEXT_STEM = torchtext.data.Field(tokenize= tokenize_fn, batch_first=True, preprocessing = my_stemmer, fix_length = max_size) # preprocessing paraneters can be used to add aditional  preprocessing steps\n",
        "LABEL_STEM = torchtext.data.LabelField(dtype = torch.float)\n",
        "train_data_stemming, test_data_stemming = torchtext.datasets.IMDB.splits(TEXT_STEM, LABEL_STEM) \n",
        "print(\"train length is: \",len(train_data_stemming))\n",
        "print(\"test length is: \",len(test_data_stemming))\n",
        "print(vars(train_data_stemming[0]))"
      ],
      "execution_count": 61,
      "outputs": [
        {
          "output_type": "stream",
          "text": [
            "train length is:  25000\n",
            "test length is:  25000\n",
            "{'text': ['alex', 'winter', 'and', 'keanu', 'reev', 'return', 'as', 'the', 'two', 'dope', 'from', 'san', 'dima', 'who', 'get', 'sent', 'on', 'anoth', 'trip', 'of', 'a', 'lifetim', 'as', 'someon', 'from', 'the', 'futur', 'feel', 'exact', 'the', 'opposit', 'the', 'way', 'it', 'was', 'present', 'in', 'the', 'first', 'movi', '.', 'the', 'onli', 'differ', 'is', 'that', 'their', 'trip', 'is', 'somewher', 'between', 'heaven', 'and', 'hell', 'and', 'end', 'up', 'be', 'both', '.', 'when', 'they', 'meet', 'the', 'grim', 'reaper', ',', 'they', 'get', 'the', 'chanc', 'of', 'an', 'after-lifetim', 'to', 'play', 'him', 'for', 'a', 'chanc', 'to', 'return', 'and', 'stop', 'two', 'evil', 'robot', 'from', 'ruin', 'what', 'futur', 'they', 'were', 'suppos', 'to', 'have', '.', 'besid', 'play', 'role', 'they', 'have', '.', '.', '.', 'er', '.', '.', '.', 'perfect', ',', 'they', 'also', 'play', '(', 'and', 'reviv', 'a', 'coupl', 'of', 'extra', 'sale', 'in', 'the', 'process', ')', 'some', 'classic', 'game', '(', 'i', 'even', 'have', 'my', 'origin', 'copi', 'of', 'battleship', 'in', 'the', 'closet', ')', '.', 'the', 'reason', 'i', 'like', 'this', 'movi', 'better', 'than', 'the', 'origin', 'is', 'becaus', 'it', 'deal', 'with', 'what', 'it', 'might', 'be', 'like', 'instead', 'of', 'what', 'was', '.', 'without', 'spoil', 'the', 'movi', ',', 'i', 'can', \"'\", 't', 'give', 'you', 'anymor', 'inform', 'about', 'this', '(', 'i', 'guess', 'you', \"'\", 'll', 'just', 'have', 'to', 'watch', 'them', 'both', 'and', 'decid', 'for', 'yourself', '!', '8', 'out', 'of', '10', 'star', '.'], 'label': 'pos'}\n"
          ],
          "name": "stdout"
        }
      ]
    },
    {
      "cell_type": "code",
      "metadata": {
        "id": "gYcY2T7YwZGP",
        "colab": {
          "base_uri": "https://localhost:8080/"
        },
        "outputId": "09c6a0db-a608-4957-9da3-a789f6f74239"
      },
      "source": [
        "TEXT_STEM.build_vocab(train_data_stemming)\n",
        "LABEL_STEM.build_vocab(train_data_stemming)\n",
        "\n",
        "\n",
        "device = torch.device('cuda' if torch.cuda.is_available() else 'cpu')\n",
        "##Create a train and test iterators using Bucket iterator method with batch size 32\n",
        "train_iterator, test_iterator = torchtext.data.BucketIterator.splits((train_data_stemming, test_data_stemming), batch_size=32, device=device)\n",
        "\n",
        "class Network(torch.nn.Module):\n",
        "    def __init__(self,pad_idx):\n",
        "        super().__init__()\n",
        "        self.embedding = torch.nn.Embedding(num_embeddings = len(TEXT_STEM.vocab), embedding_dim =100,padding_idx = pad_idx)##Fill Here ## create an embedding layer with 100 size\n",
        "        self.layer1 = torch.nn.Linear(max_size*100,1)\n",
        "\n",
        "    def forward(self, x):\n",
        "        x = self.embedding(x).view(x.size(0),-1)\n",
        "        x = self.layer1(x)\n",
        "        return x       \n",
        "\n",
        "model = Network(pad_idx = TEXT_STEM.vocab.stoi[TEXT_STEM.pad_token])\n",
        "print(model)\n",
        "\n",
        "# Choose a Loss function from torch.nn according to your network\n",
        "loss_fn = torch.nn.BCEWithLogitsLoss()##Fill here## \n",
        "\n",
        "#Define an Adam optimizer with learning rate 0.001 to optimize the parameters of our network\n",
        "optimizer = torch.optim.Adam(params= model.parameters(),lr= 0.0001)  ## Fill here##\n",
        "\n",
        "model = model.to(device)\n",
        "loss_fn = loss_fn.to(device)\n",
        "\n",
        "def accuracy_fn(predictions, labels):  ## create a accuraccy function for further use\n",
        "  correct = (torch.round(torch.sigmoid(predictions)) == batch.label.squeeze(0)).float() \n",
        "  accuracy = correct.sum() / len(correct)  ##Fill here\n",
        "  return accuracy\n",
        "\n",
        "import time\n",
        "# Training loop\n",
        "N_EPOCHS = 2\n",
        "\n",
        "tr_loss = []\n",
        "model.train()\n",
        "\n",
        "for epoch in range(N_EPOCHS):\n",
        "    \n",
        "    # Calculate training time\n",
        "    start_time = time.time()\n",
        "\n",
        "    epoch_loss = 0\n",
        "    epoch_acc = 0\n",
        "\n",
        "    \n",
        "    batch_no = 0\n",
        "    for batch in train_iterator:\n",
        "        predictions = model(batch.text).squeeze(1)\n",
        "        loss = loss_fn(predictions, batch.label.squeeze(0))\n",
        "        ###Fill Here###\n",
        "        # Reset the gradients\n",
        "        optimizer.zero_grad()\n",
        "        # Backprop \n",
        "        loss.backward()  \n",
        "        # Optimize the weights\n",
        "        optimizer.step()\n",
        "        ##################################\n",
        "\n",
        "        # Record accuracy and loss\n",
        "        epoch_loss += loss.item()\n",
        "\n",
        "        acc =   accuracy_fn(predictions,batch.label.squeeze(0)) \n",
        "        epoch_acc +=acc.item()\n",
        "\n",
        "        batch_no = batch_no +1\n",
        "        \n",
        "\n",
        "    \n",
        "    train_loss = epoch_loss / len(train_iterator)\n",
        "\n",
        "    end_time = time.time()\n",
        "\n",
        "    elapsed_time = end_time - start_time\n",
        "    elapsed_mins = int(elapsed_time / 60)\n",
        "    elapsed_secs = int(elapsed_time - (elapsed_mins * 60))\n",
        "    \n",
        "    print('\\n')    \n",
        "    print(f'Epoch: {epoch+1:2} | Epoch Time: {elapsed_mins}m {elapsed_secs}s')\n",
        "    print(f'\\tAvarage Train Loss: {train_loss:.3f} ')\n",
        "    print('\\n') \n",
        "\n",
        "test_epoch_loss = 0\n",
        "test_epoch_acc = 0\n",
        "\n",
        "# Turm on evalutaion mode\n",
        "model.eval()\n",
        "\n",
        "# No need to backprop in eval\n",
        "with torch.no_grad():\n",
        "\n",
        "    for batch in test_iterator:\n",
        "\n",
        "        test_predictions = model(batch.text).squeeze(1)\n",
        "        \n",
        "        test_loss_stem = loss_fn(test_predictions, batch.label)\n",
        "\n",
        "        test_epoch_loss += test_loss_stem.item()\n",
        "        \n",
        "        acc = accuracy_fn(test_predictions,batch.label.squeeze(0))\n",
        "        test_epoch_acc +=acc.item()\n",
        "\n",
        "test_loss_stem = test_epoch_loss/len(test_iterator)\n",
        "test_acc_stem = test_epoch_acc  / len(test_iterator)\n",
        "print(f'Test Loss: {test_loss_stem:.3f} | | Test Acc: {test_acc_stem*100:.2f}%')"
      ],
      "execution_count": 62,
      "outputs": [
        {
          "output_type": "stream",
          "text": [
            "Network(\n",
            "  (embedding): Embedding(75641, 100, padding_idx=1)\n",
            "  (layer1): Linear(in_features=275200, out_features=1, bias=True)\n",
            ")\n",
            "\n",
            "\n",
            "Epoch:  1 | Epoch Time: 0m 12s\n",
            "\tAvarage Train Loss: 0.667 \n",
            "\n",
            "\n",
            "\n",
            "\n",
            "Epoch:  2 | Epoch Time: 0m 13s\n",
            "\tAvarage Train Loss: 0.447 \n",
            "\n",
            "\n",
            "Test Loss: 0.646 | | Test Acc: 64.13%\n"
          ],
          "name": "stdout"
        }
      ]
    },
    {
      "cell_type": "markdown",
      "metadata": {
        "id": "l5Zy4XdMV_4R"
      },
      "source": [
        "### Part2-B: With Lemmatization"
      ]
    },
    {
      "cell_type": "code",
      "metadata": {
        "id": "ltJhO_0u1hDe"
      },
      "source": [
        "def my_lemmatization(text):\n",
        "  lemmas = []\n",
        "  lemmatize = nltk.stem.WordNetLemmatizer() \n",
        "  for token in text:\n",
        "    token = lemmatize.lemmatize(token)\n",
        "    if token != \"\":\n",
        "      lemmas.append(token)\n",
        "  return lemmas "
      ],
      "execution_count": 63,
      "outputs": []
    },
    {
      "cell_type": "code",
      "metadata": {
        "id": "5uL23jejWZUZ",
        "colab": {
          "base_uri": "https://localhost:8080/"
        },
        "outputId": "bc452f42-83cb-40fe-80c4-6cfd85fec6fe"
      },
      "source": [
        "TEXT_LEMMA = torchtext.data.Field(tokenize= tokenize_fn, batch_first=True, preprocessing = my_lemmatization, fix_length = max_size) # preprocessing paraneters can be used to add aditional  preprocessing steps\n",
        "LABEL_LEMMA = torchtext.data.LabelField(dtype = torch.float)\n",
        "train_data_lemma, test_data_lemma = torchtext.datasets.IMDB.splits(TEXT_LEMMA, LABEL_LEMMA) \n",
        "print(\"train length is: \",len(train_data_lemma))\n",
        "print(\"test length is: \",len(test_data_lemma))\n",
        "print(vars(train_data_lemma[0]))"
      ],
      "execution_count": 64,
      "outputs": [
        {
          "output_type": "stream",
          "text": [
            "train length is:  25000\n",
            "test length is:  25000\n",
            "{'text': ['alex', 'winter', 'and', 'keanu', 'reef', 'return', 'a', 'the', 'two', 'dope', 'from', 'san', 'dimas', 'who', 'get', 'sent', 'on', 'another', 'trip', 'of', 'a', 'lifetime', 'a', 'someone', 'from', 'the', 'future', 'feel', 'exactly', 'the', 'opposite', 'the', 'way', 'it', 'wa', 'presented', 'in', 'the', 'first', 'movie', '.', 'the', 'only', 'difference', 'is', 'that', 'their', 'trip', 'is', 'somewhere', 'between', 'heaven', 'and', 'hell', 'and', 'end', 'up', 'being', 'both', '.', 'when', 'they', 'meet', 'the', 'grim', 'reaper', ',', 'they', 'get', 'the', 'chance', 'of', 'an', 'after-lifetime', 'to', 'play', 'him', 'for', 'a', 'chance', 'to', 'return', 'and', 'stop', 'two', 'evil', 'robot', 'from', 'ruining', 'what', 'future', 'they', 'were', 'supposed', 'to', 'have', '.', 'besides', 'playing', 'role', 'they', 'have', '.', '.', '.', 'er', '.', '.', '.', 'perfected', ',', 'they', 'also', 'play', '(', 'and', 'revive', 'a', 'couple', 'of', 'extra', 'sale', 'in', 'the', 'process', ')', 'some', 'classic', 'game', '(', 'i', 'even', 'have', 'my', 'original', 'copy', 'of', 'battleship', 'in', 'the', 'closet', ')', '.', 'the', 'reason', 'i', 'liked', 'this', 'movie', 'better', 'than', 'the', 'original', 'is', 'because', 'it', 'deal', 'with', 'what', 'it', 'might', 'be', 'like', 'instead', 'of', 'what', 'wa', '.', 'without', 'spoiling', 'the', 'movie', ',', 'i', 'can', \"'\", 't', 'give', 'you', 'anymore', 'information', 'about', 'this', '(', 'i', 'guess', 'you', \"'\", 'll', 'just', 'have', 'to', 'watch', 'them', 'both', 'and', 'decide', 'for', 'yourself', '!', '8', 'out', 'of', '10', 'star', '.'], 'label': 'pos'}\n"
          ],
          "name": "stdout"
        }
      ]
    },
    {
      "cell_type": "code",
      "metadata": {
        "id": "607qq1PqZA2i",
        "colab": {
          "base_uri": "https://localhost:8080/"
        },
        "outputId": "010dbe6d-1739-48e1-db49-bee0cc63b626"
      },
      "source": [
        "TEXT_LEMMA.build_vocab(train_data_lemma)\n",
        "LABEL_LEMMA.build_vocab(train_data_lemma)\n",
        "\n",
        "\n",
        "device = torch.device('cuda' if torch.cuda.is_available() else 'cpu')\n",
        "##Create a train and test iterators using Bucket iterator method with batch size 32\n",
        "train_iterator, test_iterator = torchtext.data.BucketIterator.splits((train_data_lemma, test_data_lemma), batch_size=32, device=device)\n",
        "\n",
        "class Network(torch.nn.Module):\n",
        "    def __init__(self,pad_idx):\n",
        "        super().__init__()\n",
        "        self.embedding = torch.nn.Embedding(num_embeddings = len(TEXT_LEMMA.vocab), embedding_dim =100,padding_idx = pad_idx)##Fill Here ## create an embedding layer with 100 size\n",
        "        self.layer1 = torch.nn.Linear(max_size*100,1)\n",
        "\n",
        "    def forward(self, x):\n",
        "        x = self.embedding(x).view(x.size(0),-1)\n",
        "        x = self.layer1(x)\n",
        "        return x       \n",
        "\n",
        "model = Network(pad_idx = TEXT_LEMMA.vocab.stoi[TEXT_LEMMA.pad_token])\n",
        "print(model)\n",
        "\n",
        "# Choose a Loss function from torch.nn according to your network\n",
        "loss_fn = torch.nn.BCEWithLogitsLoss()##Fill here## \n",
        "\n",
        "#Define an Adam optimizer with learning rate 0.001 to optimize the parameters of our network\n",
        "optimizer = torch.optim.Adam(params= model.parameters(),lr= 0.0001)  ## Fill here##\n",
        "\n",
        "model = model.to(device)\n",
        "loss_fn = loss_fn.to(device)\n",
        "\n",
        "def accuracy_fn(predictions, labels):  ## create a accuraccy function for further use\n",
        "  correct = (torch.round(torch.sigmoid(predictions)) == batch.label.squeeze(0)).float() \n",
        "  accuracy = correct.sum() / len(correct)  ##Fill here\n",
        "  return accuracy\n",
        "\n",
        "import time\n",
        "# Training loop\n",
        "N_EPOCHS = 2\n",
        "\n",
        "tr_loss = []\n",
        "model.train()\n",
        "\n",
        "for epoch in range(N_EPOCHS):\n",
        "    \n",
        "    # Calculate training time\n",
        "    start_time = time.time()\n",
        "\n",
        "    epoch_loss = 0\n",
        "    epoch_acc = 0\n",
        "\n",
        "    \n",
        "    batch_no = 0\n",
        "    for batch in train_iterator:\n",
        "        predictions = model(batch.text).squeeze(1)\n",
        "        loss = loss_fn(predictions, batch.label.squeeze(0))\n",
        "        ###Fill Here###\n",
        "        # Reset the gradients\n",
        "        optimizer.zero_grad()\n",
        "        # Backprop \n",
        "        loss.backward()  \n",
        "        # Optimize the weights\n",
        "        optimizer.step()\n",
        "        ##################################\n",
        "\n",
        "        # Record accuracy and loss\n",
        "        epoch_loss += loss.item()\n",
        "\n",
        "        acc =   accuracy_fn(predictions,batch.label.squeeze(0)) \n",
        "        epoch_acc +=acc.item()\n",
        "\n",
        "        batch_no = batch_no +1\n",
        "        \n",
        "\n",
        "    \n",
        "    train_loss = epoch_loss / len(train_iterator)\n",
        "\n",
        "    end_time = time.time()\n",
        "\n",
        "    elapsed_time = end_time - start_time\n",
        "    elapsed_mins = int(elapsed_time / 60)\n",
        "    elapsed_secs = int(elapsed_time - (elapsed_mins * 60))\n",
        "    \n",
        "    print('\\n')    \n",
        "    print(f'Epoch: {epoch+1:2} | Epoch Time with Lemmatization: {elapsed_mins}m {elapsed_secs}s')\n",
        "    print(f'\\tAvarage Train Loss with Lemmatization: {train_loss:.3f} ')\n",
        "    print('\\n') \n",
        "\n",
        "test_epoch_loss = 0\n",
        "test_epoch_acc = 0\n",
        "\n",
        "# Turm on evalutaion mode\n",
        "model.eval()\n",
        "\n",
        "# No need to backprop in eval\n",
        "with torch.no_grad():\n",
        "\n",
        "    for batch in test_iterator:\n",
        "\n",
        "        test_predictions = model(batch.text).squeeze(1)\n",
        "        \n",
        "        test_loss_lemma = loss_fn(test_predictions, batch.label)\n",
        "\n",
        "        test_epoch_loss += test_loss_lemma.item()\n",
        "        \n",
        "        acc = accuracy_fn(test_predictions,batch.label.squeeze(0))\n",
        "        test_epoch_acc +=acc.item()\n",
        "\n",
        "test_loss_lemma = test_epoch_loss/len(test_iterator)\n",
        "test_acc_lemma = test_epoch_acc  / len(test_iterator)\n",
        "print(f'Test Loss with Lemmatization: {test_loss_lemma:.3f} | | Test Acc with Lemmatization: {test_acc_lemma*100:.2f}%')"
      ],
      "execution_count": 65,
      "outputs": [
        {
          "output_type": "stream",
          "text": [
            "Network(\n",
            "  (embedding): Embedding(93055, 100, padding_idx=1)\n",
            "  (layer1): Linear(in_features=275200, out_features=1, bias=True)\n",
            ")\n",
            "\n",
            "\n",
            "Epoch:  1 | Epoch Time with Lemmatization: 0m 13s\n",
            "\tAvarage Train Loss with Lemmatization: 0.675 \n",
            "\n",
            "\n",
            "\n",
            "\n",
            "Epoch:  2 | Epoch Time with Lemmatization: 0m 13s\n",
            "\tAvarage Train Loss with Lemmatization: 0.458 \n",
            "\n",
            "\n",
            "Test Loss with Lemmatization: 0.657 | | Test Acc with Lemmatization: 63.13%\n"
          ],
          "name": "stdout"
        }
      ]
    },
    {
      "cell_type": "markdown",
      "metadata": {
        "id": "RMewE_K1azoH"
      },
      "source": [
        "### Part2-C: Lemmatization and removing stop word"
      ]
    },
    {
      "cell_type": "markdown",
      "metadata": {
        "id": "JFsOwCRJm1fX"
      },
      "source": [
        "This module deletes stop words, lemmatize the words"
      ]
    },
    {
      "cell_type": "code",
      "metadata": {
        "id": "jdjBJ-U5ZTOT"
      },
      "source": [
        "stop_words = set(stopwords.words('english')) \n",
        "\n",
        "def my_lemmatization_and_remove_stop_words(text):\n",
        "  lemmas = []\n",
        "  lemmatize = nltk.stem.WordNetLemmatizer() \n",
        "\n",
        "  for token in text:\n",
        "    token = lemmatize.lemmatize(token)\n",
        "    if token != \"\":\n",
        "      lemmas.append(token)\n",
        "  lemmas = [word for word in lemmas if not word in stop_words] \n",
        "  return lemmas "
      ],
      "execution_count": 66,
      "outputs": []
    },
    {
      "cell_type": "code",
      "metadata": {
        "id": "tF9aDmOma_K6",
        "colab": {
          "base_uri": "https://localhost:8080/"
        },
        "outputId": "f836d62e-6b55-4d3e-f2e2-7654ade9920d"
      },
      "source": [
        "TEXT_C = torchtext.data.Field(tokenize= tokenize_fn, batch_first=True, preprocessing = my_lemmatization_and_remove_stop_words) # preprocessing paraneters can be used to add aditional  preprocessing steps\n",
        "LABEL_C = torchtext.data.LabelField(dtype = torch.float)\n",
        "\n",
        "train_data_C, test_data_lemma = torchtext.datasets.IMDB.splits(TEXT_C, LABEL_C)\n",
        "\n",
        "max_size=0  ## this part of the code find maximum length of the network\n",
        "count=0\n",
        "sum= 0\n",
        "for i in  range(len(train_data_C)):\n",
        "  if max_size < len(train_data_C[i].text):\n",
        "    max_size =len(train_data_C[i].text)\n",
        "    print(max_size)\n",
        "  count +=1\n",
        "  sum +=len(train_data_C[i].text)\n",
        "print(\"avarage: \", sum/count)"
      ],
      "execution_count": 67,
      "outputs": [
        {
          "output_type": "stream",
          "text": [
            "110\n",
            "364\n",
            "391\n",
            "584\n",
            "591\n",
            "642\n",
            "653\n",
            "676\n",
            "778\n",
            "1170\n",
            "1700\n",
            "avarage:  156.94716\n"
          ],
          "name": "stdout"
        }
      ]
    },
    {
      "cell_type": "code",
      "metadata": {
        "id": "y31s3ysvbBJ-",
        "colab": {
          "base_uri": "https://localhost:8080/"
        },
        "outputId": "ffa8f7f5-5917-4b3b-d56b-a67474165b40"
      },
      "source": [
        "TEXT_C = torchtext.data.Field(tokenize= tokenize_fn, batch_first=True, preprocessing = my_lemmatization_and_remove_stop_words, fix_length = max_size) # preprocessing paraneters can be used to add aditional  preprocessing steps\n",
        "LABEL_C = torchtext.data.LabelField(dtype = torch.float)\n",
        "train_data_C, test_data_C = torchtext.datasets.IMDB.splits(TEXT_C, LABEL_C) \n",
        "print(\"train length is: \",len(train_data_C))\n",
        "print(\"test length is: \",len(test_data_C))\n",
        "print(vars(train_data_C[0]))"
      ],
      "execution_count": 68,
      "outputs": [
        {
          "output_type": "stream",
          "text": [
            "train length is:  25000\n",
            "test length is:  25000\n",
            "{'text': ['alex', 'winter', 'keanu', 'reef', 'return', 'two', 'dope', 'san', 'dimas', 'get', 'sent', 'another', 'trip', 'lifetime', 'someone', 'future', 'feel', 'exactly', 'opposite', 'way', 'wa', 'presented', 'first', 'movie', '.', 'difference', 'trip', 'somewhere', 'heaven', 'hell', 'end', '.', 'meet', 'grim', 'reaper', ',', 'get', 'chance', 'after-lifetime', 'play', 'chance', 'return', 'stop', 'two', 'evil', 'robot', 'ruining', 'future', 'supposed', '.', 'besides', 'playing', 'role', '.', '.', '.', 'er', '.', '.', '.', 'perfected', ',', 'also', 'play', '(', 'revive', 'couple', 'extra', 'sale', 'process', ')', 'classic', 'game', '(', 'even', 'original', 'copy', 'battleship', 'closet', ')', '.', 'reason', 'liked', 'movie', 'better', 'original', 'deal', 'might', 'like', 'instead', 'wa', '.', 'without', 'spoiling', 'movie', ',', \"'\", 'give', 'anymore', 'information', '(', 'guess', \"'\", 'watch', 'decide', '!', '8', '10', 'star', '.'], 'label': 'pos'}\n"
          ],
          "name": "stdout"
        }
      ]
    },
    {
      "cell_type": "code",
      "metadata": {
        "id": "h_d53SB5bDFR",
        "colab": {
          "base_uri": "https://localhost:8080/"
        },
        "outputId": "6af509be-6c56-4d82-f0e2-3609a94bf7c6"
      },
      "source": [
        "TEXT_C.build_vocab(train_data_C)\n",
        "LABEL_C.build_vocab(train_data_C)\n",
        "\n",
        "device = torch.device('cuda' if torch.cuda.is_available() else 'cpu')\n",
        "##Create a train and test iterators using Bucket iterator method with batch size 32\n",
        "train_iterator, test_iterator = torchtext.data.BucketIterator.splits((train_data_C, test_data_C), batch_size=32, device=device)\n",
        "\n",
        "class Network(torch.nn.Module):\n",
        "    def __init__(self,pad_idx):\n",
        "        super().__init__()\n",
        "        self.embedding = torch.nn.Embedding(num_embeddings = len(TEXT_C.vocab), embedding_dim =100,padding_idx = pad_idx)##Fill Here ## create an embedding layer with 100 size\n",
        "        self.layer1 = torch.nn.Linear(max_size*100,1)\n",
        "\n",
        "    def forward(self, x):\n",
        "        x = self.embedding(x).view(x.size(0),-1)\n",
        "        x = self.layer1(x)\n",
        "        return x       \n",
        "\n",
        "model = Network(pad_idx = TEXT_C.vocab.stoi[TEXT_C.pad_token])\n",
        "print(model)\n",
        "\n",
        "# Choose a Loss function from torch.nn according to your network\n",
        "loss_fn = torch.nn.BCEWithLogitsLoss()##Fill here## \n",
        "\n",
        "#Define an Adam optimizer with learning rate 0.001 to optimize the parameters of our network\n",
        "optimizer = torch.optim.Adam(params= model.parameters(),lr= 0.0001)  ## Fill here##\n",
        "\n",
        "model = model.to(device)\n",
        "loss_fn = loss_fn.to(device)\n",
        "\n",
        "def accuracy_fn(predictions, labels):  ## create a accuraccy function for further use\n",
        "  correct = (torch.round(torch.sigmoid(predictions)) == batch.label.squeeze(0)).float() \n",
        "  accuracy = correct.sum() / len(correct)  ##Fill here\n",
        "  return accuracy\n",
        "\n",
        "import time\n",
        "# Training loop\n",
        "N_EPOCHS = 2\n",
        "\n",
        "tr_loss = []\n",
        "model.train()\n",
        "\n",
        "for epoch in range(N_EPOCHS):\n",
        "    \n",
        "    # Calculate training time\n",
        "    start_time = time.time()\n",
        "\n",
        "    epoch_loss = 0\n",
        "    epoch_acc = 0\n",
        "\n",
        "    \n",
        "    batch_no = 0\n",
        "    for batch in train_iterator:\n",
        "        predictions = model(batch.text).squeeze(1)\n",
        "        loss = loss_fn(predictions, batch.label.squeeze(0))\n",
        "        ###Fill Here###\n",
        "        # Reset the gradients\n",
        "        optimizer.zero_grad()\n",
        "        # Backprop \n",
        "        loss.backward()  \n",
        "        # Optimize the weights\n",
        "        optimizer.step()\n",
        "        ##################################\n",
        "\n",
        "        # Record accuracy and loss\n",
        "        epoch_loss += loss.item()\n",
        "\n",
        "        acc =   accuracy_fn(predictions,batch.label.squeeze(0)) \n",
        "        epoch_acc +=acc.item()\n",
        "\n",
        "        batch_no = batch_no +1\n",
        "        \n",
        "\n",
        "    \n",
        "    train_loss = epoch_loss / len(train_iterator)\n",
        "\n",
        "    end_time = time.time()\n",
        "\n",
        "    elapsed_time = end_time - start_time\n",
        "    elapsed_mins = int(elapsed_time / 60)\n",
        "    elapsed_secs = int(elapsed_time - (elapsed_mins * 60))\n",
        "    \n",
        "    print('\\n')    \n",
        "    print(f'Epoch: {epoch+1:2} | Epoch Time on Part2-C: {elapsed_mins}m {elapsed_secs}s')\n",
        "    print(f'\\tAvarage Train Loss on Part2-C: {train_loss:.3f} ')\n",
        "    print('\\n') \n",
        "\n",
        "test_epoch_loss = 0\n",
        "test_epoch_acc = 0\n",
        "\n",
        "# Turm on evalutaion mode\n",
        "model.eval()\n",
        "\n",
        "# No need to backprop in eval\n",
        "with torch.no_grad():\n",
        "\n",
        "    for batch in test_iterator:\n",
        "\n",
        "        test_predictions = model(batch.text).squeeze(1)\n",
        "        \n",
        "        test_loss_C = loss_fn(test_predictions, batch.label)\n",
        "\n",
        "        test_epoch_loss += test_loss_C.item()\n",
        "        \n",
        "        acc = accuracy_fn(test_predictions,batch.label.squeeze(0))\n",
        "        test_epoch_acc +=acc.item()\n",
        "\n",
        "test_loss_C = test_epoch_loss/len(test_iterator)\n",
        "test_acc_C = test_epoch_acc  / len(test_iterator)\n",
        "print(f'Test Loss on Part2-C: {test_loss_C:.3f} | | Test Acc on Part2-C: {test_acc_C*100:.2f}%')"
      ],
      "execution_count": 69,
      "outputs": [
        {
          "output_type": "stream",
          "text": [
            "Network(\n",
            "  (embedding): Embedding(92906, 100, padding_idx=1)\n",
            "  (layer1): Linear(in_features=170000, out_features=1, bias=True)\n",
            ")\n",
            "\n",
            "\n",
            "Epoch:  1 | Epoch Time on Part2-C: 0m 9s\n",
            "\tAvarage Train Loss on Part2-C: 0.668 \n",
            "\n",
            "\n",
            "\n",
            "\n",
            "Epoch:  2 | Epoch Time on Part2-C: 0m 9s\n",
            "\tAvarage Train Loss on Part2-C: 0.499 \n",
            "\n",
            "\n",
            "Test Loss on Part2-C: 0.616 | | Test Acc on Part2-C: 66.54%\n"
          ],
          "name": "stdout"
        }
      ]
    },
    {
      "cell_type": "code",
      "metadata": {
        "id": "ke6gy0RCsvhS",
        "colab": {
          "base_uri": "https://localhost:8080/",
          "height": 665
        },
        "outputId": "546db671-32ff-4560-c8eb-29c197df536c"
      },
      "source": [
        "left = [1, 2, 3, 4]\n",
        "  \n",
        "height = [test_acc, test_acc_stem, test_acc_lemma, test_acc_C]\n",
        "  \n",
        "# labels for bars\n",
        "tick_label = ['Test_Accuracy for First Part', 'Test_Accuracy with Stemming', 'Test_Accuracy with Lemmatization', 'Test_Accuracy with Lemmatization-Rm Stop Words and Marking Neg. Words']\n",
        "plt.xticks(rotation=90)\n",
        "\n",
        "# plotting a bar chart\n",
        "plt.bar(left, height, tick_label = tick_label,\n",
        "        width = 0.8, color = ['red', 'green'])\n",
        "plt.ylim([0.6, 0.7])\n",
        "plt.ylabel(\"Accuracy\")\n",
        "plt.title(\"Accuracy of the Models\")"
      ],
      "execution_count": 70,
      "outputs": [
        {
          "output_type": "execute_result",
          "data": {
            "text/plain": [
              "Text(0.5, 1.0, 'Accuracy of the Models')"
            ]
          },
          "metadata": {
            "tags": []
          },
          "execution_count": 70
        },
        {
          "output_type": "display_data",
          "data": {
            "image/png": "[encoded data removed]",
            "text/plain": [
              "<Figure size 432x288 with 1 Axes>"
            ]
          },
          "metadata": {
            "tags": [],
            "needs_background": "light"
          }
        }
      ]
    },
    {
      "cell_type": "markdown",
      "metadata": {
        "id": "3n8nriAOyX0d"
      },
      "source": [
        "As can be seen from the Figure I found the best accuracy from : Part2-C"
      ]
    },
    {
      "cell_type": "markdown",
      "metadata": {
        "id": "PwroJnUchT-J"
      },
      "source": [
        "## Part 3"
      ]
    },
    {
      "cell_type": "markdown",
      "metadata": {
        "id": "vkwwMUOSoFL5"
      },
      "source": [
        "### With Different Embedding Size"
      ]
    },
    {
      "cell_type": "code",
      "metadata": {
        "id": "7Y0y8-UFaB7i"
      },
      "source": [
        "TEXT_C = torchtext.data.Field(tokenize= tokenize_fn, batch_first=True, preprocessing = my_lemmatization_and_remove_stop_words, fix_length = max_size) # preprocessing paraneters can be used to add aditional  preprocessing steps\n",
        "LABEL_C = torchtext.data.LabelField(dtype = torch.float)\n",
        "train_data_C, test_data_C = torchtext.datasets.IMDB.splits(TEXT_C, LABEL_C) "
      ],
      "execution_count": 71,
      "outputs": []
    },
    {
      "cell_type": "code",
      "metadata": {
        "id": "xfNRm5r61hFY",
        "colab": {
          "base_uri": "https://localhost:8080/",
          "height": 721
        },
        "outputId": "6f310273-4be6-4948-c1dd-8ba7332f52b8"
      },
      "source": [
        "TEXT_C.build_vocab(train_data_C)\n",
        "LABEL_C.build_vocab(train_data_C)\n",
        "\n",
        "device = torch.device('cuda' if torch.cuda.is_available() else 'cpu')\n",
        "##Create a train and test iterators using Bucket iterator method with batch size 32\n",
        "train_iterator, test_iterator = torchtext.data.BucketIterator.splits((train_data_C, test_data_C), batch_size=32, device=device)\n",
        "emb_dims = [100, 200, 300, 1000, 3000]\n",
        "for embedding_dims in emb_dims:\n",
        "  class Network(torch.nn.Module):\n",
        "      def __init__(self,pad_idx):\n",
        "          super().__init__()\n",
        "          self.embedding = torch.nn.Embedding(num_embeddings = len(TEXT_C.vocab), embedding_dim =embedding_dims,padding_idx = pad_idx)##Fill Here ## create an embedding layer with 100 size\n",
        "          self.layer1 = torch.nn.Linear(max_size*embedding_dims,1)\n",
        "\n",
        "      def forward(self, x):\n",
        "          x = self.embedding(x).view(x.size(0),-1)\n",
        "          x = self.layer1(x)\n",
        "          return x       \n",
        "\n",
        "  model = Network(pad_idx = TEXT_C.vocab.stoi[TEXT_C.pad_token])\n",
        "  #print(model)\n",
        "\n",
        "  # Choose a Loss function from torch.nn according to your network\n",
        "  loss_fn = torch.nn.BCEWithLogitsLoss()##Fill here## \n",
        "\n",
        "  #Define an Adam optimizer with learning rate 0.001 to optimize the parameters of our network\n",
        "  optimizer = torch.optim.Adam(params= model.parameters(),lr= 0.0001)  ## Fill here##\n",
        "\n",
        "  model = model.to(device)\n",
        "  loss_fn = loss_fn.to(device)\n",
        "\n",
        "  def accuracy_fn(predictions, labels):  ## create a accuraccy function for further use\n",
        "    correct = (torch.round(torch.sigmoid(predictions)) == batch.label.squeeze(0)).float() \n",
        "    accuracy = correct.sum() / len(correct)  ##Fill here\n",
        "    return accuracy\n",
        "\n",
        "  import time\n",
        "  # Training loop\n",
        "  N_EPOCHS = 2\n",
        "\n",
        "  tr_loss = []\n",
        "  model.train()\n",
        "\n",
        "  for epoch in range(N_EPOCHS):\n",
        "      \n",
        "      # Calculate training time\n",
        "      start_time = time.time()\n",
        "\n",
        "      epoch_loss = 0\n",
        "      epoch_acc = 0\n",
        "\n",
        "      \n",
        "      batch_no = 0\n",
        "      for batch in train_iterator:\n",
        "          predictions = model(batch.text).squeeze(1)\n",
        "          loss = loss_fn(predictions, batch.label.squeeze(0))\n",
        "          ###Fill Here###\n",
        "          # Reset the gradients\n",
        "          optimizer.zero_grad()\n",
        "          # Backprop \n",
        "          loss.backward()  \n",
        "          # Optimize the weights\n",
        "          optimizer.step()\n",
        "          ##################################\n",
        "\n",
        "          # Record accuracy and loss\n",
        "          epoch_loss += loss.item()\n",
        "\n",
        "          acc =   accuracy_fn(predictions,batch.label.squeeze(0)) \n",
        "          epoch_acc +=acc.item()\n",
        "\n",
        "          batch_no = batch_no +1\n",
        "\n",
        "      \n",
        "      train_loss = epoch_loss / len(train_iterator)\n",
        "\n",
        "      end_time = time.time()\n",
        "\n",
        "      elapsed_time = end_time - start_time\n",
        "      elapsed_mins = int(elapsed_time / 60)\n",
        "      elapsed_secs = int(elapsed_time - (elapsed_mins * 60))\n",
        "      \n",
        "      #print('\\n')    \n",
        "      print(f'Epoch: {epoch+1:2} | Epoch Time on Part2-C: {elapsed_mins}m {elapsed_secs}s')\n",
        "      #print(f'\\tAvarage Train Loss on Part2-C: {train_loss:.3f} ')\n",
        "      #print('\\n') \n",
        "\n",
        "  test_epoch_loss = 0\n",
        "  test_epoch_acc = 0\n",
        "\n",
        "  # Turm on evalutaion mode\n",
        "  model.eval()\n",
        "\n",
        "  # No need to backprop in eval\n",
        "  with torch.no_grad():\n",
        "\n",
        "      for batch in test_iterator:\n",
        "\n",
        "          test_predictions = model(batch.text).squeeze(1)\n",
        "          \n",
        "          test_loss_C = loss_fn(test_predictions, batch.label)\n",
        "\n",
        "          test_epoch_loss += test_loss_C.item()\n",
        "          \n",
        "          acc = accuracy_fn(test_predictions,batch.label.squeeze(0))\n",
        "          test_epoch_acc +=acc.item()\n",
        "\n",
        "  test_loss_C = test_epoch_loss/len(test_iterator)\n",
        "  test_acc_C = test_epoch_acc  / len(test_iterator)\n",
        "  if embedding_dims == 100:\n",
        "    test_acc_100 = test_epoch_acc  / len(test_iterator)\n",
        "    print(f'Embedding Size: {embedding_dims} || Test Loss on Part2-C: {test_loss_C:.3f} | | Test Acc on Part2-C: {test_acc_100*100:.2f}%')\n",
        "  if embedding_dims == 200:\n",
        "    test_acc_200 = test_epoch_acc  / len(test_iterator)\n",
        "    print(f'Embedding Size: {embedding_dims} || Test Loss on Part2-C: {test_loss_C:.3f} | | Test Acc on Part2-C: {test_acc_200*100:.2f}%')\n",
        "  if embedding_dims == 300:\n",
        "    test_acc_300 = test_epoch_acc  / len(test_iterator)\n",
        "    print(f'Embedding Size: {embedding_dims} || Test Loss on Part2-C: {test_loss_C:.3f} | | Test Acc on Part2-C: {test_acc_300*100:.2f}%')\n",
        "  if embedding_dims == 1000:\n",
        "    test_acc_1000 = test_epoch_acc  / len(test_iterator)\n",
        "    print(f'Embedding Size: {embedding_dims} || Test Loss on Part2-C: {test_loss_C:.3f} | | Test Acc on Part2-C: {test_acc_1000*100:.2f}%')\n",
        "  if embedding_dims == 3000:\n",
        "    test_acc_3000 = test_epoch_acc  / len(test_iterator)\n",
        "    print(f'Embedding Size: {embedding_dims} || Test Loss on Part2-C: {test_loss_C:.3f} | | Test Acc on Part2-C: {test_acc_3000*100:.2f}%')\n",
        "    \n",
        "left = [1, 2, 3, 4, 5]\n",
        "  \n",
        "height = [test_acc_100, test_acc_200, test_acc_300, test_acc_1000, test_acc_3000]\n",
        "  \n",
        "# labels for bars\n",
        "tick_label = ['Test_Accuracy for Emb_Dim = 100', 'Test_Accuracy for Emb_Dim = 200', 'Test_Accuracy for Emb_Dim = 300', 'Test_Accuracy for Emb_Dim = 1000', 'Test_Accuracy for Emb_Dim = 3000']\n",
        "plt.xticks(rotation=90)\n",
        "\n",
        "# plotting a bar chart\n",
        "plt.bar(left, height, tick_label = tick_label,\n",
        "        width = 0.8, color = ['red', 'green'])\n",
        "plt.ylim([0.6, 0.7])\n",
        "plt.ylabel(\"Accuracy\")\n",
        "plt.title(\"Accuracy of the Models\")"
      ],
      "execution_count": 72,
      "outputs": [
        {
          "output_type": "stream",
          "text": [
            "Epoch:  1 | Epoch Time on Part2-C: 0m 9s\n",
            "Epoch:  2 | Epoch Time on Part2-C: 0m 9s\n",
            "Embedding Size: 100 || Test Loss on Part2-C: 0.639 | | Test Acc on Part2-C: 63.81%\n",
            "Epoch:  1 | Epoch Time on Part2-C: 0m 13s\n",
            "Epoch:  2 | Epoch Time on Part2-C: 0m 12s\n",
            "Embedding Size: 200 || Test Loss on Part2-C: 0.622 | | Test Acc on Part2-C: 66.74%\n",
            "Epoch:  1 | Epoch Time on Part2-C: 0m 16s\n",
            "Epoch:  2 | Epoch Time on Part2-C: 0m 16s\n",
            "Embedding Size: 300 || Test Loss on Part2-C: 0.615 | | Test Acc on Part2-C: 67.66%\n",
            "Epoch:  1 | Epoch Time on Part2-C: 0m 41s\n",
            "Epoch:  2 | Epoch Time on Part2-C: 0m 41s\n",
            "Embedding Size: 1000 || Test Loss on Part2-C: 0.662 | | Test Acc on Part2-C: 70.55%\n",
            "Epoch:  1 | Epoch Time on Part2-C: 1m 50s\n",
            "Epoch:  2 | Epoch Time on Part2-C: 1m 50s\n",
            "Embedding Size: 3000 || Test Loss on Part2-C: 1.143 | | Test Acc on Part2-C: 69.02%\n"
          ],
          "name": "stdout"
        },
        {
          "output_type": "execute_result",
          "data": {
            "text/plain": [
              "Text(0.5, 1.0, 'Accuracy of the Models')"
            ]
          },
          "metadata": {
            "tags": []
          },
          "execution_count": 72
        },
        {
          "output_type": "display_data",
          "data": {
            "image/png": "[encoded data removed]",
            "text/plain": [
              "<Figure size 432x288 with 1 Axes>"
            ]
          },
          "metadata": {
            "tags": [],
            "needs_background": "light"
          }
        }
      ]
    },
    {
      "cell_type": "markdown",
      "metadata": {
        "id": "mpOmmxjQ7Mzc"
      },
      "source": [
        "*   When the embedding size has increased, also training time is increased.\n",
        "*   As can be seen from the Figure, Embedding Size with 1000 has increased Test_Accuracy very much. Therefore, the following parts will be trained with embedding_Size = 1000. \n",
        "\n"
      ]
    },
    {
      "cell_type": "markdown",
      "metadata": {
        "id": "p1_8pmU175mG"
      },
      "source": [
        "### Eliminating Less Frequent Words"
      ]
    },
    {
      "cell_type": "markdown",
      "metadata": {
        "id": "sz0PaPnr8HUp"
      },
      "source": [
        "Max vocabulary size of the text vocab is set to different sizes in order to get rid of less frequently used words and their accuracy will be compared."
      ]
    },
    {
      "cell_type": "code",
      "metadata": {
        "id": "MwLFSyDT1yLV",
        "colab": {
          "base_uri": "https://localhost:8080/",
          "height": 839
        },
        "outputId": "d1188889-8456-45ea-dbd6-43052da60e67"
      },
      "source": [
        "max_vocab_sizes = [1000, 2000, 3000, 10000, 30000,100000]\n",
        "for max_sizes in max_vocab_sizes:\n",
        "  TEXT_C.build_vocab(train_data_C, max_size = max_sizes)\n",
        "  LABEL_C.build_vocab(train_data_C)\n",
        "\n",
        "  device = torch.device('cuda' if torch.cuda.is_available() else 'cpu')\n",
        "  ##Create a train and test iterators using Bucket iterator method with batch size 32\n",
        "  train_iterator, test_iterator = torchtext.data.BucketIterator.splits((train_data_C, test_data_C), batch_size=32, device=device)\n",
        "  class Network(torch.nn.Module):\n",
        "      def __init__(self,pad_idx):\n",
        "          super().__init__()\n",
        "          self.embedding = torch.nn.Embedding(num_embeddings = len(TEXT_C.vocab), embedding_dim =1000,padding_idx = pad_idx)##Fill Here ## create an embedding layer with 100 size\n",
        "          self.layer1 = torch.nn.Linear(max_size*1000,1)\n",
        "\n",
        "      def forward(self, x):\n",
        "          x = self.embedding(x).view(x.size(0),-1)\n",
        "          x = self.layer1(x)\n",
        "          return x       \n",
        "\n",
        "  model = Network(pad_idx = TEXT_C.vocab.stoi[TEXT_C.pad_token])\n",
        "  #print(model)\n",
        "\n",
        "  # Choose a Loss function from torch.nn according to your network\n",
        "  loss_fn = torch.nn.BCEWithLogitsLoss()##Fill here## \n",
        "\n",
        "  #Define an Adam optimizer with learning rate 0.001 to optimize the parameters of our network\n",
        "  optimizer = torch.optim.Adam(params= model.parameters(),lr= 0.0001)  ## Fill here##\n",
        "\n",
        "  model = model.to(device)\n",
        "  loss_fn = loss_fn.to(device)\n",
        "\n",
        "  def accuracy_fn(predictions, labels):  ## create a accuraccy function for further use\n",
        "    correct = (torch.round(torch.sigmoid(predictions)) == batch.label.squeeze(0)).float() \n",
        "    accuracy = correct.sum() / len(correct)  ##Fill here\n",
        "    return accuracy\n",
        "\n",
        "  import time\n",
        "  # Training loop\n",
        "  N_EPOCHS = 2\n",
        "\n",
        "  tr_loss = []\n",
        "  model.train()\n",
        "\n",
        "  for epoch in range(N_EPOCHS):\n",
        "      \n",
        "      # Calculate training time\n",
        "      start_time = time.time()\n",
        "\n",
        "      epoch_loss = 0\n",
        "      epoch_acc = 0\n",
        "\n",
        "      \n",
        "      batch_no = 0\n",
        "      for batch in train_iterator:\n",
        "          predictions = model(batch.text).squeeze(1)\n",
        "          loss = loss_fn(predictions, batch.label.squeeze(0))\n",
        "          ###Fill Here###\n",
        "          # Reset the gradients\n",
        "          optimizer.zero_grad()\n",
        "          # Backprop \n",
        "          loss.backward()  \n",
        "          # Optimize the weights\n",
        "          optimizer.step()\n",
        "          ##################################\n",
        "\n",
        "          # Record accuracy and loss\n",
        "          epoch_loss += loss.item()\n",
        "\n",
        "          acc =   accuracy_fn(predictions,batch.label.squeeze(0)) \n",
        "          epoch_acc +=acc.item()\n",
        "\n",
        "          batch_no = batch_no +1\n",
        "\n",
        "      \n",
        "      train_loss = epoch_loss / len(train_iterator)\n",
        "\n",
        "      end_time = time.time()\n",
        "\n",
        "      elapsed_time = end_time - start_time\n",
        "      elapsed_mins = int(elapsed_time / 60)\n",
        "      elapsed_secs = int(elapsed_time - (elapsed_mins * 60))\n",
        "      \n",
        "      #print('\\n')    \n",
        "      print(f'Epoch: {epoch+1:2} | Epoch Time on Part2-C: {elapsed_mins}m {elapsed_secs}s')\n",
        "      #print(f'\\tAvarage Train Loss on Part2-C: {train_loss:.3f} ')\n",
        "      #print('\\n') \n",
        "\n",
        "  test_epoch_loss = 0\n",
        "  test_epoch_acc = 0\n",
        "\n",
        "  # Turm on evalutaion mode\n",
        "  model.eval()\n",
        "\n",
        "  # No need to backprop in eval\n",
        "  with torch.no_grad():\n",
        "\n",
        "      for batch in test_iterator:\n",
        "\n",
        "          test_predictions = model(batch.text).squeeze(1)\n",
        "          \n",
        "          test_loss_C = loss_fn(test_predictions, batch.label)\n",
        "\n",
        "          test_epoch_loss += test_loss_C.item()\n",
        "          \n",
        "          acc = accuracy_fn(test_predictions,batch.label.squeeze(0))\n",
        "          test_epoch_acc +=acc.item()\n",
        "\n",
        "  test_loss_C = test_epoch_loss/len(test_iterator)\n",
        "  test_acc_C = test_epoch_acc  / len(test_iterator)\n",
        "  if max_sizes == 1000:\n",
        "    test_acc_100 = test_epoch_acc  / len(test_iterator)\n",
        "    print(f'Max Vocabulary Size: {max_sizes} || Test Loss on Part2-C: {test_loss_C:.3f} | | Test Acc on Part2-C: {test_acc_100*100:.2f}%')\n",
        "  if max_sizes == 2000:\n",
        "    test_acc_200 = test_epoch_acc  / len(test_iterator)\n",
        "    print(f'Max Vocabulary Size: {max_sizes} || Test Loss on Part2-C: {test_loss_C:.3f} | | Test Acc on Part2-C: {test_acc_200*100:.2f}%')\n",
        "  if max_sizes == 3000:\n",
        "    test_acc_300 = test_epoch_acc  / len(test_iterator)\n",
        "    print(f'Max Vocabulary Size: {max_sizes} || Test Loss on Part2-C: {test_loss_C:.3f} | | Test Acc on Part2-C: {test_acc_300*100:.2f}%')\n",
        "  if max_sizes == 10000:\n",
        "    test_acc_1000 = test_epoch_acc  / len(test_iterator)\n",
        "    print(f'Max Vocabulary Size: {max_sizes} || Test Loss on Part2-C: {test_loss_C:.3f} | | Test Acc on Part2-C: {test_acc_1000*100:.2f}%')\n",
        "  if max_sizes == 30000:\n",
        "    test_acc_3000 = test_epoch_acc  / len(test_iterator)\n",
        "    print(f'Max Vocabulary Size: {max_sizes} || Test Loss on Part2-C: {test_loss_C:.3f} | | Test Acc on Part2-C: {test_acc_3000*100:.2f}%')\n",
        "  if max_sizes == 100000:\n",
        "    test_acc_10000 = test_epoch_acc  / len(test_iterator)\n",
        "    print(f'Max Vocabulary Size: {max_sizes} || Test Loss on Part2-C: {test_loss_C:.3f} | | Test Acc on Part2-C: {test_acc_10000*100:.2f}%')\n",
        "    \n",
        "left = [1, 2, 3, 4, 5, 6]\n",
        "  \n",
        "height = [test_acc_100, test_acc_200, test_acc_300, test_acc_1000, test_acc_3000, test_acc_10000]\n",
        "  \n",
        "# labels for bars\n",
        "tick_label = ['Test_Accuracy for Max Vocabulary Size = 1000', 'Test_Accuracy for Max Vocabulary Size = 2000', 'Test_Accuracy for Max Vocabulary Size = 3000', 'Test_Accuracy for Max Vocabulary Size = 10000', 'Test_Accuracy for Max Vocabulary Size = 30000','Test_Accuracy for Max Vocabulary Size = 100000']\n",
        "plt.xticks(rotation=90)\n",
        "\n",
        "# plotting a bar chart\n",
        "plt.bar(left, height, tick_label = tick_label,\n",
        "        width = 0.8, color = ['red', 'green'])\n",
        "plt.ylim([0.64, 0.7])\n",
        "plt.ylabel(\"Accuracy\")\n",
        "plt.title(\"Accuracy of the Models\")"
      ],
      "execution_count": 73,
      "outputs": [
        {
          "output_type": "stream",
          "text": [
            "Epoch:  1 | Epoch Time on Part2-C: 0m 11s\n",
            "Epoch:  2 | Epoch Time on Part2-C: 0m 11s\n",
            "Max Vocabulary Size: 1000 || Test Loss on Part2-C: 0.837 | | Test Acc on Part2-C: 68.86%\n",
            "Epoch:  1 | Epoch Time on Part2-C: 0m 11s\n",
            "Epoch:  2 | Epoch Time on Part2-C: 0m 11s\n",
            "Max Vocabulary Size: 2000 || Test Loss on Part2-C: 0.784 | | Test Acc on Part2-C: 69.37%\n",
            "Epoch:  1 | Epoch Time on Part2-C: 0m 11s\n",
            "Epoch:  2 | Epoch Time on Part2-C: 0m 11s\n",
            "Max Vocabulary Size: 3000 || Test Loss on Part2-C: 0.759 | | Test Acc on Part2-C: 69.50%\n",
            "Epoch:  1 | Epoch Time on Part2-C: 0m 14s\n",
            "Epoch:  2 | Epoch Time on Part2-C: 0m 14s\n",
            "Max Vocabulary Size: 10000 || Test Loss on Part2-C: 0.728 | | Test Acc on Part2-C: 68.97%\n",
            "Epoch:  1 | Epoch Time on Part2-C: 0m 20s\n",
            "Epoch:  2 | Epoch Time on Part2-C: 0m 21s\n",
            "Max Vocabulary Size: 30000 || Test Loss on Part2-C: 0.683 | | Test Acc on Part2-C: 70.08%\n",
            "Epoch:  1 | Epoch Time on Part2-C: 0m 41s\n",
            "Epoch:  2 | Epoch Time on Part2-C: 0m 41s\n",
            "Max Vocabulary Size: 100000 || Test Loss on Part2-C: 0.676 | | Test Acc on Part2-C: 69.72%\n"
          ],
          "name": "stdout"
        },
        {
          "output_type": "execute_result",
          "data": {
            "text/plain": [
              "Text(0.5, 1.0, 'Accuracy of the Models')"
            ]
          },
          "metadata": {
            "tags": []
          },
          "execution_count": 73
        },
        {
          "output_type": "display_data",
          "data": {
            "image/png": "[encoded data removed]",
            "text/plain": [
              "<Figure size 432x288 with 1 Axes>"
            ]
          },
          "metadata": {
            "tags": [],
            "needs_background": "light"
          }
        }
      ]
    },
    {
      "cell_type": "markdown",
      "metadata": {
        "id": "MojPXMxhDrjA"
      },
      "source": [
        "\n",
        "\n",
        "*   As can be seen from the figure, vocabulary size with 3000 and 10000 gave the best results. However traninig time for 3000 words is shorter, therefore max_vocab size is set to 3000.\n",
        "\n"
      ]
    },
    {
      "cell_type": "markdown",
      "metadata": {
        "id": "Vd0B8bONLv79"
      },
      "source": [
        "### Pretrained Weigths"
      ]
    },
    {
      "cell_type": "code",
      "metadata": {
        "id": "TvIEKjc6Lus0",
        "colab": {
          "base_uri": "https://localhost:8080/"
        },
        "outputId": "13c2e207-864c-44f4-8c47-ef75d1ff8084"
      },
      "source": [
        "TEXT_C.build_vocab(train_data_C,\n",
        "                 max_size = 3000,\n",
        "                  vectors = \"glove.6B.100d\", \n",
        "                 # Set unknown vectors\n",
        "                  unk_init = torch.Tensor.normal_)\n",
        "LABEL_C.build_vocab(train_data_C)\n",
        "print(\"Unique tokens in TEXT vocabulary:\",len(TEXT_C.vocab))\n",
        "print(\"Unique tokens in LABEL vocabulary:\",len(LABEL_C.vocab))"
      ],
      "execution_count": 74,
      "outputs": [
        {
          "output_type": "stream",
          "text": [
            "Unique tokens in TEXT vocabulary: 3002\n",
            "Unique tokens in LABEL vocabulary: 2\n"
          ],
          "name": "stdout"
        }
      ]
    },
    {
      "cell_type": "code",
      "metadata": {
        "id": "jmoGDwIjMcza"
      },
      "source": [
        "device = torch.device('cuda' if torch.cuda.is_available() else 'cpu')\n",
        "\n",
        "##Create a train and test iterators using Bucket iterator method with batch size 32\n",
        "train_iterator, test_iterator = torchtext.data.BucketIterator.splits(\n",
        "    (train_data_C, test_data_C), batch_size=32, device=device)"
      ],
      "execution_count": 75,
      "outputs": []
    },
    {
      "cell_type": "code",
      "metadata": {
        "id": "pvUNat8hMioL"
      },
      "source": [
        "class Network(torch.nn.Module):\n",
        "    def __init__(self,pad_idx):\n",
        "        super().__init__()\n",
        "        self.embedding =torch.nn.Embedding(num_embeddings = len(TEXT_C.vocab), embedding_dim =100,padding_idx = pad_idx)##Fill Here ## create an embedding layer with 100 size\n",
        "        self.layer1 = torch.nn.Linear(max_size*100, 1)##Fill Here ##\n",
        "\n",
        "    def forward(self, x):\n",
        "        x = self.embedding(x).view(x.size(0),-1)\n",
        "        x = self.layer1(x)\n",
        "        return x     "
      ],
      "execution_count": 76,
      "outputs": []
    },
    {
      "cell_type": "code",
      "metadata": {
        "id": "snIkKE4RMna4",
        "colab": {
          "base_uri": "https://localhost:8080/"
        },
        "outputId": "3637bf9d-ad82-4d97-c87f-b90e9b0689a2"
      },
      "source": [
        "model = Network(pad_idx = TEXT_C.vocab.stoi[TEXT.pad_token])\n",
        "print(model)"
      ],
      "execution_count": 77,
      "outputs": [
        {
          "output_type": "stream",
          "text": [
            "Network(\n",
            "  (embedding): Embedding(3002, 100, padding_idx=1)\n",
            "  (layer1): Linear(in_features=170000, out_features=1, bias=True)\n",
            ")\n"
          ],
          "name": "stdout"
        }
      ]
    },
    {
      "cell_type": "code",
      "metadata": {
        "id": "iZCMMKA8MqfL"
      },
      "source": [
        "model.embedding.weight.data.copy_(TEXT_C.vocab.vectors)\n",
        "model.embedding.weight.data[TEXT_C.vocab.stoi[TEXT_C.unk_token]] = torch.zeros(100)\n",
        "model.embedding.weight.data[TEXT_C.vocab.stoi[TEXT_C.pad_token]] = torch.zeros(100)"
      ],
      "execution_count": 78,
      "outputs": []
    },
    {
      "cell_type": "code",
      "metadata": {
        "id": "cgBmKbiEM0uo"
      },
      "source": [
        "model.embedding.requires_grad = False"
      ],
      "execution_count": 79,
      "outputs": []
    },
    {
      "cell_type": "code",
      "metadata": {
        "id": "2v2IVM3RM2Dx"
      },
      "source": [
        "# Choose a Loss function from torch.nn according to your network\n",
        "loss_fn = torch.nn.BCEWithLogitsLoss()##Fill here## \n",
        "\n",
        "#Define an Adam optimizer with learning rate 0.001 to optimize the parameters of our network\n",
        "optimizer = torch.optim.Adam(params= model.parameters(),lr= 0.001) ## Fill here##"
      ],
      "execution_count": 80,
      "outputs": []
    },
    {
      "cell_type": "code",
      "metadata": {
        "id": "m5C1tbh0M3eW"
      },
      "source": [
        "model = model.to(device)\n",
        "loss_fn = loss_fn.to(device)"
      ],
      "execution_count": 81,
      "outputs": []
    },
    {
      "cell_type": "code",
      "metadata": {
        "id": "Col6KJFPM46n",
        "colab": {
          "base_uri": "https://localhost:8080/"
        },
        "outputId": "ec1e0583-9ae7-42d8-9806-7cd0a3552fe3"
      },
      "source": [
        "import time\n",
        "# Training loop\n",
        "N_EPOCHS = 2\n",
        "\n",
        "tr_loss = []\n",
        "model.train()\n",
        "\n",
        "for epoch in range(N_EPOCHS):\n",
        "    \n",
        "    # Calculate training time\n",
        "    start_time = time.time()\n",
        "\n",
        "    epoch_loss = 0\n",
        "    epoch_acc = 0\n",
        "\n",
        "    \n",
        "    batch_no = 0\n",
        "    for batch in train_iterator:\n",
        "        predictions = model(batch.text).squeeze(1)\n",
        "        loss = loss_fn(predictions, batch.label.squeeze(0))\n",
        "        ###Fill Here###\n",
        "        # Reset the gradients\n",
        "        optimizer.zero_grad()\n",
        "        # Backprop \n",
        "        loss.backward()\n",
        "        # Optimize the weights\n",
        "        optimizer.step()\n",
        "        ##################################\n",
        "\n",
        "        # Record accuracy and loss\n",
        "        epoch_loss += loss.item()\n",
        "\n",
        "        acc =   accuracy_fn(predictions,batch.label.squeeze(0)) \n",
        "        epoch_acc +=acc.item()\n",
        "\n",
        "        batch_no = batch_no +1\n",
        "        \n",
        "\n",
        "    \n",
        "    train_loss = epoch_loss / len(train_iterator)\n",
        "\n",
        "    end_time = time.time()\n",
        "\n",
        "    elapsed_time = end_time - start_time\n",
        "    elapsed_mins = int(elapsed_time / 60)\n",
        "    elapsed_secs = int(elapsed_time - (elapsed_mins * 60))\n",
        "    \n",
        "    print('\\n')    \n",
        "    print(f'Epoch: {epoch+1:2} | Epoch Time: {elapsed_mins}m {elapsed_secs}s')\n",
        "    print(f'\\tAvarage Train Loss: {train_loss:.3f} ')\n",
        "    print('\\n') "
      ],
      "execution_count": 82,
      "outputs": [
        {
          "output_type": "stream",
          "text": [
            "\n",
            "\n",
            "Epoch:  1 | Epoch Time: 0m 7s\n",
            "\tAvarage Train Loss: 0.539 \n",
            "\n",
            "\n",
            "\n",
            "\n",
            "Epoch:  2 | Epoch Time: 0m 7s\n",
            "\tAvarage Train Loss: 0.240 \n",
            "\n",
            "\n"
          ],
          "name": "stdout"
        }
      ]
    },
    {
      "cell_type": "code",
      "metadata": {
        "id": "NZt1lWz9M_OW",
        "colab": {
          "base_uri": "https://localhost:8080/"
        },
        "outputId": "8b49d3fe-e9e6-4fe8-fc69-27f74fad6ed4"
      },
      "source": [
        "## Pretrained weights test\n",
        "test_epoch_loss = 0\n",
        "test_epoch_acc = 0\n",
        "\n",
        "# Turm on evalutaion mode\n",
        "model.eval()\n",
        "\n",
        "# No need to backprop in eval\n",
        "with torch.no_grad():\n",
        "\n",
        "    for batch in test_iterator:\n",
        "\n",
        "        test_predictions = model(batch.text).squeeze(1)\n",
        "        \n",
        "        test_loss = loss_fn(test_predictions, batch.label)\n",
        "\n",
        "        test_epoch_loss += test_loss.item()\n",
        "        \n",
        "        acc = accuracy_fn(test_predictions,batch.label.squeeze(0))\n",
        "        test_epoch_acc +=acc.item()\n",
        "\n",
        "test_loss = test_epoch_loss/len(test_iterator)\n",
        "test_acc_pretrain = test_epoch_acc  / len(test_iterator)\n",
        "print(f'Test Loss: {test_loss:.3f} | | Test Acc: {test_acc_pretrain*100:.2f}%')"
      ],
      "execution_count": 83,
      "outputs": [
        {
          "output_type": "stream",
          "text": [
            "Test Loss: 0.414 | | Test Acc: 83.64%\n"
          ],
          "name": "stdout"
        }
      ]
    },
    {
      "cell_type": "markdown",
      "metadata": {
        "id": "d8nnUTXtQ1rl"
      },
      "source": [
        "Pretrained weigths have been increased accuracy very much."
      ]
    },
    {
      "cell_type": "markdown",
      "metadata": {
        "id": "3b-PoR05RRuY"
      },
      "source": [
        "### Change Depth of the Network"
      ]
    },
    {
      "cell_type": "code",
      "metadata": {
        "id": "HzVpGx7lRPyn",
        "colab": {
          "base_uri": "https://localhost:8080/",
          "height": 806
        },
        "outputId": "5e5e2a14-c986-40a4-c022-ee5dfa55712b"
      },
      "source": [
        "class Network(torch.nn.Module):\n",
        "    def __init__(self,pad_idx):\n",
        "        super().__init__()\n",
        "        self.embedding =torch.nn.Embedding(num_embeddings = len(TEXT_C.vocab), embedding_dim =100,padding_idx = pad_idx)##Fill Here ## create an embedding layer with 100 size\n",
        "        self.layer1 = torch.nn.Linear(max_size*100, 250)##Fill Here ##\n",
        "        self.layer2 = torch.nn.Linear(250,100)\n",
        "        self.layer3 = torch.nn.Linear(100,1)\n",
        "\n",
        "    def forward(self, x):\n",
        "        x = self.embedding(x).view(x.size(0),-1)\n",
        "        x = self.layer1(x)\n",
        "        x = self.layer2(x)\n",
        "        x = self.layer3(x)\n",
        "        return x     \n",
        "\n",
        "model = Network(pad_idx = TEXT_C.vocab.stoi[TEXT.pad_token])\n",
        "print(model)\n",
        "\n",
        "model.embedding.weight.data.copy_(TEXT_C.vocab.vectors)\n",
        "model.embedding.weight.data[TEXT_C.vocab.stoi[TEXT_C.unk_token]] = torch.zeros(100)\n",
        "model.embedding.weight.data[TEXT_C.vocab.stoi[TEXT_C.pad_token]] = torch.zeros(100)\n",
        "\n",
        "model.embedding.requires_grad = False\n",
        "\n",
        "# Choose a Loss function from torch.nn according to your network\n",
        "loss_fn = torch.nn.BCEWithLogitsLoss()##Fill here## \n",
        "#Define an Adam optimizer with learning rate 0.001 to optimize the parameters of our network\n",
        "optimizer = torch.optim.Adam(params= model.parameters(),lr= 0.001) ## Fill here##\n",
        "\n",
        "model = model.to(device)\n",
        "loss_fn = loss_fn.to(device)\n",
        "\n",
        "import time\n",
        "# Training loop\n",
        "N_EPOCHS = 2\n",
        "\n",
        "tr_loss = []\n",
        "model.train()\n",
        "\n",
        "for epoch in range(N_EPOCHS):\n",
        "    \n",
        "    # Calculate training time\n",
        "    start_time = time.time()\n",
        "\n",
        "    epoch_loss = 0\n",
        "    epoch_acc = 0\n",
        "\n",
        "    \n",
        "    batch_no = 0\n",
        "    for batch in train_iterator:\n",
        "        predictions = model(batch.text).squeeze(1)\n",
        "        loss = loss_fn(predictions, batch.label.squeeze(0))\n",
        "        ###Fill Here###\n",
        "        # Reset the gradients\n",
        "        optimizer.zero_grad()\n",
        "        # Backprop \n",
        "        loss.backward()\n",
        "        # Optimize the weights\n",
        "        optimizer.step()\n",
        "        ##################################\n",
        "\n",
        "        # Record accuracy and loss\n",
        "        epoch_loss += loss.item()\n",
        "\n",
        "        acc =   accuracy_fn(predictions,batch.label.squeeze(0)) \n",
        "        epoch_acc +=acc.item()\n",
        "\n",
        "        batch_no = batch_no +1\n",
        "        \n",
        "\n",
        "    \n",
        "    train_loss = epoch_loss / len(train_iterator)\n",
        "\n",
        "    end_time = time.time()\n",
        "\n",
        "    elapsed_time = end_time - start_time\n",
        "    elapsed_mins = int(elapsed_time / 60)\n",
        "    elapsed_secs = int(elapsed_time - (elapsed_mins * 60))\n",
        "    \n",
        "    print('\\n')    \n",
        "    print(f'Epoch: {epoch+1:2} | Epoch Time: {elapsed_mins}m {elapsed_secs}s')\n",
        "    print(f'\\tAvarage Train Loss: {train_loss:.3f} ')\n",
        "    print('\\n') \n",
        "\n",
        "## Pretrained weights test\n",
        "test_epoch_loss = 0\n",
        "test_epoch_acc = 0\n",
        "\n",
        "# Turm on evalutaion mode\n",
        "model.eval()\n",
        "\n",
        "# No need to backprop in eval\n",
        "with torch.no_grad():\n",
        "\n",
        "    for batch in test_iterator:\n",
        "\n",
        "        test_predictions = model(batch.text).squeeze(1)\n",
        "        \n",
        "        test_loss = loss_fn(test_predictions, batch.label)\n",
        "\n",
        "        test_epoch_loss += test_loss.item()\n",
        "        \n",
        "        acc = accuracy_fn(test_predictions,batch.label.squeeze(0))\n",
        "        test_epoch_acc +=acc.item()\n",
        "\n",
        "test_loss = test_epoch_loss/len(test_iterator)\n",
        "test_acc_pretrain_deep = test_epoch_acc  / len(test_iterator)\n",
        "print(f'Test Loss: {test_loss:.3f} | | Test Acc: {test_acc_pretrain_deep*100:.2f}%')\n",
        "\n",
        "left = [1, 2]\n",
        "  \n",
        "height = [test_acc_pretrain, test_acc_pretrain_deep]\n",
        "  \n",
        "# labels for bars\n",
        "tick_label = ['Test Accuracy with Pretrained - 1 Layer','Test Accuracy with Pretrained - 3 Layer']\n",
        "plt.xticks(rotation=90)\n",
        "\n",
        "# plotting a bar chart\n",
        "plt.bar(left, height, tick_label = tick_label,\n",
        "        width = 0.8, color = ['red', 'green'])\n",
        "plt.ylim([0.82, 0.85])\n",
        "plt.ylabel(\"Accuracy\")\n",
        "plt.title(\"Accuracy of the Models\")"
      ],
      "execution_count": 84,
      "outputs": [
        {
          "output_type": "stream",
          "text": [
            "Network(\n",
            "  (embedding): Embedding(3002, 100, padding_idx=1)\n",
            "  (layer1): Linear(in_features=170000, out_features=250, bias=True)\n",
            "  (layer2): Linear(in_features=250, out_features=100, bias=True)\n",
            "  (layer3): Linear(in_features=100, out_features=1, bias=True)\n",
            ")\n",
            "\n",
            "\n",
            "Epoch:  1 | Epoch Time: 0m 22s\n",
            "\tAvarage Train Loss: 0.531 \n",
            "\n",
            "\n",
            "\n",
            "\n",
            "Epoch:  2 | Epoch Time: 0m 22s\n",
            "\tAvarage Train Loss: 0.250 \n",
            "\n",
            "\n",
            "Test Loss: 0.400 | | Test Acc: 83.51%\n"
          ],
          "name": "stdout"
        },
        {
          "output_type": "execute_result",
          "data": {
            "text/plain": [
              "Text(0.5, 1.0, 'Accuracy of the Models')"
            ]
          },
          "metadata": {
            "tags": []
          },
          "execution_count": 84
        },
        {
          "output_type": "display_data",
          "data": {
            "image/png": "[encoded data removed]",
            "text/plain": [
              "<Figure size 432x288 with 1 Axes>"
            ]
          },
          "metadata": {
            "tags": [],
            "needs_background": "light"
          }
        }
      ]
    },
    {
      "cell_type": "markdown",
      "metadata": {
        "id": "foVcvyLjUgIU"
      },
      "source": [
        "Deeper network has increased accuracy a little bit however training time has increased too much "
      ]
    }
  ]
}