{
  "nbformat": 4,
  "nbformat_minor": 0,
  "metadata": {
    "accelerator": "GPU",
    "colab": {
      "name": "Wandb_e216642_Assignment3_BiLSTM.ipynb",
      "provenance": [],
      "collapsed_sections": []
    },
    "kernelspec": {
      "display_name": "Python 3",
      "name": "python3"
    },
    "language_info": {
      "name": "python"
    },
    "widgets": {
      "application/vnd.jupyter.widget-state+json": {
        "481c016372ab4d6dbc083df59692d5dc": {
          "model_module": "@jupyter-widgets/controls",
          "model_name": "VBoxModel",
          "state": {
            "_view_name": "VBoxView",
            "_dom_classes": [],
            "_model_name": "VBoxModel",
            "_view_module": "@jupyter-widgets/controls",
            "_model_module_version": "1.5.0",
            "_view_count": null,
            "_view_module_version": "1.5.0",
            "box_style": "",
            "layout": "IPY_MODEL_d75626e054b04922b1b97a4f37932450",
            "_model_module": "@jupyter-widgets/controls",
            "children": [
              "IPY_MODEL_11e0465dcf5145548e31a04a808c36cf",
              "IPY_MODEL_f35ce4fe5a6e4f2e827d6e41e4aa960b"
            ]
          }
        },
        "d75626e054b04922b1b97a4f37932450": {
          "model_module": "@jupyter-widgets/base",
          "model_name": "LayoutModel",
          "state": {
            "_view_name": "LayoutView",
            "grid_template_rows": null,
            "right": null,
            "justify_content": null,
            "_view_module": "@jupyter-widgets/base",
            "overflow": null,
            "_model_module_version": "1.2.0",
            "_view_count": null,
            "flex_flow": null,
            "width": null,
            "min_width": null,
            "border": null,
            "align_items": null,
            "bottom": null,
            "_model_module": "@jupyter-widgets/base",
            "top": null,
            "grid_column": null,
            "overflow_y": null,
            "overflow_x": null,
            "grid_auto_flow": null,
            "grid_area": null,
            "grid_template_columns": null,
            "flex": null,
            "_model_name": "LayoutModel",
            "justify_items": null,
            "grid_row": null,
            "max_height": null,
            "align_content": null,
            "visibility": null,
            "align_self": null,
            "height": null,
            "min_height": null,
            "padding": null,
            "grid_auto_rows": null,
            "grid_gap": null,
            "max_width": null,
            "order": null,
            "_view_module_version": "1.2.0",
            "grid_template_areas": null,
            "object_position": null,
            "object_fit": null,
            "grid_auto_columns": null,
            "margin": null,
            "display": null,
            "left": null
          }
        },
        "11e0465dcf5145548e31a04a808c36cf": {
          "model_module": "@jupyter-widgets/controls",
          "model_name": "LabelModel",
          "state": {
            "_view_name": "LabelView",
            "style": "IPY_MODEL_4c8ada606084440e89b0927da415a8b2",
            "_dom_classes": [],
            "description": "",
            "_model_name": "LabelModel",
            "placeholder": "​",
            "_view_module": "@jupyter-widgets/controls",
            "_model_module_version": "1.5.0",
            "value": " 0.01MB of 0.01MB uploaded (0.00MB deduped)\r",
            "_view_count": null,
            "_view_module_version": "1.5.0",
            "description_tooltip": null,
            "_model_module": "@jupyter-widgets/controls",
            "layout": "IPY_MODEL_dd2039f3145b479f8bb4b4df803ad116"
          }
        },
        "f35ce4fe5a6e4f2e827d6e41e4aa960b": {
          "model_module": "@jupyter-widgets/controls",
          "model_name": "FloatProgressModel",
          "state": {
            "_view_name": "ProgressView",
            "style": "IPY_MODEL_dc92e0d7145443afa860c286af56f7ea",
            "_dom_classes": [],
            "description": "",
            "_model_name": "FloatProgressModel",
            "bar_style": "",
            "max": 1,
            "_view_module": "@jupyter-widgets/controls",
            "_model_module_version": "1.5.0",
            "value": 1,
            "_view_count": null,
            "_view_module_version": "1.5.0",
            "orientation": "horizontal",
            "min": 0,
            "description_tooltip": null,
            "_model_module": "@jupyter-widgets/controls",
            "layout": "IPY_MODEL_bc5064f1dd0648b89815ba1c4501a7df"
          }
        },
        "4c8ada606084440e89b0927da415a8b2": {
          "model_module": "@jupyter-widgets/controls",
          "model_name": "DescriptionStyleModel",
          "state": {
            "_view_name": "StyleView",
            "_model_name": "DescriptionStyleModel",
            "description_width": "",
            "_view_module": "@jupyter-widgets/base",
            "_model_module_version": "1.5.0",
            "_view_count": null,
            "_view_module_version": "1.2.0",
            "_model_module": "@jupyter-widgets/controls"
          }
        },
        "dd2039f3145b479f8bb4b4df803ad116": {
          "model_module": "@jupyter-widgets/base",
          "model_name": "LayoutModel",
          "state": {
            "_view_name": "LayoutView",
            "grid_template_rows": null,
            "right": null,
            "justify_content": null,
            "_view_module": "@jupyter-widgets/base",
            "overflow": null,
            "_model_module_version": "1.2.0",
            "_view_count": null,
            "flex_flow": null,
            "width": null,
            "min_width": null,
            "border": null,
            "align_items": null,
            "bottom": null,
            "_model_module": "@jupyter-widgets/base",
            "top": null,
            "grid_column": null,
            "overflow_y": null,
            "overflow_x": null,
            "grid_auto_flow": null,
            "grid_area": null,
            "grid_template_columns": null,
            "flex": null,
            "_model_name": "LayoutModel",
            "justify_items": null,
            "grid_row": null,
            "max_height": null,
            "align_content": null,
            "visibility": null,
            "align_self": null,
            "height": null,
            "min_height": null,
            "padding": null,
            "grid_auto_rows": null,
            "grid_gap": null,
            "max_width": null,
            "order": null,
            "_view_module_version": "1.2.0",
            "grid_template_areas": null,
            "object_position": null,
            "object_fit": null,
            "grid_auto_columns": null,
            "margin": null,
            "display": null,
            "left": null
          }
        },
        "dc92e0d7145443afa860c286af56f7ea": {
          "model_module": "@jupyter-widgets/controls",
          "model_name": "ProgressStyleModel",
          "state": {
            "_view_name": "StyleView",
            "_model_name": "ProgressStyleModel",
            "description_width": "",
            "_view_module": "@jupyter-widgets/base",
            "_model_module_version": "1.5.0",
            "_view_count": null,
            "_view_module_version": "1.2.0",
            "bar_color": null,
            "_model_module": "@jupyter-widgets/controls"
          }
        },
        "bc5064f1dd0648b89815ba1c4501a7df": {
          "model_module": "@jupyter-widgets/base",
          "model_name": "LayoutModel",
          "state": {
            "_view_name": "LayoutView",
            "grid_template_rows": null,
            "right": null,
            "justify_content": null,
            "_view_module": "@jupyter-widgets/base",
            "overflow": null,
            "_model_module_version": "1.2.0",
            "_view_count": null,
            "flex_flow": null,
            "width": null,
            "min_width": null,
            "border": null,
            "align_items": null,
            "bottom": null,
            "_model_module": "@jupyter-widgets/base",
            "top": null,
            "grid_column": null,
            "overflow_y": null,
            "overflow_x": null,
            "grid_auto_flow": null,
            "grid_area": null,
            "grid_template_columns": null,
            "flex": null,
            "_model_name": "LayoutModel",
            "justify_items": null,
            "grid_row": null,
            "max_height": null,
            "align_content": null,
            "visibility": null,
            "align_self": null,
            "height": null,
            "min_height": null,
            "padding": null,
            "grid_auto_rows": null,
            "grid_gap": null,
            "max_width": null,
            "order": null,
            "_view_module_version": "1.2.0",
            "grid_template_areas": null,
            "object_position": null,
            "object_fit": null,
            "grid_auto_columns": null,
            "margin": null,
            "display": null,
            "left": null
          }
        },
        "e63825cbfb134292b3cad2bdedd57296": {
          "model_module": "@jupyter-widgets/controls",
          "model_name": "VBoxModel",
          "state": {
            "_view_name": "VBoxView",
            "_dom_classes": [],
            "_model_name": "VBoxModel",
            "_view_module": "@jupyter-widgets/controls",
            "_model_module_version": "1.5.0",
            "_view_count": null,
            "_view_module_version": "1.5.0",
            "box_style": "",
            "layout": "IPY_MODEL_30ca19e0e7dc451f9f455f71a063a9e6",
            "_model_module": "@jupyter-widgets/controls",
            "children": [
              "IPY_MODEL_c57356a5aec64ff196e0e444cbdb15d2",
              "IPY_MODEL_ea648ac21da1411b9128f41cc6394aa2"
            ]
          }
        },
        "30ca19e0e7dc451f9f455f71a063a9e6": {
          "model_module": "@jupyter-widgets/base",
          "model_name": "LayoutModel",
          "state": {
            "_view_name": "LayoutView",
            "grid_template_rows": null,
            "right": null,
            "justify_content": null,
            "_view_module": "@jupyter-widgets/base",
            "overflow": null,
            "_model_module_version": "1.2.0",
            "_view_count": null,
            "flex_flow": null,
            "width": null,
            "min_width": null,
            "border": null,
            "align_items": null,
            "bottom": null,
            "_model_module": "@jupyter-widgets/base",
            "top": null,
            "grid_column": null,
            "overflow_y": null,
            "overflow_x": null,
            "grid_auto_flow": null,
            "grid_area": null,
            "grid_template_columns": null,
            "flex": null,
            "_model_name": "LayoutModel",
            "justify_items": null,
            "grid_row": null,
            "max_height": null,
            "align_content": null,
            "visibility": null,
            "align_self": null,
            "height": null,
            "min_height": null,
            "padding": null,
            "grid_auto_rows": null,
            "grid_gap": null,
            "max_width": null,
            "order": null,
            "_view_module_version": "1.2.0",
            "grid_template_areas": null,
            "object_position": null,
            "object_fit": null,
            "grid_auto_columns": null,
            "margin": null,
            "display": null,
            "left": null
          }
        },
        "c57356a5aec64ff196e0e444cbdb15d2": {
          "model_module": "@jupyter-widgets/controls",
          "model_name": "LabelModel",
          "state": {
            "_view_name": "LabelView",
            "style": "IPY_MODEL_93733d7c3c6a4bec8f8757f59104ddb6",
            "_dom_classes": [],
            "description": "",
            "_model_name": "LabelModel",
            "placeholder": "​",
            "_view_module": "@jupyter-widgets/controls",
            "_model_module_version": "1.5.0",
            "value": " 0.01MB of 0.01MB uploaded (0.00MB deduped)\r",
            "_view_count": null,
            "_view_module_version": "1.5.0",
            "description_tooltip": null,
            "_model_module": "@jupyter-widgets/controls",
            "layout": "IPY_MODEL_32723467bc5640ff9cdf486e11d9c76a"
          }
        },
        "ea648ac21da1411b9128f41cc6394aa2": {
          "model_module": "@jupyter-widgets/controls",
          "model_name": "FloatProgressModel",
          "state": {
            "_view_name": "ProgressView",
            "style": "IPY_MODEL_897bdb09d7624fb58ad803e1a14f4aaa",
            "_dom_classes": [],
            "description": "",
            "_model_name": "FloatProgressModel",
            "bar_style": "",
            "max": 1,
            "_view_module": "@jupyter-widgets/controls",
            "_model_module_version": "1.5.0",
            "value": 1,
            "_view_count": null,
            "_view_module_version": "1.5.0",
            "orientation": "horizontal",
            "min": 0,
            "description_tooltip": null,
            "_model_module": "@jupyter-widgets/controls",
            "layout": "IPY_MODEL_f3f8bb5f10a54ba398e96c160c84bc26"
          }
        },
        "93733d7c3c6a4bec8f8757f59104ddb6": {
          "model_module": "@jupyter-widgets/controls",
          "model_name": "DescriptionStyleModel",
          "state": {
            "_view_name": "StyleView",
            "_model_name": "DescriptionStyleModel",
            "description_width": "",
            "_view_module": "@jupyter-widgets/base",
            "_model_module_version": "1.5.0",
            "_view_count": null,
            "_view_module_version": "1.2.0",
            "_model_module": "@jupyter-widgets/controls"
          }
        },
        "32723467bc5640ff9cdf486e11d9c76a": {
          "model_module": "@jupyter-widgets/base",
          "model_name": "LayoutModel",
          "state": {
            "_view_name": "LayoutView",
            "grid_template_rows": null,
            "right": null,
            "justify_content": null,
            "_view_module": "@jupyter-widgets/base",
            "overflow": null,
            "_model_module_version": "1.2.0",
            "_view_count": null,
            "flex_flow": null,
            "width": null,
            "min_width": null,
            "border": null,
            "align_items": null,
            "bottom": null,
            "_model_module": "@jupyter-widgets/base",
            "top": null,
            "grid_column": null,
            "overflow_y": null,
            "overflow_x": null,
            "grid_auto_flow": null,
            "grid_area": null,
            "grid_template_columns": null,
            "flex": null,
            "_model_name": "LayoutModel",
            "justify_items": null,
            "grid_row": null,
            "max_height": null,
            "align_content": null,
            "visibility": null,
            "align_self": null,
            "height": null,
            "min_height": null,
            "padding": null,
            "grid_auto_rows": null,
            "grid_gap": null,
            "max_width": null,
            "order": null,
            "_view_module_version": "1.2.0",
            "grid_template_areas": null,
            "object_position": null,
            "object_fit": null,
            "grid_auto_columns": null,
            "margin": null,
            "display": null,
            "left": null
          }
        },
        "897bdb09d7624fb58ad803e1a14f4aaa": {
          "model_module": "@jupyter-widgets/controls",
          "model_name": "ProgressStyleModel",
          "state": {
            "_view_name": "StyleView",
            "_model_name": "ProgressStyleModel",
            "description_width": "",
            "_view_module": "@jupyter-widgets/base",
            "_model_module_version": "1.5.0",
            "_view_count": null,
            "_view_module_version": "1.2.0",
            "bar_color": null,
            "_model_module": "@jupyter-widgets/controls"
          }
        },
        "f3f8bb5f10a54ba398e96c160c84bc26": {
          "model_module": "@jupyter-widgets/base",
          "model_name": "LayoutModel",
          "state": {
            "_view_name": "LayoutView",
            "grid_template_rows": null,
            "right": null,
            "justify_content": null,
            "_view_module": "@jupyter-widgets/base",
            "overflow": null,
            "_model_module_version": "1.2.0",
            "_view_count": null,
            "flex_flow": null,
            "width": null,
            "min_width": null,
            "border": null,
            "align_items": null,
            "bottom": null,
            "_model_module": "@jupyter-widgets/base",
            "top": null,
            "grid_column": null,
            "overflow_y": null,
            "overflow_x": null,
            "grid_auto_flow": null,
            "grid_area": null,
            "grid_template_columns": null,
            "flex": null,
            "_model_name": "LayoutModel",
            "justify_items": null,
            "grid_row": null,
            "max_height": null,
            "align_content": null,
            "visibility": null,
            "align_self": null,
            "height": null,
            "min_height": null,
            "padding": null,
            "grid_auto_rows": null,
            "grid_gap": null,
            "max_width": null,
            "order": null,
            "_view_module_version": "1.2.0",
            "grid_template_areas": null,
            "object_position": null,
            "object_fit": null,
            "grid_auto_columns": null,
            "margin": null,
            "display": null,
            "left": null
          }
        },
        "2f408dee34fb4a3da2b064f09c89b550": {
          "model_module": "@jupyter-widgets/controls",
          "model_name": "VBoxModel",
          "state": {
            "_view_name": "VBoxView",
            "_dom_classes": [],
            "_model_name": "VBoxModel",
            "_view_module": "@jupyter-widgets/controls",
            "_model_module_version": "1.5.0",
            "_view_count": null,
            "_view_module_version": "1.5.0",
            "box_style": "",
            "layout": "IPY_MODEL_965da88b78e6423cb05445fbce30e2a2",
            "_model_module": "@jupyter-widgets/controls",
            "children": [
              "IPY_MODEL_8d0a10faedc04b7798508384182a4ab8",
              "IPY_MODEL_5670c2c3a2c1449f8eefe3994339c36c"
            ]
          }
        },
        "965da88b78e6423cb05445fbce30e2a2": {
          "model_module": "@jupyter-widgets/base",
          "model_name": "LayoutModel",
          "state": {
            "_view_name": "LayoutView",
            "grid_template_rows": null,
            "right": null,
            "justify_content": null,
            "_view_module": "@jupyter-widgets/base",
            "overflow": null,
            "_model_module_version": "1.2.0",
            "_view_count": null,
            "flex_flow": null,
            "width": null,
            "min_width": null,
            "border": null,
            "align_items": null,
            "bottom": null,
            "_model_module": "@jupyter-widgets/base",
            "top": null,
            "grid_column": null,
            "overflow_y": null,
            "overflow_x": null,
            "grid_auto_flow": null,
            "grid_area": null,
            "grid_template_columns": null,
            "flex": null,
            "_model_name": "LayoutModel",
            "justify_items": null,
            "grid_row": null,
            "max_height": null,
            "align_content": null,
            "visibility": null,
            "align_self": null,
            "height": null,
            "min_height": null,
            "padding": null,
            "grid_auto_rows": null,
            "grid_gap": null,
            "max_width": null,
            "order": null,
            "_view_module_version": "1.2.0",
            "grid_template_areas": null,
            "object_position": null,
            "object_fit": null,
            "grid_auto_columns": null,
            "margin": null,
            "display": null,
            "left": null
          }
        },
        "8d0a10faedc04b7798508384182a4ab8": {
          "model_module": "@jupyter-widgets/controls",
          "model_name": "LabelModel",
          "state": {
            "_view_name": "LabelView",
            "style": "IPY_MODEL_4b630a1b75224f89874d2c29bf84e46a",
            "_dom_classes": [],
            "description": "",
            "_model_name": "LabelModel",
            "placeholder": "​",
            "_view_module": "@jupyter-widgets/controls",
            "_model_module_version": "1.5.0",
            "value": " 0.01MB of 0.01MB uploaded (0.00MB deduped)\r",
            "_view_count": null,
            "_view_module_version": "1.5.0",
            "description_tooltip": null,
            "_model_module": "@jupyter-widgets/controls",
            "layout": "IPY_MODEL_e24f98c3fec84f0bb6a54d1cef0d9a82"
          }
        },
        "5670c2c3a2c1449f8eefe3994339c36c": {
          "model_module": "@jupyter-widgets/controls",
          "model_name": "FloatProgressModel",
          "state": {
            "_view_name": "ProgressView",
            "style": "IPY_MODEL_2f7617856def4c99ae4c48ab5649cd6f",
            "_dom_classes": [],
            "description": "",
            "_model_name": "FloatProgressModel",
            "bar_style": "",
            "max": 1,
            "_view_module": "@jupyter-widgets/controls",
            "_model_module_version": "1.5.0",
            "value": 1,
            "_view_count": null,
            "_view_module_version": "1.5.0",
            "orientation": "horizontal",
            "min": 0,
            "description_tooltip": null,
            "_model_module": "@jupyter-widgets/controls",
            "layout": "IPY_MODEL_f112cc53deb44f30a9debdc73ea19e6a"
          }
        },
        "4b630a1b75224f89874d2c29bf84e46a": {
          "model_module": "@jupyter-widgets/controls",
          "model_name": "DescriptionStyleModel",
          "state": {
            "_view_name": "StyleView",
            "_model_name": "DescriptionStyleModel",
            "description_width": "",
            "_view_module": "@jupyter-widgets/base",
            "_model_module_version": "1.5.0",
            "_view_count": null,
            "_view_module_version": "1.2.0",
            "_model_module": "@jupyter-widgets/controls"
          }
        },
        "e24f98c3fec84f0bb6a54d1cef0d9a82": {
          "model_module": "@jupyter-widgets/base",
          "model_name": "LayoutModel",
          "state": {
            "_view_name": "LayoutView",
            "grid_template_rows": null,
            "right": null,
            "justify_content": null,
            "_view_module": "@jupyter-widgets/base",
            "overflow": null,
            "_model_module_version": "1.2.0",
            "_view_count": null,
            "flex_flow": null,
            "width": null,
            "min_width": null,
            "border": null,
            "align_items": null,
            "bottom": null,
            "_model_module": "@jupyter-widgets/base",
            "top": null,
            "grid_column": null,
            "overflow_y": null,
            "overflow_x": null,
            "grid_auto_flow": null,
            "grid_area": null,
            "grid_template_columns": null,
            "flex": null,
            "_model_name": "LayoutModel",
            "justify_items": null,
            "grid_row": null,
            "max_height": null,
            "align_content": null,
            "visibility": null,
            "align_self": null,
            "height": null,
            "min_height": null,
            "padding": null,
            "grid_auto_rows": null,
            "grid_gap": null,
            "max_width": null,
            "order": null,
            "_view_module_version": "1.2.0",
            "grid_template_areas": null,
            "object_position": null,
            "object_fit": null,
            "grid_auto_columns": null,
            "margin": null,
            "display": null,
            "left": null
          }
        },
        "2f7617856def4c99ae4c48ab5649cd6f": {
          "model_module": "@jupyter-widgets/controls",
          "model_name": "ProgressStyleModel",
          "state": {
            "_view_name": "StyleView",
            "_model_name": "ProgressStyleModel",
            "description_width": "",
            "_view_module": "@jupyter-widgets/base",
            "_model_module_version": "1.5.0",
            "_view_count": null,
            "_view_module_version": "1.2.0",
            "bar_color": null,
            "_model_module": "@jupyter-widgets/controls"
          }
        },
        "f112cc53deb44f30a9debdc73ea19e6a": {
          "model_module": "@jupyter-widgets/base",
          "model_name": "LayoutModel",
          "state": {
            "_view_name": "LayoutView",
            "grid_template_rows": null,
            "right": null,
            "justify_content": null,
            "_view_module": "@jupyter-widgets/base",
            "overflow": null,
            "_model_module_version": "1.2.0",
            "_view_count": null,
            "flex_flow": null,
            "width": null,
            "min_width": null,
            "border": null,
            "align_items": null,
            "bottom": null,
            "_model_module": "@jupyter-widgets/base",
            "top": null,
            "grid_column": null,
            "overflow_y": null,
            "overflow_x": null,
            "grid_auto_flow": null,
            "grid_area": null,
            "grid_template_columns": null,
            "flex": null,
            "_model_name": "LayoutModel",
            "justify_items": null,
            "grid_row": null,
            "max_height": null,
            "align_content": null,
            "visibility": null,
            "align_self": null,
            "height": null,
            "min_height": null,
            "padding": null,
            "grid_auto_rows": null,
            "grid_gap": null,
            "max_width": null,
            "order": null,
            "_view_module_version": "1.2.0",
            "grid_template_areas": null,
            "object_position": null,
            "object_fit": null,
            "grid_auto_columns": null,
            "margin": null,
            "display": null,
            "left": null
          }
        },
        "3bdbe6f66eaf41459a2d990fe6070524": {
          "model_module": "@jupyter-widgets/controls",
          "model_name": "VBoxModel",
          "state": {
            "_view_name": "VBoxView",
            "_dom_classes": [],
            "_model_name": "VBoxModel",
            "_view_module": "@jupyter-widgets/controls",
            "_model_module_version": "1.5.0",
            "_view_count": null,
            "_view_module_version": "1.5.0",
            "box_style": "",
            "layout": "IPY_MODEL_14371e03ae9b4dccae4c161627574b89",
            "_model_module": "@jupyter-widgets/controls",
            "children": [
              "IPY_MODEL_8b9b475761804d11906fd359b29b4700",
              "IPY_MODEL_7f50dddb09374e65af22eed88e8f8608"
            ]
          }
        },
        "14371e03ae9b4dccae4c161627574b89": {
          "model_module": "@jupyter-widgets/base",
          "model_name": "LayoutModel",
          "state": {
            "_view_name": "LayoutView",
            "grid_template_rows": null,
            "right": null,
            "justify_content": null,
            "_view_module": "@jupyter-widgets/base",
            "overflow": null,
            "_model_module_version": "1.2.0",
            "_view_count": null,
            "flex_flow": null,
            "width": null,
            "min_width": null,
            "border": null,
            "align_items": null,
            "bottom": null,
            "_model_module": "@jupyter-widgets/base",
            "top": null,
            "grid_column": null,
            "overflow_y": null,
            "overflow_x": null,
            "grid_auto_flow": null,
            "grid_area": null,
            "grid_template_columns": null,
            "flex": null,
            "_model_name": "LayoutModel",
            "justify_items": null,
            "grid_row": null,
            "max_height": null,
            "align_content": null,
            "visibility": null,
            "align_self": null,
            "height": null,
            "min_height": null,
            "padding": null,
            "grid_auto_rows": null,
            "grid_gap": null,
            "max_width": null,
            "order": null,
            "_view_module_version": "1.2.0",
            "grid_template_areas": null,
            "object_position": null,
            "object_fit": null,
            "grid_auto_columns": null,
            "margin": null,
            "display": null,
            "left": null
          }
        },
        "8b9b475761804d11906fd359b29b4700": {
          "model_module": "@jupyter-widgets/controls",
          "model_name": "LabelModel",
          "state": {
            "_view_name": "LabelView",
            "style": "IPY_MODEL_7c39e0c5cb264b79bb2893cdb6418a53",
            "_dom_classes": [],
            "description": "",
            "_model_name": "LabelModel",
            "placeholder": "​",
            "_view_module": "@jupyter-widgets/controls",
            "_model_module_version": "1.5.0",
            "value": " 0.01MB of 0.01MB uploaded (0.00MB deduped)\r",
            "_view_count": null,
            "_view_module_version": "1.5.0",
            "description_tooltip": null,
            "_model_module": "@jupyter-widgets/controls",
            "layout": "IPY_MODEL_108095f2c43f4ef4b718f6071b925395"
          }
        },
        "7f50dddb09374e65af22eed88e8f8608": {
          "model_module": "@jupyter-widgets/controls",
          "model_name": "FloatProgressModel",
          "state": {
            "_view_name": "ProgressView",
            "style": "IPY_MODEL_8f490f86f7024a11a8dbf2003b70b01a",
            "_dom_classes": [],
            "description": "",
            "_model_name": "FloatProgressModel",
            "bar_style": "",
            "max": 1,
            "_view_module": "@jupyter-widgets/controls",
            "_model_module_version": "1.5.0",
            "value": 1,
            "_view_count": null,
            "_view_module_version": "1.5.0",
            "orientation": "horizontal",
            "min": 0,
            "description_tooltip": null,
            "_model_module": "@jupyter-widgets/controls",
            "layout": "IPY_MODEL_89c4709b239b4dd5a29341cc1822a955"
          }
        },
        "7c39e0c5cb264b79bb2893cdb6418a53": {
          "model_module": "@jupyter-widgets/controls",
          "model_name": "DescriptionStyleModel",
          "state": {
            "_view_name": "StyleView",
            "_model_name": "DescriptionStyleModel",
            "description_width": "",
            "_view_module": "@jupyter-widgets/base",
            "_model_module_version": "1.5.0",
            "_view_count": null,
            "_view_module_version": "1.2.0",
            "_model_module": "@jupyter-widgets/controls"
          }
        },
        "108095f2c43f4ef4b718f6071b925395": {
          "model_module": "@jupyter-widgets/base",
          "model_name": "LayoutModel",
          "state": {
            "_view_name": "LayoutView",
            "grid_template_rows": null,
            "right": null,
            "justify_content": null,
            "_view_module": "@jupyter-widgets/base",
            "overflow": null,
            "_model_module_version": "1.2.0",
            "_view_count": null,
            "flex_flow": null,
            "width": null,
            "min_width": null,
            "border": null,
            "align_items": null,
            "bottom": null,
            "_model_module": "@jupyter-widgets/base",
            "top": null,
            "grid_column": null,
            "overflow_y": null,
            "overflow_x": null,
            "grid_auto_flow": null,
            "grid_area": null,
            "grid_template_columns": null,
            "flex": null,
            "_model_name": "LayoutModel",
            "justify_items": null,
            "grid_row": null,
            "max_height": null,
            "align_content": null,
            "visibility": null,
            "align_self": null,
            "height": null,
            "min_height": null,
            "padding": null,
            "grid_auto_rows": null,
            "grid_gap": null,
            "max_width": null,
            "order": null,
            "_view_module_version": "1.2.0",
            "grid_template_areas": null,
            "object_position": null,
            "object_fit": null,
            "grid_auto_columns": null,
            "margin": null,
            "display": null,
            "left": null
          }
        },
        "8f490f86f7024a11a8dbf2003b70b01a": {
          "model_module": "@jupyter-widgets/controls",
          "model_name": "ProgressStyleModel",
          "state": {
            "_view_name": "StyleView",
            "_model_name": "ProgressStyleModel",
            "description_width": "",
            "_view_module": "@jupyter-widgets/base",
            "_model_module_version": "1.5.0",
            "_view_count": null,
            "_view_module_version": "1.2.0",
            "bar_color": null,
            "_model_module": "@jupyter-widgets/controls"
          }
        },
        "89c4709b239b4dd5a29341cc1822a955": {
          "model_module": "@jupyter-widgets/base",
          "model_name": "LayoutModel",
          "state": {
            "_view_name": "LayoutView",
            "grid_template_rows": null,
            "right": null,
            "justify_content": null,
            "_view_module": "@jupyter-widgets/base",
            "overflow": null,
            "_model_module_version": "1.2.0",
            "_view_count": null,
            "flex_flow": null,
            "width": null,
            "min_width": null,
            "border": null,
            "align_items": null,
            "bottom": null,
            "_model_module": "@jupyter-widgets/base",
            "top": null,
            "grid_column": null,
            "overflow_y": null,
            "overflow_x": null,
            "grid_auto_flow": null,
            "grid_area": null,
            "grid_template_columns": null,
            "flex": null,
            "_model_name": "LayoutModel",
            "justify_items": null,
            "grid_row": null,
            "max_height": null,
            "align_content": null,
            "visibility": null,
            "align_self": null,
            "height": null,
            "min_height": null,
            "padding": null,
            "grid_auto_rows": null,
            "grid_gap": null,
            "max_width": null,
            "order": null,
            "_view_module_version": "1.2.0",
            "grid_template_areas": null,
            "object_position": null,
            "object_fit": null,
            "grid_auto_columns": null,
            "margin": null,
            "display": null,
            "left": null
          }
        },
        "4c34ef7979684836850dc368f0b02a24": {
          "model_module": "@jupyter-widgets/controls",
          "model_name": "VBoxModel",
          "state": {
            "_view_name": "VBoxView",
            "_dom_classes": [],
            "_model_name": "VBoxModel",
            "_view_module": "@jupyter-widgets/controls",
            "_model_module_version": "1.5.0",
            "_view_count": null,
            "_view_module_version": "1.5.0",
            "box_style": "",
            "layout": "IPY_MODEL_d3cd513893e1462ab9f14fdc7adb09cb",
            "_model_module": "@jupyter-widgets/controls",
            "children": [
              "IPY_MODEL_75fdc9b90cd74000bac58c080f3bb6cb",
              "IPY_MODEL_6ef22b43157b4c27b27dc1be8d595a86"
            ]
          }
        },
        "d3cd513893e1462ab9f14fdc7adb09cb": {
          "model_module": "@jupyter-widgets/base",
          "model_name": "LayoutModel",
          "state": {
            "_view_name": "LayoutView",
            "grid_template_rows": null,
            "right": null,
            "justify_content": null,
            "_view_module": "@jupyter-widgets/base",
            "overflow": null,
            "_model_module_version": "1.2.0",
            "_view_count": null,
            "flex_flow": null,
            "width": null,
            "min_width": null,
            "border": null,
            "align_items": null,
            "bottom": null,
            "_model_module": "@jupyter-widgets/base",
            "top": null,
            "grid_column": null,
            "overflow_y": null,
            "overflow_x": null,
            "grid_auto_flow": null,
            "grid_area": null,
            "grid_template_columns": null,
            "flex": null,
            "_model_name": "LayoutModel",
            "justify_items": null,
            "grid_row": null,
            "max_height": null,
            "align_content": null,
            "visibility": null,
            "align_self": null,
            "height": null,
            "min_height": null,
            "padding": null,
            "grid_auto_rows": null,
            "grid_gap": null,
            "max_width": null,
            "order": null,
            "_view_module_version": "1.2.0",
            "grid_template_areas": null,
            "object_position": null,
            "object_fit": null,
            "grid_auto_columns": null,
            "margin": null,
            "display": null,
            "left": null
          }
        },
        "75fdc9b90cd74000bac58c080f3bb6cb": {
          "model_module": "@jupyter-widgets/controls",
          "model_name": "LabelModel",
          "state": {
            "_view_name": "LabelView",
            "style": "IPY_MODEL_01d3d6dbb7c6423e99955a8a4a1144c8",
            "_dom_classes": [],
            "description": "",
            "_model_name": "LabelModel",
            "placeholder": "​",
            "_view_module": "@jupyter-widgets/controls",
            "_model_module_version": "1.5.0",
            "value": " 0.01MB of 0.01MB uploaded (0.00MB deduped)\r",
            "_view_count": null,
            "_view_module_version": "1.5.0",
            "description_tooltip": null,
            "_model_module": "@jupyter-widgets/controls",
            "layout": "IPY_MODEL_318e67323c8f4fa3a2eb8ce4f3a2dc15"
          }
        },
        "6ef22b43157b4c27b27dc1be8d595a86": {
          "model_module": "@jupyter-widgets/controls",
          "model_name": "FloatProgressModel",
          "state": {
            "_view_name": "ProgressView",
            "style": "IPY_MODEL_b1ae8cc5a9754b4abb4d002bb52cb723",
            "_dom_classes": [],
            "description": "",
            "_model_name": "FloatProgressModel",
            "bar_style": "",
            "max": 1,
            "_view_module": "@jupyter-widgets/controls",
            "_model_module_version": "1.5.0",
            "value": 1,
            "_view_count": null,
            "_view_module_version": "1.5.0",
            "orientation": "horizontal",
            "min": 0,
            "description_tooltip": null,
            "_model_module": "@jupyter-widgets/controls",
            "layout": "IPY_MODEL_19ab49a1f4644dabaa29a871d5dc14cc"
          }
        },
        "01d3d6dbb7c6423e99955a8a4a1144c8": {
          "model_module": "@jupyter-widgets/controls",
          "model_name": "DescriptionStyleModel",
          "state": {
            "_view_name": "StyleView",
            "_model_name": "DescriptionStyleModel",
            "description_width": "",
            "_view_module": "@jupyter-widgets/base",
            "_model_module_version": "1.5.0",
            "_view_count": null,
            "_view_module_version": "1.2.0",
            "_model_module": "@jupyter-widgets/controls"
          }
        },
        "318e67323c8f4fa3a2eb8ce4f3a2dc15": {
          "model_module": "@jupyter-widgets/base",
          "model_name": "LayoutModel",
          "state": {
            "_view_name": "LayoutView",
            "grid_template_rows": null,
            "right": null,
            "justify_content": null,
            "_view_module": "@jupyter-widgets/base",
            "overflow": null,
            "_model_module_version": "1.2.0",
            "_view_count": null,
            "flex_flow": null,
            "width": null,
            "min_width": null,
            "border": null,
            "align_items": null,
            "bottom": null,
            "_model_module": "@jupyter-widgets/base",
            "top": null,
            "grid_column": null,
            "overflow_y": null,
            "overflow_x": null,
            "grid_auto_flow": null,
            "grid_area": null,
            "grid_template_columns": null,
            "flex": null,
            "_model_name": "LayoutModel",
            "justify_items": null,
            "grid_row": null,
            "max_height": null,
            "align_content": null,
            "visibility": null,
            "align_self": null,
            "height": null,
            "min_height": null,
            "padding": null,
            "grid_auto_rows": null,
            "grid_gap": null,
            "max_width": null,
            "order": null,
            "_view_module_version": "1.2.0",
            "grid_template_areas": null,
            "object_position": null,
            "object_fit": null,
            "grid_auto_columns": null,
            "margin": null,
            "display": null,
            "left": null
          }
        },
        "b1ae8cc5a9754b4abb4d002bb52cb723": {
          "model_module": "@jupyter-widgets/controls",
          "model_name": "ProgressStyleModel",
          "state": {
            "_view_name": "StyleView",
            "_model_name": "ProgressStyleModel",
            "description_width": "",
            "_view_module": "@jupyter-widgets/base",
            "_model_module_version": "1.5.0",
            "_view_count": null,
            "_view_module_version": "1.2.0",
            "bar_color": null,
            "_model_module": "@jupyter-widgets/controls"
          }
        },
        "19ab49a1f4644dabaa29a871d5dc14cc": {
          "model_module": "@jupyter-widgets/base",
          "model_name": "LayoutModel",
          "state": {
            "_view_name": "LayoutView",
            "grid_template_rows": null,
            "right": null,
            "justify_content": null,
            "_view_module": "@jupyter-widgets/base",
            "overflow": null,
            "_model_module_version": "1.2.0",
            "_view_count": null,
            "flex_flow": null,
            "width": null,
            "min_width": null,
            "border": null,
            "align_items": null,
            "bottom": null,
            "_model_module": "@jupyter-widgets/base",
            "top": null,
            "grid_column": null,
            "overflow_y": null,
            "overflow_x": null,
            "grid_auto_flow": null,
            "grid_area": null,
            "grid_template_columns": null,
            "flex": null,
            "_model_name": "LayoutModel",
            "justify_items": null,
            "grid_row": null,
            "max_height": null,
            "align_content": null,
            "visibility": null,
            "align_self": null,
            "height": null,
            "min_height": null,
            "padding": null,
            "grid_auto_rows": null,
            "grid_gap": null,
            "max_width": null,
            "order": null,
            "_view_module_version": "1.2.0",
            "grid_template_areas": null,
            "object_position": null,
            "object_fit": null,
            "grid_auto_columns": null,
            "margin": null,
            "display": null,
            "left": null
          }
        },
        "504efeef43034e489cca41917811d1eb": {
          "model_module": "@jupyter-widgets/controls",
          "model_name": "VBoxModel",
          "state": {
            "_view_name": "VBoxView",
            "_dom_classes": [],
            "_model_name": "VBoxModel",
            "_view_module": "@jupyter-widgets/controls",
            "_model_module_version": "1.5.0",
            "_view_count": null,
            "_view_module_version": "1.5.0",
            "box_style": "",
            "layout": "IPY_MODEL_079a567cd050424d8bb7e827465d4697",
            "_model_module": "@jupyter-widgets/controls",
            "children": [
              "IPY_MODEL_a308554dd904451e9acd3e7bca27bfe8",
              "IPY_MODEL_527c54783c264586b869e4977b4ec327"
            ]
          }
        },
        "079a567cd050424d8bb7e827465d4697": {
          "model_module": "@jupyter-widgets/base",
          "model_name": "LayoutModel",
          "state": {
            "_view_name": "LayoutView",
            "grid_template_rows": null,
            "right": null,
            "justify_content": null,
            "_view_module": "@jupyter-widgets/base",
            "overflow": null,
            "_model_module_version": "1.2.0",
            "_view_count": null,
            "flex_flow": null,
            "width": null,
            "min_width": null,
            "border": null,
            "align_items": null,
            "bottom": null,
            "_model_module": "@jupyter-widgets/base",
            "top": null,
            "grid_column": null,
            "overflow_y": null,
            "overflow_x": null,
            "grid_auto_flow": null,
            "grid_area": null,
            "grid_template_columns": null,
            "flex": null,
            "_model_name": "LayoutModel",
            "justify_items": null,
            "grid_row": null,
            "max_height": null,
            "align_content": null,
            "visibility": null,
            "align_self": null,
            "height": null,
            "min_height": null,
            "padding": null,
            "grid_auto_rows": null,
            "grid_gap": null,
            "max_width": null,
            "order": null,
            "_view_module_version": "1.2.0",
            "grid_template_areas": null,
            "object_position": null,
            "object_fit": null,
            "grid_auto_columns": null,
            "margin": null,
            "display": null,
            "left": null
          }
        },
        "a308554dd904451e9acd3e7bca27bfe8": {
          "model_module": "@jupyter-widgets/controls",
          "model_name": "LabelModel",
          "state": {
            "_view_name": "LabelView",
            "style": "IPY_MODEL_159ca536f7f4466b8d0231f0249fdc35",
            "_dom_classes": [],
            "description": "",
            "_model_name": "LabelModel",
            "placeholder": "​",
            "_view_module": "@jupyter-widgets/controls",
            "_model_module_version": "1.5.0",
            "value": " 0.01MB of 0.01MB uploaded (0.00MB deduped)\r",
            "_view_count": null,
            "_view_module_version": "1.5.0",
            "description_tooltip": null,
            "_model_module": "@jupyter-widgets/controls",
            "layout": "IPY_MODEL_743f2e2242e54e5a916057e62dace28b"
          }
        },
        "527c54783c264586b869e4977b4ec327": {
          "model_module": "@jupyter-widgets/controls",
          "model_name": "FloatProgressModel",
          "state": {
            "_view_name": "ProgressView",
            "style": "IPY_MODEL_d43b4338cef6467d8e8ce83ca4374420",
            "_dom_classes": [],
            "description": "",
            "_model_name": "FloatProgressModel",
            "bar_style": "",
            "max": 1,
            "_view_module": "@jupyter-widgets/controls",
            "_model_module_version": "1.5.0",
            "value": 1,
            "_view_count": null,
            "_view_module_version": "1.5.0",
            "orientation": "horizontal",
            "min": 0,
            "description_tooltip": null,
            "_model_module": "@jupyter-widgets/controls",
            "layout": "IPY_MODEL_4e2af8cba4124d809365a1caa6d5ef67"
          }
        },
        "159ca536f7f4466b8d0231f0249fdc35": {
          "model_module": "@jupyter-widgets/controls",
          "model_name": "DescriptionStyleModel",
          "state": {
            "_view_name": "StyleView",
            "_model_name": "DescriptionStyleModel",
            "description_width": "",
            "_view_module": "@jupyter-widgets/base",
            "_model_module_version": "1.5.0",
            "_view_count": null,
            "_view_module_version": "1.2.0",
            "_model_module": "@jupyter-widgets/controls"
          }
        },
        "743f2e2242e54e5a916057e62dace28b": {
          "model_module": "@jupyter-widgets/base",
          "model_name": "LayoutModel",
          "state": {
            "_view_name": "LayoutView",
            "grid_template_rows": null,
            "right": null,
            "justify_content": null,
            "_view_module": "@jupyter-widgets/base",
            "overflow": null,
            "_model_module_version": "1.2.0",
            "_view_count": null,
            "flex_flow": null,
            "width": null,
            "min_width": null,
            "border": null,
            "align_items": null,
            "bottom": null,
            "_model_module": "@jupyter-widgets/base",
            "top": null,
            "grid_column": null,
            "overflow_y": null,
            "overflow_x": null,
            "grid_auto_flow": null,
            "grid_area": null,
            "grid_template_columns": null,
            "flex": null,
            "_model_name": "LayoutModel",
            "justify_items": null,
            "grid_row": null,
            "max_height": null,
            "align_content": null,
            "visibility": null,
            "align_self": null,
            "height": null,
            "min_height": null,
            "padding": null,
            "grid_auto_rows": null,
            "grid_gap": null,
            "max_width": null,
            "order": null,
            "_view_module_version": "1.2.0",
            "grid_template_areas": null,
            "object_position": null,
            "object_fit": null,
            "grid_auto_columns": null,
            "margin": null,
            "display": null,
            "left": null
          }
        },
        "d43b4338cef6467d8e8ce83ca4374420": {
          "model_module": "@jupyter-widgets/controls",
          "model_name": "ProgressStyleModel",
          "state": {
            "_view_name": "StyleView",
            "_model_name": "ProgressStyleModel",
            "description_width": "",
            "_view_module": "@jupyter-widgets/base",
            "_model_module_version": "1.5.0",
            "_view_count": null,
            "_view_module_version": "1.2.0",
            "bar_color": null,
            "_model_module": "@jupyter-widgets/controls"
          }
        },
        "4e2af8cba4124d809365a1caa6d5ef67": {
          "model_module": "@jupyter-widgets/base",
          "model_name": "LayoutModel",
          "state": {
            "_view_name": "LayoutView",
            "grid_template_rows": null,
            "right": null,
            "justify_content": null,
            "_view_module": "@jupyter-widgets/base",
            "overflow": null,
            "_model_module_version": "1.2.0",
            "_view_count": null,
            "flex_flow": null,
            "width": null,
            "min_width": null,
            "border": null,
            "align_items": null,
            "bottom": null,
            "_model_module": "@jupyter-widgets/base",
            "top": null,
            "grid_column": null,
            "overflow_y": null,
            "overflow_x": null,
            "grid_auto_flow": null,
            "grid_area": null,
            "grid_template_columns": null,
            "flex": null,
            "_model_name": "LayoutModel",
            "justify_items": null,
            "grid_row": null,
            "max_height": null,
            "align_content": null,
            "visibility": null,
            "align_self": null,
            "height": null,
            "min_height": null,
            "padding": null,
            "grid_auto_rows": null,
            "grid_gap": null,
            "max_width": null,
            "order": null,
            "_view_module_version": "1.2.0",
            "grid_template_areas": null,
            "object_position": null,
            "object_fit": null,
            "grid_auto_columns": null,
            "margin": null,
            "display": null,
            "left": null
          }
        },
        "95547d8a22cb4ec1af254c760429ff13": {
          "model_module": "@jupyter-widgets/controls",
          "model_name": "VBoxModel",
          "state": {
            "_view_name": "VBoxView",
            "_dom_classes": [],
            "_model_name": "VBoxModel",
            "_view_module": "@jupyter-widgets/controls",
            "_model_module_version": "1.5.0",
            "_view_count": null,
            "_view_module_version": "1.5.0",
            "box_style": "",
            "layout": "IPY_MODEL_b35d74713cac4a5b9c18ec446032c995",
            "_model_module": "@jupyter-widgets/controls",
            "children": [
              "IPY_MODEL_af9fbfcb49e047b09418f184ed241038",
              "IPY_MODEL_d9376173560a4ae1bf6247f6d224ea24"
            ]
          }
        },
        "b35d74713cac4a5b9c18ec446032c995": {
          "model_module": "@jupyter-widgets/base",
          "model_name": "LayoutModel",
          "state": {
            "_view_name": "LayoutView",
            "grid_template_rows": null,
            "right": null,
            "justify_content": null,
            "_view_module": "@jupyter-widgets/base",
            "overflow": null,
            "_model_module_version": "1.2.0",
            "_view_count": null,
            "flex_flow": null,
            "width": null,
            "min_width": null,
            "border": null,
            "align_items": null,
            "bottom": null,
            "_model_module": "@jupyter-widgets/base",
            "top": null,
            "grid_column": null,
            "overflow_y": null,
            "overflow_x": null,
            "grid_auto_flow": null,
            "grid_area": null,
            "grid_template_columns": null,
            "flex": null,
            "_model_name": "LayoutModel",
            "justify_items": null,
            "grid_row": null,
            "max_height": null,
            "align_content": null,
            "visibility": null,
            "align_self": null,
            "height": null,
            "min_height": null,
            "padding": null,
            "grid_auto_rows": null,
            "grid_gap": null,
            "max_width": null,
            "order": null,
            "_view_module_version": "1.2.0",
            "grid_template_areas": null,
            "object_position": null,
            "object_fit": null,
            "grid_auto_columns": null,
            "margin": null,
            "display": null,
            "left": null
          }
        },
        "af9fbfcb49e047b09418f184ed241038": {
          "model_module": "@jupyter-widgets/controls",
          "model_name": "LabelModel",
          "state": {
            "_view_name": "LabelView",
            "style": "IPY_MODEL_50f7619a7bbb4a198a88dd636aa30d6a",
            "_dom_classes": [],
            "description": "",
            "_model_name": "LabelModel",
            "placeholder": "​",
            "_view_module": "@jupyter-widgets/controls",
            "_model_module_version": "1.5.0",
            "value": " 0.01MB of 0.01MB uploaded (0.00MB deduped)\r",
            "_view_count": null,
            "_view_module_version": "1.5.0",
            "description_tooltip": null,
            "_model_module": "@jupyter-widgets/controls",
            "layout": "IPY_MODEL_74677a18e0694278bc233466ca6016a4"
          }
        },
        "d9376173560a4ae1bf6247f6d224ea24": {
          "model_module": "@jupyter-widgets/controls",
          "model_name": "FloatProgressModel",
          "state": {
            "_view_name": "ProgressView",
            "style": "IPY_MODEL_28e8f9e8fce94ab39918c59bc8631180",
            "_dom_classes": [],
            "description": "",
            "_model_name": "FloatProgressModel",
            "bar_style": "",
            "max": 1,
            "_view_module": "@jupyter-widgets/controls",
            "_model_module_version": "1.5.0",
            "value": 1,
            "_view_count": null,
            "_view_module_version": "1.5.0",
            "orientation": "horizontal",
            "min": 0,
            "description_tooltip": null,
            "_model_module": "@jupyter-widgets/controls",
            "layout": "IPY_MODEL_6e018b2bf9fe4389bf847e5c2c07e3c5"
          }
        },
        "50f7619a7bbb4a198a88dd636aa30d6a": {
          "model_module": "@jupyter-widgets/controls",
          "model_name": "DescriptionStyleModel",
          "state": {
            "_view_name": "StyleView",
            "_model_name": "DescriptionStyleModel",
            "description_width": "",
            "_view_module": "@jupyter-widgets/base",
            "_model_module_version": "1.5.0",
            "_view_count": null,
            "_view_module_version": "1.2.0",
            "_model_module": "@jupyter-widgets/controls"
          }
        },
        "74677a18e0694278bc233466ca6016a4": {
          "model_module": "@jupyter-widgets/base",
          "model_name": "LayoutModel",
          "state": {
            "_view_name": "LayoutView",
            "grid_template_rows": null,
            "right": null,
            "justify_content": null,
            "_view_module": "@jupyter-widgets/base",
            "overflow": null,
            "_model_module_version": "1.2.0",
            "_view_count": null,
            "flex_flow": null,
            "width": null,
            "min_width": null,
            "border": null,
            "align_items": null,
            "bottom": null,
            "_model_module": "@jupyter-widgets/base",
            "top": null,
            "grid_column": null,
            "overflow_y": null,
            "overflow_x": null,
            "grid_auto_flow": null,
            "grid_area": null,
            "grid_template_columns": null,
            "flex": null,
            "_model_name": "LayoutModel",
            "justify_items": null,
            "grid_row": null,
            "max_height": null,
            "align_content": null,
            "visibility": null,
            "align_self": null,
            "height": null,
            "min_height": null,
            "padding": null,
            "grid_auto_rows": null,
            "grid_gap": null,
            "max_width": null,
            "order": null,
            "_view_module_version": "1.2.0",
            "grid_template_areas": null,
            "object_position": null,
            "object_fit": null,
            "grid_auto_columns": null,
            "margin": null,
            "display": null,
            "left": null
          }
        },
        "28e8f9e8fce94ab39918c59bc8631180": {
          "model_module": "@jupyter-widgets/controls",
          "model_name": "ProgressStyleModel",
          "state": {
            "_view_name": "StyleView",
            "_model_name": "ProgressStyleModel",
            "description_width": "",
            "_view_module": "@jupyter-widgets/base",
            "_model_module_version": "1.5.0",
            "_view_count": null,
            "_view_module_version": "1.2.0",
            "bar_color": null,
            "_model_module": "@jupyter-widgets/controls"
          }
        },
        "6e018b2bf9fe4389bf847e5c2c07e3c5": {
          "model_module": "@jupyter-widgets/base",
          "model_name": "LayoutModel",
          "state": {
            "_view_name": "LayoutView",
            "grid_template_rows": null,
            "right": null,
            "justify_content": null,
            "_view_module": "@jupyter-widgets/base",
            "overflow": null,
            "_model_module_version": "1.2.0",
            "_view_count": null,
            "flex_flow": null,
            "width": null,
            "min_width": null,
            "border": null,
            "align_items": null,
            "bottom": null,
            "_model_module": "@jupyter-widgets/base",
            "top": null,
            "grid_column": null,
            "overflow_y": null,
            "overflow_x": null,
            "grid_auto_flow": null,
            "grid_area": null,
            "grid_template_columns": null,
            "flex": null,
            "_model_name": "LayoutModel",
            "justify_items": null,
            "grid_row": null,
            "max_height": null,
            "align_content": null,
            "visibility": null,
            "align_self": null,
            "height": null,
            "min_height": null,
            "padding": null,
            "grid_auto_rows": null,
            "grid_gap": null,
            "max_width": null,
            "order": null,
            "_view_module_version": "1.2.0",
            "grid_template_areas": null,
            "object_position": null,
            "object_fit": null,
            "grid_auto_columns": null,
            "margin": null,
            "display": null,
            "left": null
          }
        },
        "8d1e35917578493180d2aaa774c0bea6": {
          "model_module": "@jupyter-widgets/controls",
          "model_name": "VBoxModel",
          "state": {
            "_view_name": "VBoxView",
            "_dom_classes": [],
            "_model_name": "VBoxModel",
            "_view_module": "@jupyter-widgets/controls",
            "_model_module_version": "1.5.0",
            "_view_count": null,
            "_view_module_version": "1.5.0",
            "box_style": "",
            "layout": "IPY_MODEL_70378d43fa6c4cf2b1c7425732326bf6",
            "_model_module": "@jupyter-widgets/controls",
            "children": [
              "IPY_MODEL_f15eb7e34ab744b2adc459aede812236",
              "IPY_MODEL_67e8ea54ae5c44feb96e525f3c47346a"
            ]
          }
        },
        "70378d43fa6c4cf2b1c7425732326bf6": {
          "model_module": "@jupyter-widgets/base",
          "model_name": "LayoutModel",
          "state": {
            "_view_name": "LayoutView",
            "grid_template_rows": null,
            "right": null,
            "justify_content": null,
            "_view_module": "@jupyter-widgets/base",
            "overflow": null,
            "_model_module_version": "1.2.0",
            "_view_count": null,
            "flex_flow": null,
            "width": null,
            "min_width": null,
            "border": null,
            "align_items": null,
            "bottom": null,
            "_model_module": "@jupyter-widgets/base",
            "top": null,
            "grid_column": null,
            "overflow_y": null,
            "overflow_x": null,
            "grid_auto_flow": null,
            "grid_area": null,
            "grid_template_columns": null,
            "flex": null,
            "_model_name": "LayoutModel",
            "justify_items": null,
            "grid_row": null,
            "max_height": null,
            "align_content": null,
            "visibility": null,
            "align_self": null,
            "height": null,
            "min_height": null,
            "padding": null,
            "grid_auto_rows": null,
            "grid_gap": null,
            "max_width": null,
            "order": null,
            "_view_module_version": "1.2.0",
            "grid_template_areas": null,
            "object_position": null,
            "object_fit": null,
            "grid_auto_columns": null,
            "margin": null,
            "display": null,
            "left": null
          }
        },
        "f15eb7e34ab744b2adc459aede812236": {
          "model_module": "@jupyter-widgets/controls",
          "model_name": "LabelModel",
          "state": {
            "_view_name": "LabelView",
            "style": "IPY_MODEL_78b14e2eb5b04d51beea3f696b1d77b3",
            "_dom_classes": [],
            "description": "",
            "_model_name": "LabelModel",
            "placeholder": "​",
            "_view_module": "@jupyter-widgets/controls",
            "_model_module_version": "1.5.0",
            "value": " 0.01MB of 0.01MB uploaded (0.00MB deduped)\r",
            "_view_count": null,
            "_view_module_version": "1.5.0",
            "description_tooltip": null,
            "_model_module": "@jupyter-widgets/controls",
            "layout": "IPY_MODEL_10d549d67f9144afb3330e8a5d17978e"
          }
        },
        "67e8ea54ae5c44feb96e525f3c47346a": {
          "model_module": "@jupyter-widgets/controls",
          "model_name": "FloatProgressModel",
          "state": {
            "_view_name": "ProgressView",
            "style": "IPY_MODEL_ae2b717848c54e9baeae0484b0b8474f",
            "_dom_classes": [],
            "description": "",
            "_model_name": "FloatProgressModel",
            "bar_style": "",
            "max": 1,
            "_view_module": "@jupyter-widgets/controls",
            "_model_module_version": "1.5.0",
            "value": 1,
            "_view_count": null,
            "_view_module_version": "1.5.0",
            "orientation": "horizontal",
            "min": 0,
            "description_tooltip": null,
            "_model_module": "@jupyter-widgets/controls",
            "layout": "IPY_MODEL_48e5ea10af204d829e85cfc366f86786"
          }
        },
        "78b14e2eb5b04d51beea3f696b1d77b3": {
          "model_module": "@jupyter-widgets/controls",
          "model_name": "DescriptionStyleModel",
          "state": {
            "_view_name": "StyleView",
            "_model_name": "DescriptionStyleModel",
            "description_width": "",
            "_view_module": "@jupyter-widgets/base",
            "_model_module_version": "1.5.0",
            "_view_count": null,
            "_view_module_version": "1.2.0",
            "_model_module": "@jupyter-widgets/controls"
          }
        },
        "10d549d67f9144afb3330e8a5d17978e": {
          "model_module": "@jupyter-widgets/base",
          "model_name": "LayoutModel",
          "state": {
            "_view_name": "LayoutView",
            "grid_template_rows": null,
            "right": null,
            "justify_content": null,
            "_view_module": "@jupyter-widgets/base",
            "overflow": null,
            "_model_module_version": "1.2.0",
            "_view_count": null,
            "flex_flow": null,
            "width": null,
            "min_width": null,
            "border": null,
            "align_items": null,
            "bottom": null,
            "_model_module": "@jupyter-widgets/base",
            "top": null,
            "grid_column": null,
            "overflow_y": null,
            "overflow_x": null,
            "grid_auto_flow": null,
            "grid_area": null,
            "grid_template_columns": null,
            "flex": null,
            "_model_name": "LayoutModel",
            "justify_items": null,
            "grid_row": null,
            "max_height": null,
            "align_content": null,
            "visibility": null,
            "align_self": null,
            "height": null,
            "min_height": null,
            "padding": null,
            "grid_auto_rows": null,
            "grid_gap": null,
            "max_width": null,
            "order": null,
            "_view_module_version": "1.2.0",
            "grid_template_areas": null,
            "object_position": null,
            "object_fit": null,
            "grid_auto_columns": null,
            "margin": null,
            "display": null,
            "left": null
          }
        },
        "ae2b717848c54e9baeae0484b0b8474f": {
          "model_module": "@jupyter-widgets/controls",
          "model_name": "ProgressStyleModel",
          "state": {
            "_view_name": "StyleView",
            "_model_name": "ProgressStyleModel",
            "description_width": "",
            "_view_module": "@jupyter-widgets/base",
            "_model_module_version": "1.5.0",
            "_view_count": null,
            "_view_module_version": "1.2.0",
            "bar_color": null,
            "_model_module": "@jupyter-widgets/controls"
          }
        },
        "48e5ea10af204d829e85cfc366f86786": {
          "model_module": "@jupyter-widgets/base",
          "model_name": "LayoutModel",
          "state": {
            "_view_name": "LayoutView",
            "grid_template_rows": null,
            "right": null,
            "justify_content": null,
            "_view_module": "@jupyter-widgets/base",
            "overflow": null,
            "_model_module_version": "1.2.0",
            "_view_count": null,
            "flex_flow": null,
            "width": null,
            "min_width": null,
            "border": null,
            "align_items": null,
            "bottom": null,
            "_model_module": "@jupyter-widgets/base",
            "top": null,
            "grid_column": null,
            "overflow_y": null,
            "overflow_x": null,
            "grid_auto_flow": null,
            "grid_area": null,
            "grid_template_columns": null,
            "flex": null,
            "_model_name": "LayoutModel",
            "justify_items": null,
            "grid_row": null,
            "max_height": null,
            "align_content": null,
            "visibility": null,
            "align_self": null,
            "height": null,
            "min_height": null,
            "padding": null,
            "grid_auto_rows": null,
            "grid_gap": null,
            "max_width": null,
            "order": null,
            "_view_module_version": "1.2.0",
            "grid_template_areas": null,
            "object_position": null,
            "object_fit": null,
            "grid_auto_columns": null,
            "margin": null,
            "display": null,
            "left": null
          }
        }
      }
    }
  },
  "cells": [
    {
      "cell_type": "markdown",
      "metadata": {
        "id": "eb5dcqbE5fdB"
      },
      "source": [
        "In order to classify sentences with LSTM, I am going to use Many-to-one architecture from LSTM modules."
      ]
    },
    {
      "cell_type": "code",
      "metadata": {
        "colab": {
          "base_uri": "https://localhost:8080/"
        },
        "id": "caQRzaXduR3b",
        "outputId": "62499a1d-bd75-4323-ce6e-3c3be4874002"
      },
      "source": [
        "!pip install wandb\n",
        "!wandb login"
      ],
      "execution_count": 1,
      "outputs": [
        {
          "output_type": "stream",
          "text": [
            "Collecting wandb\n",
            "\u001b[?25l  Downloading https://files.pythonhosted.org/packages/e0/b4/9d92953d8cddc8450c859be12e3dbdd4c7754fb8def94c28b3b351c6ee4e/wandb-0.10.32-py2.py3-none-any.whl (1.8MB)\n",
            "\r\u001b[K     |▏                               | 10kB 18.5MB/s eta 0:00:01\r\u001b[K     |▍                               | 20kB 23.1MB/s eta 0:00:01\r\u001b[K     |▌                               | 30kB 22.7MB/s eta 0:00:01\r\u001b[K     |▊                               | 40kB 17.5MB/s eta 0:00:01\r\u001b[K     |█                               | 51kB 9.2MB/s eta 0:00:01\r\u001b[K     |█                               | 61kB 9.2MB/s eta 0:00:01\r\u001b[K     |█▎                              | 71kB 9.6MB/s eta 0:00:01\r\u001b[K     |█▍                              | 81kB 10.6MB/s eta 0:00:01\r\u001b[K     |█▋                              | 92kB 11.0MB/s eta 0:00:01\r\u001b[K     |█▉                              | 102kB 8.8MB/s eta 0:00:01\r\u001b[K     |██                              | 112kB 8.8MB/s eta 0:00:01\r\u001b[K     |██▏                             | 122kB 8.8MB/s eta 0:00:01\r\u001b[K     |██▍                             | 133kB 8.8MB/s eta 0:00:01\r\u001b[K     |██▌                             | 143kB 8.8MB/s eta 0:00:01\r\u001b[K     |██▊                             | 153kB 8.8MB/s eta 0:00:01\r\u001b[K     |██▉                             | 163kB 8.8MB/s eta 0:00:01\r\u001b[K     |███                             | 174kB 8.8MB/s eta 0:00:01\r\u001b[K     |███▎                            | 184kB 8.8MB/s eta 0:00:01\r\u001b[K     |███▍                            | 194kB 8.8MB/s eta 0:00:01\r\u001b[K     |███▋                            | 204kB 8.8MB/s eta 0:00:01\r\u001b[K     |███▊                            | 215kB 8.8MB/s eta 0:00:01\r\u001b[K     |████                            | 225kB 8.8MB/s eta 0:00:01\r\u001b[K     |████▏                           | 235kB 8.8MB/s eta 0:00:01\r\u001b[K     |████▎                           | 245kB 8.8MB/s eta 0:00:01\r\u001b[K     |████▌                           | 256kB 8.8MB/s eta 0:00:01\r\u001b[K     |████▊                           | 266kB 8.8MB/s eta 0:00:01\r\u001b[K     |████▉                           | 276kB 8.8MB/s eta 0:00:01\r\u001b[K     |█████                           | 286kB 8.8MB/s eta 0:00:01\r\u001b[K     |█████▏                          | 296kB 8.8MB/s eta 0:00:01\r\u001b[K     |█████▍                          | 307kB 8.8MB/s eta 0:00:01\r\u001b[K     |█████▋                          | 317kB 8.8MB/s eta 0:00:01\r\u001b[K     |█████▊                          | 327kB 8.8MB/s eta 0:00:01\r\u001b[K     |██████                          | 337kB 8.8MB/s eta 0:00:01\r\u001b[K     |██████                          | 348kB 8.8MB/s eta 0:00:01\r\u001b[K     |██████▎                         | 358kB 8.8MB/s eta 0:00:01\r\u001b[K     |██████▌                         | 368kB 8.8MB/s eta 0:00:01\r\u001b[K     |██████▋                         | 378kB 8.8MB/s eta 0:00:01\r\u001b[K     |██████▉                         | 389kB 8.8MB/s eta 0:00:01\r\u001b[K     |███████                         | 399kB 8.8MB/s eta 0:00:01\r\u001b[K     |███████▏                        | 409kB 8.8MB/s eta 0:00:01\r\u001b[K     |███████▍                        | 419kB 8.8MB/s eta 0:00:01\r\u001b[K     |███████▌                        | 430kB 8.8MB/s eta 0:00:01\r\u001b[K     |███████▊                        | 440kB 8.8MB/s eta 0:00:01\r\u001b[K     |████████                        | 450kB 8.8MB/s eta 0:00:01\r\u001b[K     |████████                        | 460kB 8.8MB/s eta 0:00:01\r\u001b[K     |████████▎                       | 471kB 8.8MB/s eta 0:00:01\r\u001b[K     |████████▍                       | 481kB 8.8MB/s eta 0:00:01\r\u001b[K     |████████▋                       | 491kB 8.8MB/s eta 0:00:01\r\u001b[K     |████████▉                       | 501kB 8.8MB/s eta 0:00:01\r\u001b[K     |█████████                       | 512kB 8.8MB/s eta 0:00:01\r\u001b[K     |█████████▏                      | 522kB 8.8MB/s eta 0:00:01\r\u001b[K     |█████████▍                      | 532kB 8.8MB/s eta 0:00:01\r\u001b[K     |█████████▌                      | 542kB 8.8MB/s eta 0:00:01\r\u001b[K     |█████████▊                      | 552kB 8.8MB/s eta 0:00:01\r\u001b[K     |█████████▉                      | 563kB 8.8MB/s eta 0:00:01\r\u001b[K     |██████████                      | 573kB 8.8MB/s eta 0:00:01\r\u001b[K     |██████████▎                     | 583kB 8.8MB/s eta 0:00:01\r\u001b[K     |██████████▍                     | 593kB 8.8MB/s eta 0:00:01\r\u001b[K     |██████████▋                     | 604kB 8.8MB/s eta 0:00:01\r\u001b[K     |██████████▉                     | 614kB 8.8MB/s eta 0:00:01\r\u001b[K     |███████████                     | 624kB 8.8MB/s eta 0:00:01\r\u001b[K     |███████████▏                    | 634kB 8.8MB/s eta 0:00:01\r\u001b[K     |███████████▎                    | 645kB 8.8MB/s eta 0:00:01\r\u001b[K     |███████████▌                    | 655kB 8.8MB/s eta 0:00:01\r\u001b[K     |███████████▊                    | 665kB 8.8MB/s eta 0:00:01\r\u001b[K     |███████████▉                    | 675kB 8.8MB/s eta 0:00:01\r\u001b[K     |████████████                    | 686kB 8.8MB/s eta 0:00:01\r\u001b[K     |████████████▏                   | 696kB 8.8MB/s eta 0:00:01\r\u001b[K     |████████████▍                   | 706kB 8.8MB/s eta 0:00:01\r\u001b[K     |████████████▋                   | 716kB 8.8MB/s eta 0:00:01\r\u001b[K     |████████████▊                   | 727kB 8.8MB/s eta 0:00:01\r\u001b[K     |█████████████                   | 737kB 8.8MB/s eta 0:00:01\r\u001b[K     |█████████████▏                  | 747kB 8.8MB/s eta 0:00:01\r\u001b[K     |█████████████▎                  | 757kB 8.8MB/s eta 0:00:01\r\u001b[K     |█████████████▌                  | 768kB 8.8MB/s eta 0:00:01\r\u001b[K     |█████████████▋                  | 778kB 8.8MB/s eta 0:00:01\r\u001b[K     |█████████████▉                  | 788kB 8.8MB/s eta 0:00:01\r\u001b[K     |██████████████                  | 798kB 8.8MB/s eta 0:00:01\r\u001b[K     |██████████████▏                 | 808kB 8.8MB/s eta 0:00:01\r\u001b[K     |██████████████▍                 | 819kB 8.8MB/s eta 0:00:01\r\u001b[K     |██████████████▌                 | 829kB 8.8MB/s eta 0:00:01\r\u001b[K     |██████████████▊                 | 839kB 8.8MB/s eta 0:00:01\r\u001b[K     |███████████████                 | 849kB 8.8MB/s eta 0:00:01\r\u001b[K     |███████████████                 | 860kB 8.8MB/s eta 0:00:01\r\u001b[K     |███████████████▎                | 870kB 8.8MB/s eta 0:00:01\r\u001b[K     |███████████████▌                | 880kB 8.8MB/s eta 0:00:01\r\u001b[K     |███████████████▋                | 890kB 8.8MB/s eta 0:00:01\r\u001b[K     |███████████████▉                | 901kB 8.8MB/s eta 0:00:01\r\u001b[K     |████████████████                | 911kB 8.8MB/s eta 0:00:01\r\u001b[K     |████████████████▏               | 921kB 8.8MB/s eta 0:00:01\r\u001b[K     |████████████████▍               | 931kB 8.8MB/s eta 0:00:01\r\u001b[K     |████████████████▌               | 942kB 8.8MB/s eta 0:00:01\r\u001b[K     |████████████████▊               | 952kB 8.8MB/s eta 0:00:01\r\u001b[K     |████████████████▉               | 962kB 8.8MB/s eta 0:00:01\r\u001b[K     |█████████████████               | 972kB 8.8MB/s eta 0:00:01\r\u001b[K     |█████████████████▎              | 983kB 8.8MB/s eta 0:00:01\r\u001b[K     |█████████████████▍              | 993kB 8.8MB/s eta 0:00:01\r\u001b[K     |█████████████████▋              | 1.0MB 8.8MB/s eta 0:00:01\r\u001b[K     |█████████████████▉              | 1.0MB 8.8MB/s eta 0:00:01\r\u001b[K     |██████████████████              | 1.0MB 8.8MB/s eta 0:00:01\r\u001b[K     |██████████████████▏             | 1.0MB 8.8MB/s eta 0:00:01\r\u001b[K     |██████████████████▎             | 1.0MB 8.8MB/s eta 0:00:01\r\u001b[K     |██████████████████▌             | 1.1MB 8.8MB/s eta 0:00:01\r\u001b[K     |██████████████████▊             | 1.1MB 8.8MB/s eta 0:00:01\r\u001b[K     |██████████████████▉             | 1.1MB 8.8MB/s eta 0:00:01\r\u001b[K     |███████████████████             | 1.1MB 8.8MB/s eta 0:00:01\r\u001b[K     |███████████████████▏            | 1.1MB 8.8MB/s eta 0:00:01\r\u001b[K     |███████████████████▍            | 1.1MB 8.8MB/s eta 0:00:01\r\u001b[K     |███████████████████▋            | 1.1MB 8.8MB/s eta 0:00:01\r\u001b[K     |███████████████████▊            | 1.1MB 8.8MB/s eta 0:00:01\r\u001b[K     |████████████████████            | 1.1MB 8.8MB/s eta 0:00:01\r\u001b[K     |████████████████████▏           | 1.1MB 8.8MB/s eta 0:00:01\r\u001b[K     |████████████████████▎           | 1.2MB 8.8MB/s eta 0:00:01\r\u001b[K     |████████████████████▌           | 1.2MB 8.8MB/s eta 0:00:01\r\u001b[K     |████████████████████▋           | 1.2MB 8.8MB/s eta 0:00:01\r\u001b[K     |████████████████████▉           | 1.2MB 8.8MB/s eta 0:00:01\r\u001b[K     |█████████████████████           | 1.2MB 8.8MB/s eta 0:00:01\r\u001b[K     |█████████████████████▏          | 1.2MB 8.8MB/s eta 0:00:01\r\u001b[K     |█████████████████████▍          | 1.2MB 8.8MB/s eta 0:00:01\r\u001b[K     |█████████████████████▋          | 1.2MB 8.8MB/s eta 0:00:01\r\u001b[K     |█████████████████████▊          | 1.2MB 8.8MB/s eta 0:00:01\r\u001b[K     |██████████████████████          | 1.2MB 8.8MB/s eta 0:00:01\r\u001b[K     |██████████████████████          | 1.3MB 8.8MB/s eta 0:00:01\r\u001b[K     |██████████████████████▎         | 1.3MB 8.8MB/s eta 0:00:01\r\u001b[K     |██████████████████████▌         | 1.3MB 8.8MB/s eta 0:00:01\r\u001b[K     |██████████████████████▋         | 1.3MB 8.8MB/s eta 0:00:01\r\u001b[K     |██████████████████████▉         | 1.3MB 8.8MB/s eta 0:00:01\r\u001b[K     |███████████████████████         | 1.3MB 8.8MB/s eta 0:00:01\r\u001b[K     |███████████████████████▏        | 1.3MB 8.8MB/s eta 0:00:01\r\u001b[K     |███████████████████████▍        | 1.3MB 8.8MB/s eta 0:00:01\r\u001b[K     |███████████████████████▌        | 1.3MB 8.8MB/s eta 0:00:01\r\u001b[K     |███████████████████████▊        | 1.4MB 8.8MB/s eta 0:00:01\r\u001b[K     |████████████████████████        | 1.4MB 8.8MB/s eta 0:00:01\r\u001b[K     |████████████████████████        | 1.4MB 8.8MB/s eta 0:00:01\r\u001b[K     |████████████████████████▎       | 1.4MB 8.8MB/s eta 0:00:01\r\u001b[K     |████████████████████████▍       | 1.4MB 8.8MB/s eta 0:00:01\r\u001b[K     |████████████████████████▋       | 1.4MB 8.8MB/s eta 0:00:01\r\u001b[K     |████████████████████████▉       | 1.4MB 8.8MB/s eta 0:00:01\r\u001b[K     |█████████████████████████       | 1.4MB 8.8MB/s eta 0:00:01\r\u001b[K     |█████████████████████████▏      | 1.4MB 8.8MB/s eta 0:00:01\r\u001b[K     |█████████████████████████▎      | 1.4MB 8.8MB/s eta 0:00:01\r\u001b[K     |█████████████████████████▌      | 1.5MB 8.8MB/s eta 0:00:01\r\u001b[K     |█████████████████████████▊      | 1.5MB 8.8MB/s eta 0:00:01\r\u001b[K     |█████████████████████████▉      | 1.5MB 8.8MB/s eta 0:00:01\r\u001b[K     |██████████████████████████      | 1.5MB 8.8MB/s eta 0:00:01\r\u001b[K     |██████████████████████████▎     | 1.5MB 8.8MB/s eta 0:00:01\r\u001b[K     |██████████████████████████▍     | 1.5MB 8.8MB/s eta 0:00:01\r\u001b[K     |██████████████████████████▋     | 1.5MB 8.8MB/s eta 0:00:01\r\u001b[K     |██████████████████████████▊     | 1.5MB 8.8MB/s eta 0:00:01\r\u001b[K     |███████████████████████████     | 1.5MB 8.8MB/s eta 0:00:01\r\u001b[K     |███████████████████████████▏    | 1.5MB 8.8MB/s eta 0:00:01\r\u001b[K     |███████████████████████████▎    | 1.6MB 8.8MB/s eta 0:00:01\r\u001b[K     |███████████████████████████▌    | 1.6MB 8.8MB/s eta 0:00:01\r\u001b[K     |███████████████████████████▋    | 1.6MB 8.8MB/s eta 0:00:01\r\u001b[K     |███████████████████████████▉    | 1.6MB 8.8MB/s eta 0:00:01\r\u001b[K     |████████████████████████████    | 1.6MB 8.8MB/s eta 0:00:01\r\u001b[K     |████████████████████████████▏   | 1.6MB 8.8MB/s eta 0:00:01\r\u001b[K     |████████████████████████████▍   | 1.6MB 8.8MB/s eta 0:00:01\r\u001b[K     |████████████████████████████▋   | 1.6MB 8.8MB/s eta 0:00:01\r\u001b[K     |████████████████████████████▊   | 1.6MB 8.8MB/s eta 0:00:01\r\u001b[K     |█████████████████████████████   | 1.6MB 8.8MB/s eta 0:00:01\r\u001b[K     |█████████████████████████████   | 1.7MB 8.8MB/s eta 0:00:01\r\u001b[K     |█████████████████████████████▎  | 1.7MB 8.8MB/s eta 0:00:01\r\u001b[K     |█████████████████████████████▌  | 1.7MB 8.8MB/s eta 0:00:01\r\u001b[K     |█████████████████████████████▋  | 1.7MB 8.8MB/s eta 0:00:01\r\u001b[K     |█████████████████████████████▉  | 1.7MB 8.8MB/s eta 0:00:01\r\u001b[K     |██████████████████████████████  | 1.7MB 8.8MB/s eta 0:00:01\r\u001b[K     |██████████████████████████████▏ | 1.7MB 8.8MB/s eta 0:00:01\r\u001b[K     |██████████████████████████████▍ | 1.7MB 8.8MB/s eta 0:00:01\r\u001b[K     |██████████████████████████████▌ | 1.7MB 8.8MB/s eta 0:00:01\r\u001b[K     |██████████████████████████████▊ | 1.8MB 8.8MB/s eta 0:00:01\r\u001b[K     |███████████████████████████████ | 1.8MB 8.8MB/s eta 0:00:01\r\u001b[K     |███████████████████████████████ | 1.8MB 8.8MB/s eta 0:00:01\r\u001b[K     |███████████████████████████████▎| 1.8MB 8.8MB/s eta 0:00:01\r\u001b[K     |███████████████████████████████▍| 1.8MB 8.8MB/s eta 0:00:01\r\u001b[K     |███████████████████████████████▋| 1.8MB 8.8MB/s eta 0:00:01\r\u001b[K     |███████████████████████████████▉| 1.8MB 8.8MB/s eta 0:00:01\r\u001b[K     |████████████████████████████████| 1.8MB 8.8MB/s eta 0:00:01\r\u001b[K     |████████████████████████████████| 1.8MB 8.8MB/s \n",
            "\u001b[?25hRequirement already satisfied: protobuf>=3.12.0 in /usr/local/lib/python3.7/dist-packages (from wandb) (3.12.4)\n",
            "Collecting shortuuid>=0.5.0\n",
            "  Downloading https://files.pythonhosted.org/packages/25/a6/2ecc1daa6a304e7f1b216f0896b26156b78e7c38e1211e9b798b4716c53d/shortuuid-1.0.1-py3-none-any.whl\n",
            "Requirement already satisfied: requests<3,>=2.0.0 in /usr/local/lib/python3.7/dist-packages (from wandb) (2.23.0)\n",
            "Collecting configparser>=3.8.1\n",
            "  Downloading https://files.pythonhosted.org/packages/fd/01/ff260a18caaf4457eb028c96eeb405c4a230ca06c8ec9c1379f813caa52e/configparser-5.0.2-py3-none-any.whl\n",
            "Requirement already satisfied: python-dateutil>=2.6.1 in /usr/local/lib/python3.7/dist-packages (from wandb) (2.8.1)\n",
            "Collecting subprocess32>=3.5.3\n",
            "\u001b[?25l  Downloading https://files.pythonhosted.org/packages/32/c8/564be4d12629b912ea431f1a50eb8b3b9d00f1a0b1ceff17f266be190007/subprocess32-3.5.4.tar.gz (97kB)\n",
            "\u001b[K     |████████████████████████████████| 102kB 12.6MB/s \n",
            "\u001b[?25hCollecting pathtools\n",
            "  Downloading https://files.pythonhosted.org/packages/e7/7f/470d6fcdf23f9f3518f6b0b76be9df16dcc8630ad409947f8be2eb0ed13a/pathtools-0.1.2.tar.gz\n",
            "Requirement already satisfied: promise<3,>=2.0 in /usr/local/lib/python3.7/dist-packages (from wandb) (2.3)\n",
            "Collecting sentry-sdk>=0.4.0\n",
            "\u001b[?25l  Downloading https://files.pythonhosted.org/packages/1c/4a/a54b254f67d8f4052338d54ebe90126f200693440a93ef76d254d581e3ec/sentry_sdk-1.1.0-py2.py3-none-any.whl (131kB)\n",
            "\u001b[K     |████████████████████████████████| 133kB 51.7MB/s \n",
            "\u001b[?25hRequirement already satisfied: psutil>=5.0.0 in /usr/local/lib/python3.7/dist-packages (from wandb) (5.4.8)\n",
            "Requirement already satisfied: Click!=8.0.0,>=7.0 in /usr/local/lib/python3.7/dist-packages (from wandb) (7.1.2)\n",
            "Requirement already satisfied: six>=1.13.0 in /usr/local/lib/python3.7/dist-packages (from wandb) (1.15.0)\n",
            "Requirement already satisfied: PyYAML in /usr/local/lib/python3.7/dist-packages (from wandb) (3.13)\n",
            "Collecting GitPython>=1.0.0\n",
            "\u001b[?25l  Downloading https://files.pythonhosted.org/packages/27/da/6f6224fdfc47dab57881fe20c0d1bc3122be290198ba0bf26a953a045d92/GitPython-3.1.17-py3-none-any.whl (166kB)\n",
            "\u001b[K     |████████████████████████████████| 174kB 55.1MB/s \n",
            "\u001b[?25hCollecting docker-pycreds>=0.4.0\n",
            "  Downloading https://files.pythonhosted.org/packages/f5/e8/f6bd1eee09314e7e6dee49cbe2c5e22314ccdb38db16c9fc72d2fa80d054/docker_pycreds-0.4.0-py2.py3-none-any.whl\n",
            "Requirement already satisfied: setuptools in /usr/local/lib/python3.7/dist-packages (from protobuf>=3.12.0->wandb) (57.0.0)\n",
            "Requirement already satisfied: chardet<4,>=3.0.2 in /usr/local/lib/python3.7/dist-packages (from requests<3,>=2.0.0->wandb) (3.0.4)\n",
            "Requirement already satisfied: certifi>=2017.4.17 in /usr/local/lib/python3.7/dist-packages (from requests<3,>=2.0.0->wandb) (2020.12.5)\n",
            "Requirement already satisfied: idna<3,>=2.5 in /usr/local/lib/python3.7/dist-packages (from requests<3,>=2.0.0->wandb) (2.10)\n",
            "Requirement already satisfied: urllib3!=1.25.0,!=1.25.1,<1.26,>=1.21.1 in /usr/local/lib/python3.7/dist-packages (from requests<3,>=2.0.0->wandb) (1.24.3)\n",
            "Collecting gitdb<5,>=4.0.1\n",
            "\u001b[?25l  Downloading https://files.pythonhosted.org/packages/ea/e8/f414d1a4f0bbc668ed441f74f44c116d9816833a48bf81d22b697090dba8/gitdb-4.0.7-py3-none-any.whl (63kB)\n",
            "\u001b[K     |████████████████████████████████| 71kB 11.1MB/s \n",
            "\u001b[?25hRequirement already satisfied: typing-extensions>=3.7.4.0; python_version < \"3.8\" in /usr/local/lib/python3.7/dist-packages (from GitPython>=1.0.0->wandb) (3.7.4.3)\n",
            "Collecting smmap<5,>=3.0.1\n",
            "  Downloading https://files.pythonhosted.org/packages/68/ee/d540eb5e5996eb81c26ceffac6ee49041d473bc5125f2aa995cf51ec1cf1/smmap-4.0.0-py2.py3-none-any.whl\n",
            "Building wheels for collected packages: subprocess32, pathtools\n",
            "  Building wheel for subprocess32 (setup.py) ... \u001b[?25l\u001b[?25hdone\n",
            "  Created wheel for subprocess32: filename=subprocess32-3.5.4-cp37-none-any.whl size=6502 sha256=674d1970438958b8f44773e1cac36c1d133cc352056705e5bd80f936da157a85\n",
            "  Stored in directory: /root/.cache/pip/wheels/68/39/1a/5e402bdfdf004af1786c8b853fd92f8c4a04f22aad179654d1\n",
            "  Building wheel for pathtools (setup.py) ... \u001b[?25l\u001b[?25hdone\n",
            "  Created wheel for pathtools: filename=pathtools-0.1.2-cp37-none-any.whl size=8807 sha256=f1a60762f607b5d52bb50c130f100650c16fd012f361b7adc41bec3c5fe59cea\n",
            "  Stored in directory: /root/.cache/pip/wheels/0b/04/79/c3b0c3a0266a3cb4376da31e5bfe8bba0c489246968a68e843\n",
            "Successfully built subprocess32 pathtools\n",
            "Installing collected packages: shortuuid, configparser, subprocess32, pathtools, sentry-sdk, smmap, gitdb, GitPython, docker-pycreds, wandb\n",
            "Successfully installed GitPython-3.1.17 configparser-5.0.2 docker-pycreds-0.4.0 gitdb-4.0.7 pathtools-0.1.2 sentry-sdk-1.1.0 shortuuid-1.0.1 smmap-4.0.0 subprocess32-3.5.4 wandb-0.10.32\n",
            "\u001b[34m\u001b[1mwandb\u001b[0m: You can find your API key in your browser here: https://wandb.ai/authorize\n",
            "\u001b[34m\u001b[1mwandb\u001b[0m: Paste an API key from your profile and hit enter: \n",
            "\u001b[34m\u001b[1mwandb\u001b[0m: Appending key for api.wandb.ai to your netrc file: /root/.netrc\n"
          ],
          "name": "stdout"
        }
      ]
    },
    {
      "cell_type": "code",
      "metadata": {
        "id": "b7D-GhrkW0oe"
      },
      "source": [
        "CUDA_LAUNCH_BLOCKING=1"
      ],
      "execution_count": 2,
      "outputs": []
    },
    {
      "cell_type": "code",
      "metadata": {
        "colab": {
          "base_uri": "https://localhost:8080/"
        },
        "id": "RrFhhaXPI_E3",
        "outputId": "849fcd12-5752-47bc-95cb-83a9d32d04cb"
      },
      "source": [
        "import torch\n",
        "import torch.nn as nn\n",
        "import torch.nn.functional as F\n",
        "from torchtext.legacy import data,datasets\n",
        "import torchtext.legacy\n",
        "import torch.optim as optim\n",
        "import wandb\n",
        "import time\n",
        "\n",
        "import nltk\n",
        "from nltk.corpus import stopwords\n",
        "nltk.download('stopwords')"
      ],
      "execution_count": 3,
      "outputs": [
        {
          "output_type": "stream",
          "text": [
            "[nltk_data] Downloading package stopwords to /root/nltk_data...\n",
            "[nltk_data]   Unzipping corpora/stopwords.zip.\n"
          ],
          "name": "stdout"
        },
        {
          "output_type": "execute_result",
          "data": {
            "text/plain": [
              "True"
            ]
          },
          "metadata": {
            "tags": []
          },
          "execution_count": 3
        }
      ]
    },
    {
      "cell_type": "markdown",
      "metadata": {
        "id": "RKGdIGJOuU68"
      },
      "source": [
        "# Parameters for Wandb"
      ]
    },
    {
      "cell_type": "code",
      "metadata": {
        "id": "EOAGGeczuUXj"
      },
      "source": [
        "sweep_config = {\n",
        "    'method': 'grid', #grid, random\n",
        "    'metric': {\n",
        "      'name': 'loss',\n",
        "      'goal': 'minimize'   \n",
        "    },\n",
        "    'parameters': {\n",
        "        'epochs': {\n",
        "            'values': [5,10]\n",
        "        },\n",
        "        'batch_size': {\n",
        "            'values': [128, 64]\n",
        "        },\n",
        "        'learning_rate': {\n",
        "            'values': [1e-2, 1e-3]\n",
        "        }\n",
        "    }\n",
        "}"
      ],
      "execution_count": 4,
      "outputs": []
    },
    {
      "cell_type": "code",
      "metadata": {
        "colab": {
          "base_uri": "https://localhost:8080/"
        },
        "id": "hl4Vnr-huYtb",
        "outputId": "ff7b7a8c-2f61-4c12-afd4-a1f09982bf54"
      },
      "source": [
        "sweep_id = wandb.sweep(sweep_config, project=\"e216642_Assigment_WnB_BiLSTM\")"
      ],
      "execution_count": 5,
      "outputs": [
        {
          "output_type": "stream",
          "text": [
            "Create sweep with ID: cp2lxidp\n",
            "Sweep URL: https://wandb.ai/icgencel/e216642_Assigment_WnB_BiLSTM/sweeps/cp2lxidp\n"
          ],
          "name": "stdout"
        }
      ]
    },
    {
      "cell_type": "markdown",
      "metadata": {
        "id": "JcaeUHa4hQXK"
      },
      "source": [
        "Definition of Tokenizer"
      ]
    },
    {
      "cell_type": "code",
      "metadata": {
        "id": "HRLyoGMsKR9Q"
      },
      "source": [
        "def tokenizer(text):\n",
        "  text = text.split(\" \")\n",
        "  return text"
      ],
      "execution_count": 6,
      "outputs": []
    },
    {
      "cell_type": "markdown",
      "metadata": {
        "id": "Am68EjayhSRz"
      },
      "source": [
        "TEXT and LABEL creation"
      ]
    },
    {
      "cell_type": "code",
      "metadata": {
        "id": "sZi9IZPcJQY5"
      },
      "source": [
        "# In this part, basic tokenizer ais used and stop words are removed.\n",
        "TEXT = data.Field(tokenize = tokenizer, batch_first= True, stop_words=stopwords.words('english'))\n",
        "LABEL = data.LabelField(dtype = torch.float)"
      ],
      "execution_count": 7,
      "outputs": []
    },
    {
      "cell_type": "markdown",
      "metadata": {
        "id": "UufwokvEhUth"
      },
      "source": [
        "data is splitted to test and train sets"
      ]
    },
    {
      "cell_type": "code",
      "metadata": {
        "id": "shqIXFJZKuQ9",
        "colab": {
          "base_uri": "https://localhost:8080/"
        },
        "outputId": "81024054-fc58-4209-8353-ddced53282f7"
      },
      "source": [
        "train_data, test_data = datasets.IMDB.splits(TEXT, LABEL)"
      ],
      "execution_count": 8,
      "outputs": [
        {
          "output_type": "stream",
          "text": [
            "\raclImdb_v1.tar.gz:   0%|          | 0.00/84.1M [00:00<?, ?B/s]"
          ],
          "name": "stderr"
        },
        {
          "output_type": "stream",
          "text": [
            "downloading aclImdb_v1.tar.gz\n"
          ],
          "name": "stdout"
        },
        {
          "output_type": "stream",
          "text": [
            "aclImdb_v1.tar.gz: 100%|██████████| 84.1M/84.1M [00:01<00:00, 76.6MB/s]\n"
          ],
          "name": "stderr"
        }
      ]
    },
    {
      "cell_type": "markdown",
      "metadata": {
        "id": "yIPBtTvohY1Z"
      },
      "source": [
        "Maximum and average sentence lengths are found"
      ]
    },
    {
      "cell_type": "code",
      "metadata": {
        "colab": {
          "base_uri": "https://localhost:8080/"
        },
        "id": "iOmLtoHtQDQf",
        "outputId": "ab8d0718-f7a6-4f79-eea2-8c88d80711f5"
      },
      "source": [
        "max_size=0  ## this part of the code find maximum length of the network\n",
        "count=0\n",
        "sum= 0\n",
        "for i in  range(len(train_data)):\n",
        "  if max_size < len(train_data[i].text):\n",
        "    max_size =len(train_data[i].text)\n",
        "    print(max_size)\n",
        "  count +=1\n",
        "  sum +=len(train_data[i].text)\n",
        "print(\"average: \", sum/count)"
      ],
      "execution_count": 9,
      "outputs": [
        {
          "output_type": "stream",
          "text": [
            "202\n",
            "211\n",
            "272\n",
            "288\n",
            "299\n",
            "428\n",
            "477\n",
            "522\n",
            "592\n",
            "642\n",
            "1001\n",
            "1035\n",
            "1532\n",
            "average:  137.90252\n"
          ],
          "name": "stdout"
        }
      ]
    },
    {
      "cell_type": "markdown",
      "metadata": {
        "id": "8gJpgbv3oS8N"
      },
      "source": [
        "#Splitting data as train,valid, test data"
      ]
    },
    {
      "cell_type": "code",
      "metadata": {
        "id": "WGPTO_6UQFfb"
      },
      "source": [
        "TEXT = torchtext.legacy.data.Field(tokenize=tokenizer, batch_first=True,fix_length= 137 # it is filled with average size \n",
        "                            , stop_words=stopwords.words('english')) # preprocessing parameters can be used to add aditional  preprocessing steps\n",
        "LABEL = torchtext.legacy.data.LabelField(dtype = torch.float)\n",
        "train_data, test_data = torchtext.legacy.datasets.IMDB.splits(TEXT, LABEL) \n",
        "test_data, valid_data = test_data.split()"
      ],
      "execution_count": 10,
      "outputs": []
    },
    {
      "cell_type": "markdown",
      "metadata": {
        "id": "H-W-_-tyLLsN"
      },
      "source": [
        "The following cell is taken from Lab5"
      ]
    },
    {
      "cell_type": "code",
      "metadata": {
        "id": "MztOTfpXK1Qy",
        "colab": {
          "base_uri": "https://localhost:8080/"
        },
        "outputId": "7328d579-fa04-40bc-ad61-7e2eaeb03146"
      },
      "source": [
        "# Build vocabularies\n",
        "TEXT.build_vocab(train_data, \n",
        "                 max_size = 30000, # Select only the most important 30000 words\n",
        "                 # Load pretrained embeddings\n",
        "                 vectors = \"glove.6B.100d\", \n",
        "                 # Set unknown vectors\n",
        "                 unk_init = torch.Tensor.normal_)\n",
        "\n",
        "LABEL.build_vocab(train_data)"
      ],
      "execution_count": 11,
      "outputs": [
        {
          "output_type": "stream",
          "text": [
            ".vector_cache/glove.6B.zip: 862MB [02:39, 5.40MB/s]                           \n",
            "100%|█████████▉| 398787/400000 [00:13<00:00, 27749.23it/s]"
          ],
          "name": "stderr"
        }
      ]
    },
    {
      "cell_type": "code",
      "metadata": {
        "id": "F_pzo0qF1AYk"
      },
      "source": [
        "device = torch.device('cuda' if torch.cuda.is_available() else 'cpu')"
      ],
      "execution_count": 12,
      "outputs": []
    },
    {
      "cell_type": "markdown",
      "metadata": {
        "id": "FuWPZbLRoZ6-"
      },
      "source": [
        "# Creating Iterators"
      ]
    },
    {
      "cell_type": "code",
      "metadata": {
        "id": "cNXcBSozBPJf"
      },
      "source": [
        "input_dim = len(TEXT.vocab)\n",
        "embedding_dim = 100 # in order to create a emb vector with dimension 100\n",
        "pad_idx = TEXT.vocab.stoi[TEXT.pad_token]\n",
        "unk_idx = TEXT.vocab.stoi[TEXT.unk_token]"
      ],
      "execution_count": 13,
      "outputs": []
    },
    {
      "cell_type": "markdown",
      "metadata": {
        "id": "u2JrCgpfod4y"
      },
      "source": [
        "# LSTM Network"
      ]
    },
    {
      "cell_type": "code",
      "metadata": {
        "id": "et5352XzMn6Y"
      },
      "source": [
        "# In this part, 1-layer LSTM network is created. Before LSTM, embedding layer is used\n",
        "# with dimension 100. At the output of LSTM, there is a dropout layer with prob 0.5\n",
        "# Finally there is a linear layer, at the output\n",
        "\n",
        "class LSTMNetwork(nn.Module):\n",
        "\n",
        "  def __init__(self,input_dim,embedding_dim,pad_idx):\n",
        "    super().__init__()\n",
        "    self.embedding = nn.Embedding(input_dim, embedding_dim, padding_idx = pad_idx)\n",
        "    self.lstm = nn.LSTM(input_size =embedding_dim, hidden_size= 100, batch_first = True, bidirectional = True)\n",
        "    self.dropout = nn.Dropout(0.5)\n",
        "    self.linear = nn.Linear(100,1)\n",
        "\n",
        "  def forward(self,input_ids):\n",
        "        x = self.embedding(input_ids)\n",
        "        lstm_out, (ht, ct) = self.lstm(x)\n",
        "        ht = self.dropout(ht)\n",
        "        out = self.linear(ht[-1])\n",
        "        return out "
      ],
      "execution_count": 14,
      "outputs": []
    },
    {
      "cell_type": "markdown",
      "metadata": {
        "id": "ov0LulOZogLK"
      },
      "source": [
        "# Optimizer and Loss function"
      ]
    },
    {
      "cell_type": "code",
      "metadata": {
        "id": "6tf1_mth9iHE"
      },
      "source": [
        "\n",
        "# Helper functions\n",
        "def accuracy(preds, y):\n",
        "    \"\"\" Return accuracy per batch. \"\"\"\n",
        "    correct = (torch.round(torch.sigmoid(preds)) == y).float() \n",
        "    return correct.sum() / len(correct)\n",
        "\n",
        "def epoch_time(start_time, end_time):\n",
        "    '''Track training time. '''\n",
        "    elapsed_time = end_time - start_time\n",
        "    elapsed_mins = int(elapsed_time / 60)\n",
        "    elapsed_secs = int(elapsed_time - (elapsed_mins * 60))\n",
        "    return elapsed_mins, elapsed_secs\n",
        "  \n",
        "def train(model, iterator, optimizer, criterion):\n",
        "    '''Train the model with specified data, optimizer, and loss function. '''\n",
        "    epoch_loss = 0\n",
        "    epoch_acc = 0\n",
        "    \n",
        "    model.train()\n",
        "    \n",
        "    for batch in iterator:\n",
        "        \n",
        "        # Reset the gradient to not use them in multiple passes \n",
        "        optimizer.zero_grad()\n",
        "        predictions = model(batch.text).squeeze(1)\n",
        "        \n",
        "        loss = criterion(predictions, batch.label)\n",
        "        \n",
        "        acc = accuracy(predictions, batch.label)\n",
        "        \n",
        "        # Backprop\n",
        "        loss.backward()\n",
        "        \n",
        "        # Optimize the weights\n",
        "        optimizer.step()\n",
        "        \n",
        "        # Record accuracy and loss\n",
        "        epoch_loss += loss.item()\n",
        "        epoch_acc += acc.item()\n",
        "        \n",
        "    return epoch_loss / len(iterator), epoch_acc / len(iterator)\n",
        "\n",
        "\n",
        "def evaluate(model, iterator, criterion):\n",
        "    '''Evaluate model performance. '''\n",
        "    epoch_loss = 0\n",
        "    epoch_acc = 0\n",
        "    \n",
        "    # Turm off dropout while evaluating\n",
        "    model.eval()\n",
        "    \n",
        "    # No need to backprop in eval\n",
        "    with torch.no_grad():\n",
        "    \n",
        "        for batch in iterator:\n",
        "\n",
        "            predictions = model(batch.text).squeeze(1)\n",
        "            loss = criterion(predictions, batch.label)\n",
        "            \n",
        "            acc = accuracy(predictions, batch.label)\n",
        "\n",
        "            epoch_loss += loss.item()\n",
        "            epoch_acc += acc.item()\n",
        "        \n",
        "    return epoch_loss / len(iterator), epoch_acc / len(iterator)"
      ],
      "execution_count": 15,
      "outputs": []
    },
    {
      "cell_type": "markdown",
      "metadata": {
        "id": "YyHEys5kwmA9"
      },
      "source": [
        "# Wandb Part"
      ]
    },
    {
      "cell_type": "markdown",
      "metadata": {
        "id": "PtkEblj7tNZ0"
      },
      "source": [
        "Wandb function is added in this function, which parameters will be used in grid search are indicated. There is also some functions inside wandb function which are taken from IS784 - Lab5"
      ]
    },
    {
      "cell_type": "code",
      "metadata": {
        "id": "mDRIhvt-Dk4r"
      },
      "source": [
        "device = torch.device('cuda' if torch.cuda.is_available() else 'cpu')\n",
        "def Wandbfunc():\n",
        "\n",
        "  TEXT = torchtext.legacy.data.Field(tokenize=tokenizer, batch_first=True,fix_length= 137 # it is filled with average size \n",
        "                            , stop_words=stopwords.words('english')) # preprocessing parameters can be used to add aditional  preprocessing steps\n",
        "  LABEL = torchtext.legacy.data.LabelField(dtype = torch.float)\n",
        "  train_data, test_data = torchtext.legacy.datasets.IMDB.splits(TEXT, LABEL) \n",
        "  test_data, valid_data = test_data.split()\n",
        "  TEXT.build_vocab(train_data, \n",
        "                  max_size = 30000, # Select only the most important 30000 words\n",
        "                  # Load pretrained embeddings\n",
        "                  vectors = \"glove.6B.100d\", \n",
        "                  # Set unknown vectors\n",
        "                  unk_init = torch.Tensor.normal_)\n",
        "\n",
        "  LABEL.build_vocab(train_data)\n",
        "\n",
        "  input_dim = len(TEXT.vocab)\n",
        "  embedding_dim = 100 # in order to create a emb vector with dimension 100\n",
        "  pad_idx = TEXT.vocab.stoi[TEXT.pad_token]\n",
        "  unk_idx = TEXT.vocab.stoi[TEXT.unk_token]\n",
        "  \n",
        "  config_defaults = {\n",
        "        'epochs': 1,\n",
        "        'batch_size': 32,\n",
        "        'learning_rate': 1e-3,\n",
        "    }\n",
        "\n",
        "  wandb.init(config=config_defaults)\n",
        "  \n",
        "  config = wandb.config\n",
        "  \n",
        "    # Model is created and weigths are copied \n",
        "  # Finally model is transferred to GPU\n",
        "  model = LSTMNetwork(input_dim, embedding_dim, pad_idx)\n",
        "  model.embedding.weight.data.copy_(TEXT.vocab.vectors)\n",
        "\n",
        "  model.embedding.weight.data[unk_idx] = torch.zeros(embedding_dim)\n",
        "  model.embedding.weight.data[pad_idx] = torch.zeros(embedding_dim)\n",
        "  model = model.to(device)\n",
        "  \n",
        "  # iterator\n",
        "  train_iterator, valid_iterator, test_iterator = data.BucketIterator.splits(\n",
        "      (train_data, valid_data, test_data), \n",
        "      batch_size = config.batch_size, \n",
        "      device = device)\n",
        "  # optim_loss\n",
        "  optimizer = optim.Adam(model.parameters(), lr = config.learning_rate)\n",
        "  criterion = nn.BCEWithLogitsLoss()\n",
        "  model = model.to(device)\n",
        "  criterion = criterion.to(device)\n",
        "\n",
        "\n",
        "\n",
        "  # Training loop\n",
        "  N_EPOCHS = config.epochs\n",
        "\n",
        "  best_valid_loss = float('inf')\n",
        "  val_loss = []\n",
        "  val_acc = []\n",
        "  tr_loss = []\n",
        "  tr_acc = []\n",
        "\n",
        "  for epoch in range(N_EPOCHS):\n",
        "      \n",
        "      # Calculate training time\n",
        "      start_time = time.time()\n",
        "      # Get epoch losses and accuracies \n",
        "      train_loss, train_acc = train(model, train_iterator, optimizer, criterion)\n",
        "      valid_loss, valid_acc = evaluate(model, valid_iterator, criterion)\n",
        "      end_time = time.time()\n",
        "      epoch_mins, epoch_secs = epoch_time(start_time, end_time)\n",
        "      \n",
        "      # Save training metrics\n",
        "      val_loss.append(valid_loss)\n",
        "      val_acc.append(valid_acc)\n",
        "      tr_loss.append(train_loss)\n",
        "      tr_acc.append(train_acc)\n",
        "      \n",
        "      print(f'Epoch: {epoch+1:2} | Epoch Time: {epoch_mins}m {epoch_secs}s')\n",
        "      print(f'\\tTrain Loss: {train_loss:.3f} | Train Acc: {train_acc*100:.2f}%')\n",
        "      print(f'\\t Val. Loss: {valid_loss:.3f} |  Val. Acc: {valid_acc*100:.2f}%')\n",
        "  \n",
        "  \n",
        "  wandb.log({\"Train_loss\":train_loss})\n",
        "  wandb.log({\"Valid_loss\":valid_loss}) \n",
        "  wandb.log({\"Train_acc\":train_acc})\n",
        "  wandb.log({\"Valid_acc\":valid_acc}) \n",
        "\n",
        "\n",
        "  test_loss, test_acc = evaluate(model, test_iterator, criterion)\n",
        "  wandb.log({\"Test_loss\":test_loss})\n",
        "  wandb.log({\"Test_acc\":test_acc})"
      ],
      "execution_count": 16,
      "outputs": []
    },
    {
      "cell_type": "code",
      "metadata": {
        "id": "ctRg9A9BT7FM"
      },
      "source": [
        "def Wandb(train_data,test_data,valid_data):\n",
        "  print(1)\n",
        "  config_defaults = {\n",
        "        'epochs': 1,\n",
        "        'batch_size': 32,\n",
        "        'learning_rate': 1e-3,\n",
        "    }\n",
        "\n",
        "  wandb.init(config=config_defaults)\n",
        "  print(3)\n",
        "  config = wandb.config\n",
        "  \n",
        "    # Model is created and weigths are copied \n",
        "  # Finally model is transferred to GPU\n",
        "  model = LSTMNetwork(input_dim, embedding_dim, pad_idx)\n",
        "  model.embedding.weight.data.copy_(TEXT.vocab.vectors)\n",
        "\n",
        "  model.embedding.weight.data[unk_idx] = torch.zeros(embedding_dim)\n",
        "  model.embedding.weight.data[pad_idx] = torch.zeros(embedding_dim)\n",
        "  model = model.to(device)\n",
        "  print(5)\n",
        "  # iterator\n",
        "  train_iterator, valid_iterator, test_iterator = data.BucketIterator.splits(\n",
        "      (train_data, valid_data, test_data), \n",
        "      batch_size = config.batch_size, \n",
        "      device = device)\n",
        "  # optim_loss\n",
        "  optimizer = optim.Adam(model.parameters(), lr = config.learning_rate)\n",
        "  criterion = nn.BCEWithLogitsLoss()\n",
        "  model = model.to(device)\n",
        "  criterion = criterion.to(device)\n",
        "\n",
        "  print(7)\n",
        "\n",
        "  # Training loop\n",
        "  N_EPOCHS = config.epochs\n",
        "\n",
        "  best_valid_loss = float('inf')\n",
        "  val_loss = []\n",
        "  val_acc = []\n",
        "  tr_loss = []\n",
        "  tr_acc = []\n",
        "\n",
        "  for epoch in range(N_EPOCHS):\n",
        "      \n",
        "      # Calculate training time\n",
        "      start_time = time.time()\n",
        "      # Get epoch losses and accuracies \n",
        "      train_loss, train_acc = train(model, train_iterator, optimizer, criterion)\n",
        "      valid_loss, valid_acc = evaluate(model, valid_iterator, criterion)\n",
        "      end_time = time.time()\n",
        "      epoch_mins, epoch_secs = epoch_time(start_time, end_time)\n",
        "      \n",
        "      # Save training metrics\n",
        "      val_loss.append(valid_loss)\n",
        "      val_acc.append(valid_acc)\n",
        "      tr_loss.append(train_loss)\n",
        "      tr_acc.append(train_acc)\n",
        "      \n",
        "      print(f'Epoch: {epoch+1:2} | Epoch Time: {epoch_mins}m {epoch_secs}s')\n",
        "      print(f'\\tTrain Loss: {train_loss:.3f} | Train Acc: {train_acc*100:.2f}%')\n",
        "      print(f'\\t Val. Loss: {valid_loss:.3f} |  Val. Acc: {valid_acc*100:.2f}%')\n",
        "  \n",
        "  \n",
        "  wandb.log({\"Train_loss\":train_loss})\n",
        "  wandb.log({\"Valid_loss\":valid_loss}) \n",
        "  wandb.log({\"Train_acc\":train_acc})\n",
        "  wandb.log({\"Valid_acc\":valid_acc}) \n",
        "\n",
        "\n",
        "  test_loss, test_acc = evaluate(model, test_iterator, criterion)\n",
        "  wandb.log({\"Test_loss\":test_loss})\n",
        "  wandb.log({\"Test_acc\":test_acc})"
      ],
      "execution_count": 17,
      "outputs": []
    },
    {
      "cell_type": "code",
      "metadata": {
        "colab": {
          "base_uri": "https://localhost:8080/",
          "height": 1000,
          "referenced_widgets": [
            "481c016372ab4d6dbc083df59692d5dc",
            "d75626e054b04922b1b97a4f37932450",
            "11e0465dcf5145548e31a04a808c36cf",
            "f35ce4fe5a6e4f2e827d6e41e4aa960b",
            "4c8ada606084440e89b0927da415a8b2",
            "dd2039f3145b479f8bb4b4df803ad116",
            "dc92e0d7145443afa860c286af56f7ea",
            "bc5064f1dd0648b89815ba1c4501a7df",
            "e63825cbfb134292b3cad2bdedd57296",
            "30ca19e0e7dc451f9f455f71a063a9e6",
            "c57356a5aec64ff196e0e444cbdb15d2",
            "ea648ac21da1411b9128f41cc6394aa2",
            "93733d7c3c6a4bec8f8757f59104ddb6",
            "32723467bc5640ff9cdf486e11d9c76a",
            "897bdb09d7624fb58ad803e1a14f4aaa",
            "f3f8bb5f10a54ba398e96c160c84bc26",
            "2f408dee34fb4a3da2b064f09c89b550",
            "965da88b78e6423cb05445fbce30e2a2",
            "8d0a10faedc04b7798508384182a4ab8",
            "5670c2c3a2c1449f8eefe3994339c36c",
            "4b630a1b75224f89874d2c29bf84e46a",
            "e24f98c3fec84f0bb6a54d1cef0d9a82",
            "2f7617856def4c99ae4c48ab5649cd6f",
            "f112cc53deb44f30a9debdc73ea19e6a",
            "3bdbe6f66eaf41459a2d990fe6070524",
            "14371e03ae9b4dccae4c161627574b89",
            "8b9b475761804d11906fd359b29b4700",
            "7f50dddb09374e65af22eed88e8f8608",
            "7c39e0c5cb264b79bb2893cdb6418a53",
            "108095f2c43f4ef4b718f6071b925395",
            "8f490f86f7024a11a8dbf2003b70b01a",
            "89c4709b239b4dd5a29341cc1822a955",
            "4c34ef7979684836850dc368f0b02a24",
            "d3cd513893e1462ab9f14fdc7adb09cb",
            "75fdc9b90cd74000bac58c080f3bb6cb",
            "6ef22b43157b4c27b27dc1be8d595a86",
            "01d3d6dbb7c6423e99955a8a4a1144c8",
            "318e67323c8f4fa3a2eb8ce4f3a2dc15",
            "b1ae8cc5a9754b4abb4d002bb52cb723",
            "19ab49a1f4644dabaa29a871d5dc14cc",
            "504efeef43034e489cca41917811d1eb",
            "079a567cd050424d8bb7e827465d4697",
            "a308554dd904451e9acd3e7bca27bfe8",
            "527c54783c264586b869e4977b4ec327",
            "159ca536f7f4466b8d0231f0249fdc35",
            "743f2e2242e54e5a916057e62dace28b",
            "d43b4338cef6467d8e8ce83ca4374420",
            "4e2af8cba4124d809365a1caa6d5ef67",
            "95547d8a22cb4ec1af254c760429ff13",
            "b35d74713cac4a5b9c18ec446032c995",
            "af9fbfcb49e047b09418f184ed241038",
            "d9376173560a4ae1bf6247f6d224ea24",
            "50f7619a7bbb4a198a88dd636aa30d6a",
            "74677a18e0694278bc233466ca6016a4",
            "28e8f9e8fce94ab39918c59bc8631180",
            "6e018b2bf9fe4389bf847e5c2c07e3c5",
            "8d1e35917578493180d2aaa774c0bea6",
            "70378d43fa6c4cf2b1c7425732326bf6",
            "f15eb7e34ab744b2adc459aede812236",
            "67e8ea54ae5c44feb96e525f3c47346a",
            "78b14e2eb5b04d51beea3f696b1d77b3",
            "10d549d67f9144afb3330e8a5d17978e",
            "ae2b717848c54e9baeae0484b0b8474f",
            "48e5ea10af204d829e85cfc366f86786"
          ]
        },
        "id": "5u6qUuauQGF5",
        "outputId": "faf63bba-e8d3-4c3d-a35c-c3ac9c87b00c"
      },
      "source": [
        "wandb.agent(sweep_id, function=Wandbfunc)"
      ],
      "execution_count": 18,
      "outputs": [
        {
          "output_type": "stream",
          "text": [
            "\u001b[34m\u001b[1mwandb\u001b[0m: Agent Starting Run: ioz1tx3j with config:\n",
            "\u001b[34m\u001b[1mwandb\u001b[0m: \tbatch_size: 128\n",
            "\u001b[34m\u001b[1mwandb\u001b[0m: \tepochs: 5\n",
            "\u001b[34m\u001b[1mwandb\u001b[0m: \tlearning_rate: 0.01\n",
            "\u001b[34m\u001b[1mwandb\u001b[0m: Currently logged in as: \u001b[33micgencel\u001b[0m (use `wandb login --relogin` to force relogin)\n"
          ],
          "name": "stderr"
        },
        {
          "output_type": "display_data",
          "data": {
            "text/html": [
              "\n",
              "                Tracking run with wandb version 0.10.32<br/>\n",
              "                Syncing run <strong style=\"color:#cdcd00\">northern-sweep-1</strong> to <a href=\"https://wandb.ai\" target=\"_blank\">Weights & Biases</a> <a href=\"https://docs.wandb.com/integrations/jupyter.html\" target=\"_blank\">(Documentation)</a>.<br/>\n",
              "                Project page: <a href=\"https://wandb.ai/icgencel/e216642_Assigment_WnB_BiLSTM\" target=\"_blank\">https://wandb.ai/icgencel/e216642_Assigment_WnB_BiLSTM</a><br/>\n",
              "                Sweep page: <a href=\"https://wandb.ai/icgencel/e216642_Assigment_WnB_BiLSTM/sweeps/cp2lxidp\" target=\"_blank\">https://wandb.ai/icgencel/e216642_Assigment_WnB_BiLSTM/sweeps/cp2lxidp</a><br/>\n",
              "Run page: <a href=\"https://wandb.ai/icgencel/e216642_Assigment_WnB_BiLSTM/runs/ioz1tx3j\" target=\"_blank\">https://wandb.ai/icgencel/e216642_Assigment_WnB_BiLSTM/runs/ioz1tx3j</a><br/>\n",
              "                Run data is saved locally in <code>/content/wandb/run-20210613_202703-ioz1tx3j</code><br/><br/>\n",
              "            "
            ],
            "text/plain": [
              "<IPython.core.display.HTML object>"
            ]
          },
          "metadata": {
            "tags": []
          }
        },
        {
          "output_type": "stream",
          "text": [
            "\r100%|█████████▉| 398787/400000 [00:29<00:00, 27749.23it/s]"
          ],
          "name": "stderr"
        },
        {
          "output_type": "stream",
          "text": [
            "Epoch:  1 | Epoch Time: 0m 4s\n",
            "\tTrain Loss: 0.590 | Train Acc: 68.75%\n",
            "\t Val. Loss: 0.453 |  Val. Acc: 80.12%\n",
            "Epoch:  2 | Epoch Time: 0m 4s\n",
            "\tTrain Loss: 0.309 | Train Acc: 87.78%\n",
            "\t Val. Loss: 0.403 |  Val. Acc: 82.98%\n",
            "Epoch:  3 | Epoch Time: 0m 4s\n",
            "\tTrain Loss: 0.165 | Train Acc: 94.48%\n",
            "\t Val. Loss: 0.466 |  Val. Acc: 81.97%\n",
            "Epoch:  4 | Epoch Time: 0m 4s\n",
            "\tTrain Loss: 0.086 | Train Acc: 97.50%\n",
            "\t Val. Loss: 0.602 |  Val. Acc: 81.43%\n",
            "Epoch:  5 | Epoch Time: 0m 4s\n",
            "\tTrain Loss: 0.052 | Train Acc: 98.53%\n",
            "\t Val. Loss: 0.692 |  Val. Acc: 81.90%\n"
          ],
          "name": "stdout"
        },
        {
          "output_type": "display_data",
          "data": {
            "text/html": [
              "<br/>Waiting for W&B process to finish, PID 211<br/>Program ended successfully."
            ],
            "text/plain": [
              "<IPython.core.display.HTML object>"
            ]
          },
          "metadata": {
            "tags": []
          }
        },
        {
          "output_type": "display_data",
          "data": {
            "application/vnd.jupyter.widget-view+json": {
              "model_id": "481c016372ab4d6dbc083df59692d5dc",
              "version_minor": 0,
              "version_major": 2
            },
            "text/plain": [
              "VBox(children=(Label(value=' 0.00MB of 0.00MB uploaded (0.00MB deduped)\\r'), FloatProgress(value=1.0, max=1.0)…"
            ]
          },
          "metadata": {
            "tags": []
          }
        },
        {
          "output_type": "display_data",
          "data": {
            "text/html": [
              "Find user logs for this run at: <code>/content/wandb/run-20210613_202703-ioz1tx3j/logs/debug.log</code>"
            ],
            "text/plain": [
              "<IPython.core.display.HTML object>"
            ]
          },
          "metadata": {
            "tags": []
          }
        },
        {
          "output_type": "display_data",
          "data": {
            "text/html": [
              "Find internal logs for this run at: <code>/content/wandb/run-20210613_202703-ioz1tx3j/logs/debug-internal.log</code>"
            ],
            "text/plain": [
              "<IPython.core.display.HTML object>"
            ]
          },
          "metadata": {
            "tags": []
          }
        },
        {
          "output_type": "display_data",
          "data": {
            "text/html": [
              "<h3>Run summary:</h3><br/><style>\n",
              "    table.wandb td:nth-child(1) { padding: 0 10px; text-align: right }\n",
              "    </style><table class=\"wandb\">\n",
              "<tr><td>Train_loss</td><td>0.05195</td></tr><tr><td>_runtime</td><td>37</td></tr><tr><td>_timestamp</td><td>1623616060</td></tr><tr><td>_step</td><td>5</td></tr><tr><td>Valid_loss</td><td>0.69173</td></tr><tr><td>Train_acc</td><td>0.98528</td></tr><tr><td>Valid_acc</td><td>0.81903</td></tr><tr><td>Test_loss</td><td>0.64356</td></tr><tr><td>Test_acc</td><td>0.82426</td></tr></table>"
            ],
            "text/plain": [
              "<IPython.core.display.HTML object>"
            ]
          },
          "metadata": {
            "tags": []
          }
        },
        {
          "output_type": "display_data",
          "data": {
            "text/html": [
              "<h3>Run history:</h3><br/><style>\n",
              "    table.wandb td:nth-child(1) { padding: 0 10px; text-align: right }\n",
              "    </style><table class=\"wandb\">\n",
              "<tr><td>Train_loss</td><td>▁</td></tr><tr><td>_runtime</td><td>▁▁▁▁██</td></tr><tr><td>_timestamp</td><td>▁▁▁▁██</td></tr><tr><td>_step</td><td>▁▂▄▅▇█</td></tr><tr><td>Valid_loss</td><td>▁</td></tr><tr><td>Train_acc</td><td>▁</td></tr><tr><td>Valid_acc</td><td>▁</td></tr><tr><td>Test_loss</td><td>▁</td></tr><tr><td>Test_acc</td><td>▁</td></tr></table><br/>"
            ],
            "text/plain": [
              "<IPython.core.display.HTML object>"
            ]
          },
          "metadata": {
            "tags": []
          }
        },
        {
          "output_type": "display_data",
          "data": {
            "text/html": [
              "Synced 5 W&B file(s), 0 media file(s), 0 artifact file(s) and 0 other file(s)"
            ],
            "text/plain": [
              "<IPython.core.display.HTML object>"
            ]
          },
          "metadata": {
            "tags": []
          }
        },
        {
          "output_type": "display_data",
          "data": {
            "text/html": [
              "\n",
              "                    <br/>Synced <strong style=\"color:#cdcd00\">northern-sweep-1</strong>: <a href=\"https://wandb.ai/icgencel/e216642_Assigment_WnB_BiLSTM/runs/ioz1tx3j\" target=\"_blank\">https://wandb.ai/icgencel/e216642_Assigment_WnB_BiLSTM/runs/ioz1tx3j</a><br/>\n",
              "                "
            ],
            "text/plain": [
              "<IPython.core.display.HTML object>"
            ]
          },
          "metadata": {
            "tags": []
          }
        },
        {
          "output_type": "stream",
          "text": [
            "\u001b[34m\u001b[1mwandb\u001b[0m: Agent Starting Run: vlv12q5r with config:\n",
            "\u001b[34m\u001b[1mwandb\u001b[0m: \tbatch_size: 128\n",
            "\u001b[34m\u001b[1mwandb\u001b[0m: \tepochs: 5\n",
            "\u001b[34m\u001b[1mwandb\u001b[0m: \tlearning_rate: 0.001\n"
          ],
          "name": "stderr"
        },
        {
          "output_type": "display_data",
          "data": {
            "text/html": [
              "\n",
              "                Tracking run with wandb version 0.10.32<br/>\n",
              "                Syncing run <strong style=\"color:#cdcd00\">efficient-sweep-2</strong> to <a href=\"https://wandb.ai\" target=\"_blank\">Weights & Biases</a> <a href=\"https://docs.wandb.com/integrations/jupyter.html\" target=\"_blank\">(Documentation)</a>.<br/>\n",
              "                Project page: <a href=\"https://wandb.ai/icgencel/e216642_Assigment_WnB_BiLSTM\" target=\"_blank\">https://wandb.ai/icgencel/e216642_Assigment_WnB_BiLSTM</a><br/>\n",
              "                Sweep page: <a href=\"https://wandb.ai/icgencel/e216642_Assigment_WnB_BiLSTM/sweeps/cp2lxidp\" target=\"_blank\">https://wandb.ai/icgencel/e216642_Assigment_WnB_BiLSTM/sweeps/cp2lxidp</a><br/>\n",
              "Run page: <a href=\"https://wandb.ai/icgencel/e216642_Assigment_WnB_BiLSTM/runs/vlv12q5r\" target=\"_blank\">https://wandb.ai/icgencel/e216642_Assigment_WnB_BiLSTM/runs/vlv12q5r</a><br/>\n",
              "                Run data is saved locally in <code>/content/wandb/run-20210613_202751-vlv12q5r</code><br/><br/>\n",
              "            "
            ],
            "text/plain": [
              "<IPython.core.display.HTML object>"
            ]
          },
          "metadata": {
            "tags": []
          }
        },
        {
          "output_type": "stream",
          "text": [
            "Epoch:  1 | Epoch Time: 0m 4s\n",
            "\tTrain Loss: 0.623 | Train Acc: 64.64%\n",
            "\t Val. Loss: 0.530 |  Val. Acc: 74.51%\n",
            "Epoch:  2 | Epoch Time: 0m 4s\n",
            "\tTrain Loss: 0.480 | Train Acc: 79.15%\n",
            "\t Val. Loss: 0.489 |  Val. Acc: 78.00%\n",
            "Epoch:  3 | Epoch Time: 0m 4s\n",
            "\tTrain Loss: 0.364 | Train Acc: 85.49%\n",
            "\t Val. Loss: 0.435 |  Val. Acc: 81.88%\n",
            "Epoch:  4 | Epoch Time: 0m 4s\n",
            "\tTrain Loss: 0.287 | Train Acc: 89.32%\n",
            "\t Val. Loss: 0.452 |  Val. Acc: 82.05%\n",
            "Epoch:  5 | Epoch Time: 0m 4s\n",
            "\tTrain Loss: 0.218 | Train Acc: 92.14%\n",
            "\t Val. Loss: 0.445 |  Val. Acc: 82.74%\n"
          ],
          "name": "stdout"
        },
        {
          "output_type": "display_data",
          "data": {
            "text/html": [
              "<br/>Waiting for W&B process to finish, PID 258<br/>Program ended successfully."
            ],
            "text/plain": [
              "<IPython.core.display.HTML object>"
            ]
          },
          "metadata": {
            "tags": []
          }
        },
        {
          "output_type": "display_data",
          "data": {
            "application/vnd.jupyter.widget-view+json": {
              "model_id": "e63825cbfb134292b3cad2bdedd57296",
              "version_minor": 0,
              "version_major": 2
            },
            "text/plain": [
              "VBox(children=(Label(value=' 0.00MB of 0.00MB uploaded (0.00MB deduped)\\r'), FloatProgress(value=1.0, max=1.0)…"
            ]
          },
          "metadata": {
            "tags": []
          }
        },
        {
          "output_type": "display_data",
          "data": {
            "text/html": [
              "Find user logs for this run at: <code>/content/wandb/run-20210613_202751-vlv12q5r/logs/debug.log</code>"
            ],
            "text/plain": [
              "<IPython.core.display.HTML object>"
            ]
          },
          "metadata": {
            "tags": []
          }
        },
        {
          "output_type": "display_data",
          "data": {
            "text/html": [
              "Find internal logs for this run at: <code>/content/wandb/run-20210613_202751-vlv12q5r/logs/debug-internal.log</code>"
            ],
            "text/plain": [
              "<IPython.core.display.HTML object>"
            ]
          },
          "metadata": {
            "tags": []
          }
        },
        {
          "output_type": "display_data",
          "data": {
            "text/html": [
              "<h3>Run summary:</h3><br/><style>\n",
              "    table.wandb td:nth-child(1) { padding: 0 10px; text-align: right }\n",
              "    </style><table class=\"wandb\">\n",
              "<tr><td>Train_loss</td><td>0.21844</td></tr><tr><td>_runtime</td><td>27</td></tr><tr><td>_timestamp</td><td>1623616098</td></tr><tr><td>_step</td><td>5</td></tr><tr><td>Valid_loss</td><td>0.44507</td></tr><tr><td>Train_acc</td><td>0.92137</td></tr><tr><td>Valid_acc</td><td>0.82743</td></tr><tr><td>Test_loss</td><td>0.42235</td></tr><tr><td>Test_acc</td><td>0.83667</td></tr></table>"
            ],
            "text/plain": [
              "<IPython.core.display.HTML object>"
            ]
          },
          "metadata": {
            "tags": []
          }
        },
        {
          "output_type": "display_data",
          "data": {
            "text/html": [
              "<h3>Run history:</h3><br/><style>\n",
              "    table.wandb td:nth-child(1) { padding: 0 10px; text-align: right }\n",
              "    </style><table class=\"wandb\">\n",
              "<tr><td>Train_loss</td><td>▁</td></tr><tr><td>_runtime</td><td>▁▁▁▁██</td></tr><tr><td>_timestamp</td><td>▁▁▁▁██</td></tr><tr><td>_step</td><td>▁▂▄▅▇█</td></tr><tr><td>Valid_loss</td><td>▁</td></tr><tr><td>Train_acc</td><td>▁</td></tr><tr><td>Valid_acc</td><td>▁</td></tr><tr><td>Test_loss</td><td>▁</td></tr><tr><td>Test_acc</td><td>▁</td></tr></table><br/>"
            ],
            "text/plain": [
              "<IPython.core.display.HTML object>"
            ]
          },
          "metadata": {
            "tags": []
          }
        },
        {
          "output_type": "display_data",
          "data": {
            "text/html": [
              "Synced 5 W&B file(s), 0 media file(s), 0 artifact file(s) and 0 other file(s)"
            ],
            "text/plain": [
              "<IPython.core.display.HTML object>"
            ]
          },
          "metadata": {
            "tags": []
          }
        },
        {
          "output_type": "display_data",
          "data": {
            "text/html": [
              "\n",
              "                    <br/>Synced <strong style=\"color:#cdcd00\">efficient-sweep-2</strong>: <a href=\"https://wandb.ai/icgencel/e216642_Assigment_WnB_BiLSTM/runs/vlv12q5r\" target=\"_blank\">https://wandb.ai/icgencel/e216642_Assigment_WnB_BiLSTM/runs/vlv12q5r</a><br/>\n",
              "                "
            ],
            "text/plain": [
              "<IPython.core.display.HTML object>"
            ]
          },
          "metadata": {
            "tags": []
          }
        },
        {
          "output_type": "stream",
          "text": [
            "\u001b[34m\u001b[1mwandb\u001b[0m: Agent Starting Run: n5kyu7da with config:\n",
            "\u001b[34m\u001b[1mwandb\u001b[0m: \tbatch_size: 128\n",
            "\u001b[34m\u001b[1mwandb\u001b[0m: \tepochs: 10\n",
            "\u001b[34m\u001b[1mwandb\u001b[0m: \tlearning_rate: 0.01\n"
          ],
          "name": "stderr"
        },
        {
          "output_type": "display_data",
          "data": {
            "text/html": [
              "\n",
              "                Tracking run with wandb version 0.10.32<br/>\n",
              "                Syncing run <strong style=\"color:#cdcd00\">atomic-sweep-3</strong> to <a href=\"https://wandb.ai\" target=\"_blank\">Weights & Biases</a> <a href=\"https://docs.wandb.com/integrations/jupyter.html\" target=\"_blank\">(Documentation)</a>.<br/>\n",
              "                Project page: <a href=\"https://wandb.ai/icgencel/e216642_Assigment_WnB_BiLSTM\" target=\"_blank\">https://wandb.ai/icgencel/e216642_Assigment_WnB_BiLSTM</a><br/>\n",
              "                Sweep page: <a href=\"https://wandb.ai/icgencel/e216642_Assigment_WnB_BiLSTM/sweeps/cp2lxidp\" target=\"_blank\">https://wandb.ai/icgencel/e216642_Assigment_WnB_BiLSTM/sweeps/cp2lxidp</a><br/>\n",
              "Run page: <a href=\"https://wandb.ai/icgencel/e216642_Assigment_WnB_BiLSTM/runs/n5kyu7da\" target=\"_blank\">https://wandb.ai/icgencel/e216642_Assigment_WnB_BiLSTM/runs/n5kyu7da</a><br/>\n",
              "                Run data is saved locally in <code>/content/wandb/run-20210613_202828-n5kyu7da</code><br/><br/>\n",
              "            "
            ],
            "text/plain": [
              "<IPython.core.display.HTML object>"
            ]
          },
          "metadata": {
            "tags": []
          }
        },
        {
          "output_type": "stream",
          "text": [
            "Epoch:  1 | Epoch Time: 0m 4s\n",
            "\tTrain Loss: 0.579 | Train Acc: 68.82%\n",
            "\t Val. Loss: 0.395 |  Val. Acc: 82.88%\n",
            "Epoch:  2 | Epoch Time: 0m 4s\n",
            "\tTrain Loss: 0.293 | Train Acc: 88.48%\n",
            "\t Val. Loss: 0.402 |  Val. Acc: 83.26%\n",
            "Epoch:  3 | Epoch Time: 0m 4s\n",
            "\tTrain Loss: 0.162 | Train Acc: 94.42%\n",
            "\t Val. Loss: 0.474 |  Val. Acc: 82.66%\n",
            "Epoch:  4 | Epoch Time: 0m 4s\n",
            "\tTrain Loss: 0.092 | Train Acc: 97.23%\n",
            "\t Val. Loss: 0.559 |  Val. Acc: 81.52%\n",
            "Epoch:  5 | Epoch Time: 0m 4s\n",
            "\tTrain Loss: 0.053 | Train Acc: 98.47%\n",
            "\t Val. Loss: 0.718 |  Val. Acc: 82.41%\n",
            "Epoch:  6 | Epoch Time: 0m 4s\n",
            "\tTrain Loss: 0.036 | Train Acc: 98.88%\n",
            "\t Val. Loss: 0.832 |  Val. Acc: 82.16%\n",
            "Epoch:  7 | Epoch Time: 0m 4s\n",
            "\tTrain Loss: 0.028 | Train Acc: 99.12%\n",
            "\t Val. Loss: 0.978 |  Val. Acc: 82.19%\n",
            "Epoch:  8 | Epoch Time: 0m 4s\n",
            "\tTrain Loss: 0.023 | Train Acc: 99.33%\n",
            "\t Val. Loss: 0.932 |  Val. Acc: 81.61%\n",
            "Epoch:  9 | Epoch Time: 0m 4s\n",
            "\tTrain Loss: 0.021 | Train Acc: 99.34%\n",
            "\t Val. Loss: 0.980 |  Val. Acc: 81.63%\n",
            "Epoch: 10 | Epoch Time: 0m 4s\n",
            "\tTrain Loss: 0.025 | Train Acc: 99.18%\n",
            "\t Val. Loss: 0.921 |  Val. Acc: 81.11%\n"
          ],
          "name": "stdout"
        },
        {
          "output_type": "display_data",
          "data": {
            "text/html": [
              "<br/>Waiting for W&B process to finish, PID 300<br/>Program ended successfully."
            ],
            "text/plain": [
              "<IPython.core.display.HTML object>"
            ]
          },
          "metadata": {
            "tags": []
          }
        },
        {
          "output_type": "display_data",
          "data": {
            "application/vnd.jupyter.widget-view+json": {
              "model_id": "2f408dee34fb4a3da2b064f09c89b550",
              "version_minor": 0,
              "version_major": 2
            },
            "text/plain": [
              "VBox(children=(Label(value=' 0.00MB of 0.00MB uploaded (0.00MB deduped)\\r'), FloatProgress(value=1.0, max=1.0)…"
            ]
          },
          "metadata": {
            "tags": []
          }
        },
        {
          "output_type": "display_data",
          "data": {
            "text/html": [
              "Find user logs for this run at: <code>/content/wandb/run-20210613_202828-n5kyu7da/logs/debug.log</code>"
            ],
            "text/plain": [
              "<IPython.core.display.HTML object>"
            ]
          },
          "metadata": {
            "tags": []
          }
        },
        {
          "output_type": "display_data",
          "data": {
            "text/html": [
              "Find internal logs for this run at: <code>/content/wandb/run-20210613_202828-n5kyu7da/logs/debug-internal.log</code>"
            ],
            "text/plain": [
              "<IPython.core.display.HTML object>"
            ]
          },
          "metadata": {
            "tags": []
          }
        },
        {
          "output_type": "display_data",
          "data": {
            "text/html": [
              "<h3>Run summary:</h3><br/><style>\n",
              "    table.wandb td:nth-child(1) { padding: 0 10px; text-align: right }\n",
              "    </style><table class=\"wandb\">\n",
              "<tr><td>Train_loss</td><td>0.02515</td></tr><tr><td>_runtime</td><td>50</td></tr><tr><td>_timestamp</td><td>1623616158</td></tr><tr><td>_step</td><td>5</td></tr><tr><td>Valid_loss</td><td>0.92089</td></tr><tr><td>Train_acc</td><td>0.99178</td></tr><tr><td>Valid_acc</td><td>0.81108</td></tr><tr><td>Test_loss</td><td>0.87059</td></tr><tr><td>Test_acc</td><td>0.82022</td></tr></table>"
            ],
            "text/plain": [
              "<IPython.core.display.HTML object>"
            ]
          },
          "metadata": {
            "tags": []
          }
        },
        {
          "output_type": "display_data",
          "data": {
            "text/html": [
              "<h3>Run history:</h3><br/><style>\n",
              "    table.wandb td:nth-child(1) { padding: 0 10px; text-align: right }\n",
              "    </style><table class=\"wandb\">\n",
              "<tr><td>Train_loss</td><td>▁</td></tr><tr><td>_runtime</td><td>▁▁▁▁██</td></tr><tr><td>_timestamp</td><td>▁▁▁▁██</td></tr><tr><td>_step</td><td>▁▂▄▅▇█</td></tr><tr><td>Valid_loss</td><td>▁</td></tr><tr><td>Train_acc</td><td>▁</td></tr><tr><td>Valid_acc</td><td>▁</td></tr><tr><td>Test_loss</td><td>▁</td></tr><tr><td>Test_acc</td><td>▁</td></tr></table><br/>"
            ],
            "text/plain": [
              "<IPython.core.display.HTML object>"
            ]
          },
          "metadata": {
            "tags": []
          }
        },
        {
          "output_type": "display_data",
          "data": {
            "text/html": [
              "Synced 5 W&B file(s), 0 media file(s), 0 artifact file(s) and 0 other file(s)"
            ],
            "text/plain": [
              "<IPython.core.display.HTML object>"
            ]
          },
          "metadata": {
            "tags": []
          }
        },
        {
          "output_type": "display_data",
          "data": {
            "text/html": [
              "\n",
              "                    <br/>Synced <strong style=\"color:#cdcd00\">atomic-sweep-3</strong>: <a href=\"https://wandb.ai/icgencel/e216642_Assigment_WnB_BiLSTM/runs/n5kyu7da\" target=\"_blank\">https://wandb.ai/icgencel/e216642_Assigment_WnB_BiLSTM/runs/n5kyu7da</a><br/>\n",
              "                "
            ],
            "text/plain": [
              "<IPython.core.display.HTML object>"
            ]
          },
          "metadata": {
            "tags": []
          }
        },
        {
          "output_type": "stream",
          "text": [
            "\u001b[34m\u001b[1mwandb\u001b[0m: Agent Starting Run: 754oirar with config:\n",
            "\u001b[34m\u001b[1mwandb\u001b[0m: \tbatch_size: 128\n",
            "\u001b[34m\u001b[1mwandb\u001b[0m: \tepochs: 10\n",
            "\u001b[34m\u001b[1mwandb\u001b[0m: \tlearning_rate: 0.001\n"
          ],
          "name": "stderr"
        },
        {
          "output_type": "display_data",
          "data": {
            "text/html": [
              "\n",
              "                Tracking run with wandb version 0.10.32<br/>\n",
              "                Syncing run <strong style=\"color:#cdcd00\">distinctive-sweep-4</strong> to <a href=\"https://wandb.ai\" target=\"_blank\">Weights & Biases</a> <a href=\"https://docs.wandb.com/integrations/jupyter.html\" target=\"_blank\">(Documentation)</a>.<br/>\n",
              "                Project page: <a href=\"https://wandb.ai/icgencel/e216642_Assigment_WnB_BiLSTM\" target=\"_blank\">https://wandb.ai/icgencel/e216642_Assigment_WnB_BiLSTM</a><br/>\n",
              "                Sweep page: <a href=\"https://wandb.ai/icgencel/e216642_Assigment_WnB_BiLSTM/sweeps/cp2lxidp\" target=\"_blank\">https://wandb.ai/icgencel/e216642_Assigment_WnB_BiLSTM/sweeps/cp2lxidp</a><br/>\n",
              "Run page: <a href=\"https://wandb.ai/icgencel/e216642_Assigment_WnB_BiLSTM/runs/754oirar\" target=\"_blank\">https://wandb.ai/icgencel/e216642_Assigment_WnB_BiLSTM/runs/754oirar</a><br/>\n",
              "                Run data is saved locally in <code>/content/wandb/run-20210613_202929-754oirar</code><br/><br/>\n",
              "            "
            ],
            "text/plain": [
              "<IPython.core.display.HTML object>"
            ]
          },
          "metadata": {
            "tags": []
          }
        },
        {
          "output_type": "stream",
          "text": [
            "Epoch:  1 | Epoch Time: 0m 4s\n",
            "\tTrain Loss: 0.608 | Train Acc: 65.66%\n",
            "\t Val. Loss: 0.502 |  Val. Acc: 76.54%\n",
            "Epoch:  2 | Epoch Time: 0m 4s\n",
            "\tTrain Loss: 0.437 | Train Acc: 81.09%\n",
            "\t Val. Loss: 0.452 |  Val. Acc: 80.12%\n",
            "Epoch:  3 | Epoch Time: 0m 4s\n",
            "\tTrain Loss: 0.332 | Train Acc: 86.95%\n",
            "\t Val. Loss: 0.412 |  Val. Acc: 81.54%\n",
            "Epoch:  4 | Epoch Time: 0m 4s\n",
            "\tTrain Loss: 0.254 | Train Acc: 90.59%\n",
            "\t Val. Loss: 0.423 |  Val. Acc: 82.72%\n",
            "Epoch:  5 | Epoch Time: 0m 4s\n",
            "\tTrain Loss: 0.203 | Train Acc: 93.04%\n",
            "\t Val. Loss: 0.437 |  Val. Acc: 81.59%\n",
            "Epoch:  6 | Epoch Time: 0m 4s\n",
            "\tTrain Loss: 0.170 | Train Acc: 94.57%\n",
            "\t Val. Loss: 0.450 |  Val. Acc: 82.18%\n",
            "Epoch:  7 | Epoch Time: 0m 4s\n",
            "\tTrain Loss: 0.132 | Train Acc: 95.91%\n",
            "\t Val. Loss: 0.526 |  Val. Acc: 82.72%\n",
            "Epoch:  8 | Epoch Time: 0m 4s\n",
            "\tTrain Loss: 0.103 | Train Acc: 96.96%\n",
            "\t Val. Loss: 0.584 |  Val. Acc: 82.33%\n",
            "Epoch:  9 | Epoch Time: 0m 4s\n",
            "\tTrain Loss: 0.080 | Train Acc: 97.81%\n",
            "\t Val. Loss: 0.586 |  Val. Acc: 82.12%\n",
            "Epoch: 10 | Epoch Time: 0m 4s\n",
            "\tTrain Loss: 0.074 | Train Acc: 97.94%\n",
            "\t Val. Loss: 0.596 |  Val. Acc: 81.41%\n"
          ],
          "name": "stdout"
        },
        {
          "output_type": "display_data",
          "data": {
            "text/html": [
              "<br/>Waiting for W&B process to finish, PID 343<br/>Program ended successfully."
            ],
            "text/plain": [
              "<IPython.core.display.HTML object>"
            ]
          },
          "metadata": {
            "tags": []
          }
        },
        {
          "output_type": "display_data",
          "data": {
            "application/vnd.jupyter.widget-view+json": {
              "model_id": "3bdbe6f66eaf41459a2d990fe6070524",
              "version_minor": 0,
              "version_major": 2
            },
            "text/plain": [
              "VBox(children=(Label(value=' 0.00MB of 0.00MB uploaded (0.00MB deduped)\\r'), FloatProgress(value=1.0, max=1.0)…"
            ]
          },
          "metadata": {
            "tags": []
          }
        },
        {
          "output_type": "display_data",
          "data": {
            "text/html": [
              "Find user logs for this run at: <code>/content/wandb/run-20210613_202929-754oirar/logs/debug.log</code>"
            ],
            "text/plain": [
              "<IPython.core.display.HTML object>"
            ]
          },
          "metadata": {
            "tags": []
          }
        },
        {
          "output_type": "display_data",
          "data": {
            "text/html": [
              "Find internal logs for this run at: <code>/content/wandb/run-20210613_202929-754oirar/logs/debug-internal.log</code>"
            ],
            "text/plain": [
              "<IPython.core.display.HTML object>"
            ]
          },
          "metadata": {
            "tags": []
          }
        },
        {
          "output_type": "display_data",
          "data": {
            "text/html": [
              "<h3>Run summary:</h3><br/><style>\n",
              "    table.wandb td:nth-child(1) { padding: 0 10px; text-align: right }\n",
              "    </style><table class=\"wandb\">\n",
              "<tr><td>Train_loss</td><td>0.07431</td></tr><tr><td>_runtime</td><td>50</td></tr><tr><td>_timestamp</td><td>1623616219</td></tr><tr><td>_step</td><td>5</td></tr><tr><td>Valid_loss</td><td>0.59561</td></tr><tr><td>Train_acc</td><td>0.97939</td></tr><tr><td>Valid_acc</td><td>0.81405</td></tr><tr><td>Test_loss</td><td>0.55475</td></tr><tr><td>Test_acc</td><td>0.82744</td></tr></table>"
            ],
            "text/plain": [
              "<IPython.core.display.HTML object>"
            ]
          },
          "metadata": {
            "tags": []
          }
        },
        {
          "output_type": "display_data",
          "data": {
            "text/html": [
              "<h3>Run history:</h3><br/><style>\n",
              "    table.wandb td:nth-child(1) { padding: 0 10px; text-align: right }\n",
              "    </style><table class=\"wandb\">\n",
              "<tr><td>Train_loss</td><td>▁</td></tr><tr><td>_runtime</td><td>▁▁▁▁██</td></tr><tr><td>_timestamp</td><td>▁▁▁▁██</td></tr><tr><td>_step</td><td>▁▂▄▅▇█</td></tr><tr><td>Valid_loss</td><td>▁</td></tr><tr><td>Train_acc</td><td>▁</td></tr><tr><td>Valid_acc</td><td>▁</td></tr><tr><td>Test_loss</td><td>▁</td></tr><tr><td>Test_acc</td><td>▁</td></tr></table><br/>"
            ],
            "text/plain": [
              "<IPython.core.display.HTML object>"
            ]
          },
          "metadata": {
            "tags": []
          }
        },
        {
          "output_type": "display_data",
          "data": {
            "text/html": [
              "Synced 5 W&B file(s), 0 media file(s), 0 artifact file(s) and 0 other file(s)"
            ],
            "text/plain": [
              "<IPython.core.display.HTML object>"
            ]
          },
          "metadata": {
            "tags": []
          }
        },
        {
          "output_type": "display_data",
          "data": {
            "text/html": [
              "\n",
              "                    <br/>Synced <strong style=\"color:#cdcd00\">distinctive-sweep-4</strong>: <a href=\"https://wandb.ai/icgencel/e216642_Assigment_WnB_BiLSTM/runs/754oirar\" target=\"_blank\">https://wandb.ai/icgencel/e216642_Assigment_WnB_BiLSTM/runs/754oirar</a><br/>\n",
              "                "
            ],
            "text/plain": [
              "<IPython.core.display.HTML object>"
            ]
          },
          "metadata": {
            "tags": []
          }
        },
        {
          "output_type": "stream",
          "text": [
            "\u001b[34m\u001b[1mwandb\u001b[0m: Agent Starting Run: l2fkamaz with config:\n",
            "\u001b[34m\u001b[1mwandb\u001b[0m: \tbatch_size: 64\n",
            "\u001b[34m\u001b[1mwandb\u001b[0m: \tepochs: 5\n",
            "\u001b[34m\u001b[1mwandb\u001b[0m: \tlearning_rate: 0.01\n"
          ],
          "name": "stderr"
        },
        {
          "output_type": "display_data",
          "data": {
            "text/html": [
              "\n",
              "                Tracking run with wandb version 0.10.32<br/>\n",
              "                Syncing run <strong style=\"color:#cdcd00\">vital-sweep-5</strong> to <a href=\"https://wandb.ai\" target=\"_blank\">Weights & Biases</a> <a href=\"https://docs.wandb.com/integrations/jupyter.html\" target=\"_blank\">(Documentation)</a>.<br/>\n",
              "                Project page: <a href=\"https://wandb.ai/icgencel/e216642_Assigment_WnB_BiLSTM\" target=\"_blank\">https://wandb.ai/icgencel/e216642_Assigment_WnB_BiLSTM</a><br/>\n",
              "                Sweep page: <a href=\"https://wandb.ai/icgencel/e216642_Assigment_WnB_BiLSTM/sweeps/cp2lxidp\" target=\"_blank\">https://wandb.ai/icgencel/e216642_Assigment_WnB_BiLSTM/sweeps/cp2lxidp</a><br/>\n",
              "Run page: <a href=\"https://wandb.ai/icgencel/e216642_Assigment_WnB_BiLSTM/runs/l2fkamaz\" target=\"_blank\">https://wandb.ai/icgencel/e216642_Assigment_WnB_BiLSTM/runs/l2fkamaz</a><br/>\n",
              "                Run data is saved locally in <code>/content/wandb/run-20210613_203030-l2fkamaz</code><br/><br/>\n",
              "            "
            ],
            "text/plain": [
              "<IPython.core.display.HTML object>"
            ]
          },
          "metadata": {
            "tags": []
          }
        },
        {
          "output_type": "stream",
          "text": [
            "Epoch:  1 | Epoch Time: 0m 6s\n",
            "\tTrain Loss: 0.532 | Train Acc: 72.78%\n",
            "\t Val. Loss: 0.410 |  Val. Acc: 82.30%\n",
            "Epoch:  2 | Epoch Time: 0m 6s\n",
            "\tTrain Loss: 0.282 | Train Acc: 89.57%\n",
            "\t Val. Loss: 0.427 |  Val. Acc: 82.99%\n",
            "Epoch:  3 | Epoch Time: 0m 6s\n",
            "\tTrain Loss: 0.173 | Train Acc: 94.05%\n",
            "\t Val. Loss: 0.479 |  Val. Acc: 82.25%\n",
            "Epoch:  4 | Epoch Time: 0m 6s\n",
            "\tTrain Loss: 0.115 | Train Acc: 96.04%\n",
            "\t Val. Loss: 0.565 |  Val. Acc: 81.76%\n",
            "Epoch:  5 | Epoch Time: 0m 6s\n",
            "\tTrain Loss: 0.081 | Train Acc: 97.26%\n",
            "\t Val. Loss: 0.714 |  Val. Acc: 81.57%\n"
          ],
          "name": "stdout"
        },
        {
          "output_type": "display_data",
          "data": {
            "text/html": [
              "<br/>Waiting for W&B process to finish, PID 388<br/>Program ended successfully."
            ],
            "text/plain": [
              "<IPython.core.display.HTML object>"
            ]
          },
          "metadata": {
            "tags": []
          }
        },
        {
          "output_type": "display_data",
          "data": {
            "application/vnd.jupyter.widget-view+json": {
              "model_id": "4c34ef7979684836850dc368f0b02a24",
              "version_minor": 0,
              "version_major": 2
            },
            "text/plain": [
              "VBox(children=(Label(value=' 0.00MB of 0.00MB uploaded (0.00MB deduped)\\r'), FloatProgress(value=1.0, max=1.0)…"
            ]
          },
          "metadata": {
            "tags": []
          }
        },
        {
          "output_type": "display_data",
          "data": {
            "text/html": [
              "Find user logs for this run at: <code>/content/wandb/run-20210613_203030-l2fkamaz/logs/debug.log</code>"
            ],
            "text/plain": [
              "<IPython.core.display.HTML object>"
            ]
          },
          "metadata": {
            "tags": []
          }
        },
        {
          "output_type": "display_data",
          "data": {
            "text/html": [
              "Find internal logs for this run at: <code>/content/wandb/run-20210613_203030-l2fkamaz/logs/debug-internal.log</code>"
            ],
            "text/plain": [
              "<IPython.core.display.HTML object>"
            ]
          },
          "metadata": {
            "tags": []
          }
        },
        {
          "output_type": "display_data",
          "data": {
            "text/html": [
              "<h3>Run summary:</h3><br/><style>\n",
              "    table.wandb td:nth-child(1) { padding: 0 10px; text-align: right }\n",
              "    </style><table class=\"wandb\">\n",
              "<tr><td>Train_loss</td><td>0.08091</td></tr><tr><td>_runtime</td><td>38</td></tr><tr><td>_timestamp</td><td>1623616268</td></tr><tr><td>_step</td><td>5</td></tr><tr><td>Valid_loss</td><td>0.71357</td></tr><tr><td>Train_acc</td><td>0.97262</td></tr><tr><td>Valid_acc</td><td>0.81572</td></tr><tr><td>Test_loss</td><td>0.70065</td></tr><tr><td>Test_acc</td><td>0.81884</td></tr></table>"
            ],
            "text/plain": [
              "<IPython.core.display.HTML object>"
            ]
          },
          "metadata": {
            "tags": []
          }
        },
        {
          "output_type": "display_data",
          "data": {
            "text/html": [
              "<h3>Run history:</h3><br/><style>\n",
              "    table.wandb td:nth-child(1) { padding: 0 10px; text-align: right }\n",
              "    </style><table class=\"wandb\">\n",
              "<tr><td>Train_loss</td><td>▁</td></tr><tr><td>_runtime</td><td>▁▁▁▁██</td></tr><tr><td>_timestamp</td><td>▁▁▁▁██</td></tr><tr><td>_step</td><td>▁▂▄▅▇█</td></tr><tr><td>Valid_loss</td><td>▁</td></tr><tr><td>Train_acc</td><td>▁</td></tr><tr><td>Valid_acc</td><td>▁</td></tr><tr><td>Test_loss</td><td>▁</td></tr><tr><td>Test_acc</td><td>▁</td></tr></table><br/>"
            ],
            "text/plain": [
              "<IPython.core.display.HTML object>"
            ]
          },
          "metadata": {
            "tags": []
          }
        },
        {
          "output_type": "display_data",
          "data": {
            "text/html": [
              "Synced 5 W&B file(s), 0 media file(s), 0 artifact file(s) and 0 other file(s)"
            ],
            "text/plain": [
              "<IPython.core.display.HTML object>"
            ]
          },
          "metadata": {
            "tags": []
          }
        },
        {
          "output_type": "display_data",
          "data": {
            "text/html": [
              "\n",
              "                    <br/>Synced <strong style=\"color:#cdcd00\">vital-sweep-5</strong>: <a href=\"https://wandb.ai/icgencel/e216642_Assigment_WnB_BiLSTM/runs/l2fkamaz\" target=\"_blank\">https://wandb.ai/icgencel/e216642_Assigment_WnB_BiLSTM/runs/l2fkamaz</a><br/>\n",
              "                "
            ],
            "text/plain": [
              "<IPython.core.display.HTML object>"
            ]
          },
          "metadata": {
            "tags": []
          }
        },
        {
          "output_type": "stream",
          "text": [
            "\u001b[34m\u001b[1mwandb\u001b[0m: Agent Starting Run: y6hlwinv with config:\n",
            "\u001b[34m\u001b[1mwandb\u001b[0m: \tbatch_size: 64\n",
            "\u001b[34m\u001b[1mwandb\u001b[0m: \tepochs: 5\n",
            "\u001b[34m\u001b[1mwandb\u001b[0m: \tlearning_rate: 0.001\n"
          ],
          "name": "stderr"
        },
        {
          "output_type": "display_data",
          "data": {
            "text/html": [
              "\n",
              "                Tracking run with wandb version 0.10.32<br/>\n",
              "                Syncing run <strong style=\"color:#cdcd00\">silver-sweep-6</strong> to <a href=\"https://wandb.ai\" target=\"_blank\">Weights & Biases</a> <a href=\"https://docs.wandb.com/integrations/jupyter.html\" target=\"_blank\">(Documentation)</a>.<br/>\n",
              "                Project page: <a href=\"https://wandb.ai/icgencel/e216642_Assigment_WnB_BiLSTM\" target=\"_blank\">https://wandb.ai/icgencel/e216642_Assigment_WnB_BiLSTM</a><br/>\n",
              "                Sweep page: <a href=\"https://wandb.ai/icgencel/e216642_Assigment_WnB_BiLSTM/sweeps/cp2lxidp\" target=\"_blank\">https://wandb.ai/icgencel/e216642_Assigment_WnB_BiLSTM/sweeps/cp2lxidp</a><br/>\n",
              "Run page: <a href=\"https://wandb.ai/icgencel/e216642_Assigment_WnB_BiLSTM/runs/y6hlwinv\" target=\"_blank\">https://wandb.ai/icgencel/e216642_Assigment_WnB_BiLSTM/runs/y6hlwinv</a><br/>\n",
              "                Run data is saved locally in <code>/content/wandb/run-20210613_203119-y6hlwinv</code><br/><br/>\n",
              "            "
            ],
            "text/plain": [
              "<IPython.core.display.HTML object>"
            ]
          },
          "metadata": {
            "tags": []
          }
        },
        {
          "output_type": "stream",
          "text": [
            "Epoch:  1 | Epoch Time: 0m 6s\n",
            "\tTrain Loss: 0.606 | Train Acc: 66.48%\n",
            "\t Val. Loss: 0.537 |  Val. Acc: 74.73%\n",
            "Epoch:  2 | Epoch Time: 0m 6s\n",
            "\tTrain Loss: 0.488 | Train Acc: 77.97%\n",
            "\t Val. Loss: 0.499 |  Val. Acc: 77.49%\n",
            "Epoch:  3 | Epoch Time: 0m 6s\n",
            "\tTrain Loss: 0.514 | Train Acc: 75.45%\n",
            "\t Val. Loss: 0.488 |  Val. Acc: 79.40%\n",
            "Epoch:  4 | Epoch Time: 0m 6s\n",
            "\tTrain Loss: 0.326 | Train Acc: 87.12%\n",
            "\t Val. Loss: 0.445 |  Val. Acc: 81.91%\n",
            "Epoch:  5 | Epoch Time: 0m 6s\n",
            "\tTrain Loss: 0.268 | Train Acc: 90.12%\n",
            "\t Val. Loss: 0.443 |  Val. Acc: 81.74%\n"
          ],
          "name": "stdout"
        },
        {
          "output_type": "display_data",
          "data": {
            "text/html": [
              "<br/>Waiting for W&B process to finish, PID 429<br/>Program ended successfully."
            ],
            "text/plain": [
              "<IPython.core.display.HTML object>"
            ]
          },
          "metadata": {
            "tags": []
          }
        },
        {
          "output_type": "display_data",
          "data": {
            "application/vnd.jupyter.widget-view+json": {
              "model_id": "504efeef43034e489cca41917811d1eb",
              "version_minor": 0,
              "version_major": 2
            },
            "text/plain": [
              "VBox(children=(Label(value=' 0.00MB of 0.00MB uploaded (0.00MB deduped)\\r'), FloatProgress(value=1.0, max=1.0)…"
            ]
          },
          "metadata": {
            "tags": []
          }
        },
        {
          "output_type": "display_data",
          "data": {
            "text/html": [
              "Find user logs for this run at: <code>/content/wandb/run-20210613_203119-y6hlwinv/logs/debug.log</code>"
            ],
            "text/plain": [
              "<IPython.core.display.HTML object>"
            ]
          },
          "metadata": {
            "tags": []
          }
        },
        {
          "output_type": "display_data",
          "data": {
            "text/html": [
              "Find internal logs for this run at: <code>/content/wandb/run-20210613_203119-y6hlwinv/logs/debug-internal.log</code>"
            ],
            "text/plain": [
              "<IPython.core.display.HTML object>"
            ]
          },
          "metadata": {
            "tags": []
          }
        },
        {
          "output_type": "display_data",
          "data": {
            "text/html": [
              "<h3>Run summary:</h3><br/><style>\n",
              "    table.wandb td:nth-child(1) { padding: 0 10px; text-align: right }\n",
              "    </style><table class=\"wandb\">\n",
              "<tr><td>Train_loss</td><td>0.26789</td></tr><tr><td>_runtime</td><td>38</td></tr><tr><td>_timestamp</td><td>1623616317</td></tr><tr><td>_step</td><td>5</td></tr><tr><td>Valid_loss</td><td>0.44349</td></tr><tr><td>Train_acc</td><td>0.90116</td></tr><tr><td>Valid_acc</td><td>0.81736</td></tr><tr><td>Test_loss</td><td>0.42888</td></tr><tr><td>Test_acc</td><td>0.8275</td></tr></table>"
            ],
            "text/plain": [
              "<IPython.core.display.HTML object>"
            ]
          },
          "metadata": {
            "tags": []
          }
        },
        {
          "output_type": "display_data",
          "data": {
            "text/html": [
              "<h3>Run history:</h3><br/><style>\n",
              "    table.wandb td:nth-child(1) { padding: 0 10px; text-align: right }\n",
              "    </style><table class=\"wandb\">\n",
              "<tr><td>Train_loss</td><td>▁</td></tr><tr><td>_runtime</td><td>▁▁▁▁██</td></tr><tr><td>_timestamp</td><td>▁▁▁▁██</td></tr><tr><td>_step</td><td>▁▂▄▅▇█</td></tr><tr><td>Valid_loss</td><td>▁</td></tr><tr><td>Train_acc</td><td>▁</td></tr><tr><td>Valid_acc</td><td>▁</td></tr><tr><td>Test_loss</td><td>▁</td></tr><tr><td>Test_acc</td><td>▁</td></tr></table><br/>"
            ],
            "text/plain": [
              "<IPython.core.display.HTML object>"
            ]
          },
          "metadata": {
            "tags": []
          }
        },
        {
          "output_type": "display_data",
          "data": {
            "text/html": [
              "Synced 5 W&B file(s), 0 media file(s), 0 artifact file(s) and 0 other file(s)"
            ],
            "text/plain": [
              "<IPython.core.display.HTML object>"
            ]
          },
          "metadata": {
            "tags": []
          }
        },
        {
          "output_type": "display_data",
          "data": {
            "text/html": [
              "\n",
              "                    <br/>Synced <strong style=\"color:#cdcd00\">silver-sweep-6</strong>: <a href=\"https://wandb.ai/icgencel/e216642_Assigment_WnB_BiLSTM/runs/y6hlwinv\" target=\"_blank\">https://wandb.ai/icgencel/e216642_Assigment_WnB_BiLSTM/runs/y6hlwinv</a><br/>\n",
              "                "
            ],
            "text/plain": [
              "<IPython.core.display.HTML object>"
            ]
          },
          "metadata": {
            "tags": []
          }
        },
        {
          "output_type": "stream",
          "text": [
            "\u001b[34m\u001b[1mwandb\u001b[0m: Agent Starting Run: zamaep8m with config:\n",
            "\u001b[34m\u001b[1mwandb\u001b[0m: \tbatch_size: 64\n",
            "\u001b[34m\u001b[1mwandb\u001b[0m: \tepochs: 10\n",
            "\u001b[34m\u001b[1mwandb\u001b[0m: \tlearning_rate: 0.01\n"
          ],
          "name": "stderr"
        },
        {
          "output_type": "display_data",
          "data": {
            "text/html": [
              "\n",
              "                Tracking run with wandb version 0.10.32<br/>\n",
              "                Syncing run <strong style=\"color:#cdcd00\">electric-sweep-7</strong> to <a href=\"https://wandb.ai\" target=\"_blank\">Weights & Biases</a> <a href=\"https://docs.wandb.com/integrations/jupyter.html\" target=\"_blank\">(Documentation)</a>.<br/>\n",
              "                Project page: <a href=\"https://wandb.ai/icgencel/e216642_Assigment_WnB_BiLSTM\" target=\"_blank\">https://wandb.ai/icgencel/e216642_Assigment_WnB_BiLSTM</a><br/>\n",
              "                Sweep page: <a href=\"https://wandb.ai/icgencel/e216642_Assigment_WnB_BiLSTM/sweeps/cp2lxidp\" target=\"_blank\">https://wandb.ai/icgencel/e216642_Assigment_WnB_BiLSTM/sweeps/cp2lxidp</a><br/>\n",
              "Run page: <a href=\"https://wandb.ai/icgencel/e216642_Assigment_WnB_BiLSTM/runs/zamaep8m\" target=\"_blank\">https://wandb.ai/icgencel/e216642_Assigment_WnB_BiLSTM/runs/zamaep8m</a><br/>\n",
              "                Run data is saved locally in <code>/content/wandb/run-20210613_203208-zamaep8m</code><br/><br/>\n",
              "            "
            ],
            "text/plain": [
              "<IPython.core.display.HTML object>"
            ]
          },
          "metadata": {
            "tags": []
          }
        },
        {
          "output_type": "stream",
          "text": [
            "Epoch:  1 | Epoch Time: 0m 6s\n",
            "\tTrain Loss: 0.553 | Train Acc: 71.15%\n",
            "\t Val. Loss: 0.416 |  Val. Acc: 81.95%\n",
            "Epoch:  2 | Epoch Time: 0m 6s\n",
            "\tTrain Loss: 0.293 | Train Acc: 88.65%\n",
            "\t Val. Loss: 0.410 |  Val. Acc: 81.92%\n",
            "Epoch:  3 | Epoch Time: 0m 6s\n",
            "\tTrain Loss: 0.177 | Train Acc: 93.80%\n",
            "\t Val. Loss: 0.501 |  Val. Acc: 82.46%\n",
            "Epoch:  4 | Epoch Time: 0m 6s\n",
            "\tTrain Loss: 0.125 | Train Acc: 95.80%\n",
            "\t Val. Loss: 0.557 |  Val. Acc: 82.30%\n",
            "Epoch:  5 | Epoch Time: 0m 6s\n",
            "\tTrain Loss: 0.092 | Train Acc: 97.06%\n",
            "\t Val. Loss: 0.639 |  Val. Acc: 81.73%\n",
            "Epoch:  6 | Epoch Time: 0m 6s\n",
            "\tTrain Loss: 0.072 | Train Acc: 97.77%\n",
            "\t Val. Loss: 0.698 |  Val. Acc: 81.67%\n",
            "Epoch:  7 | Epoch Time: 0m 6s\n",
            "\tTrain Loss: 0.059 | Train Acc: 98.15%\n",
            "\t Val. Loss: 0.715 |  Val. Acc: 81.36%\n",
            "Epoch:  8 | Epoch Time: 0m 6s\n",
            "\tTrain Loss: 0.053 | Train Acc: 98.38%\n",
            "\t Val. Loss: 0.785 |  Val. Acc: 80.11%\n",
            "Epoch:  9 | Epoch Time: 0m 6s\n",
            "\tTrain Loss: 0.055 | Train Acc: 98.22%\n",
            "\t Val. Loss: 0.868 |  Val. Acc: 80.75%\n",
            "Epoch: 10 | Epoch Time: 0m 6s\n",
            "\tTrain Loss: 0.045 | Train Acc: 98.54%\n",
            "\t Val. Loss: 0.884 |  Val. Acc: 80.66%\n"
          ],
          "name": "stdout"
        },
        {
          "output_type": "display_data",
          "data": {
            "text/html": [
              "<br/>Waiting for W&B process to finish, PID 470<br/>Program ended successfully."
            ],
            "text/plain": [
              "<IPython.core.display.HTML object>"
            ]
          },
          "metadata": {
            "tags": []
          }
        },
        {
          "output_type": "display_data",
          "data": {
            "application/vnd.jupyter.widget-view+json": {
              "model_id": "95547d8a22cb4ec1af254c760429ff13",
              "version_minor": 0,
              "version_major": 2
            },
            "text/plain": [
              "VBox(children=(Label(value=' 0.00MB of 0.00MB uploaded (0.00MB deduped)\\r'), FloatProgress(value=1.0, max=1.0)…"
            ]
          },
          "metadata": {
            "tags": []
          }
        },
        {
          "output_type": "display_data",
          "data": {
            "text/html": [
              "Find user logs for this run at: <code>/content/wandb/run-20210613_203208-zamaep8m/logs/debug.log</code>"
            ],
            "text/plain": [
              "<IPython.core.display.HTML object>"
            ]
          },
          "metadata": {
            "tags": []
          }
        },
        {
          "output_type": "display_data",
          "data": {
            "text/html": [
              "Find internal logs for this run at: <code>/content/wandb/run-20210613_203208-zamaep8m/logs/debug-internal.log</code>"
            ],
            "text/plain": [
              "<IPython.core.display.HTML object>"
            ]
          },
          "metadata": {
            "tags": []
          }
        },
        {
          "output_type": "display_data",
          "data": {
            "text/html": [
              "<h3>Run summary:</h3><br/><style>\n",
              "    table.wandb td:nth-child(1) { padding: 0 10px; text-align: right }\n",
              "    </style><table class=\"wandb\">\n",
              "<tr><td>Train_loss</td><td>0.04492</td></tr><tr><td>_runtime</td><td>70</td></tr><tr><td>_timestamp</td><td>1623616398</td></tr><tr><td>_step</td><td>5</td></tr><tr><td>Valid_loss</td><td>0.88402</td></tr><tr><td>Train_acc</td><td>0.98541</td></tr><tr><td>Valid_acc</td><td>0.80659</td></tr><tr><td>Test_loss</td><td>0.84955</td></tr><tr><td>Test_acc</td><td>0.8116</td></tr></table>"
            ],
            "text/plain": [
              "<IPython.core.display.HTML object>"
            ]
          },
          "metadata": {
            "tags": []
          }
        },
        {
          "output_type": "display_data",
          "data": {
            "text/html": [
              "<h3>Run history:</h3><br/><style>\n",
              "    table.wandb td:nth-child(1) { padding: 0 10px; text-align: right }\n",
              "    </style><table class=\"wandb\">\n",
              "<tr><td>Train_loss</td><td>▁</td></tr><tr><td>_runtime</td><td>▁▁▁▁██</td></tr><tr><td>_timestamp</td><td>▁▁▁▁██</td></tr><tr><td>_step</td><td>▁▂▄▅▇█</td></tr><tr><td>Valid_loss</td><td>▁</td></tr><tr><td>Train_acc</td><td>▁</td></tr><tr><td>Valid_acc</td><td>▁</td></tr><tr><td>Test_loss</td><td>▁</td></tr><tr><td>Test_acc</td><td>▁</td></tr></table><br/>"
            ],
            "text/plain": [
              "<IPython.core.display.HTML object>"
            ]
          },
          "metadata": {
            "tags": []
          }
        },
        {
          "output_type": "display_data",
          "data": {
            "text/html": [
              "Synced 5 W&B file(s), 0 media file(s), 0 artifact file(s) and 0 other file(s)"
            ],
            "text/plain": [
              "<IPython.core.display.HTML object>"
            ]
          },
          "metadata": {
            "tags": []
          }
        },
        {
          "output_type": "display_data",
          "data": {
            "text/html": [
              "\n",
              "                    <br/>Synced <strong style=\"color:#cdcd00\">electric-sweep-7</strong>: <a href=\"https://wandb.ai/icgencel/e216642_Assigment_WnB_BiLSTM/runs/zamaep8m\" target=\"_blank\">https://wandb.ai/icgencel/e216642_Assigment_WnB_BiLSTM/runs/zamaep8m</a><br/>\n",
              "                "
            ],
            "text/plain": [
              "<IPython.core.display.HTML object>"
            ]
          },
          "metadata": {
            "tags": []
          }
        },
        {
          "output_type": "stream",
          "text": [
            "\u001b[34m\u001b[1mwandb\u001b[0m: Agent Starting Run: p2vmn3jy with config:\n",
            "\u001b[34m\u001b[1mwandb\u001b[0m: \tbatch_size: 64\n",
            "\u001b[34m\u001b[1mwandb\u001b[0m: \tepochs: 10\n",
            "\u001b[34m\u001b[1mwandb\u001b[0m: \tlearning_rate: 0.001\n"
          ],
          "name": "stderr"
        },
        {
          "output_type": "display_data",
          "data": {
            "text/html": [
              "\n",
              "                Tracking run with wandb version 0.10.32<br/>\n",
              "                Syncing run <strong style=\"color:#cdcd00\">atomic-sweep-8</strong> to <a href=\"https://wandb.ai\" target=\"_blank\">Weights & Biases</a> <a href=\"https://docs.wandb.com/integrations/jupyter.html\" target=\"_blank\">(Documentation)</a>.<br/>\n",
              "                Project page: <a href=\"https://wandb.ai/icgencel/e216642_Assigment_WnB_BiLSTM\" target=\"_blank\">https://wandb.ai/icgencel/e216642_Assigment_WnB_BiLSTM</a><br/>\n",
              "                Sweep page: <a href=\"https://wandb.ai/icgencel/e216642_Assigment_WnB_BiLSTM/sweeps/cp2lxidp\" target=\"_blank\">https://wandb.ai/icgencel/e216642_Assigment_WnB_BiLSTM/sweeps/cp2lxidp</a><br/>\n",
              "Run page: <a href=\"https://wandb.ai/icgencel/e216642_Assigment_WnB_BiLSTM/runs/p2vmn3jy\" target=\"_blank\">https://wandb.ai/icgencel/e216642_Assigment_WnB_BiLSTM/runs/p2vmn3jy</a><br/>\n",
              "                Run data is saved locally in <code>/content/wandb/run-20210613_203330-p2vmn3jy</code><br/><br/>\n",
              "            "
            ],
            "text/plain": [
              "<IPython.core.display.HTML object>"
            ]
          },
          "metadata": {
            "tags": []
          }
        },
        {
          "output_type": "stream",
          "text": [
            "Epoch:  1 | Epoch Time: 0m 6s\n",
            "\tTrain Loss: 0.647 | Train Acc: 62.31%\n",
            "\t Val. Loss: 0.663 |  Val. Acc: 62.99%\n",
            "Epoch:  2 | Epoch Time: 0m 6s\n",
            "\tTrain Loss: 0.601 | Train Acc: 68.83%\n",
            "\t Val. Loss: 0.635 |  Val. Acc: 62.31%\n",
            "Epoch:  3 | Epoch Time: 0m 6s\n",
            "\tTrain Loss: 0.469 | Train Acc: 78.63%\n",
            "\t Val. Loss: 0.468 |  Val. Acc: 78.05%\n",
            "Epoch:  4 | Epoch Time: 0m 6s\n",
            "\tTrain Loss: 0.326 | Train Acc: 87.09%\n",
            "\t Val. Loss: 0.425 |  Val. Acc: 82.30%\n",
            "Epoch:  5 | Epoch Time: 0m 6s\n",
            "\tTrain Loss: 0.230 | Train Acc: 91.68%\n",
            "\t Val. Loss: 0.433 |  Val. Acc: 83.00%\n",
            "Epoch:  6 | Epoch Time: 0m 6s\n",
            "\tTrain Loss: 0.165 | Train Acc: 94.72%\n",
            "\t Val. Loss: 0.489 |  Val. Acc: 82.92%\n",
            "Epoch:  7 | Epoch Time: 0m 6s\n",
            "\tTrain Loss: 0.122 | Train Acc: 96.27%\n",
            "\t Val. Loss: 0.512 |  Val. Acc: 81.66%\n",
            "Epoch:  8 | Epoch Time: 0m 6s\n",
            "\tTrain Loss: 0.091 | Train Acc: 97.46%\n",
            "\t Val. Loss: 0.608 |  Val. Acc: 80.93%\n",
            "Epoch:  9 | Epoch Time: 0m 6s\n",
            "\tTrain Loss: 0.063 | Train Acc: 98.37%\n",
            "\t Val. Loss: 0.741 |  Val. Acc: 82.25%\n",
            "Epoch: 10 | Epoch Time: 0m 6s\n",
            "\tTrain Loss: 0.056 | Train Acc: 98.53%\n",
            "\t Val. Loss: 0.718 |  Val. Acc: 82.19%\n"
          ],
          "name": "stdout"
        },
        {
          "output_type": "display_data",
          "data": {
            "text/html": [
              "<br/>Waiting for W&B process to finish, PID 519<br/>Program ended successfully."
            ],
            "text/plain": [
              "<IPython.core.display.HTML object>"
            ]
          },
          "metadata": {
            "tags": []
          }
        },
        {
          "output_type": "display_data",
          "data": {
            "application/vnd.jupyter.widget-view+json": {
              "model_id": "8d1e35917578493180d2aaa774c0bea6",
              "version_minor": 0,
              "version_major": 2
            },
            "text/plain": [
              "VBox(children=(Label(value=' 0.00MB of 0.00MB uploaded (0.00MB deduped)\\r'), FloatProgress(value=1.0, max=1.0)…"
            ]
          },
          "metadata": {
            "tags": []
          }
        },
        {
          "output_type": "display_data",
          "data": {
            "text/html": [
              "Find user logs for this run at: <code>/content/wandb/run-20210613_203330-p2vmn3jy/logs/debug.log</code>"
            ],
            "text/plain": [
              "<IPython.core.display.HTML object>"
            ]
          },
          "metadata": {
            "tags": []
          }
        },
        {
          "output_type": "display_data",
          "data": {
            "text/html": [
              "Find internal logs for this run at: <code>/content/wandb/run-20210613_203330-p2vmn3jy/logs/debug-internal.log</code>"
            ],
            "text/plain": [
              "<IPython.core.display.HTML object>"
            ]
          },
          "metadata": {
            "tags": []
          }
        },
        {
          "output_type": "display_data",
          "data": {
            "text/html": [
              "<h3>Run summary:</h3><br/><style>\n",
              "    table.wandb td:nth-child(1) { padding: 0 10px; text-align: right }\n",
              "    </style><table class=\"wandb\">\n",
              "<tr><td>Train_loss</td><td>0.0562</td></tr><tr><td>_runtime</td><td>71</td></tr><tr><td>_timestamp</td><td>1623616481</td></tr><tr><td>_step</td><td>5</td></tr><tr><td>Valid_loss</td><td>0.71806</td></tr><tr><td>Train_acc</td><td>0.98525</td></tr><tr><td>Valid_acc</td><td>0.82186</td></tr><tr><td>Test_loss</td><td>0.67887</td></tr><tr><td>Test_acc</td><td>0.82951</td></tr></table>"
            ],
            "text/plain": [
              "<IPython.core.display.HTML object>"
            ]
          },
          "metadata": {
            "tags": []
          }
        },
        {
          "output_type": "display_data",
          "data": {
            "text/html": [
              "<h3>Run history:</h3><br/><style>\n",
              "    table.wandb td:nth-child(1) { padding: 0 10px; text-align: right }\n",
              "    </style><table class=\"wandb\">\n",
              "<tr><td>Train_loss</td><td>▁</td></tr><tr><td>_runtime</td><td>▁▁▁▁██</td></tr><tr><td>_timestamp</td><td>▁▁▁▁██</td></tr><tr><td>_step</td><td>▁▂▄▅▇█</td></tr><tr><td>Valid_loss</td><td>▁</td></tr><tr><td>Train_acc</td><td>▁</td></tr><tr><td>Valid_acc</td><td>▁</td></tr><tr><td>Test_loss</td><td>▁</td></tr><tr><td>Test_acc</td><td>▁</td></tr></table><br/>"
            ],
            "text/plain": [
              "<IPython.core.display.HTML object>"
            ]
          },
          "metadata": {
            "tags": []
          }
        },
        {
          "output_type": "display_data",
          "data": {
            "text/html": [
              "Synced 5 W&B file(s), 0 media file(s), 0 artifact file(s) and 0 other file(s)"
            ],
            "text/plain": [
              "<IPython.core.display.HTML object>"
            ]
          },
          "metadata": {
            "tags": []
          }
        },
        {
          "output_type": "display_data",
          "data": {
            "text/html": [
              "\n",
              "                    <br/>Synced <strong style=\"color:#cdcd00\">atomic-sweep-8</strong>: <a href=\"https://wandb.ai/icgencel/e216642_Assigment_WnB_BiLSTM/runs/p2vmn3jy\" target=\"_blank\">https://wandb.ai/icgencel/e216642_Assigment_WnB_BiLSTM/runs/p2vmn3jy</a><br/>\n",
              "                "
            ],
            "text/plain": [
              "<IPython.core.display.HTML object>"
            ]
          },
          "metadata": {
            "tags": []
          }
        },
        {
          "output_type": "stream",
          "text": [
            "\u001b[34m\u001b[1mwandb\u001b[0m: Sweep Agent: Waiting for job.\n",
            "\u001b[34m\u001b[1mwandb\u001b[0m: Sweep Agent: Exiting.\n"
          ],
          "name": "stderr"
        }
      ]
    }
  ]
}