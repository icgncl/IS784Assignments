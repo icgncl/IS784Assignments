{
  "nbformat": 4,
  "nbformat_minor": 0,
  "metadata": {
    "colab": {
      "name": "e216642_Assignment3.ipynb",
      "provenance": [],
      "collapsed_sections": []
    },
    "kernelspec": {
      "name": "python3",
      "display_name": "Python 3"
    },
    "language_info": {
      "name": "python"
    },
    "accelerator": "GPU"
  },
  "cells": [
    {
      "cell_type": "markdown",
      "metadata": {
        "id": "eb5dcqbE5fdB"
      },
      "source": [
        "In order to classify sentences with LSTM, I am going to use Many-to-one architecture from LSTM modules."
      ]
    },
    {
      "cell_type": "code",
      "metadata": {
        "id": "b7D-GhrkW0oe"
      },
      "source": [
        "CUDA_LAUNCH_BLOCKING=1"
      ],
      "execution_count": 1,
      "outputs": []
    },
    {
      "cell_type": "code",
      "metadata": {
        "id": "RrFhhaXPI_E3",
        "colab": {
          "base_uri": "https://localhost:8080/"
        },
        "outputId": "0e8301d8-c9fe-4b24-8b30-7bdc573f59fe"
      },
      "source": [
        "import torch\n",
        "import torch.nn as nn\n",
        "import torch.nn.functional as F\n",
        "from torchtext.legacy import data,datasets\n",
        "import torchtext.legacy\n",
        "import torch.optim as optim\n",
        "import time\n",
        "\n",
        "import nltk\n",
        "from nltk.corpus import stopwords\n",
        "nltk.download('stopwords')"
      ],
      "execution_count": 2,
      "outputs": [
        {
          "output_type": "stream",
          "text": [
            "[nltk_data] Downloading package stopwords to /root/nltk_data...\n",
            "[nltk_data]   Unzipping corpora/stopwords.zip.\n"
          ],
          "name": "stdout"
        },
        {
          "output_type": "execute_result",
          "data": {
            "text/plain": [
              "True"
            ]
          },
          "metadata": {
            "tags": []
          },
          "execution_count": 2
        }
      ]
    },
    {
      "cell_type": "markdown",
      "metadata": {
        "id": "JcaeUHa4hQXK"
      },
      "source": [
        "Definition of Tokenizer"
      ]
    },
    {
      "cell_type": "code",
      "metadata": {
        "id": "HRLyoGMsKR9Q"
      },
      "source": [
        "def tokenizer(text):\n",
        "  text = text.split(\" \")\n",
        "  return text"
      ],
      "execution_count": 3,
      "outputs": []
    },
    {
      "cell_type": "markdown",
      "metadata": {
        "id": "Am68EjayhSRz"
      },
      "source": [
        "TEXT and LABEL creation"
      ]
    },
    {
      "cell_type": "code",
      "metadata": {
        "id": "sZi9IZPcJQY5"
      },
      "source": [
        "# In this part, basic tokenizer ais used and stop words are removed.\n",
        "TEXT = data.Field(tokenize = tokenizer, batch_first= True, stop_words=stopwords.words('english'))\n",
        "LABEL = data.LabelField(dtype = torch.float)"
      ],
      "execution_count": 4,
      "outputs": []
    },
    {
      "cell_type": "markdown",
      "metadata": {
        "id": "UufwokvEhUth"
      },
      "source": [
        "data is splitted to test and train sets"
      ]
    },
    {
      "cell_type": "code",
      "metadata": {
        "id": "shqIXFJZKuQ9",
        "colab": {
          "base_uri": "https://localhost:8080/"
        },
        "outputId": "e3a14b93-8045-4a1c-9554-863ec6f33cc9"
      },
      "source": [
        "train_data, test_data = datasets.IMDB.splits(TEXT, LABEL)"
      ],
      "execution_count": 5,
      "outputs": [
        {
          "output_type": "stream",
          "text": [
            "downloading aclImdb_v1.tar.gz\n"
          ],
          "name": "stdout"
        },
        {
          "output_type": "stream",
          "text": [
            "aclImdb_v1.tar.gz: 100%|██████████| 84.1M/84.1M [00:06<00:00, 13.6MB/s]\n"
          ],
          "name": "stderr"
        }
      ]
    },
    {
      "cell_type": "markdown",
      "metadata": {
        "id": "yIPBtTvohY1Z"
      },
      "source": [
        "Maximum and average sentence lengths are found"
      ]
    },
    {
      "cell_type": "code",
      "metadata": {
        "colab": {
          "base_uri": "https://localhost:8080/"
        },
        "id": "iOmLtoHtQDQf",
        "outputId": "b5ebb3dd-dc3b-423e-c6be-7c77023465e6"
      },
      "source": [
        "max_size=0  ## this part of the code find maximum length of the network\n",
        "count=0\n",
        "sum= 0\n",
        "for i in  range(len(train_data)):\n",
        "  if max_size < len(train_data[i].text):\n",
        "    max_size =len(train_data[i].text)\n",
        "    print(max_size)\n",
        "  count +=1\n",
        "  sum +=len(train_data[i].text)\n",
        "print(\"avarage: \", sum/count)"
      ],
      "execution_count": 6,
      "outputs": [
        {
          "output_type": "stream",
          "text": [
            "202\n",
            "211\n",
            "272\n",
            "288\n",
            "299\n",
            "428\n",
            "477\n",
            "522\n",
            "592\n",
            "642\n",
            "1001\n",
            "1035\n",
            "1532\n",
            "avarage:  137.90252\n"
          ],
          "name": "stdout"
        }
      ]
    },
    {
      "cell_type": "markdown",
      "metadata": {
        "id": "8gJpgbv3oS8N"
      },
      "source": [
        "#Splitting data as train,valid, test data"
      ]
    },
    {
      "cell_type": "code",
      "metadata": {
        "id": "WGPTO_6UQFfb"
      },
      "source": [
        "TEXT = torchtext.legacy.data.Field(tokenize=tokenizer, batch_first=True,fix_length= 137 # it is filled with average size \n",
        "                            , stop_words=stopwords.words('english')) # preprocessing parameters can be used to add aditional  preprocessing steps\n",
        "LABEL = torchtext.legacy.data.LabelField(dtype = torch.float)\n",
        "train_data, test_data = torchtext.legacy.datasets.IMDB.splits(TEXT, LABEL) \n",
        "test_data, valid_data = test_data.split()"
      ],
      "execution_count": 7,
      "outputs": []
    },
    {
      "cell_type": "markdown",
      "metadata": {
        "id": "H-W-_-tyLLsN"
      },
      "source": [
        "The following cell is taken from Lab5"
      ]
    },
    {
      "cell_type": "code",
      "metadata": {
        "id": "MztOTfpXK1Qy",
        "colab": {
          "base_uri": "https://localhost:8080/"
        },
        "outputId": "eee33017-c73a-4f6f-95ac-0ad53d0fa71a"
      },
      "source": [
        "# Build vocabularies\n",
        "TEXT.build_vocab(train_data, \n",
        "                 max_size = 30000, # Select only the most important 30000 words\n",
        "                 # Load pretrained embeddings\n",
        "                 vectors = \"glove.6B.100d\", \n",
        "                 # Set unknown vectors\n",
        "                 unk_init = torch.Tensor.normal_)\n",
        "\n",
        "LABEL.build_vocab(train_data)"
      ],
      "execution_count": 8,
      "outputs": [
        {
          "output_type": "stream",
          "text": [
            ".vector_cache/glove.6B.zip: 862MB [02:43, 5.28MB/s]                           \n",
            "100%|█████████▉| 399692/400000 [00:21<00:00, 19280.78it/s]"
          ],
          "name": "stderr"
        }
      ]
    },
    {
      "cell_type": "markdown",
      "metadata": {
        "id": "FuWPZbLRoZ6-"
      },
      "source": [
        "# Creating Iterators"
      ]
    },
    {
      "cell_type": "code",
      "metadata": {
        "id": "zihlY3AjLN_Z"
      },
      "source": [
        "BATCH_SIZE = 64\n",
        "\n",
        "device = torch.device('cuda' if torch.cuda.is_available() else 'cpu')\n",
        "\n",
        "train_iterator, valid_iterator, test_iterator = data.BucketIterator.splits(\n",
        "    (train_data, valid_data, test_data), \n",
        "    batch_size = BATCH_SIZE, \n",
        "    device = device)"
      ],
      "execution_count": 9,
      "outputs": []
    },
    {
      "cell_type": "code",
      "metadata": {
        "id": "cNXcBSozBPJf"
      },
      "source": [
        "input_dim = len(TEXT.vocab)\n",
        "embedding_dim = 100 # in order to create a emb vector with dimension 100\n",
        "pad_idx = TEXT.vocab.stoi[TEXT.pad_token]\n",
        "unk_idx = TEXT.vocab.stoi[TEXT.unk_token]"
      ],
      "execution_count": 10,
      "outputs": []
    },
    {
      "cell_type": "markdown",
      "metadata": {
        "id": "u2JrCgpfod4y"
      },
      "source": [
        "# LSTM Network"
      ]
    },
    {
      "cell_type": "code",
      "metadata": {
        "id": "et5352XzMn6Y"
      },
      "source": [
        "# In this part, 1-layer LSTM network is created. Before LSTM, embedding layer is used\n",
        "# with dimension 100. At the output of LSTM, there is a dropout layer with prob 0.5\n",
        "# Finally there is a linear layer, at the output\n",
        "\n",
        "class LSTMNetwork(nn.Module):\n",
        "\n",
        "  def __init__(self,input_dim,embedding_dim,pad_idx):\n",
        "    super().__init__()\n",
        "    self.embedding = nn.Embedding(input_dim, embedding_dim, padding_idx = pad_idx)\n",
        "    self.lstm = nn.LSTM(input_size =embedding_dim, hidden_size= 100, batch_first = True)\n",
        "    self.dropout = nn.Dropout(0.5)\n",
        "    self.linear = nn.Linear(100,1)\n",
        "\n",
        "  def forward(self,input_ids):\n",
        "        x = self.embedding(input_ids)\n",
        "        lstm_out, (ht, ct) = self.lstm(x)\n",
        "        ht = self.dropout(ht)\n",
        "        out = self.linear(ht[-1])\n",
        "        return out "
      ],
      "execution_count": 11,
      "outputs": []
    },
    {
      "cell_type": "code",
      "metadata": {
        "id": "N5oDUT1vOqSi"
      },
      "source": [
        "# Model is created and weigths are copied \n",
        "# Finally model is transferred to GPU\n",
        "model = LSTMNetwork(input_dim, embedding_dim, pad_idx)\n",
        "model.embedding.weight.data.copy_(TEXT.vocab.vectors)\n",
        "\n",
        "model.embedding.weight.data[unk_idx] = torch.zeros(embedding_dim)\n",
        "model.embedding.weight.data[pad_idx] = torch.zeros(embedding_dim)\n",
        "model = model.to(device)"
      ],
      "execution_count": 12,
      "outputs": []
    },
    {
      "cell_type": "markdown",
      "metadata": {
        "id": "ov0LulOZogLK"
      },
      "source": [
        "# Optimizer and Loss function"
      ]
    },
    {
      "cell_type": "code",
      "metadata": {
        "id": "09X7579sPLjL"
      },
      "source": [
        "optimizer = optim.Adam(model.parameters(), lr = 0.001)\n",
        "criterion = nn.BCEWithLogitsLoss()\n",
        "model = model.to(device)\n",
        "criterion = criterion.to(device)"
      ],
      "execution_count": 13,
      "outputs": []
    },
    {
      "cell_type": "markdown",
      "metadata": {
        "id": "PtkEblj7tNZ0"
      },
      "source": [
        "Following parts are taken from IS784 - Lab5"
      ]
    },
    {
      "cell_type": "code",
      "metadata": {
        "id": "ctRg9A9BT7FM"
      },
      "source": [
        "# Helper functions\n",
        "def accuracy(preds, y):\n",
        "    \"\"\" Return accuracy per batch. \"\"\"\n",
        "    correct = (torch.round(torch.sigmoid(preds)) == y).float() \n",
        "    return correct.sum() / len(correct)\n",
        "\n",
        "def epoch_time(start_time, end_time):\n",
        "    '''Track training time. '''\n",
        "    elapsed_time = end_time - start_time\n",
        "    elapsed_mins = int(elapsed_time / 60)\n",
        "    elapsed_secs = int(elapsed_time - (elapsed_mins * 60))\n",
        "    return elapsed_mins, elapsed_secs\n",
        "  \n",
        "def train(model, iterator, optimizer, criterion):\n",
        "    '''Train the model with specified data, optimizer, and loss function. '''\n",
        "    epoch_loss = 0\n",
        "    epoch_acc = 0\n",
        "    \n",
        "    model.train()\n",
        "    \n",
        "    for batch in iterator:\n",
        "        \n",
        "        # Reset the gradient to not use them in multiple passes \n",
        "        optimizer.zero_grad()\n",
        "        predictions = model(batch.text).squeeze(1)\n",
        "        \n",
        "        loss = criterion(predictions, batch.label)\n",
        "        \n",
        "        acc = accuracy(predictions, batch.label)\n",
        "        \n",
        "        # Backprop\n",
        "        loss.backward()\n",
        "        \n",
        "        # Optimize the weights\n",
        "        optimizer.step()\n",
        "        \n",
        "        # Record accuracy and loss\n",
        "        epoch_loss += loss.item()\n",
        "        epoch_acc += acc.item()\n",
        "        \n",
        "    return epoch_loss / len(iterator), epoch_acc / len(iterator)\n",
        "\n",
        "\n",
        "def evaluate(model, iterator, criterion):\n",
        "    '''Evaluate model performance. '''\n",
        "    epoch_loss = 0\n",
        "    epoch_acc = 0\n",
        "    \n",
        "    # Turm off dropout while evaluating\n",
        "    model.eval()\n",
        "    \n",
        "    # No need to backprop in eval\n",
        "    with torch.no_grad():\n",
        "    \n",
        "        for batch in iterator:\n",
        "\n",
        "            predictions = model(batch.text).squeeze(1)\n",
        "            loss = criterion(predictions, batch.label)\n",
        "            \n",
        "            acc = accuracy(predictions, batch.label)\n",
        "\n",
        "            epoch_loss += loss.item()\n",
        "            epoch_acc += acc.item()\n",
        "        \n",
        "    return epoch_loss / len(iterator), epoch_acc / len(iterator)"
      ],
      "execution_count": 14,
      "outputs": []
    },
    {
      "cell_type": "code",
      "metadata": {
        "colab": {
          "base_uri": "https://localhost:8080/"
        },
        "id": "5u6qUuauQGF5",
        "outputId": "c75a270d-f625-4b4e-860a-9929e94e698e"
      },
      "source": [
        "# Training loop\n",
        "N_EPOCHS = 1\n",
        "\n",
        "best_valid_loss = float('inf')\n",
        "val_loss = []\n",
        "val_acc = []\n",
        "tr_loss = []\n",
        "tr_acc = []\n",
        "\n",
        "for epoch in range(N_EPOCHS):\n",
        "    \n",
        "    # Calculate training time\n",
        "    start_time = time.time()\n",
        "    # Get epoch losses and accuracies \n",
        "    train_loss, train_acc = train(model, train_iterator, optimizer, criterion)\n",
        "    valid_loss, valid_acc = evaluate(model, valid_iterator, criterion)\n",
        "    end_time = time.time()\n",
        "    epoch_mins, epoch_secs = epoch_time(start_time, end_time)\n",
        "    \n",
        "    # Save training metrics\n",
        "    val_loss.append(valid_loss)\n",
        "    val_acc.append(valid_acc)\n",
        "    tr_loss.append(train_loss)\n",
        "    tr_acc.append(train_acc)\n",
        "    \n",
        "    print(f'Epoch: {epoch+1:2} | Epoch Time: {epoch_mins}m {epoch_secs}s')\n",
        "    print(f'\\tTrain Loss: {train_loss:.3f} | Train Acc: {train_acc*100:.2f}%')\n",
        "    print(f'\\t Val. Loss: {valid_loss:.3f} |  Val. Acc: {valid_acc*100:.2f}%')"
      ],
      "execution_count": 15,
      "outputs": [
        {
          "output_type": "stream",
          "text": [
            "\r100%|█████████▉| 399692/400000 [00:40<00:00, 19280.78it/s]"
          ],
          "name": "stderr"
        },
        {
          "output_type": "stream",
          "text": [
            "Epoch:  1 | Epoch Time: 0m 16s\n",
            "\tTrain Loss: 0.690 | Train Acc: 51.93%\n",
            "\t Val. Loss: 0.691 |  Val. Acc: 51.92%\n"
          ],
          "name": "stdout"
        }
      ]
    },
    {
      "cell_type": "code",
      "metadata": {
        "id": "cnMwsmGQm8eH"
      },
      "source": [
        "test_loss, test_acc = evaluate(model, test_iterator, criterion)"
      ],
      "execution_count": 16,
      "outputs": []
    },
    {
      "cell_type": "code",
      "metadata": {
        "colab": {
          "base_uri": "https://localhost:8080/"
        },
        "id": "lkTbT4K2tiD2",
        "outputId": "7d392670-3e14-4e50-f73c-a8017779061c"
      },
      "source": [
        "print(f\"Test accuracy for 1Epoch is {test_acc}\")"
      ],
      "execution_count": 17,
      "outputs": [
        {
          "output_type": "stream",
          "text": [
            "Test accuracy for 1Epoch is 0.5178408498746635\n"
          ],
          "name": "stdout"
        }
      ]
    },
    {
      "cell_type": "code",
      "metadata": {
        "colab": {
          "base_uri": "https://localhost:8080/"
        },
        "id": "IVNA4D4Cti_X",
        "outputId": "81ec5828-4ac9-47ac-f755-3c7e193940d0"
      },
      "source": [
        "N_EPOCHS = 9\n",
        "for epoch in range(N_EPOCHS):\n",
        "    \n",
        "    # Calculate training time\n",
        "    start_time = time.time()\n",
        "    # Get epoch losses and accuracies \n",
        "    train_loss, train_acc = train(model, train_iterator, optimizer, criterion)\n",
        "    valid_loss, valid_acc = evaluate(model, valid_iterator, criterion)\n",
        "    end_time = time.time()\n",
        "    epoch_mins, epoch_secs = epoch_time(start_time, end_time)\n",
        "    \n",
        "    # Save training metrics\n",
        "    val_loss.append(valid_loss)\n",
        "    val_acc.append(valid_acc)\n",
        "    tr_loss.append(train_loss)\n",
        "    tr_acc.append(train_acc)\n",
        "    \n",
        "    print(f'Epoch: {epoch+1:2} | Epoch Time: {epoch_mins}m {epoch_secs}s')\n",
        "    print(f'\\tTrain Loss: {train_loss:.3f} | Train Acc: {train_acc*100:.2f}%')\n",
        "    print(f'\\t Val. Loss: {valid_loss:.3f} |  Val. Acc: {valid_acc*100:.2f}%')"
      ],
      "execution_count": 18,
      "outputs": [
        {
          "output_type": "stream",
          "text": [
            "Epoch:  1 | Epoch Time: 0m 16s\n",
            "\tTrain Loss: 0.680 | Train Acc: 56.19%\n",
            "\t Val. Loss: 0.692 |  Val. Acc: 51.37%\n",
            "Epoch:  2 | Epoch Time: 0m 14s\n",
            "\tTrain Loss: 0.667 | Train Acc: 57.27%\n",
            "\t Val. Loss: 0.690 |  Val. Acc: 51.96%\n",
            "Epoch:  3 | Epoch Time: 0m 14s\n",
            "\tTrain Loss: 0.654 | Train Acc: 60.90%\n",
            "\t Val. Loss: 0.684 |  Val. Acc: 54.27%\n",
            "Epoch:  4 | Epoch Time: 0m 14s\n",
            "\tTrain Loss: 0.648 | Train Acc: 61.09%\n",
            "\t Val. Loss: 0.700 |  Val. Acc: 49.95%\n",
            "Epoch:  5 | Epoch Time: 0m 12s\n",
            "\tTrain Loss: 0.674 | Train Acc: 56.36%\n",
            "\t Val. Loss: 0.684 |  Val. Acc: 53.77%\n",
            "Epoch:  6 | Epoch Time: 0m 12s\n",
            "\tTrain Loss: 0.611 | Train Acc: 67.56%\n",
            "\t Val. Loss: 0.714 |  Val. Acc: 50.81%\n",
            "Epoch:  7 | Epoch Time: 0m 12s\n",
            "\tTrain Loss: 0.667 | Train Acc: 56.86%\n",
            "\t Val. Loss: 0.686 |  Val. Acc: 53.20%\n",
            "Epoch:  8 | Epoch Time: 0m 12s\n",
            "\tTrain Loss: 0.627 | Train Acc: 62.40%\n",
            "\t Val. Loss: 0.730 |  Val. Acc: 55.27%\n",
            "Epoch:  9 | Epoch Time: 0m 12s\n",
            "\tTrain Loss: 0.501 | Train Acc: 77.56%\n",
            "\t Val. Loss: 0.640 |  Val. Acc: 65.91%\n"
          ],
          "name": "stdout"
        }
      ]
    },
    {
      "cell_type": "code",
      "metadata": {
        "id": "OGduju2zu_AO"
      },
      "source": [
        "test_loss, test_acc = evaluate(model, test_iterator, criterion)"
      ],
      "execution_count": 19,
      "outputs": []
    },
    {
      "cell_type": "code",
      "metadata": {
        "colab": {
          "base_uri": "https://localhost:8080/"
        },
        "id": "5Uj3CekhvAQj",
        "outputId": "51c11188-d1be-4b67-e7d7-d85b2a156206"
      },
      "source": [
        "print(f\"Test accuracy for 10 Epoch is {test_acc}\")"
      ],
      "execution_count": 20,
      "outputs": [
        {
          "output_type": "stream",
          "text": [
            "Test accuracy for 10 Epoch is 0.6628894031482891\n"
          ],
          "name": "stdout"
        }
      ]
    },
    {
      "cell_type": "code",
      "metadata": {
        "id": "bgiXKmfVxr7u"
      },
      "source": [
        ""
      ],
      "execution_count": 20,
      "outputs": []
    }
  ]
}