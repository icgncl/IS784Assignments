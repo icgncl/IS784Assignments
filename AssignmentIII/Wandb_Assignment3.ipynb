{
  "nbformat": 4,
  "nbformat_minor": 0,
  "metadata": {
    "accelerator": "GPU",
    "colab": {
      "name": "Wandb_e216642_Assignment3.ipynb",
      "provenance": [],
      "collapsed_sections": []
    },
    "kernelspec": {
      "display_name": "Python 3",
      "name": "python3"
    },
    "language_info": {
      "name": "python"
    },
    "widgets": {
      "application/vnd.jupyter.widget-state+json": {
        "70c977cedec74fd4a041d1b587fa6a01": {
          "model_module": "@jupyter-widgets/controls",
          "model_name": "VBoxModel",
          "state": {
            "_view_name": "VBoxView",
            "_dom_classes": [],
            "_model_name": "VBoxModel",
            "_view_module": "@jupyter-widgets/controls",
            "_model_module_version": "1.5.0",
            "_view_count": null,
            "_view_module_version": "1.5.0",
            "box_style": "",
            "layout": "IPY_MODEL_fb0e6ff179484cdf88001db1d248a1b9",
            "_model_module": "@jupyter-widgets/controls",
            "children": [
              "IPY_MODEL_f9dbc0dd2a5f4a329d48e69b1d4009f8",
              "IPY_MODEL_bdc231779dd24e63b0521f14422532fc"
            ]
          }
        },
        "fb0e6ff179484cdf88001db1d248a1b9": {
          "model_module": "@jupyter-widgets/base",
          "model_name": "LayoutModel",
          "state": {
            "_view_name": "LayoutView",
            "grid_template_rows": null,
            "right": null,
            "justify_content": null,
            "_view_module": "@jupyter-widgets/base",
            "overflow": null,
            "_model_module_version": "1.2.0",
            "_view_count": null,
            "flex_flow": null,
            "width": null,
            "min_width": null,
            "border": null,
            "align_items": null,
            "bottom": null,
            "_model_module": "@jupyter-widgets/base",
            "top": null,
            "grid_column": null,
            "overflow_y": null,
            "overflow_x": null,
            "grid_auto_flow": null,
            "grid_area": null,
            "grid_template_columns": null,
            "flex": null,
            "_model_name": "LayoutModel",
            "justify_items": null,
            "grid_row": null,
            "max_height": null,
            "align_content": null,
            "visibility": null,
            "align_self": null,
            "height": null,
            "min_height": null,
            "padding": null,
            "grid_auto_rows": null,
            "grid_gap": null,
            "max_width": null,
            "order": null,
            "_view_module_version": "1.2.0",
            "grid_template_areas": null,
            "object_position": null,
            "object_fit": null,
            "grid_auto_columns": null,
            "margin": null,
            "display": null,
            "left": null
          }
        },
        "f9dbc0dd2a5f4a329d48e69b1d4009f8": {
          "model_module": "@jupyter-widgets/controls",
          "model_name": "LabelModel",
          "state": {
            "_view_name": "LabelView",
            "style": "IPY_MODEL_506557de839749159e47472c057fe4ed",
            "_dom_classes": [],
            "description": "",
            "_model_name": "LabelModel",
            "placeholder": "​",
            "_view_module": "@jupyter-widgets/controls",
            "_model_module_version": "1.5.0",
            "value": " 0.01MB of 0.01MB uploaded (0.00MB deduped)\r",
            "_view_count": null,
            "_view_module_version": "1.5.0",
            "description_tooltip": null,
            "_model_module": "@jupyter-widgets/controls",
            "layout": "IPY_MODEL_bc0d2d3b52ee4f2395e7a63cdaa4ca5a"
          }
        },
        "bdc231779dd24e63b0521f14422532fc": {
          "model_module": "@jupyter-widgets/controls",
          "model_name": "FloatProgressModel",
          "state": {
            "_view_name": "ProgressView",
            "style": "IPY_MODEL_87c9510f671b4af08aefff476abf7eb1",
            "_dom_classes": [],
            "description": "",
            "_model_name": "FloatProgressModel",
            "bar_style": "",
            "max": 1,
            "_view_module": "@jupyter-widgets/controls",
            "_model_module_version": "1.5.0",
            "value": 1,
            "_view_count": null,
            "_view_module_version": "1.5.0",
            "orientation": "horizontal",
            "min": 0,
            "description_tooltip": null,
            "_model_module": "@jupyter-widgets/controls",
            "layout": "IPY_MODEL_1b80d9eb6b5a4069b93166c4b0d961cf"
          }
        },
        "506557de839749159e47472c057fe4ed": {
          "model_module": "@jupyter-widgets/controls",
          "model_name": "DescriptionStyleModel",
          "state": {
            "_view_name": "StyleView",
            "_model_name": "DescriptionStyleModel",
            "description_width": "",
            "_view_module": "@jupyter-widgets/base",
            "_model_module_version": "1.5.0",
            "_view_count": null,
            "_view_module_version": "1.2.0",
            "_model_module": "@jupyter-widgets/controls"
          }
        },
        "bc0d2d3b52ee4f2395e7a63cdaa4ca5a": {
          "model_module": "@jupyter-widgets/base",
          "model_name": "LayoutModel",
          "state": {
            "_view_name": "LayoutView",
            "grid_template_rows": null,
            "right": null,
            "justify_content": null,
            "_view_module": "@jupyter-widgets/base",
            "overflow": null,
            "_model_module_version": "1.2.0",
            "_view_count": null,
            "flex_flow": null,
            "width": null,
            "min_width": null,
            "border": null,
            "align_items": null,
            "bottom": null,
            "_model_module": "@jupyter-widgets/base",
            "top": null,
            "grid_column": null,
            "overflow_y": null,
            "overflow_x": null,
            "grid_auto_flow": null,
            "grid_area": null,
            "grid_template_columns": null,
            "flex": null,
            "_model_name": "LayoutModel",
            "justify_items": null,
            "grid_row": null,
            "max_height": null,
            "align_content": null,
            "visibility": null,
            "align_self": null,
            "height": null,
            "min_height": null,
            "padding": null,
            "grid_auto_rows": null,
            "grid_gap": null,
            "max_width": null,
            "order": null,
            "_view_module_version": "1.2.0",
            "grid_template_areas": null,
            "object_position": null,
            "object_fit": null,
            "grid_auto_columns": null,
            "margin": null,
            "display": null,
            "left": null
          }
        },
        "87c9510f671b4af08aefff476abf7eb1": {
          "model_module": "@jupyter-widgets/controls",
          "model_name": "ProgressStyleModel",
          "state": {
            "_view_name": "StyleView",
            "_model_name": "ProgressStyleModel",
            "description_width": "",
            "_view_module": "@jupyter-widgets/base",
            "_model_module_version": "1.5.0",
            "_view_count": null,
            "_view_module_version": "1.2.0",
            "bar_color": null,
            "_model_module": "@jupyter-widgets/controls"
          }
        },
        "1b80d9eb6b5a4069b93166c4b0d961cf": {
          "model_module": "@jupyter-widgets/base",
          "model_name": "LayoutModel",
          "state": {
            "_view_name": "LayoutView",
            "grid_template_rows": null,
            "right": null,
            "justify_content": null,
            "_view_module": "@jupyter-widgets/base",
            "overflow": null,
            "_model_module_version": "1.2.0",
            "_view_count": null,
            "flex_flow": null,
            "width": null,
            "min_width": null,
            "border": null,
            "align_items": null,
            "bottom": null,
            "_model_module": "@jupyter-widgets/base",
            "top": null,
            "grid_column": null,
            "overflow_y": null,
            "overflow_x": null,
            "grid_auto_flow": null,
            "grid_area": null,
            "grid_template_columns": null,
            "flex": null,
            "_model_name": "LayoutModel",
            "justify_items": null,
            "grid_row": null,
            "max_height": null,
            "align_content": null,
            "visibility": null,
            "align_self": null,
            "height": null,
            "min_height": null,
            "padding": null,
            "grid_auto_rows": null,
            "grid_gap": null,
            "max_width": null,
            "order": null,
            "_view_module_version": "1.2.0",
            "grid_template_areas": null,
            "object_position": null,
            "object_fit": null,
            "grid_auto_columns": null,
            "margin": null,
            "display": null,
            "left": null
          }
        },
        "2e8160080d7346a4ac42d492360f4047": {
          "model_module": "@jupyter-widgets/controls",
          "model_name": "VBoxModel",
          "state": {
            "_view_name": "VBoxView",
            "_dom_classes": [],
            "_model_name": "VBoxModel",
            "_view_module": "@jupyter-widgets/controls",
            "_model_module_version": "1.5.0",
            "_view_count": null,
            "_view_module_version": "1.5.0",
            "box_style": "",
            "layout": "IPY_MODEL_dff865f2fb444524b950e8555bc409cb",
            "_model_module": "@jupyter-widgets/controls",
            "children": [
              "IPY_MODEL_8fb7425f5606407abac8c1d046079167",
              "IPY_MODEL_bf4ac4c2f93a40ebb0aaefef71530541"
            ]
          }
        },
        "dff865f2fb444524b950e8555bc409cb": {
          "model_module": "@jupyter-widgets/base",
          "model_name": "LayoutModel",
          "state": {
            "_view_name": "LayoutView",
            "grid_template_rows": null,
            "right": null,
            "justify_content": null,
            "_view_module": "@jupyter-widgets/base",
            "overflow": null,
            "_model_module_version": "1.2.0",
            "_view_count": null,
            "flex_flow": null,
            "width": null,
            "min_width": null,
            "border": null,
            "align_items": null,
            "bottom": null,
            "_model_module": "@jupyter-widgets/base",
            "top": null,
            "grid_column": null,
            "overflow_y": null,
            "overflow_x": null,
            "grid_auto_flow": null,
            "grid_area": null,
            "grid_template_columns": null,
            "flex": null,
            "_model_name": "LayoutModel",
            "justify_items": null,
            "grid_row": null,
            "max_height": null,
            "align_content": null,
            "visibility": null,
            "align_self": null,
            "height": null,
            "min_height": null,
            "padding": null,
            "grid_auto_rows": null,
            "grid_gap": null,
            "max_width": null,
            "order": null,
            "_view_module_version": "1.2.0",
            "grid_template_areas": null,
            "object_position": null,
            "object_fit": null,
            "grid_auto_columns": null,
            "margin": null,
            "display": null,
            "left": null
          }
        },
        "8fb7425f5606407abac8c1d046079167": {
          "model_module": "@jupyter-widgets/controls",
          "model_name": "LabelModel",
          "state": {
            "_view_name": "LabelView",
            "style": "IPY_MODEL_ffed517bd70a4b358ba71ca76a3064c9",
            "_dom_classes": [],
            "description": "",
            "_model_name": "LabelModel",
            "placeholder": "​",
            "_view_module": "@jupyter-widgets/controls",
            "_model_module_version": "1.5.0",
            "value": " 0.01MB of 0.01MB uploaded (0.00MB deduped)\r",
            "_view_count": null,
            "_view_module_version": "1.5.0",
            "description_tooltip": null,
            "_model_module": "@jupyter-widgets/controls",
            "layout": "IPY_MODEL_fe69e783a3fd4a5aa68c3d4a1f6d81a4"
          }
        },
        "bf4ac4c2f93a40ebb0aaefef71530541": {
          "model_module": "@jupyter-widgets/controls",
          "model_name": "FloatProgressModel",
          "state": {
            "_view_name": "ProgressView",
            "style": "IPY_MODEL_f9f0858725ef4a36bbf15667719f552d",
            "_dom_classes": [],
            "description": "",
            "_model_name": "FloatProgressModel",
            "bar_style": "",
            "max": 1,
            "_view_module": "@jupyter-widgets/controls",
            "_model_module_version": "1.5.0",
            "value": 1,
            "_view_count": null,
            "_view_module_version": "1.5.0",
            "orientation": "horizontal",
            "min": 0,
            "description_tooltip": null,
            "_model_module": "@jupyter-widgets/controls",
            "layout": "IPY_MODEL_a3b8708be08c48038f26aba96ce1f969"
          }
        },
        "ffed517bd70a4b358ba71ca76a3064c9": {
          "model_module": "@jupyter-widgets/controls",
          "model_name": "DescriptionStyleModel",
          "state": {
            "_view_name": "StyleView",
            "_model_name": "DescriptionStyleModel",
            "description_width": "",
            "_view_module": "@jupyter-widgets/base",
            "_model_module_version": "1.5.0",
            "_view_count": null,
            "_view_module_version": "1.2.0",
            "_model_module": "@jupyter-widgets/controls"
          }
        },
        "fe69e783a3fd4a5aa68c3d4a1f6d81a4": {
          "model_module": "@jupyter-widgets/base",
          "model_name": "LayoutModel",
          "state": {
            "_view_name": "LayoutView",
            "grid_template_rows": null,
            "right": null,
            "justify_content": null,
            "_view_module": "@jupyter-widgets/base",
            "overflow": null,
            "_model_module_version": "1.2.0",
            "_view_count": null,
            "flex_flow": null,
            "width": null,
            "min_width": null,
            "border": null,
            "align_items": null,
            "bottom": null,
            "_model_module": "@jupyter-widgets/base",
            "top": null,
            "grid_column": null,
            "overflow_y": null,
            "overflow_x": null,
            "grid_auto_flow": null,
            "grid_area": null,
            "grid_template_columns": null,
            "flex": null,
            "_model_name": "LayoutModel",
            "justify_items": null,
            "grid_row": null,
            "max_height": null,
            "align_content": null,
            "visibility": null,
            "align_self": null,
            "height": null,
            "min_height": null,
            "padding": null,
            "grid_auto_rows": null,
            "grid_gap": null,
            "max_width": null,
            "order": null,
            "_view_module_version": "1.2.0",
            "grid_template_areas": null,
            "object_position": null,
            "object_fit": null,
            "grid_auto_columns": null,
            "margin": null,
            "display": null,
            "left": null
          }
        },
        "f9f0858725ef4a36bbf15667719f552d": {
          "model_module": "@jupyter-widgets/controls",
          "model_name": "ProgressStyleModel",
          "state": {
            "_view_name": "StyleView",
            "_model_name": "ProgressStyleModel",
            "description_width": "",
            "_view_module": "@jupyter-widgets/base",
            "_model_module_version": "1.5.0",
            "_view_count": null,
            "_view_module_version": "1.2.0",
            "bar_color": null,
            "_model_module": "@jupyter-widgets/controls"
          }
        },
        "a3b8708be08c48038f26aba96ce1f969": {
          "model_module": "@jupyter-widgets/base",
          "model_name": "LayoutModel",
          "state": {
            "_view_name": "LayoutView",
            "grid_template_rows": null,
            "right": null,
            "justify_content": null,
            "_view_module": "@jupyter-widgets/base",
            "overflow": null,
            "_model_module_version": "1.2.0",
            "_view_count": null,
            "flex_flow": null,
            "width": null,
            "min_width": null,
            "border": null,
            "align_items": null,
            "bottom": null,
            "_model_module": "@jupyter-widgets/base",
            "top": null,
            "grid_column": null,
            "overflow_y": null,
            "overflow_x": null,
            "grid_auto_flow": null,
            "grid_area": null,
            "grid_template_columns": null,
            "flex": null,
            "_model_name": "LayoutModel",
            "justify_items": null,
            "grid_row": null,
            "max_height": null,
            "align_content": null,
            "visibility": null,
            "align_self": null,
            "height": null,
            "min_height": null,
            "padding": null,
            "grid_auto_rows": null,
            "grid_gap": null,
            "max_width": null,
            "order": null,
            "_view_module_version": "1.2.0",
            "grid_template_areas": null,
            "object_position": null,
            "object_fit": null,
            "grid_auto_columns": null,
            "margin": null,
            "display": null,
            "left": null
          }
        },
        "0fa7a870694241158ef9f54a224b5ef3": {
          "model_module": "@jupyter-widgets/controls",
          "model_name": "VBoxModel",
          "state": {
            "_view_name": "VBoxView",
            "_dom_classes": [],
            "_model_name": "VBoxModel",
            "_view_module": "@jupyter-widgets/controls",
            "_model_module_version": "1.5.0",
            "_view_count": null,
            "_view_module_version": "1.5.0",
            "box_style": "",
            "layout": "IPY_MODEL_39d365b7774441938fa03f26e4398f67",
            "_model_module": "@jupyter-widgets/controls",
            "children": [
              "IPY_MODEL_25efec9405ab4660ba95fc023249033a",
              "IPY_MODEL_648f7b6907dc463c967b2ea3a1a1888e"
            ]
          }
        },
        "39d365b7774441938fa03f26e4398f67": {
          "model_module": "@jupyter-widgets/base",
          "model_name": "LayoutModel",
          "state": {
            "_view_name": "LayoutView",
            "grid_template_rows": null,
            "right": null,
            "justify_content": null,
            "_view_module": "@jupyter-widgets/base",
            "overflow": null,
            "_model_module_version": "1.2.0",
            "_view_count": null,
            "flex_flow": null,
            "width": null,
            "min_width": null,
            "border": null,
            "align_items": null,
            "bottom": null,
            "_model_module": "@jupyter-widgets/base",
            "top": null,
            "grid_column": null,
            "overflow_y": null,
            "overflow_x": null,
            "grid_auto_flow": null,
            "grid_area": null,
            "grid_template_columns": null,
            "flex": null,
            "_model_name": "LayoutModel",
            "justify_items": null,
            "grid_row": null,
            "max_height": null,
            "align_content": null,
            "visibility": null,
            "align_self": null,
            "height": null,
            "min_height": null,
            "padding": null,
            "grid_auto_rows": null,
            "grid_gap": null,
            "max_width": null,
            "order": null,
            "_view_module_version": "1.2.0",
            "grid_template_areas": null,
            "object_position": null,
            "object_fit": null,
            "grid_auto_columns": null,
            "margin": null,
            "display": null,
            "left": null
          }
        },
        "25efec9405ab4660ba95fc023249033a": {
          "model_module": "@jupyter-widgets/controls",
          "model_name": "LabelModel",
          "state": {
            "_view_name": "LabelView",
            "style": "IPY_MODEL_af21950ed8c341ba9a580024f4da6d46",
            "_dom_classes": [],
            "description": "",
            "_model_name": "LabelModel",
            "placeholder": "​",
            "_view_module": "@jupyter-widgets/controls",
            "_model_module_version": "1.5.0",
            "value": " 0.01MB of 0.01MB uploaded (0.00MB deduped)\r",
            "_view_count": null,
            "_view_module_version": "1.5.0",
            "description_tooltip": null,
            "_model_module": "@jupyter-widgets/controls",
            "layout": "IPY_MODEL_625f0cff90994f1488aa3b362d846daf"
          }
        },
        "648f7b6907dc463c967b2ea3a1a1888e": {
          "model_module": "@jupyter-widgets/controls",
          "model_name": "FloatProgressModel",
          "state": {
            "_view_name": "ProgressView",
            "style": "IPY_MODEL_13f2f195be2f4b4c822d7d7b886f77b1",
            "_dom_classes": [],
            "description": "",
            "_model_name": "FloatProgressModel",
            "bar_style": "",
            "max": 1,
            "_view_module": "@jupyter-widgets/controls",
            "_model_module_version": "1.5.0",
            "value": 1,
            "_view_count": null,
            "_view_module_version": "1.5.0",
            "orientation": "horizontal",
            "min": 0,
            "description_tooltip": null,
            "_model_module": "@jupyter-widgets/controls",
            "layout": "IPY_MODEL_f010cc8b8ee049b685464fb9b27a550b"
          }
        },
        "af21950ed8c341ba9a580024f4da6d46": {
          "model_module": "@jupyter-widgets/controls",
          "model_name": "DescriptionStyleModel",
          "state": {
            "_view_name": "StyleView",
            "_model_name": "DescriptionStyleModel",
            "description_width": "",
            "_view_module": "@jupyter-widgets/base",
            "_model_module_version": "1.5.0",
            "_view_count": null,
            "_view_module_version": "1.2.0",
            "_model_module": "@jupyter-widgets/controls"
          }
        },
        "625f0cff90994f1488aa3b362d846daf": {
          "model_module": "@jupyter-widgets/base",
          "model_name": "LayoutModel",
          "state": {
            "_view_name": "LayoutView",
            "grid_template_rows": null,
            "right": null,
            "justify_content": null,
            "_view_module": "@jupyter-widgets/base",
            "overflow": null,
            "_model_module_version": "1.2.0",
            "_view_count": null,
            "flex_flow": null,
            "width": null,
            "min_width": null,
            "border": null,
            "align_items": null,
            "bottom": null,
            "_model_module": "@jupyter-widgets/base",
            "top": null,
            "grid_column": null,
            "overflow_y": null,
            "overflow_x": null,
            "grid_auto_flow": null,
            "grid_area": null,
            "grid_template_columns": null,
            "flex": null,
            "_model_name": "LayoutModel",
            "justify_items": null,
            "grid_row": null,
            "max_height": null,
            "align_content": null,
            "visibility": null,
            "align_self": null,
            "height": null,
            "min_height": null,
            "padding": null,
            "grid_auto_rows": null,
            "grid_gap": null,
            "max_width": null,
            "order": null,
            "_view_module_version": "1.2.0",
            "grid_template_areas": null,
            "object_position": null,
            "object_fit": null,
            "grid_auto_columns": null,
            "margin": null,
            "display": null,
            "left": null
          }
        },
        "13f2f195be2f4b4c822d7d7b886f77b1": {
          "model_module": "@jupyter-widgets/controls",
          "model_name": "ProgressStyleModel",
          "state": {
            "_view_name": "StyleView",
            "_model_name": "ProgressStyleModel",
            "description_width": "",
            "_view_module": "@jupyter-widgets/base",
            "_model_module_version": "1.5.0",
            "_view_count": null,
            "_view_module_version": "1.2.0",
            "bar_color": null,
            "_model_module": "@jupyter-widgets/controls"
          }
        },
        "f010cc8b8ee049b685464fb9b27a550b": {
          "model_module": "@jupyter-widgets/base",
          "model_name": "LayoutModel",
          "state": {
            "_view_name": "LayoutView",
            "grid_template_rows": null,
            "right": null,
            "justify_content": null,
            "_view_module": "@jupyter-widgets/base",
            "overflow": null,
            "_model_module_version": "1.2.0",
            "_view_count": null,
            "flex_flow": null,
            "width": null,
            "min_width": null,
            "border": null,
            "align_items": null,
            "bottom": null,
            "_model_module": "@jupyter-widgets/base",
            "top": null,
            "grid_column": null,
            "overflow_y": null,
            "overflow_x": null,
            "grid_auto_flow": null,
            "grid_area": null,
            "grid_template_columns": null,
            "flex": null,
            "_model_name": "LayoutModel",
            "justify_items": null,
            "grid_row": null,
            "max_height": null,
            "align_content": null,
            "visibility": null,
            "align_self": null,
            "height": null,
            "min_height": null,
            "padding": null,
            "grid_auto_rows": null,
            "grid_gap": null,
            "max_width": null,
            "order": null,
            "_view_module_version": "1.2.0",
            "grid_template_areas": null,
            "object_position": null,
            "object_fit": null,
            "grid_auto_columns": null,
            "margin": null,
            "display": null,
            "left": null
          }
        },
        "2d7976404f504ad5b998fffefac69ca1": {
          "model_module": "@jupyter-widgets/controls",
          "model_name": "VBoxModel",
          "state": {
            "_view_name": "VBoxView",
            "_dom_classes": [],
            "_model_name": "VBoxModel",
            "_view_module": "@jupyter-widgets/controls",
            "_model_module_version": "1.5.0",
            "_view_count": null,
            "_view_module_version": "1.5.0",
            "box_style": "",
            "layout": "IPY_MODEL_0e1d90b4ff2a4595acda9d48fca7d29a",
            "_model_module": "@jupyter-widgets/controls",
            "children": [
              "IPY_MODEL_3fdc64bc5202485d8035385bd001d94e",
              "IPY_MODEL_079ac91e668148aeace33f01519e2152"
            ]
          }
        },
        "0e1d90b4ff2a4595acda9d48fca7d29a": {
          "model_module": "@jupyter-widgets/base",
          "model_name": "LayoutModel",
          "state": {
            "_view_name": "LayoutView",
            "grid_template_rows": null,
            "right": null,
            "justify_content": null,
            "_view_module": "@jupyter-widgets/base",
            "overflow": null,
            "_model_module_version": "1.2.0",
            "_view_count": null,
            "flex_flow": null,
            "width": null,
            "min_width": null,
            "border": null,
            "align_items": null,
            "bottom": null,
            "_model_module": "@jupyter-widgets/base",
            "top": null,
            "grid_column": null,
            "overflow_y": null,
            "overflow_x": null,
            "grid_auto_flow": null,
            "grid_area": null,
            "grid_template_columns": null,
            "flex": null,
            "_model_name": "LayoutModel",
            "justify_items": null,
            "grid_row": null,
            "max_height": null,
            "align_content": null,
            "visibility": null,
            "align_self": null,
            "height": null,
            "min_height": null,
            "padding": null,
            "grid_auto_rows": null,
            "grid_gap": null,
            "max_width": null,
            "order": null,
            "_view_module_version": "1.2.0",
            "grid_template_areas": null,
            "object_position": null,
            "object_fit": null,
            "grid_auto_columns": null,
            "margin": null,
            "display": null,
            "left": null
          }
        },
        "3fdc64bc5202485d8035385bd001d94e": {
          "model_module": "@jupyter-widgets/controls",
          "model_name": "LabelModel",
          "state": {
            "_view_name": "LabelView",
            "style": "IPY_MODEL_43dc34c80c4d4672885861cb6ae791a5",
            "_dom_classes": [],
            "description": "",
            "_model_name": "LabelModel",
            "placeholder": "​",
            "_view_module": "@jupyter-widgets/controls",
            "_model_module_version": "1.5.0",
            "value": " 0.01MB of 0.01MB uploaded (0.00MB deduped)\r",
            "_view_count": null,
            "_view_module_version": "1.5.0",
            "description_tooltip": null,
            "_model_module": "@jupyter-widgets/controls",
            "layout": "IPY_MODEL_fbd3b59002334a9b8b3e8a99005c7f8a"
          }
        },
        "079ac91e668148aeace33f01519e2152": {
          "model_module": "@jupyter-widgets/controls",
          "model_name": "FloatProgressModel",
          "state": {
            "_view_name": "ProgressView",
            "style": "IPY_MODEL_462f8be3a229463bab9d42736b2d7890",
            "_dom_classes": [],
            "description": "",
            "_model_name": "FloatProgressModel",
            "bar_style": "",
            "max": 1,
            "_view_module": "@jupyter-widgets/controls",
            "_model_module_version": "1.5.0",
            "value": 1,
            "_view_count": null,
            "_view_module_version": "1.5.0",
            "orientation": "horizontal",
            "min": 0,
            "description_tooltip": null,
            "_model_module": "@jupyter-widgets/controls",
            "layout": "IPY_MODEL_b74bd9d1ab414bc7b8bdab3e97400efa"
          }
        },
        "43dc34c80c4d4672885861cb6ae791a5": {
          "model_module": "@jupyter-widgets/controls",
          "model_name": "DescriptionStyleModel",
          "state": {
            "_view_name": "StyleView",
            "_model_name": "DescriptionStyleModel",
            "description_width": "",
            "_view_module": "@jupyter-widgets/base",
            "_model_module_version": "1.5.0",
            "_view_count": null,
            "_view_module_version": "1.2.0",
            "_model_module": "@jupyter-widgets/controls"
          }
        },
        "fbd3b59002334a9b8b3e8a99005c7f8a": {
          "model_module": "@jupyter-widgets/base",
          "model_name": "LayoutModel",
          "state": {
            "_view_name": "LayoutView",
            "grid_template_rows": null,
            "right": null,
            "justify_content": null,
            "_view_module": "@jupyter-widgets/base",
            "overflow": null,
            "_model_module_version": "1.2.0",
            "_view_count": null,
            "flex_flow": null,
            "width": null,
            "min_width": null,
            "border": null,
            "align_items": null,
            "bottom": null,
            "_model_module": "@jupyter-widgets/base",
            "top": null,
            "grid_column": null,
            "overflow_y": null,
            "overflow_x": null,
            "grid_auto_flow": null,
            "grid_area": null,
            "grid_template_columns": null,
            "flex": null,
            "_model_name": "LayoutModel",
            "justify_items": null,
            "grid_row": null,
            "max_height": null,
            "align_content": null,
            "visibility": null,
            "align_self": null,
            "height": null,
            "min_height": null,
            "padding": null,
            "grid_auto_rows": null,
            "grid_gap": null,
            "max_width": null,
            "order": null,
            "_view_module_version": "1.2.0",
            "grid_template_areas": null,
            "object_position": null,
            "object_fit": null,
            "grid_auto_columns": null,
            "margin": null,
            "display": null,
            "left": null
          }
        },
        "462f8be3a229463bab9d42736b2d7890": {
          "model_module": "@jupyter-widgets/controls",
          "model_name": "ProgressStyleModel",
          "state": {
            "_view_name": "StyleView",
            "_model_name": "ProgressStyleModel",
            "description_width": "",
            "_view_module": "@jupyter-widgets/base",
            "_model_module_version": "1.5.0",
            "_view_count": null,
            "_view_module_version": "1.2.0",
            "bar_color": null,
            "_model_module": "@jupyter-widgets/controls"
          }
        },
        "b74bd9d1ab414bc7b8bdab3e97400efa": {
          "model_module": "@jupyter-widgets/base",
          "model_name": "LayoutModel",
          "state": {
            "_view_name": "LayoutView",
            "grid_template_rows": null,
            "right": null,
            "justify_content": null,
            "_view_module": "@jupyter-widgets/base",
            "overflow": null,
            "_model_module_version": "1.2.0",
            "_view_count": null,
            "flex_flow": null,
            "width": null,
            "min_width": null,
            "border": null,
            "align_items": null,
            "bottom": null,
            "_model_module": "@jupyter-widgets/base",
            "top": null,
            "grid_column": null,
            "overflow_y": null,
            "overflow_x": null,
            "grid_auto_flow": null,
            "grid_area": null,
            "grid_template_columns": null,
            "flex": null,
            "_model_name": "LayoutModel",
            "justify_items": null,
            "grid_row": null,
            "max_height": null,
            "align_content": null,
            "visibility": null,
            "align_self": null,
            "height": null,
            "min_height": null,
            "padding": null,
            "grid_auto_rows": null,
            "grid_gap": null,
            "max_width": null,
            "order": null,
            "_view_module_version": "1.2.0",
            "grid_template_areas": null,
            "object_position": null,
            "object_fit": null,
            "grid_auto_columns": null,
            "margin": null,
            "display": null,
            "left": null
          }
        },
        "38191da27ddc472a869b1be44184fe1c": {
          "model_module": "@jupyter-widgets/controls",
          "model_name": "VBoxModel",
          "state": {
            "_view_name": "VBoxView",
            "_dom_classes": [],
            "_model_name": "VBoxModel",
            "_view_module": "@jupyter-widgets/controls",
            "_model_module_version": "1.5.0",
            "_view_count": null,
            "_view_module_version": "1.5.0",
            "box_style": "",
            "layout": "IPY_MODEL_418c6be9e8914e7dbf0027eaa08c0dbe",
            "_model_module": "@jupyter-widgets/controls",
            "children": [
              "IPY_MODEL_d637aa0993744ba498e7a50ea36a246e",
              "IPY_MODEL_42640e5e04e34c929aa53d42b5865d5c"
            ]
          }
        },
        "418c6be9e8914e7dbf0027eaa08c0dbe": {
          "model_module": "@jupyter-widgets/base",
          "model_name": "LayoutModel",
          "state": {
            "_view_name": "LayoutView",
            "grid_template_rows": null,
            "right": null,
            "justify_content": null,
            "_view_module": "@jupyter-widgets/base",
            "overflow": null,
            "_model_module_version": "1.2.0",
            "_view_count": null,
            "flex_flow": null,
            "width": null,
            "min_width": null,
            "border": null,
            "align_items": null,
            "bottom": null,
            "_model_module": "@jupyter-widgets/base",
            "top": null,
            "grid_column": null,
            "overflow_y": null,
            "overflow_x": null,
            "grid_auto_flow": null,
            "grid_area": null,
            "grid_template_columns": null,
            "flex": null,
            "_model_name": "LayoutModel",
            "justify_items": null,
            "grid_row": null,
            "max_height": null,
            "align_content": null,
            "visibility": null,
            "align_self": null,
            "height": null,
            "min_height": null,
            "padding": null,
            "grid_auto_rows": null,
            "grid_gap": null,
            "max_width": null,
            "order": null,
            "_view_module_version": "1.2.0",
            "grid_template_areas": null,
            "object_position": null,
            "object_fit": null,
            "grid_auto_columns": null,
            "margin": null,
            "display": null,
            "left": null
          }
        },
        "d637aa0993744ba498e7a50ea36a246e": {
          "model_module": "@jupyter-widgets/controls",
          "model_name": "LabelModel",
          "state": {
            "_view_name": "LabelView",
            "style": "IPY_MODEL_390c46b2244147bab8ea2c50c38c942b",
            "_dom_classes": [],
            "description": "",
            "_model_name": "LabelModel",
            "placeholder": "​",
            "_view_module": "@jupyter-widgets/controls",
            "_model_module_version": "1.5.0",
            "value": " 0.01MB of 0.01MB uploaded (0.00MB deduped)\r",
            "_view_count": null,
            "_view_module_version": "1.5.0",
            "description_tooltip": null,
            "_model_module": "@jupyter-widgets/controls",
            "layout": "IPY_MODEL_0a39b75414a746c2bde75603bfab3f5b"
          }
        },
        "42640e5e04e34c929aa53d42b5865d5c": {
          "model_module": "@jupyter-widgets/controls",
          "model_name": "FloatProgressModel",
          "state": {
            "_view_name": "ProgressView",
            "style": "IPY_MODEL_5320599c22644e2a8b0515150f24373f",
            "_dom_classes": [],
            "description": "",
            "_model_name": "FloatProgressModel",
            "bar_style": "",
            "max": 1,
            "_view_module": "@jupyter-widgets/controls",
            "_model_module_version": "1.5.0",
            "value": 1,
            "_view_count": null,
            "_view_module_version": "1.5.0",
            "orientation": "horizontal",
            "min": 0,
            "description_tooltip": null,
            "_model_module": "@jupyter-widgets/controls",
            "layout": "IPY_MODEL_4b29c8fba3de4709a58b1a109250db53"
          }
        },
        "390c46b2244147bab8ea2c50c38c942b": {
          "model_module": "@jupyter-widgets/controls",
          "model_name": "DescriptionStyleModel",
          "state": {
            "_view_name": "StyleView",
            "_model_name": "DescriptionStyleModel",
            "description_width": "",
            "_view_module": "@jupyter-widgets/base",
            "_model_module_version": "1.5.0",
            "_view_count": null,
            "_view_module_version": "1.2.0",
            "_model_module": "@jupyter-widgets/controls"
          }
        },
        "0a39b75414a746c2bde75603bfab3f5b": {
          "model_module": "@jupyter-widgets/base",
          "model_name": "LayoutModel",
          "state": {
            "_view_name": "LayoutView",
            "grid_template_rows": null,
            "right": null,
            "justify_content": null,
            "_view_module": "@jupyter-widgets/base",
            "overflow": null,
            "_model_module_version": "1.2.0",
            "_view_count": null,
            "flex_flow": null,
            "width": null,
            "min_width": null,
            "border": null,
            "align_items": null,
            "bottom": null,
            "_model_module": "@jupyter-widgets/base",
            "top": null,
            "grid_column": null,
            "overflow_y": null,
            "overflow_x": null,
            "grid_auto_flow": null,
            "grid_area": null,
            "grid_template_columns": null,
            "flex": null,
            "_model_name": "LayoutModel",
            "justify_items": null,
            "grid_row": null,
            "max_height": null,
            "align_content": null,
            "visibility": null,
            "align_self": null,
            "height": null,
            "min_height": null,
            "padding": null,
            "grid_auto_rows": null,
            "grid_gap": null,
            "max_width": null,
            "order": null,
            "_view_module_version": "1.2.0",
            "grid_template_areas": null,
            "object_position": null,
            "object_fit": null,
            "grid_auto_columns": null,
            "margin": null,
            "display": null,
            "left": null
          }
        },
        "5320599c22644e2a8b0515150f24373f": {
          "model_module": "@jupyter-widgets/controls",
          "model_name": "ProgressStyleModel",
          "state": {
            "_view_name": "StyleView",
            "_model_name": "ProgressStyleModel",
            "description_width": "",
            "_view_module": "@jupyter-widgets/base",
            "_model_module_version": "1.5.0",
            "_view_count": null,
            "_view_module_version": "1.2.0",
            "bar_color": null,
            "_model_module": "@jupyter-widgets/controls"
          }
        },
        "4b29c8fba3de4709a58b1a109250db53": {
          "model_module": "@jupyter-widgets/base",
          "model_name": "LayoutModel",
          "state": {
            "_view_name": "LayoutView",
            "grid_template_rows": null,
            "right": null,
            "justify_content": null,
            "_view_module": "@jupyter-widgets/base",
            "overflow": null,
            "_model_module_version": "1.2.0",
            "_view_count": null,
            "flex_flow": null,
            "width": null,
            "min_width": null,
            "border": null,
            "align_items": null,
            "bottom": null,
            "_model_module": "@jupyter-widgets/base",
            "top": null,
            "grid_column": null,
            "overflow_y": null,
            "overflow_x": null,
            "grid_auto_flow": null,
            "grid_area": null,
            "grid_template_columns": null,
            "flex": null,
            "_model_name": "LayoutModel",
            "justify_items": null,
            "grid_row": null,
            "max_height": null,
            "align_content": null,
            "visibility": null,
            "align_self": null,
            "height": null,
            "min_height": null,
            "padding": null,
            "grid_auto_rows": null,
            "grid_gap": null,
            "max_width": null,
            "order": null,
            "_view_module_version": "1.2.0",
            "grid_template_areas": null,
            "object_position": null,
            "object_fit": null,
            "grid_auto_columns": null,
            "margin": null,
            "display": null,
            "left": null
          }
        },
        "0a690e47371e4e07ad82a7c8f7e0cce7": {
          "model_module": "@jupyter-widgets/controls",
          "model_name": "VBoxModel",
          "state": {
            "_view_name": "VBoxView",
            "_dom_classes": [],
            "_model_name": "VBoxModel",
            "_view_module": "@jupyter-widgets/controls",
            "_model_module_version": "1.5.0",
            "_view_count": null,
            "_view_module_version": "1.5.0",
            "box_style": "",
            "layout": "IPY_MODEL_49bd5a6284cc4bc2b45f7a2776fdd659",
            "_model_module": "@jupyter-widgets/controls",
            "children": [
              "IPY_MODEL_53a3b3b878ab4e7183243be579641db1",
              "IPY_MODEL_74a81470eb8c4c129807f4923bbe34de"
            ]
          }
        },
        "49bd5a6284cc4bc2b45f7a2776fdd659": {
          "model_module": "@jupyter-widgets/base",
          "model_name": "LayoutModel",
          "state": {
            "_view_name": "LayoutView",
            "grid_template_rows": null,
            "right": null,
            "justify_content": null,
            "_view_module": "@jupyter-widgets/base",
            "overflow": null,
            "_model_module_version": "1.2.0",
            "_view_count": null,
            "flex_flow": null,
            "width": null,
            "min_width": null,
            "border": null,
            "align_items": null,
            "bottom": null,
            "_model_module": "@jupyter-widgets/base",
            "top": null,
            "grid_column": null,
            "overflow_y": null,
            "overflow_x": null,
            "grid_auto_flow": null,
            "grid_area": null,
            "grid_template_columns": null,
            "flex": null,
            "_model_name": "LayoutModel",
            "justify_items": null,
            "grid_row": null,
            "max_height": null,
            "align_content": null,
            "visibility": null,
            "align_self": null,
            "height": null,
            "min_height": null,
            "padding": null,
            "grid_auto_rows": null,
            "grid_gap": null,
            "max_width": null,
            "order": null,
            "_view_module_version": "1.2.0",
            "grid_template_areas": null,
            "object_position": null,
            "object_fit": null,
            "grid_auto_columns": null,
            "margin": null,
            "display": null,
            "left": null
          }
        },
        "53a3b3b878ab4e7183243be579641db1": {
          "model_module": "@jupyter-widgets/controls",
          "model_name": "LabelModel",
          "state": {
            "_view_name": "LabelView",
            "style": "IPY_MODEL_4f20badd9eae45edb455c925eed7dc02",
            "_dom_classes": [],
            "description": "",
            "_model_name": "LabelModel",
            "placeholder": "​",
            "_view_module": "@jupyter-widgets/controls",
            "_model_module_version": "1.5.0",
            "value": " 0.01MB of 0.01MB uploaded (0.00MB deduped)\r",
            "_view_count": null,
            "_view_module_version": "1.5.0",
            "description_tooltip": null,
            "_model_module": "@jupyter-widgets/controls",
            "layout": "IPY_MODEL_bb2e53109c2a41aa96077dcc920eb242"
          }
        },
        "74a81470eb8c4c129807f4923bbe34de": {
          "model_module": "@jupyter-widgets/controls",
          "model_name": "FloatProgressModel",
          "state": {
            "_view_name": "ProgressView",
            "style": "IPY_MODEL_56ab0ad8ec814b93aaa62358adcb3911",
            "_dom_classes": [],
            "description": "",
            "_model_name": "FloatProgressModel",
            "bar_style": "",
            "max": 1,
            "_view_module": "@jupyter-widgets/controls",
            "_model_module_version": "1.5.0",
            "value": 1,
            "_view_count": null,
            "_view_module_version": "1.5.0",
            "orientation": "horizontal",
            "min": 0,
            "description_tooltip": null,
            "_model_module": "@jupyter-widgets/controls",
            "layout": "IPY_MODEL_33a4ca10b158448fb73d83788f4cd4eb"
          }
        },
        "4f20badd9eae45edb455c925eed7dc02": {
          "model_module": "@jupyter-widgets/controls",
          "model_name": "DescriptionStyleModel",
          "state": {
            "_view_name": "StyleView",
            "_model_name": "DescriptionStyleModel",
            "description_width": "",
            "_view_module": "@jupyter-widgets/base",
            "_model_module_version": "1.5.0",
            "_view_count": null,
            "_view_module_version": "1.2.0",
            "_model_module": "@jupyter-widgets/controls"
          }
        },
        "bb2e53109c2a41aa96077dcc920eb242": {
          "model_module": "@jupyter-widgets/base",
          "model_name": "LayoutModel",
          "state": {
            "_view_name": "LayoutView",
            "grid_template_rows": null,
            "right": null,
            "justify_content": null,
            "_view_module": "@jupyter-widgets/base",
            "overflow": null,
            "_model_module_version": "1.2.0",
            "_view_count": null,
            "flex_flow": null,
            "width": null,
            "min_width": null,
            "border": null,
            "align_items": null,
            "bottom": null,
            "_model_module": "@jupyter-widgets/base",
            "top": null,
            "grid_column": null,
            "overflow_y": null,
            "overflow_x": null,
            "grid_auto_flow": null,
            "grid_area": null,
            "grid_template_columns": null,
            "flex": null,
            "_model_name": "LayoutModel",
            "justify_items": null,
            "grid_row": null,
            "max_height": null,
            "align_content": null,
            "visibility": null,
            "align_self": null,
            "height": null,
            "min_height": null,
            "padding": null,
            "grid_auto_rows": null,
            "grid_gap": null,
            "max_width": null,
            "order": null,
            "_view_module_version": "1.2.0",
            "grid_template_areas": null,
            "object_position": null,
            "object_fit": null,
            "grid_auto_columns": null,
            "margin": null,
            "display": null,
            "left": null
          }
        },
        "56ab0ad8ec814b93aaa62358adcb3911": {
          "model_module": "@jupyter-widgets/controls",
          "model_name": "ProgressStyleModel",
          "state": {
            "_view_name": "StyleView",
            "_model_name": "ProgressStyleModel",
            "description_width": "",
            "_view_module": "@jupyter-widgets/base",
            "_model_module_version": "1.5.0",
            "_view_count": null,
            "_view_module_version": "1.2.0",
            "bar_color": null,
            "_model_module": "@jupyter-widgets/controls"
          }
        },
        "33a4ca10b158448fb73d83788f4cd4eb": {
          "model_module": "@jupyter-widgets/base",
          "model_name": "LayoutModel",
          "state": {
            "_view_name": "LayoutView",
            "grid_template_rows": null,
            "right": null,
            "justify_content": null,
            "_view_module": "@jupyter-widgets/base",
            "overflow": null,
            "_model_module_version": "1.2.0",
            "_view_count": null,
            "flex_flow": null,
            "width": null,
            "min_width": null,
            "border": null,
            "align_items": null,
            "bottom": null,
            "_model_module": "@jupyter-widgets/base",
            "top": null,
            "grid_column": null,
            "overflow_y": null,
            "overflow_x": null,
            "grid_auto_flow": null,
            "grid_area": null,
            "grid_template_columns": null,
            "flex": null,
            "_model_name": "LayoutModel",
            "justify_items": null,
            "grid_row": null,
            "max_height": null,
            "align_content": null,
            "visibility": null,
            "align_self": null,
            "height": null,
            "min_height": null,
            "padding": null,
            "grid_auto_rows": null,
            "grid_gap": null,
            "max_width": null,
            "order": null,
            "_view_module_version": "1.2.0",
            "grid_template_areas": null,
            "object_position": null,
            "object_fit": null,
            "grid_auto_columns": null,
            "margin": null,
            "display": null,
            "left": null
          }
        },
        "597460b2bbb244ef8a45ac15db82f7ac": {
          "model_module": "@jupyter-widgets/controls",
          "model_name": "VBoxModel",
          "state": {
            "_view_name": "VBoxView",
            "_dom_classes": [],
            "_model_name": "VBoxModel",
            "_view_module": "@jupyter-widgets/controls",
            "_model_module_version": "1.5.0",
            "_view_count": null,
            "_view_module_version": "1.5.0",
            "box_style": "",
            "layout": "IPY_MODEL_8a3de8e27dfb4f43a6da80e61469e78c",
            "_model_module": "@jupyter-widgets/controls",
            "children": [
              "IPY_MODEL_4f53c16d97264d1991a5f1ab5de09c5e",
              "IPY_MODEL_4f83a6ec25a04c90a8571b501c0a7725"
            ]
          }
        },
        "8a3de8e27dfb4f43a6da80e61469e78c": {
          "model_module": "@jupyter-widgets/base",
          "model_name": "LayoutModel",
          "state": {
            "_view_name": "LayoutView",
            "grid_template_rows": null,
            "right": null,
            "justify_content": null,
            "_view_module": "@jupyter-widgets/base",
            "overflow": null,
            "_model_module_version": "1.2.0",
            "_view_count": null,
            "flex_flow": null,
            "width": null,
            "min_width": null,
            "border": null,
            "align_items": null,
            "bottom": null,
            "_model_module": "@jupyter-widgets/base",
            "top": null,
            "grid_column": null,
            "overflow_y": null,
            "overflow_x": null,
            "grid_auto_flow": null,
            "grid_area": null,
            "grid_template_columns": null,
            "flex": null,
            "_model_name": "LayoutModel",
            "justify_items": null,
            "grid_row": null,
            "max_height": null,
            "align_content": null,
            "visibility": null,
            "align_self": null,
            "height": null,
            "min_height": null,
            "padding": null,
            "grid_auto_rows": null,
            "grid_gap": null,
            "max_width": null,
            "order": null,
            "_view_module_version": "1.2.0",
            "grid_template_areas": null,
            "object_position": null,
            "object_fit": null,
            "grid_auto_columns": null,
            "margin": null,
            "display": null,
            "left": null
          }
        },
        "4f53c16d97264d1991a5f1ab5de09c5e": {
          "model_module": "@jupyter-widgets/controls",
          "model_name": "LabelModel",
          "state": {
            "_view_name": "LabelView",
            "style": "IPY_MODEL_6eb170d9f341401ca9f9641fcd4e66e5",
            "_dom_classes": [],
            "description": "",
            "_model_name": "LabelModel",
            "placeholder": "​",
            "_view_module": "@jupyter-widgets/controls",
            "_model_module_version": "1.5.0",
            "value": " 0.01MB of 0.01MB uploaded (0.00MB deduped)\r",
            "_view_count": null,
            "_view_module_version": "1.5.0",
            "description_tooltip": null,
            "_model_module": "@jupyter-widgets/controls",
            "layout": "IPY_MODEL_7dbbfb49d84641189e8e8194409dc98c"
          }
        },
        "4f83a6ec25a04c90a8571b501c0a7725": {
          "model_module": "@jupyter-widgets/controls",
          "model_name": "FloatProgressModel",
          "state": {
            "_view_name": "ProgressView",
            "style": "IPY_MODEL_f28b6c2cf5f9469ab084cebedbcb86af",
            "_dom_classes": [],
            "description": "",
            "_model_name": "FloatProgressModel",
            "bar_style": "",
            "max": 1,
            "_view_module": "@jupyter-widgets/controls",
            "_model_module_version": "1.5.0",
            "value": 1,
            "_view_count": null,
            "_view_module_version": "1.5.0",
            "orientation": "horizontal",
            "min": 0,
            "description_tooltip": null,
            "_model_module": "@jupyter-widgets/controls",
            "layout": "IPY_MODEL_8762a7fe86eb43e2afdf61552da8d4ed"
          }
        },
        "6eb170d9f341401ca9f9641fcd4e66e5": {
          "model_module": "@jupyter-widgets/controls",
          "model_name": "DescriptionStyleModel",
          "state": {
            "_view_name": "StyleView",
            "_model_name": "DescriptionStyleModel",
            "description_width": "",
            "_view_module": "@jupyter-widgets/base",
            "_model_module_version": "1.5.0",
            "_view_count": null,
            "_view_module_version": "1.2.0",
            "_model_module": "@jupyter-widgets/controls"
          }
        },
        "7dbbfb49d84641189e8e8194409dc98c": {
          "model_module": "@jupyter-widgets/base",
          "model_name": "LayoutModel",
          "state": {
            "_view_name": "LayoutView",
            "grid_template_rows": null,
            "right": null,
            "justify_content": null,
            "_view_module": "@jupyter-widgets/base",
            "overflow": null,
            "_model_module_version": "1.2.0",
            "_view_count": null,
            "flex_flow": null,
            "width": null,
            "min_width": null,
            "border": null,
            "align_items": null,
            "bottom": null,
            "_model_module": "@jupyter-widgets/base",
            "top": null,
            "grid_column": null,
            "overflow_y": null,
            "overflow_x": null,
            "grid_auto_flow": null,
            "grid_area": null,
            "grid_template_columns": null,
            "flex": null,
            "_model_name": "LayoutModel",
            "justify_items": null,
            "grid_row": null,
            "max_height": null,
            "align_content": null,
            "visibility": null,
            "align_self": null,
            "height": null,
            "min_height": null,
            "padding": null,
            "grid_auto_rows": null,
            "grid_gap": null,
            "max_width": null,
            "order": null,
            "_view_module_version": "1.2.0",
            "grid_template_areas": null,
            "object_position": null,
            "object_fit": null,
            "grid_auto_columns": null,
            "margin": null,
            "display": null,
            "left": null
          }
        },
        "f28b6c2cf5f9469ab084cebedbcb86af": {
          "model_module": "@jupyter-widgets/controls",
          "model_name": "ProgressStyleModel",
          "state": {
            "_view_name": "StyleView",
            "_model_name": "ProgressStyleModel",
            "description_width": "",
            "_view_module": "@jupyter-widgets/base",
            "_model_module_version": "1.5.0",
            "_view_count": null,
            "_view_module_version": "1.2.0",
            "bar_color": null,
            "_model_module": "@jupyter-widgets/controls"
          }
        },
        "8762a7fe86eb43e2afdf61552da8d4ed": {
          "model_module": "@jupyter-widgets/base",
          "model_name": "LayoutModel",
          "state": {
            "_view_name": "LayoutView",
            "grid_template_rows": null,
            "right": null,
            "justify_content": null,
            "_view_module": "@jupyter-widgets/base",
            "overflow": null,
            "_model_module_version": "1.2.0",
            "_view_count": null,
            "flex_flow": null,
            "width": null,
            "min_width": null,
            "border": null,
            "align_items": null,
            "bottom": null,
            "_model_module": "@jupyter-widgets/base",
            "top": null,
            "grid_column": null,
            "overflow_y": null,
            "overflow_x": null,
            "grid_auto_flow": null,
            "grid_area": null,
            "grid_template_columns": null,
            "flex": null,
            "_model_name": "LayoutModel",
            "justify_items": null,
            "grid_row": null,
            "max_height": null,
            "align_content": null,
            "visibility": null,
            "align_self": null,
            "height": null,
            "min_height": null,
            "padding": null,
            "grid_auto_rows": null,
            "grid_gap": null,
            "max_width": null,
            "order": null,
            "_view_module_version": "1.2.0",
            "grid_template_areas": null,
            "object_position": null,
            "object_fit": null,
            "grid_auto_columns": null,
            "margin": null,
            "display": null,
            "left": null
          }
        },
        "db89453ad6c943919b69b1511bffe8c8": {
          "model_module": "@jupyter-widgets/controls",
          "model_name": "VBoxModel",
          "state": {
            "_view_name": "VBoxView",
            "_dom_classes": [],
            "_model_name": "VBoxModel",
            "_view_module": "@jupyter-widgets/controls",
            "_model_module_version": "1.5.0",
            "_view_count": null,
            "_view_module_version": "1.5.0",
            "box_style": "",
            "layout": "IPY_MODEL_2b6746d588bd4b6ba16e43c6996d2e06",
            "_model_module": "@jupyter-widgets/controls",
            "children": [
              "IPY_MODEL_9795dcab167f4d24ac4a51f54638e4d6",
              "IPY_MODEL_cfd686ec2c004d359566ce0109d3f3b3"
            ]
          }
        },
        "2b6746d588bd4b6ba16e43c6996d2e06": {
          "model_module": "@jupyter-widgets/base",
          "model_name": "LayoutModel",
          "state": {
            "_view_name": "LayoutView",
            "grid_template_rows": null,
            "right": null,
            "justify_content": null,
            "_view_module": "@jupyter-widgets/base",
            "overflow": null,
            "_model_module_version": "1.2.0",
            "_view_count": null,
            "flex_flow": null,
            "width": null,
            "min_width": null,
            "border": null,
            "align_items": null,
            "bottom": null,
            "_model_module": "@jupyter-widgets/base",
            "top": null,
            "grid_column": null,
            "overflow_y": null,
            "overflow_x": null,
            "grid_auto_flow": null,
            "grid_area": null,
            "grid_template_columns": null,
            "flex": null,
            "_model_name": "LayoutModel",
            "justify_items": null,
            "grid_row": null,
            "max_height": null,
            "align_content": null,
            "visibility": null,
            "align_self": null,
            "height": null,
            "min_height": null,
            "padding": null,
            "grid_auto_rows": null,
            "grid_gap": null,
            "max_width": null,
            "order": null,
            "_view_module_version": "1.2.0",
            "grid_template_areas": null,
            "object_position": null,
            "object_fit": null,
            "grid_auto_columns": null,
            "margin": null,
            "display": null,
            "left": null
          }
        },
        "9795dcab167f4d24ac4a51f54638e4d6": {
          "model_module": "@jupyter-widgets/controls",
          "model_name": "LabelModel",
          "state": {
            "_view_name": "LabelView",
            "style": "IPY_MODEL_041a15449ab34ec2836b1f35f3a427cd",
            "_dom_classes": [],
            "description": "",
            "_model_name": "LabelModel",
            "placeholder": "​",
            "_view_module": "@jupyter-widgets/controls",
            "_model_module_version": "1.5.0",
            "value": " 0.01MB of 0.01MB uploaded (0.00MB deduped)\r",
            "_view_count": null,
            "_view_module_version": "1.5.0",
            "description_tooltip": null,
            "_model_module": "@jupyter-widgets/controls",
            "layout": "IPY_MODEL_38c9849dd00b4eb4aa1be4b63d46df8e"
          }
        },
        "cfd686ec2c004d359566ce0109d3f3b3": {
          "model_module": "@jupyter-widgets/controls",
          "model_name": "FloatProgressModel",
          "state": {
            "_view_name": "ProgressView",
            "style": "IPY_MODEL_286996a1495b489bb9186c9c91021be9",
            "_dom_classes": [],
            "description": "",
            "_model_name": "FloatProgressModel",
            "bar_style": "",
            "max": 1,
            "_view_module": "@jupyter-widgets/controls",
            "_model_module_version": "1.5.0",
            "value": 1,
            "_view_count": null,
            "_view_module_version": "1.5.0",
            "orientation": "horizontal",
            "min": 0,
            "description_tooltip": null,
            "_model_module": "@jupyter-widgets/controls",
            "layout": "IPY_MODEL_336ae425bdb3443d9deabee55671e708"
          }
        },
        "041a15449ab34ec2836b1f35f3a427cd": {
          "model_module": "@jupyter-widgets/controls",
          "model_name": "DescriptionStyleModel",
          "state": {
            "_view_name": "StyleView",
            "_model_name": "DescriptionStyleModel",
            "description_width": "",
            "_view_module": "@jupyter-widgets/base",
            "_model_module_version": "1.5.0",
            "_view_count": null,
            "_view_module_version": "1.2.0",
            "_model_module": "@jupyter-widgets/controls"
          }
        },
        "38c9849dd00b4eb4aa1be4b63d46df8e": {
          "model_module": "@jupyter-widgets/base",
          "model_name": "LayoutModel",
          "state": {
            "_view_name": "LayoutView",
            "grid_template_rows": null,
            "right": null,
            "justify_content": null,
            "_view_module": "@jupyter-widgets/base",
            "overflow": null,
            "_model_module_version": "1.2.0",
            "_view_count": null,
            "flex_flow": null,
            "width": null,
            "min_width": null,
            "border": null,
            "align_items": null,
            "bottom": null,
            "_model_module": "@jupyter-widgets/base",
            "top": null,
            "grid_column": null,
            "overflow_y": null,
            "overflow_x": null,
            "grid_auto_flow": null,
            "grid_area": null,
            "grid_template_columns": null,
            "flex": null,
            "_model_name": "LayoutModel",
            "justify_items": null,
            "grid_row": null,
            "max_height": null,
            "align_content": null,
            "visibility": null,
            "align_self": null,
            "height": null,
            "min_height": null,
            "padding": null,
            "grid_auto_rows": null,
            "grid_gap": null,
            "max_width": null,
            "order": null,
            "_view_module_version": "1.2.0",
            "grid_template_areas": null,
            "object_position": null,
            "object_fit": null,
            "grid_auto_columns": null,
            "margin": null,
            "display": null,
            "left": null
          }
        },
        "286996a1495b489bb9186c9c91021be9": {
          "model_module": "@jupyter-widgets/controls",
          "model_name": "ProgressStyleModel",
          "state": {
            "_view_name": "StyleView",
            "_model_name": "ProgressStyleModel",
            "description_width": "",
            "_view_module": "@jupyter-widgets/base",
            "_model_module_version": "1.5.0",
            "_view_count": null,
            "_view_module_version": "1.2.0",
            "bar_color": null,
            "_model_module": "@jupyter-widgets/controls"
          }
        },
        "336ae425bdb3443d9deabee55671e708": {
          "model_module": "@jupyter-widgets/base",
          "model_name": "LayoutModel",
          "state": {
            "_view_name": "LayoutView",
            "grid_template_rows": null,
            "right": null,
            "justify_content": null,
            "_view_module": "@jupyter-widgets/base",
            "overflow": null,
            "_model_module_version": "1.2.0",
            "_view_count": null,
            "flex_flow": null,
            "width": null,
            "min_width": null,
            "border": null,
            "align_items": null,
            "bottom": null,
            "_model_module": "@jupyter-widgets/base",
            "top": null,
            "grid_column": null,
            "overflow_y": null,
            "overflow_x": null,
            "grid_auto_flow": null,
            "grid_area": null,
            "grid_template_columns": null,
            "flex": null,
            "_model_name": "LayoutModel",
            "justify_items": null,
            "grid_row": null,
            "max_height": null,
            "align_content": null,
            "visibility": null,
            "align_self": null,
            "height": null,
            "min_height": null,
            "padding": null,
            "grid_auto_rows": null,
            "grid_gap": null,
            "max_width": null,
            "order": null,
            "_view_module_version": "1.2.0",
            "grid_template_areas": null,
            "object_position": null,
            "object_fit": null,
            "grid_auto_columns": null,
            "margin": null,
            "display": null,
            "left": null
          }
        }
      }
    }
  },
  "cells": [
    {
      "cell_type": "markdown",
      "metadata": {
        "id": "eb5dcqbE5fdB"
      },
      "source": [
        "In order to classify sentences with LSTM, I am going to use Many-to-one architecture from LSTM modules."
      ]
    },
    {
      "cell_type": "code",
      "metadata": {
        "colab": {
          "base_uri": "https://localhost:8080/"
        },
        "id": "caQRzaXduR3b",
        "outputId": "cb3c57b5-b2f5-467e-c480-5547989c6701"
      },
      "source": [
        "!pip install wandb\n",
        "!wandb login"
      ],
      "execution_count": 1,
      "outputs": [
        {
          "output_type": "stream",
          "text": [
            "Collecting wandb\n",
            "\u001b[?25l  Downloading https://files.pythonhosted.org/packages/e0/b4/9d92953d8cddc8450c859be12e3dbdd4c7754fb8def94c28b3b351c6ee4e/wandb-0.10.32-py2.py3-none-any.whl (1.8MB)\n",
            "\r\u001b[K     |▏                               | 10kB 19.6MB/s eta 0:00:01\r\u001b[K     |▍                               | 20kB 23.2MB/s eta 0:00:01\r\u001b[K     |▌                               | 30kB 19.7MB/s eta 0:00:01\r\u001b[K     |▊                               | 40kB 15.9MB/s eta 0:00:01\r\u001b[K     |█                               | 51kB 18.2MB/s eta 0:00:01\r\u001b[K     |█                               | 61kB 17.0MB/s eta 0:00:01\r\u001b[K     |█▎                              | 71kB 18.4MB/s eta 0:00:01\r\u001b[K     |█▍                              | 81kB 18.1MB/s eta 0:00:01\r\u001b[K     |█▋                              | 92kB 18.7MB/s eta 0:00:01\r\u001b[K     |█▉                              | 102kB 20.0MB/s eta 0:00:01\r\u001b[K     |██                              | 112kB 20.0MB/s eta 0:00:01\r\u001b[K     |██▏                             | 122kB 20.0MB/s eta 0:00:01\r\u001b[K     |██▍                             | 133kB 20.0MB/s eta 0:00:01\r\u001b[K     |██▌                             | 143kB 20.0MB/s eta 0:00:01\r\u001b[K     |██▊                             | 153kB 20.0MB/s eta 0:00:01\r\u001b[K     |██▉                             | 163kB 20.0MB/s eta 0:00:01\r\u001b[K     |███                             | 174kB 20.0MB/s eta 0:00:01\r\u001b[K     |███▎                            | 184kB 20.0MB/s eta 0:00:01\r\u001b[K     |███▍                            | 194kB 20.0MB/s eta 0:00:01\r\u001b[K     |███▋                            | 204kB 20.0MB/s eta 0:00:01\r\u001b[K     |███▊                            | 215kB 20.0MB/s eta 0:00:01\r\u001b[K     |████                            | 225kB 20.0MB/s eta 0:00:01\r\u001b[K     |████▏                           | 235kB 20.0MB/s eta 0:00:01\r\u001b[K     |████▎                           | 245kB 20.0MB/s eta 0:00:01\r\u001b[K     |████▌                           | 256kB 20.0MB/s eta 0:00:01\r\u001b[K     |████▊                           | 266kB 20.0MB/s eta 0:00:01\r\u001b[K     |████▉                           | 276kB 20.0MB/s eta 0:00:01\r\u001b[K     |█████                           | 286kB 20.0MB/s eta 0:00:01\r\u001b[K     |█████▏                          | 296kB 20.0MB/s eta 0:00:01\r\u001b[K     |█████▍                          | 307kB 20.0MB/s eta 0:00:01\r\u001b[K     |█████▋                          | 317kB 20.0MB/s eta 0:00:01\r\u001b[K     |█████▊                          | 327kB 20.0MB/s eta 0:00:01\r\u001b[K     |██████                          | 337kB 20.0MB/s eta 0:00:01\r\u001b[K     |██████                          | 348kB 20.0MB/s eta 0:00:01\r\u001b[K     |██████▎                         | 358kB 20.0MB/s eta 0:00:01\r\u001b[K     |██████▌                         | 368kB 20.0MB/s eta 0:00:01\r\u001b[K     |██████▋                         | 378kB 20.0MB/s eta 0:00:01\r\u001b[K     |██████▉                         | 389kB 20.0MB/s eta 0:00:01\r\u001b[K     |███████                         | 399kB 20.0MB/s eta 0:00:01\r\u001b[K     |███████▏                        | 409kB 20.0MB/s eta 0:00:01\r\u001b[K     |███████▍                        | 419kB 20.0MB/s eta 0:00:01\r\u001b[K     |███████▌                        | 430kB 20.0MB/s eta 0:00:01\r\u001b[K     |███████▊                        | 440kB 20.0MB/s eta 0:00:01\r\u001b[K     |████████                        | 450kB 20.0MB/s eta 0:00:01\r\u001b[K     |████████                        | 460kB 20.0MB/s eta 0:00:01\r\u001b[K     |████████▎                       | 471kB 20.0MB/s eta 0:00:01\r\u001b[K     |████████▍                       | 481kB 20.0MB/s eta 0:00:01\r\u001b[K     |████████▋                       | 491kB 20.0MB/s eta 0:00:01\r\u001b[K     |████████▉                       | 501kB 20.0MB/s eta 0:00:01\r\u001b[K     |█████████                       | 512kB 20.0MB/s eta 0:00:01\r\u001b[K     |█████████▏                      | 522kB 20.0MB/s eta 0:00:01\r\u001b[K     |█████████▍                      | 532kB 20.0MB/s eta 0:00:01\r\u001b[K     |█████████▌                      | 542kB 20.0MB/s eta 0:00:01\r\u001b[K     |█████████▊                      | 552kB 20.0MB/s eta 0:00:01\r\u001b[K     |█████████▉                      | 563kB 20.0MB/s eta 0:00:01\r\u001b[K     |██████████                      | 573kB 20.0MB/s eta 0:00:01\r\u001b[K     |██████████▎                     | 583kB 20.0MB/s eta 0:00:01\r\u001b[K     |██████████▍                     | 593kB 20.0MB/s eta 0:00:01\r\u001b[K     |██████████▋                     | 604kB 20.0MB/s eta 0:00:01\r\u001b[K     |██████████▉                     | 614kB 20.0MB/s eta 0:00:01\r\u001b[K     |███████████                     | 624kB 20.0MB/s eta 0:00:01\r\u001b[K     |███████████▏                    | 634kB 20.0MB/s eta 0:00:01\r\u001b[K     |███████████▎                    | 645kB 20.0MB/s eta 0:00:01\r\u001b[K     |███████████▌                    | 655kB 20.0MB/s eta 0:00:01\r\u001b[K     |███████████▊                    | 665kB 20.0MB/s eta 0:00:01\r\u001b[K     |███████████▉                    | 675kB 20.0MB/s eta 0:00:01\r\u001b[K     |████████████                    | 686kB 20.0MB/s eta 0:00:01\r\u001b[K     |████████████▏                   | 696kB 20.0MB/s eta 0:00:01\r\u001b[K     |████████████▍                   | 706kB 20.0MB/s eta 0:00:01\r\u001b[K     |████████████▋                   | 716kB 20.0MB/s eta 0:00:01\r\u001b[K     |████████████▊                   | 727kB 20.0MB/s eta 0:00:01\r\u001b[K     |█████████████                   | 737kB 20.0MB/s eta 0:00:01\r\u001b[K     |█████████████▏                  | 747kB 20.0MB/s eta 0:00:01\r\u001b[K     |█████████████▎                  | 757kB 20.0MB/s eta 0:00:01\r\u001b[K     |█████████████▌                  | 768kB 20.0MB/s eta 0:00:01\r\u001b[K     |█████████████▋                  | 778kB 20.0MB/s eta 0:00:01\r\u001b[K     |█████████████▉                  | 788kB 20.0MB/s eta 0:00:01\r\u001b[K     |██████████████                  | 798kB 20.0MB/s eta 0:00:01\r\u001b[K     |██████████████▏                 | 808kB 20.0MB/s eta 0:00:01\r\u001b[K     |██████████████▍                 | 819kB 20.0MB/s eta 0:00:01\r\u001b[K     |██████████████▌                 | 829kB 20.0MB/s eta 0:00:01\r\u001b[K     |██████████████▊                 | 839kB 20.0MB/s eta 0:00:01\r\u001b[K     |███████████████                 | 849kB 20.0MB/s eta 0:00:01\r\u001b[K     |███████████████                 | 860kB 20.0MB/s eta 0:00:01\r\u001b[K     |███████████████▎                | 870kB 20.0MB/s eta 0:00:01\r\u001b[K     |███████████████▌                | 880kB 20.0MB/s eta 0:00:01\r\u001b[K     |███████████████▋                | 890kB 20.0MB/s eta 0:00:01\r\u001b[K     |███████████████▉                | 901kB 20.0MB/s eta 0:00:01\r\u001b[K     |████████████████                | 911kB 20.0MB/s eta 0:00:01\r\u001b[K     |████████████████▏               | 921kB 20.0MB/s eta 0:00:01\r\u001b[K     |████████████████▍               | 931kB 20.0MB/s eta 0:00:01\r\u001b[K     |████████████████▌               | 942kB 20.0MB/s eta 0:00:01\r\u001b[K     |████████████████▊               | 952kB 20.0MB/s eta 0:00:01\r\u001b[K     |████████████████▉               | 962kB 20.0MB/s eta 0:00:01\r\u001b[K     |█████████████████               | 972kB 20.0MB/s eta 0:00:01\r\u001b[K     |█████████████████▎              | 983kB 20.0MB/s eta 0:00:01\r\u001b[K     |█████████████████▍              | 993kB 20.0MB/s eta 0:00:01\r\u001b[K     |█████████████████▋              | 1.0MB 20.0MB/s eta 0:00:01\r\u001b[K     |█████████████████▉              | 1.0MB 20.0MB/s eta 0:00:01\r\u001b[K     |██████████████████              | 1.0MB 20.0MB/s eta 0:00:01\r\u001b[K     |██████████████████▏             | 1.0MB 20.0MB/s eta 0:00:01\r\u001b[K     |██████████████████▎             | 1.0MB 20.0MB/s eta 0:00:01\r\u001b[K     |██████████████████▌             | 1.1MB 20.0MB/s eta 0:00:01\r\u001b[K     |██████████████████▊             | 1.1MB 20.0MB/s eta 0:00:01\r\u001b[K     |██████████████████▉             | 1.1MB 20.0MB/s eta 0:00:01\r\u001b[K     |███████████████████             | 1.1MB 20.0MB/s eta 0:00:01\r\u001b[K     |███████████████████▏            | 1.1MB 20.0MB/s eta 0:00:01\r\u001b[K     |███████████████████▍            | 1.1MB 20.0MB/s eta 0:00:01\r\u001b[K     |███████████████████▋            | 1.1MB 20.0MB/s eta 0:00:01\r\u001b[K     |███████████████████▊            | 1.1MB 20.0MB/s eta 0:00:01\r\u001b[K     |████████████████████            | 1.1MB 20.0MB/s eta 0:00:01\r\u001b[K     |████████████████████▏           | 1.1MB 20.0MB/s eta 0:00:01\r\u001b[K     |████████████████████▎           | 1.2MB 20.0MB/s eta 0:00:01\r\u001b[K     |████████████████████▌           | 1.2MB 20.0MB/s eta 0:00:01\r\u001b[K     |████████████████████▋           | 1.2MB 20.0MB/s eta 0:00:01\r\u001b[K     |████████████████████▉           | 1.2MB 20.0MB/s eta 0:00:01\r\u001b[K     |█████████████████████           | 1.2MB 20.0MB/s eta 0:00:01\r\u001b[K     |█████████████████████▏          | 1.2MB 20.0MB/s eta 0:00:01\r\u001b[K     |█████████████████████▍          | 1.2MB 20.0MB/s eta 0:00:01\r\u001b[K     |█████████████████████▋          | 1.2MB 20.0MB/s eta 0:00:01\r\u001b[K     |█████████████████████▊          | 1.2MB 20.0MB/s eta 0:00:01\r\u001b[K     |██████████████████████          | 1.2MB 20.0MB/s eta 0:00:01\r\u001b[K     |██████████████████████          | 1.3MB 20.0MB/s eta 0:00:01\r\u001b[K     |██████████████████████▎         | 1.3MB 20.0MB/s eta 0:00:01\r\u001b[K     |██████████████████████▌         | 1.3MB 20.0MB/s eta 0:00:01\r\u001b[K     |██████████████████████▋         | 1.3MB 20.0MB/s eta 0:00:01\r\u001b[K     |██████████████████████▉         | 1.3MB 20.0MB/s eta 0:00:01\r\u001b[K     |███████████████████████         | 1.3MB 20.0MB/s eta 0:00:01\r\u001b[K     |███████████████████████▏        | 1.3MB 20.0MB/s eta 0:00:01\r\u001b[K     |███████████████████████▍        | 1.3MB 20.0MB/s eta 0:00:01\r\u001b[K     |███████████████████████▌        | 1.3MB 20.0MB/s eta 0:00:01\r\u001b[K     |███████████████████████▊        | 1.4MB 20.0MB/s eta 0:00:01\r\u001b[K     |████████████████████████        | 1.4MB 20.0MB/s eta 0:00:01\r\u001b[K     |████████████████████████        | 1.4MB 20.0MB/s eta 0:00:01\r\u001b[K     |████████████████████████▎       | 1.4MB 20.0MB/s eta 0:00:01\r\u001b[K     |████████████████████████▍       | 1.4MB 20.0MB/s eta 0:00:01\r\u001b[K     |████████████████████████▋       | 1.4MB 20.0MB/s eta 0:00:01\r\u001b[K     |████████████████████████▉       | 1.4MB 20.0MB/s eta 0:00:01\r\u001b[K     |█████████████████████████       | 1.4MB 20.0MB/s eta 0:00:01\r\u001b[K     |█████████████████████████▏      | 1.4MB 20.0MB/s eta 0:00:01\r\u001b[K     |█████████████████████████▎      | 1.4MB 20.0MB/s eta 0:00:01\r\u001b[K     |█████████████████████████▌      | 1.5MB 20.0MB/s eta 0:00:01\r\u001b[K     |█████████████████████████▊      | 1.5MB 20.0MB/s eta 0:00:01\r\u001b[K     |█████████████████████████▉      | 1.5MB 20.0MB/s eta 0:00:01\r\u001b[K     |██████████████████████████      | 1.5MB 20.0MB/s eta 0:00:01\r\u001b[K     |██████████████████████████▎     | 1.5MB 20.0MB/s eta 0:00:01\r\u001b[K     |██████████████████████████▍     | 1.5MB 20.0MB/s eta 0:00:01\r\u001b[K     |██████████████████████████▋     | 1.5MB 20.0MB/s eta 0:00:01\r\u001b[K     |██████████████████████████▊     | 1.5MB 20.0MB/s eta 0:00:01\r\u001b[K     |███████████████████████████     | 1.5MB 20.0MB/s eta 0:00:01\r\u001b[K     |███████████████████████████▏    | 1.5MB 20.0MB/s eta 0:00:01\r\u001b[K     |███████████████████████████▎    | 1.6MB 20.0MB/s eta 0:00:01\r\u001b[K     |███████████████████████████▌    | 1.6MB 20.0MB/s eta 0:00:01\r\u001b[K     |███████████████████████████▋    | 1.6MB 20.0MB/s eta 0:00:01\r\u001b[K     |███████████████████████████▉    | 1.6MB 20.0MB/s eta 0:00:01\r\u001b[K     |████████████████████████████    | 1.6MB 20.0MB/s eta 0:00:01\r\u001b[K     |████████████████████████████▏   | 1.6MB 20.0MB/s eta 0:00:01\r\u001b[K     |████████████████████████████▍   | 1.6MB 20.0MB/s eta 0:00:01\r\u001b[K     |████████████████████████████▋   | 1.6MB 20.0MB/s eta 0:00:01\r\u001b[K     |████████████████████████████▊   | 1.6MB 20.0MB/s eta 0:00:01\r\u001b[K     |█████████████████████████████   | 1.6MB 20.0MB/s eta 0:00:01\r\u001b[K     |█████████████████████████████   | 1.7MB 20.0MB/s eta 0:00:01\r\u001b[K     |█████████████████████████████▎  | 1.7MB 20.0MB/s eta 0:00:01\r\u001b[K     |█████████████████████████████▌  | 1.7MB 20.0MB/s eta 0:00:01\r\u001b[K     |█████████████████████████████▋  | 1.7MB 20.0MB/s eta 0:00:01\r\u001b[K     |█████████████████████████████▉  | 1.7MB 20.0MB/s eta 0:00:01\r\u001b[K     |██████████████████████████████  | 1.7MB 20.0MB/s eta 0:00:01\r\u001b[K     |██████████████████████████████▏ | 1.7MB 20.0MB/s eta 0:00:01\r\u001b[K     |██████████████████████████████▍ | 1.7MB 20.0MB/s eta 0:00:01\r\u001b[K     |██████████████████████████████▌ | 1.7MB 20.0MB/s eta 0:00:01\r\u001b[K     |██████████████████████████████▊ | 1.8MB 20.0MB/s eta 0:00:01\r\u001b[K     |███████████████████████████████ | 1.8MB 20.0MB/s eta 0:00:01\r\u001b[K     |███████████████████████████████ | 1.8MB 20.0MB/s eta 0:00:01\r\u001b[K     |███████████████████████████████▎| 1.8MB 20.0MB/s eta 0:00:01\r\u001b[K     |███████████████████████████████▍| 1.8MB 20.0MB/s eta 0:00:01\r\u001b[K     |███████████████████████████████▋| 1.8MB 20.0MB/s eta 0:00:01\r\u001b[K     |███████████████████████████████▉| 1.8MB 20.0MB/s eta 0:00:01\r\u001b[K     |████████████████████████████████| 1.8MB 20.0MB/s eta 0:00:01\r\u001b[K     |████████████████████████████████| 1.8MB 20.0MB/s \n",
            "\u001b[?25hRequirement already satisfied: psutil>=5.0.0 in /usr/local/lib/python3.7/dist-packages (from wandb) (5.4.8)\n",
            "Requirement already satisfied: protobuf>=3.12.0 in /usr/local/lib/python3.7/dist-packages (from wandb) (3.12.4)\n",
            "Requirement already satisfied: six>=1.13.0 in /usr/local/lib/python3.7/dist-packages (from wandb) (1.15.0)\n",
            "Collecting docker-pycreds>=0.4.0\n",
            "  Downloading https://files.pythonhosted.org/packages/f5/e8/f6bd1eee09314e7e6dee49cbe2c5e22314ccdb38db16c9fc72d2fa80d054/docker_pycreds-0.4.0-py2.py3-none-any.whl\n",
            "Requirement already satisfied: promise<3,>=2.0 in /usr/local/lib/python3.7/dist-packages (from wandb) (2.3)\n",
            "Collecting configparser>=3.8.1\n",
            "  Downloading https://files.pythonhosted.org/packages/fd/01/ff260a18caaf4457eb028c96eeb405c4a230ca06c8ec9c1379f813caa52e/configparser-5.0.2-py3-none-any.whl\n",
            "Requirement already satisfied: PyYAML in /usr/local/lib/python3.7/dist-packages (from wandb) (3.13)\n",
            "Collecting shortuuid>=0.5.0\n",
            "  Downloading https://files.pythonhosted.org/packages/25/a6/2ecc1daa6a304e7f1b216f0896b26156b78e7c38e1211e9b798b4716c53d/shortuuid-1.0.1-py3-none-any.whl\n",
            "Requirement already satisfied: requests<3,>=2.0.0 in /usr/local/lib/python3.7/dist-packages (from wandb) (2.23.0)\n",
            "Collecting subprocess32>=3.5.3\n",
            "\u001b[?25l  Downloading https://files.pythonhosted.org/packages/32/c8/564be4d12629b912ea431f1a50eb8b3b9d00f1a0b1ceff17f266be190007/subprocess32-3.5.4.tar.gz (97kB)\n",
            "\u001b[K     |████████████████████████████████| 102kB 14.8MB/s \n",
            "\u001b[?25hRequirement already satisfied: Click!=8.0.0,>=7.0 in /usr/local/lib/python3.7/dist-packages (from wandb) (7.1.2)\n",
            "Requirement already satisfied: python-dateutil>=2.6.1 in /usr/local/lib/python3.7/dist-packages (from wandb) (2.8.1)\n",
            "Collecting sentry-sdk>=0.4.0\n",
            "\u001b[?25l  Downloading https://files.pythonhosted.org/packages/1c/4a/a54b254f67d8f4052338d54ebe90126f200693440a93ef76d254d581e3ec/sentry_sdk-1.1.0-py2.py3-none-any.whl (131kB)\n",
            "\u001b[K     |████████████████████████████████| 133kB 54.7MB/s \n",
            "\u001b[?25hCollecting pathtools\n",
            "  Downloading https://files.pythonhosted.org/packages/e7/7f/470d6fcdf23f9f3518f6b0b76be9df16dcc8630ad409947f8be2eb0ed13a/pathtools-0.1.2.tar.gz\n",
            "Collecting GitPython>=1.0.0\n",
            "\u001b[?25l  Downloading https://files.pythonhosted.org/packages/27/da/6f6224fdfc47dab57881fe20c0d1bc3122be290198ba0bf26a953a045d92/GitPython-3.1.17-py3-none-any.whl (166kB)\n",
            "\u001b[K     |████████████████████████████████| 174kB 47.2MB/s \n",
            "\u001b[?25hRequirement already satisfied: setuptools in /usr/local/lib/python3.7/dist-packages (from protobuf>=3.12.0->wandb) (57.0.0)\n",
            "Requirement already satisfied: certifi>=2017.4.17 in /usr/local/lib/python3.7/dist-packages (from requests<3,>=2.0.0->wandb) (2020.12.5)\n",
            "Requirement already satisfied: idna<3,>=2.5 in /usr/local/lib/python3.7/dist-packages (from requests<3,>=2.0.0->wandb) (2.10)\n",
            "Requirement already satisfied: chardet<4,>=3.0.2 in /usr/local/lib/python3.7/dist-packages (from requests<3,>=2.0.0->wandb) (3.0.4)\n",
            "Requirement already satisfied: urllib3!=1.25.0,!=1.25.1,<1.26,>=1.21.1 in /usr/local/lib/python3.7/dist-packages (from requests<3,>=2.0.0->wandb) (1.24.3)\n",
            "Requirement already satisfied: typing-extensions>=3.7.4.0; python_version < \"3.8\" in /usr/local/lib/python3.7/dist-packages (from GitPython>=1.0.0->wandb) (3.7.4.3)\n",
            "Collecting gitdb<5,>=4.0.1\n",
            "\u001b[?25l  Downloading https://files.pythonhosted.org/packages/ea/e8/f414d1a4f0bbc668ed441f74f44c116d9816833a48bf81d22b697090dba8/gitdb-4.0.7-py3-none-any.whl (63kB)\n",
            "\u001b[K     |████████████████████████████████| 71kB 11.7MB/s \n",
            "\u001b[?25hCollecting smmap<5,>=3.0.1\n",
            "  Downloading https://files.pythonhosted.org/packages/68/ee/d540eb5e5996eb81c26ceffac6ee49041d473bc5125f2aa995cf51ec1cf1/smmap-4.0.0-py2.py3-none-any.whl\n",
            "Building wheels for collected packages: subprocess32, pathtools\n",
            "  Building wheel for subprocess32 (setup.py) ... \u001b[?25l\u001b[?25hdone\n",
            "  Created wheel for subprocess32: filename=subprocess32-3.5.4-cp37-none-any.whl size=6502 sha256=e5e4bf4e4b850b0923fcef84e399b3204f220b6d40990f546f9fd9e6a27796c7\n",
            "  Stored in directory: /root/.cache/pip/wheels/68/39/1a/5e402bdfdf004af1786c8b853fd92f8c4a04f22aad179654d1\n",
            "  Building wheel for pathtools (setup.py) ... \u001b[?25l\u001b[?25hdone\n",
            "  Created wheel for pathtools: filename=pathtools-0.1.2-cp37-none-any.whl size=8807 sha256=cc07df97801ce20c841fd650a93079b9aa45430fa693377d80c3012b38c87910\n",
            "  Stored in directory: /root/.cache/pip/wheels/0b/04/79/c3b0c3a0266a3cb4376da31e5bfe8bba0c489246968a68e843\n",
            "Successfully built subprocess32 pathtools\n",
            "Installing collected packages: docker-pycreds, configparser, shortuuid, subprocess32, sentry-sdk, pathtools, smmap, gitdb, GitPython, wandb\n",
            "Successfully installed GitPython-3.1.17 configparser-5.0.2 docker-pycreds-0.4.0 gitdb-4.0.7 pathtools-0.1.2 sentry-sdk-1.1.0 shortuuid-1.0.1 smmap-4.0.0 subprocess32-3.5.4 wandb-0.10.32\n",
            "\u001b[34m\u001b[1mwandb\u001b[0m: You can find your API key in your browser here: https://wandb.ai/authorize\n",
            "\u001b[34m\u001b[1mwandb\u001b[0m: Paste an API key from your profile and hit enter: \n",
            "\u001b[34m\u001b[1mwandb\u001b[0m: Appending key for api.wandb.ai to your netrc file: /root/.netrc\n"
          ],
          "name": "stdout"
        }
      ]
    },
    {
      "cell_type": "code",
      "metadata": {
        "id": "b7D-GhrkW0oe"
      },
      "source": [
        "CUDA_LAUNCH_BLOCKING=1"
      ],
      "execution_count": 2,
      "outputs": []
    },
    {
      "cell_type": "code",
      "metadata": {
        "colab": {
          "base_uri": "https://localhost:8080/"
        },
        "id": "RrFhhaXPI_E3",
        "outputId": "29b7a268-5542-442f-86a8-4e19b370f686"
      },
      "source": [
        "import torch\n",
        "import torch.nn as nn\n",
        "import torch.nn.functional as F\n",
        "from torchtext.legacy import data,datasets\n",
        "import torchtext.legacy\n",
        "import torch.optim as optim\n",
        "import wandb\n",
        "import time\n",
        "\n",
        "import nltk\n",
        "from nltk.corpus import stopwords\n",
        "nltk.download('stopwords')"
      ],
      "execution_count": 3,
      "outputs": [
        {
          "output_type": "stream",
          "text": [
            "[nltk_data] Downloading package stopwords to /root/nltk_data...\n",
            "[nltk_data]   Unzipping corpora/stopwords.zip.\n"
          ],
          "name": "stdout"
        },
        {
          "output_type": "execute_result",
          "data": {
            "text/plain": [
              "True"
            ]
          },
          "metadata": {
            "tags": []
          },
          "execution_count": 3
        }
      ]
    },
    {
      "cell_type": "markdown",
      "metadata": {
        "id": "RKGdIGJOuU68"
      },
      "source": [
        "# Parameters for Wandb"
      ]
    },
    {
      "cell_type": "code",
      "metadata": {
        "id": "EOAGGeczuUXj"
      },
      "source": [
        "sweep_config = {\n",
        "    'method': 'grid', #grid, random\n",
        "    'metric': {\n",
        "      'name': 'loss',\n",
        "      'goal': 'minimize'   \n",
        "    },\n",
        "    'parameters': {\n",
        "        'epochs': {\n",
        "            'values': [5,10]\n",
        "        },\n",
        "        'batch_size': {\n",
        "            'values': [128, 64]\n",
        "        },\n",
        "        'learning_rate': {\n",
        "            'values': [5e-2, 1e-3]\n",
        "        }\n",
        "    }\n",
        "}"
      ],
      "execution_count": 4,
      "outputs": []
    },
    {
      "cell_type": "code",
      "metadata": {
        "colab": {
          "base_uri": "https://localhost:8080/"
        },
        "id": "hl4Vnr-huYtb",
        "outputId": "7b7c0306-2a8f-4c0f-9e03-46c639087ae8"
      },
      "source": [
        "sweep_id = wandb.sweep(sweep_config, project=\"e216642_Assigment_WnB\")"
      ],
      "execution_count": 5,
      "outputs": [
        {
          "output_type": "stream",
          "text": [
            "Create sweep with ID: kbosc5oy\n",
            "Sweep URL: https://wandb.ai/icgencel/e216642_Assigment_WnB/sweeps/kbosc5oy\n"
          ],
          "name": "stdout"
        }
      ]
    },
    {
      "cell_type": "markdown",
      "metadata": {
        "id": "JcaeUHa4hQXK"
      },
      "source": [
        "Definition of Tokenizer"
      ]
    },
    {
      "cell_type": "code",
      "metadata": {
        "id": "HRLyoGMsKR9Q"
      },
      "source": [
        "def tokenizer(text):\n",
        "  text = text.split(\" \")\n",
        "  return text"
      ],
      "execution_count": 6,
      "outputs": []
    },
    {
      "cell_type": "markdown",
      "metadata": {
        "id": "Am68EjayhSRz"
      },
      "source": [
        "TEXT and LABEL creation"
      ]
    },
    {
      "cell_type": "code",
      "metadata": {
        "id": "sZi9IZPcJQY5"
      },
      "source": [
        "# In this part, basic tokenizer ais used and stop words are removed.\n",
        "TEXT = data.Field(tokenize = tokenizer, batch_first= True, stop_words=stopwords.words('english'))\n",
        "LABEL = data.LabelField(dtype = torch.float)"
      ],
      "execution_count": 7,
      "outputs": []
    },
    {
      "cell_type": "markdown",
      "metadata": {
        "id": "UufwokvEhUth"
      },
      "source": [
        "data is splitted to test and train sets"
      ]
    },
    {
      "cell_type": "code",
      "metadata": {
        "id": "shqIXFJZKuQ9",
        "colab": {
          "base_uri": "https://localhost:8080/"
        },
        "outputId": "ae513611-f20f-4e79-9e58-dd7fc00f76a3"
      },
      "source": [
        "train_data, test_data = datasets.IMDB.splits(TEXT, LABEL)"
      ],
      "execution_count": 8,
      "outputs": [
        {
          "output_type": "stream",
          "text": [
            "downloading aclImdb_v1.tar.gz\n"
          ],
          "name": "stdout"
        },
        {
          "output_type": "stream",
          "text": [
            "aclImdb_v1.tar.gz: 100%|██████████| 84.1M/84.1M [00:02<00:00, 29.2MB/s]\n"
          ],
          "name": "stderr"
        }
      ]
    },
    {
      "cell_type": "markdown",
      "metadata": {
        "id": "yIPBtTvohY1Z"
      },
      "source": [
        "Maximum and average sentence lengths are found"
      ]
    },
    {
      "cell_type": "code",
      "metadata": {
        "colab": {
          "base_uri": "https://localhost:8080/"
        },
        "id": "iOmLtoHtQDQf",
        "outputId": "96e827cc-245e-4c23-8b23-24f4e85e622e"
      },
      "source": [
        "max_size=0  ## this part of the code find maximum length of the network\n",
        "count=0\n",
        "sum= 0\n",
        "for i in  range(len(train_data)):\n",
        "  if max_size < len(train_data[i].text):\n",
        "    max_size =len(train_data[i].text)\n",
        "    print(max_size)\n",
        "  count +=1\n",
        "  sum +=len(train_data[i].text)\n",
        "print(\"average: \", sum/count)"
      ],
      "execution_count": 9,
      "outputs": [
        {
          "output_type": "stream",
          "text": [
            "202\n",
            "211\n",
            "272\n",
            "288\n",
            "299\n",
            "428\n",
            "477\n",
            "522\n",
            "592\n",
            "642\n",
            "1001\n",
            "1035\n",
            "1532\n",
            "average:  137.90252\n"
          ],
          "name": "stdout"
        }
      ]
    },
    {
      "cell_type": "markdown",
      "metadata": {
        "id": "8gJpgbv3oS8N"
      },
      "source": [
        "#Splitting data as train,valid, test data"
      ]
    },
    {
      "cell_type": "code",
      "metadata": {
        "id": "WGPTO_6UQFfb"
      },
      "source": [
        "TEXT = torchtext.legacy.data.Field(tokenize=tokenizer, batch_first=True,fix_length= 137 # it is filled with average size \n",
        "                            , stop_words=stopwords.words('english')) # preprocessing parameters can be used to add aditional  preprocessing steps\n",
        "LABEL = torchtext.legacy.data.LabelField(dtype = torch.float)\n",
        "train_data, test_data = torchtext.legacy.datasets.IMDB.splits(TEXT, LABEL) \n",
        "test_data, valid_data = test_data.split()"
      ],
      "execution_count": 10,
      "outputs": []
    },
    {
      "cell_type": "markdown",
      "metadata": {
        "id": "H-W-_-tyLLsN"
      },
      "source": [
        "The following cell is taken from Lab5"
      ]
    },
    {
      "cell_type": "code",
      "metadata": {
        "id": "MztOTfpXK1Qy",
        "colab": {
          "base_uri": "https://localhost:8080/"
        },
        "outputId": "3c61225b-2ed1-4b2b-80b1-3fe365d8b974"
      },
      "source": [
        "# Build vocabularies\n",
        "TEXT.build_vocab(train_data, \n",
        "                 max_size = 30000, # Select only the most important 30000 words\n",
        "                 # Load pretrained embeddings\n",
        "                 vectors = \"glove.6B.100d\", \n",
        "                 # Set unknown vectors\n",
        "                 unk_init = torch.Tensor.normal_)\n",
        "\n",
        "LABEL.build_vocab(train_data)"
      ],
      "execution_count": 11,
      "outputs": [
        {
          "output_type": "stream",
          "text": [
            ".vector_cache/glove.6B.zip: 862MB [02:40, 5.36MB/s]                           \n",
            " 99%|█████████▉| 397571/400000 [00:13<00:00, 29096.11it/s]"
          ],
          "name": "stderr"
        }
      ]
    },
    {
      "cell_type": "code",
      "metadata": {
        "id": "F_pzo0qF1AYk"
      },
      "source": [
        "device = torch.device('cuda' if torch.cuda.is_available() else 'cpu')"
      ],
      "execution_count": 12,
      "outputs": []
    },
    {
      "cell_type": "markdown",
      "metadata": {
        "id": "FuWPZbLRoZ6-"
      },
      "source": [
        "# Creating Iterators"
      ]
    },
    {
      "cell_type": "code",
      "metadata": {
        "id": "cNXcBSozBPJf"
      },
      "source": [
        "input_dim = len(TEXT.vocab)\n",
        "embedding_dim = 100 # in order to create a emb vector with dimension 100\n",
        "pad_idx = TEXT.vocab.stoi[TEXT.pad_token]\n",
        "unk_idx = TEXT.vocab.stoi[TEXT.unk_token]"
      ],
      "execution_count": 13,
      "outputs": []
    },
    {
      "cell_type": "markdown",
      "metadata": {
        "id": "u2JrCgpfod4y"
      },
      "source": [
        "# LSTM Network"
      ]
    },
    {
      "cell_type": "code",
      "metadata": {
        "id": "et5352XzMn6Y"
      },
      "source": [
        "# In this part, 1-layer LSTM network is created. Before LSTM, embedding layer is used\n",
        "# with dimension 100. At the output of LSTM, there is a dropout layer with prob 0.5\n",
        "# Finally there is a linear layer, at the output\n",
        "\n",
        "class LSTMNetwork(nn.Module):\n",
        "\n",
        "  def __init__(self,input_dim,embedding_dim,pad_idx):\n",
        "    super().__init__()\n",
        "    self.embedding = nn.Embedding(input_dim, embedding_dim, padding_idx = pad_idx)\n",
        "    self.lstm = nn.LSTM(input_size =embedding_dim, hidden_size= 100, batch_first = True)\n",
        "    self.dropout = nn.Dropout(0.5)\n",
        "    self.linear = nn.Linear(100,1)\n",
        "\n",
        "  def forward(self,input_ids):\n",
        "        x = self.embedding(input_ids)\n",
        "        lstm_out, (ht, ct) = self.lstm(x)\n",
        "        ht = self.dropout(ht)\n",
        "        out = self.linear(ht[-1])\n",
        "        return out "
      ],
      "execution_count": 14,
      "outputs": []
    },
    {
      "cell_type": "markdown",
      "metadata": {
        "id": "ov0LulOZogLK"
      },
      "source": [
        "# Optimizer and Loss function"
      ]
    },
    {
      "cell_type": "code",
      "metadata": {
        "id": "6tf1_mth9iHE"
      },
      "source": [
        "\n",
        "# Helper functions\n",
        "def accuracy(preds, y):\n",
        "    \"\"\" Return accuracy per batch. \"\"\"\n",
        "    correct = (torch.round(torch.sigmoid(preds)) == y).float() \n",
        "    return correct.sum() / len(correct)\n",
        "\n",
        "def epoch_time(start_time, end_time):\n",
        "    '''Track training time. '''\n",
        "    elapsed_time = end_time - start_time\n",
        "    elapsed_mins = int(elapsed_time / 60)\n",
        "    elapsed_secs = int(elapsed_time - (elapsed_mins * 60))\n",
        "    return elapsed_mins, elapsed_secs\n",
        "  \n",
        "def train(model, iterator, optimizer, criterion):\n",
        "    '''Train the model with specified data, optimizer, and loss function. '''\n",
        "    epoch_loss = 0\n",
        "    epoch_acc = 0\n",
        "    \n",
        "    model.train()\n",
        "    \n",
        "    for batch in iterator:\n",
        "        \n",
        "        # Reset the gradient to not use them in multiple passes \n",
        "        optimizer.zero_grad()\n",
        "        predictions = model(batch.text).squeeze(1)\n",
        "        \n",
        "        loss = criterion(predictions, batch.label)\n",
        "        \n",
        "        acc = accuracy(predictions, batch.label)\n",
        "        \n",
        "        # Backprop\n",
        "        loss.backward()\n",
        "        \n",
        "        # Optimize the weights\n",
        "        optimizer.step()\n",
        "        \n",
        "        # Record accuracy and loss\n",
        "        epoch_loss += loss.item()\n",
        "        epoch_acc += acc.item()\n",
        "        \n",
        "    return epoch_loss / len(iterator), epoch_acc / len(iterator)\n",
        "\n",
        "\n",
        "def evaluate(model, iterator, criterion):\n",
        "    '''Evaluate model performance. '''\n",
        "    epoch_loss = 0\n",
        "    epoch_acc = 0\n",
        "    \n",
        "    # Turm off dropout while evaluating\n",
        "    model.eval()\n",
        "    \n",
        "    # No need to backprop in eval\n",
        "    with torch.no_grad():\n",
        "    \n",
        "        for batch in iterator:\n",
        "\n",
        "            predictions = model(batch.text).squeeze(1)\n",
        "            loss = criterion(predictions, batch.label)\n",
        "            \n",
        "            acc = accuracy(predictions, batch.label)\n",
        "\n",
        "            epoch_loss += loss.item()\n",
        "            epoch_acc += acc.item()\n",
        "        \n",
        "    return epoch_loss / len(iterator), epoch_acc / len(iterator)"
      ],
      "execution_count": 15,
      "outputs": []
    },
    {
      "cell_type": "markdown",
      "metadata": {
        "id": "YyHEys5kwmA9"
      },
      "source": [
        "# Wandb Part"
      ]
    },
    {
      "cell_type": "markdown",
      "metadata": {
        "id": "PtkEblj7tNZ0"
      },
      "source": [
        "Wandb function is added in this function, which parameters will be used in grid search are indicated. There is also some functions inside wandb function which are taken from IS784 - Lab5"
      ]
    },
    {
      "cell_type": "code",
      "metadata": {
        "id": "mDRIhvt-Dk4r"
      },
      "source": [
        "device = torch.device('cuda' if torch.cuda.is_available() else 'cpu')\n",
        "def Wandbfunc():\n",
        "\n",
        "  TEXT = torchtext.legacy.data.Field(tokenize=tokenizer, batch_first=True,fix_length= 137 # it is filled with average size \n",
        "                            , stop_words=stopwords.words('english')) # preprocessing parameters can be used to add aditional  preprocessing steps\n",
        "  LABEL = torchtext.legacy.data.LabelField(dtype = torch.float)\n",
        "  train_data, test_data = torchtext.legacy.datasets.IMDB.splits(TEXT, LABEL) \n",
        "  test_data, valid_data = test_data.split()\n",
        "  TEXT.build_vocab(train_data, \n",
        "                  max_size = 30000, # Select only the most important 30000 words\n",
        "                  # Load pretrained embeddings\n",
        "                  vectors = \"glove.6B.100d\", \n",
        "                  # Set unknown vectors\n",
        "                  unk_init = torch.Tensor.normal_)\n",
        "\n",
        "  LABEL.build_vocab(train_data)\n",
        "\n",
        "  input_dim = len(TEXT.vocab)\n",
        "  embedding_dim = 100 # in order to create a emb vector with dimension 100\n",
        "  pad_idx = TEXT.vocab.stoi[TEXT.pad_token]\n",
        "  unk_idx = TEXT.vocab.stoi[TEXT.unk_token]\n",
        "  \n",
        "  config_defaults = {\n",
        "        'epochs': 1,\n",
        "        'batch_size': 32,\n",
        "        'learning_rate': 1e-3,\n",
        "    }\n",
        "\n",
        "  wandb.init(config=config_defaults)\n",
        "  \n",
        "  config = wandb.config\n",
        "  \n",
        "    # Model is created and weigths are copied \n",
        "  # Finally model is transferred to GPU\n",
        "  model = LSTMNetwork(input_dim, embedding_dim, pad_idx)\n",
        "  model.embedding.weight.data.copy_(TEXT.vocab.vectors)\n",
        "\n",
        "  model.embedding.weight.data[unk_idx] = torch.zeros(embedding_dim)\n",
        "  model.embedding.weight.data[pad_idx] = torch.zeros(embedding_dim)\n",
        "  model = model.to(device)\n",
        "  \n",
        "  # iterator\n",
        "  train_iterator, valid_iterator, test_iterator = data.BucketIterator.splits(\n",
        "      (train_data, valid_data, test_data), \n",
        "      batch_size = config.batch_size, \n",
        "      device = device)\n",
        "  # optim_loss\n",
        "  optimizer = optim.Adam(model.parameters(), lr = config.learning_rate)\n",
        "  criterion = nn.BCEWithLogitsLoss()\n",
        "  model = model.to(device)\n",
        "  criterion = criterion.to(device)\n",
        "\n",
        "\n",
        "\n",
        "  # Training loop\n",
        "  N_EPOCHS = config.epochs\n",
        "\n",
        "  best_valid_loss = float('inf')\n",
        "  val_loss = []\n",
        "  val_acc = []\n",
        "  tr_loss = []\n",
        "  tr_acc = []\n",
        "\n",
        "  for epoch in range(N_EPOCHS):\n",
        "      \n",
        "      # Calculate training time\n",
        "      start_time = time.time()\n",
        "      # Get epoch losses and accuracies \n",
        "      train_loss, train_acc = train(model, train_iterator, optimizer, criterion)\n",
        "      valid_loss, valid_acc = evaluate(model, valid_iterator, criterion)\n",
        "      end_time = time.time()\n",
        "      epoch_mins, epoch_secs = epoch_time(start_time, end_time)\n",
        "      \n",
        "      # Save training metrics\n",
        "      val_loss.append(valid_loss)\n",
        "      val_acc.append(valid_acc)\n",
        "      tr_loss.append(train_loss)\n",
        "      tr_acc.append(train_acc)\n",
        "      \n",
        "      print(f'Epoch: {epoch+1:2} | Epoch Time: {epoch_mins}m {epoch_secs}s')\n",
        "      print(f'\\tTrain Loss: {train_loss:.3f} | Train Acc: {train_acc*100:.2f}%')\n",
        "      print(f'\\t Val. Loss: {valid_loss:.3f} |  Val. Acc: {valid_acc*100:.2f}%')\n",
        "  \n",
        "  \n",
        "  wandb.log({\"Train_loss\":train_loss})\n",
        "  wandb.log({\"Valid_loss\":valid_loss}) \n",
        "  wandb.log({\"Train_acc\":train_acc})\n",
        "  wandb.log({\"Valid_acc\":valid_acc}) \n",
        "\n",
        "\n",
        "  test_loss, test_acc = evaluate(model, test_iterator, criterion)\n",
        "  wandb.log({\"Test_loss\":test_loss})\n",
        "  wandb.log({\"Test_acc\":test_acc})"
      ],
      "execution_count": 16,
      "outputs": []
    },
    {
      "cell_type": "code",
      "metadata": {
        "id": "ctRg9A9BT7FM"
      },
      "source": [
        "def Wandb(train_data,test_data,valid_data):\n",
        "  print(1)\n",
        "  config_defaults = {\n",
        "        'epochs': 1,\n",
        "        'batch_size': 32,\n",
        "        'learning_rate': 1e-3,\n",
        "    }\n",
        "\n",
        "  wandb.init(config=config_defaults)\n",
        "  print(3)\n",
        "  config = wandb.config\n",
        "  \n",
        "    # Model is created and weigths are copied \n",
        "  # Finally model is transferred to GPU\n",
        "  model = LSTMNetwork(input_dim, embedding_dim, pad_idx)\n",
        "  model.embedding.weight.data.copy_(TEXT.vocab.vectors)\n",
        "\n",
        "  model.embedding.weight.data[unk_idx] = torch.zeros(embedding_dim)\n",
        "  model.embedding.weight.data[pad_idx] = torch.zeros(embedding_dim)\n",
        "  model = model.to(device)\n",
        "  print(5)\n",
        "  # iterator\n",
        "  train_iterator, valid_iterator, test_iterator = data.BucketIterator.splits(\n",
        "      (train_data, valid_data, test_data), \n",
        "      batch_size = config.batch_size, \n",
        "      device = device)\n",
        "  # optim_loss\n",
        "  optimizer = optim.Adam(model.parameters(), lr = config.learning_rate)\n",
        "  criterion = nn.BCEWithLogitsLoss()\n",
        "  model = model.to(device)\n",
        "  criterion = criterion.to(device)\n",
        "\n",
        "  print(7)\n",
        "\n",
        "  # Training loop\n",
        "  N_EPOCHS = config.epochs\n",
        "\n",
        "  best_valid_loss = float('inf')\n",
        "  val_loss = []\n",
        "  val_acc = []\n",
        "  tr_loss = []\n",
        "  tr_acc = []\n",
        "\n",
        "  for epoch in range(N_EPOCHS):\n",
        "      \n",
        "      # Calculate training time\n",
        "      start_time = time.time()\n",
        "      # Get epoch losses and accuracies \n",
        "      train_loss, train_acc = train(model, train_iterator, optimizer, criterion)\n",
        "      valid_loss, valid_acc = evaluate(model, valid_iterator, criterion)\n",
        "      end_time = time.time()\n",
        "      epoch_mins, epoch_secs = epoch_time(start_time, end_time)\n",
        "      \n",
        "      # Save training metrics\n",
        "      val_loss.append(valid_loss)\n",
        "      val_acc.append(valid_acc)\n",
        "      tr_loss.append(train_loss)\n",
        "      tr_acc.append(train_acc)\n",
        "      \n",
        "      print(f'Epoch: {epoch+1:2} | Epoch Time: {epoch_mins}m {epoch_secs}s')\n",
        "      print(f'\\tTrain Loss: {train_loss:.3f} | Train Acc: {train_acc*100:.2f}%')\n",
        "      print(f'\\t Val. Loss: {valid_loss:.3f} |  Val. Acc: {valid_acc*100:.2f}%')\n",
        "  \n",
        "  \n",
        "  wandb.log({\"Train_loss\":train_loss})\n",
        "  wandb.log({\"Valid_loss\":valid_loss}) \n",
        "  wandb.log({\"Train_acc\":train_acc})\n",
        "  wandb.log({\"Valid_acc\":valid_acc}) \n",
        "\n",
        "\n",
        "  test_loss, test_acc = evaluate(model, test_iterator, criterion)\n",
        "  wandb.log({\"Test_loss\":test_loss})\n",
        "  wandb.log({\"Test_acc\":test_acc})"
      ],
      "execution_count": 17,
      "outputs": []
    },
    {
      "cell_type": "code",
      "metadata": {
        "colab": {
          "base_uri": "https://localhost:8080/",
          "height": 1000,
          "referenced_widgets": [
            "70c977cedec74fd4a041d1b587fa6a01",
            "fb0e6ff179484cdf88001db1d248a1b9",
            "f9dbc0dd2a5f4a329d48e69b1d4009f8",
            "bdc231779dd24e63b0521f14422532fc",
            "506557de839749159e47472c057fe4ed",
            "bc0d2d3b52ee4f2395e7a63cdaa4ca5a",
            "87c9510f671b4af08aefff476abf7eb1",
            "1b80d9eb6b5a4069b93166c4b0d961cf",
            "2e8160080d7346a4ac42d492360f4047",
            "dff865f2fb444524b950e8555bc409cb",
            "8fb7425f5606407abac8c1d046079167",
            "bf4ac4c2f93a40ebb0aaefef71530541",
            "ffed517bd70a4b358ba71ca76a3064c9",
            "fe69e783a3fd4a5aa68c3d4a1f6d81a4",
            "f9f0858725ef4a36bbf15667719f552d",
            "a3b8708be08c48038f26aba96ce1f969",
            "0fa7a870694241158ef9f54a224b5ef3",
            "39d365b7774441938fa03f26e4398f67",
            "25efec9405ab4660ba95fc023249033a",
            "648f7b6907dc463c967b2ea3a1a1888e",
            "af21950ed8c341ba9a580024f4da6d46",
            "625f0cff90994f1488aa3b362d846daf",
            "13f2f195be2f4b4c822d7d7b886f77b1",
            "f010cc8b8ee049b685464fb9b27a550b",
            "2d7976404f504ad5b998fffefac69ca1",
            "0e1d90b4ff2a4595acda9d48fca7d29a",
            "3fdc64bc5202485d8035385bd001d94e",
            "079ac91e668148aeace33f01519e2152",
            "43dc34c80c4d4672885861cb6ae791a5",
            "fbd3b59002334a9b8b3e8a99005c7f8a",
            "462f8be3a229463bab9d42736b2d7890",
            "b74bd9d1ab414bc7b8bdab3e97400efa",
            "38191da27ddc472a869b1be44184fe1c",
            "418c6be9e8914e7dbf0027eaa08c0dbe",
            "d637aa0993744ba498e7a50ea36a246e",
            "42640e5e04e34c929aa53d42b5865d5c",
            "390c46b2244147bab8ea2c50c38c942b",
            "0a39b75414a746c2bde75603bfab3f5b",
            "5320599c22644e2a8b0515150f24373f",
            "4b29c8fba3de4709a58b1a109250db53",
            "0a690e47371e4e07ad82a7c8f7e0cce7",
            "49bd5a6284cc4bc2b45f7a2776fdd659",
            "53a3b3b878ab4e7183243be579641db1",
            "74a81470eb8c4c129807f4923bbe34de",
            "4f20badd9eae45edb455c925eed7dc02",
            "bb2e53109c2a41aa96077dcc920eb242",
            "56ab0ad8ec814b93aaa62358adcb3911",
            "33a4ca10b158448fb73d83788f4cd4eb",
            "597460b2bbb244ef8a45ac15db82f7ac",
            "8a3de8e27dfb4f43a6da80e61469e78c",
            "4f53c16d97264d1991a5f1ab5de09c5e",
            "4f83a6ec25a04c90a8571b501c0a7725",
            "6eb170d9f341401ca9f9641fcd4e66e5",
            "7dbbfb49d84641189e8e8194409dc98c",
            "f28b6c2cf5f9469ab084cebedbcb86af",
            "8762a7fe86eb43e2afdf61552da8d4ed",
            "db89453ad6c943919b69b1511bffe8c8",
            "2b6746d588bd4b6ba16e43c6996d2e06",
            "9795dcab167f4d24ac4a51f54638e4d6",
            "cfd686ec2c004d359566ce0109d3f3b3",
            "041a15449ab34ec2836b1f35f3a427cd",
            "38c9849dd00b4eb4aa1be4b63d46df8e",
            "286996a1495b489bb9186c9c91021be9",
            "336ae425bdb3443d9deabee55671e708"
          ]
        },
        "id": "5u6qUuauQGF5",
        "outputId": "52b9907c-0c5f-45db-a311-4c02ec4de4e4"
      },
      "source": [
        "wandb.agent(sweep_id, function=Wandbfunc)"
      ],
      "execution_count": 18,
      "outputs": [
        {
          "output_type": "stream",
          "text": [
            "\u001b[34m\u001b[1mwandb\u001b[0m: Agent Starting Run: krrt2x1f with config:\n",
            "\u001b[34m\u001b[1mwandb\u001b[0m: \tbatch_size: 128\n",
            "\u001b[34m\u001b[1mwandb\u001b[0m: \tepochs: 5\n",
            "\u001b[34m\u001b[1mwandb\u001b[0m: \tlearning_rate: 0.05\n",
            "\u001b[34m\u001b[1mwandb\u001b[0m: Currently logged in as: \u001b[33micgencel\u001b[0m (use `wandb login --relogin` to force relogin)\n"
          ],
          "name": "stderr"
        },
        {
          "output_type": "display_data",
          "data": {
            "text/html": [
              "\n",
              "                Tracking run with wandb version 0.10.32<br/>\n",
              "                Syncing run <strong style=\"color:#cdcd00\">dainty-sweep-1</strong> to <a href=\"https://wandb.ai\" target=\"_blank\">Weights & Biases</a> <a href=\"https://docs.wandb.com/integrations/jupyter.html\" target=\"_blank\">(Documentation)</a>.<br/>\n",
              "                Project page: <a href=\"https://wandb.ai/icgencel/e216642_Assigment_WnB\" target=\"_blank\">https://wandb.ai/icgencel/e216642_Assigment_WnB</a><br/>\n",
              "                Sweep page: <a href=\"https://wandb.ai/icgencel/e216642_Assigment_WnB/sweeps/kbosc5oy\" target=\"_blank\">https://wandb.ai/icgencel/e216642_Assigment_WnB/sweeps/kbosc5oy</a><br/>\n",
              "Run page: <a href=\"https://wandb.ai/icgencel/e216642_Assigment_WnB/runs/krrt2x1f\" target=\"_blank\">https://wandb.ai/icgencel/e216642_Assigment_WnB/runs/krrt2x1f</a><br/>\n",
              "                Run data is saved locally in <code>/content/wandb/run-20210613_204115-krrt2x1f</code><br/><br/>\n",
              "            "
            ],
            "text/plain": [
              "<IPython.core.display.HTML object>"
            ]
          },
          "metadata": {
            "tags": []
          }
        },
        {
          "output_type": "stream",
          "text": [
            "\r 99%|█████████▉| 397571/400000 [00:30<00:00, 29096.11it/s]"
          ],
          "name": "stderr"
        },
        {
          "output_type": "stream",
          "text": [
            "Epoch:  1 | Epoch Time: 0m 4s\n",
            "\tTrain Loss: 0.713 | Train Acc: 50.15%\n",
            "\t Val. Loss: 0.691 |  Val. Acc: 50.99%\n",
            "Epoch:  2 | Epoch Time: 0m 3s\n",
            "\tTrain Loss: 0.632 | Train Acc: 66.09%\n",
            "\t Val. Loss: 0.626 |  Val. Acc: 67.29%\n",
            "Epoch:  3 | Epoch Time: 0m 3s\n",
            "\tTrain Loss: 0.557 | Train Acc: 73.63%\n",
            "\t Val. Loss: 0.634 |  Val. Acc: 67.09%\n",
            "Epoch:  4 | Epoch Time: 0m 3s\n",
            "\tTrain Loss: 0.524 | Train Acc: 74.77%\n",
            "\t Val. Loss: 0.660 |  Val. Acc: 67.40%\n",
            "Epoch:  5 | Epoch Time: 0m 3s\n",
            "\tTrain Loss: 0.478 | Train Acc: 78.14%\n",
            "\t Val. Loss: 0.622 |  Val. Acc: 68.15%\n"
          ],
          "name": "stdout"
        },
        {
          "output_type": "display_data",
          "data": {
            "text/html": [
              "<br/>Waiting for W&B process to finish, PID 161<br/>Program ended successfully."
            ],
            "text/plain": [
              "<IPython.core.display.HTML object>"
            ]
          },
          "metadata": {
            "tags": []
          }
        },
        {
          "output_type": "display_data",
          "data": {
            "application/vnd.jupyter.widget-view+json": {
              "model_id": "70c977cedec74fd4a041d1b587fa6a01",
              "version_minor": 0,
              "version_major": 2
            },
            "text/plain": [
              "VBox(children=(Label(value=' 0.00MB of 0.00MB uploaded (0.00MB deduped)\\r'), FloatProgress(value=1.0, max=1.0)…"
            ]
          },
          "metadata": {
            "tags": []
          }
        },
        {
          "output_type": "display_data",
          "data": {
            "text/html": [
              "Find user logs for this run at: <code>/content/wandb/run-20210613_204115-krrt2x1f/logs/debug.log</code>"
            ],
            "text/plain": [
              "<IPython.core.display.HTML object>"
            ]
          },
          "metadata": {
            "tags": []
          }
        },
        {
          "output_type": "display_data",
          "data": {
            "text/html": [
              "Find internal logs for this run at: <code>/content/wandb/run-20210613_204115-krrt2x1f/logs/debug-internal.log</code>"
            ],
            "text/plain": [
              "<IPython.core.display.HTML object>"
            ]
          },
          "metadata": {
            "tags": []
          }
        },
        {
          "output_type": "display_data",
          "data": {
            "text/html": [
              "<h3>Run summary:</h3><br/><style>\n",
              "    table.wandb td:nth-child(1) { padding: 0 10px; text-align: right }\n",
              "    </style><table class=\"wandb\">\n",
              "<tr><td>Train_loss</td><td>0.47779</td></tr><tr><td>_runtime</td><td>32</td></tr><tr><td>_timestamp</td><td>1623616908</td></tr><tr><td>_step</td><td>5</td></tr><tr><td>Valid_loss</td><td>0.62193</td></tr><tr><td>Train_acc</td><td>0.78145</td></tr><tr><td>Valid_acc</td><td>0.68146</td></tr><tr><td>Test_loss</td><td>0.62195</td></tr><tr><td>Test_acc</td><td>0.68073</td></tr></table>"
            ],
            "text/plain": [
              "<IPython.core.display.HTML object>"
            ]
          },
          "metadata": {
            "tags": []
          }
        },
        {
          "output_type": "display_data",
          "data": {
            "text/html": [
              "<h3>Run history:</h3><br/><style>\n",
              "    table.wandb td:nth-child(1) { padding: 0 10px; text-align: right }\n",
              "    </style><table class=\"wandb\">\n",
              "<tr><td>Train_loss</td><td>▁</td></tr><tr><td>_runtime</td><td>▁▁▁▁██</td></tr><tr><td>_timestamp</td><td>▁▁▁▁██</td></tr><tr><td>_step</td><td>▁▂▄▅▇█</td></tr><tr><td>Valid_loss</td><td>▁</td></tr><tr><td>Train_acc</td><td>▁</td></tr><tr><td>Valid_acc</td><td>▁</td></tr><tr><td>Test_loss</td><td>▁</td></tr><tr><td>Test_acc</td><td>▁</td></tr></table><br/>"
            ],
            "text/plain": [
              "<IPython.core.display.HTML object>"
            ]
          },
          "metadata": {
            "tags": []
          }
        },
        {
          "output_type": "display_data",
          "data": {
            "text/html": [
              "Synced 5 W&B file(s), 0 media file(s), 0 artifact file(s) and 0 other file(s)"
            ],
            "text/plain": [
              "<IPython.core.display.HTML object>"
            ]
          },
          "metadata": {
            "tags": []
          }
        },
        {
          "output_type": "display_data",
          "data": {
            "text/html": [
              "\n",
              "                    <br/>Synced <strong style=\"color:#cdcd00\">dainty-sweep-1</strong>: <a href=\"https://wandb.ai/icgencel/e216642_Assigment_WnB/runs/krrt2x1f\" target=\"_blank\">https://wandb.ai/icgencel/e216642_Assigment_WnB/runs/krrt2x1f</a><br/>\n",
              "                "
            ],
            "text/plain": [
              "<IPython.core.display.HTML object>"
            ]
          },
          "metadata": {
            "tags": []
          }
        },
        {
          "output_type": "stream",
          "text": [
            "\u001b[34m\u001b[1mwandb\u001b[0m: Agent Starting Run: nnhulieg with config:\n",
            "\u001b[34m\u001b[1mwandb\u001b[0m: \tbatch_size: 128\n",
            "\u001b[34m\u001b[1mwandb\u001b[0m: \tepochs: 5\n",
            "\u001b[34m\u001b[1mwandb\u001b[0m: \tlearning_rate: 0.001\n"
          ],
          "name": "stderr"
        },
        {
          "output_type": "display_data",
          "data": {
            "text/html": [
              "\n",
              "                Tracking run with wandb version 0.10.32<br/>\n",
              "                Syncing run <strong style=\"color:#cdcd00\">decent-sweep-2</strong> to <a href=\"https://wandb.ai\" target=\"_blank\">Weights & Biases</a> <a href=\"https://docs.wandb.com/integrations/jupyter.html\" target=\"_blank\">(Documentation)</a>.<br/>\n",
              "                Project page: <a href=\"https://wandb.ai/icgencel/e216642_Assigment_WnB\" target=\"_blank\">https://wandb.ai/icgencel/e216642_Assigment_WnB</a><br/>\n",
              "                Sweep page: <a href=\"https://wandb.ai/icgencel/e216642_Assigment_WnB/sweeps/kbosc5oy\" target=\"_blank\">https://wandb.ai/icgencel/e216642_Assigment_WnB/sweeps/kbosc5oy</a><br/>\n",
              "Run page: <a href=\"https://wandb.ai/icgencel/e216642_Assigment_WnB/runs/nnhulieg\" target=\"_blank\">https://wandb.ai/icgencel/e216642_Assigment_WnB/runs/nnhulieg</a><br/>\n",
              "                Run data is saved locally in <code>/content/wandb/run-20210613_204158-nnhulieg</code><br/><br/>\n",
              "            "
            ],
            "text/plain": [
              "<IPython.core.display.HTML object>"
            ]
          },
          "metadata": {
            "tags": []
          }
        },
        {
          "output_type": "stream",
          "text": [
            "Epoch:  1 | Epoch Time: 0m 3s\n",
            "\tTrain Loss: 0.690 | Train Acc: 52.24%\n",
            "\t Val. Loss: 0.686 |  Val. Acc: 52.98%\n",
            "Epoch:  2 | Epoch Time: 0m 3s\n",
            "\tTrain Loss: 0.691 | Train Acc: 53.91%\n",
            "\t Val. Loss: 0.692 |  Val. Acc: 51.99%\n",
            "Epoch:  3 | Epoch Time: 0m 3s\n",
            "\tTrain Loss: 0.685 | Train Acc: 54.51%\n",
            "\t Val. Loss: 0.691 |  Val. Acc: 60.32%\n",
            "Epoch:  4 | Epoch Time: 0m 3s\n",
            "\tTrain Loss: 0.683 | Train Acc: 55.43%\n",
            "\t Val. Loss: 0.676 |  Val. Acc: 55.89%\n",
            "Epoch:  5 | Epoch Time: 0m 3s\n",
            "\tTrain Loss: 0.673 | Train Acc: 58.15%\n",
            "\t Val. Loss: 0.691 |  Val. Acc: 50.93%\n"
          ],
          "name": "stdout"
        },
        {
          "output_type": "display_data",
          "data": {
            "text/html": [
              "<br/>Waiting for W&B process to finish, PID 200<br/>Program ended successfully."
            ],
            "text/plain": [
              "<IPython.core.display.HTML object>"
            ]
          },
          "metadata": {
            "tags": []
          }
        },
        {
          "output_type": "display_data",
          "data": {
            "application/vnd.jupyter.widget-view+json": {
              "model_id": "2e8160080d7346a4ac42d492360f4047",
              "version_minor": 0,
              "version_major": 2
            },
            "text/plain": [
              "VBox(children=(Label(value=' 0.00MB of 0.00MB uploaded (0.00MB deduped)\\r'), FloatProgress(value=1.0, max=1.0)…"
            ]
          },
          "metadata": {
            "tags": []
          }
        },
        {
          "output_type": "display_data",
          "data": {
            "text/html": [
              "Find user logs for this run at: <code>/content/wandb/run-20210613_204158-nnhulieg/logs/debug.log</code>"
            ],
            "text/plain": [
              "<IPython.core.display.HTML object>"
            ]
          },
          "metadata": {
            "tags": []
          }
        },
        {
          "output_type": "display_data",
          "data": {
            "text/html": [
              "Find internal logs for this run at: <code>/content/wandb/run-20210613_204158-nnhulieg/logs/debug-internal.log</code>"
            ],
            "text/plain": [
              "<IPython.core.display.HTML object>"
            ]
          },
          "metadata": {
            "tags": []
          }
        },
        {
          "output_type": "display_data",
          "data": {
            "text/html": [
              "<h3>Run summary:</h3><br/><style>\n",
              "    table.wandb td:nth-child(1) { padding: 0 10px; text-align: right }\n",
              "    </style><table class=\"wandb\">\n",
              "<tr><td>Train_loss</td><td>0.67254</td></tr><tr><td>_runtime</td><td>22</td></tr><tr><td>_timestamp</td><td>1623616940</td></tr><tr><td>_step</td><td>5</td></tr><tr><td>Valid_loss</td><td>0.69149</td></tr><tr><td>Train_acc</td><td>0.58148</td></tr><tr><td>Valid_acc</td><td>0.50935</td></tr><tr><td>Test_loss</td><td>0.69178</td></tr><tr><td>Test_acc</td><td>0.50746</td></tr></table>"
            ],
            "text/plain": [
              "<IPython.core.display.HTML object>"
            ]
          },
          "metadata": {
            "tags": []
          }
        },
        {
          "output_type": "display_data",
          "data": {
            "text/html": [
              "<h3>Run history:</h3><br/><style>\n",
              "    table.wandb td:nth-child(1) { padding: 0 10px; text-align: right }\n",
              "    </style><table class=\"wandb\">\n",
              "<tr><td>Train_loss</td><td>▁</td></tr><tr><td>_runtime</td><td>▁▁▁▁██</td></tr><tr><td>_timestamp</td><td>▁▁▁▁██</td></tr><tr><td>_step</td><td>▁▂▄▅▇█</td></tr><tr><td>Valid_loss</td><td>▁</td></tr><tr><td>Train_acc</td><td>▁</td></tr><tr><td>Valid_acc</td><td>▁</td></tr><tr><td>Test_loss</td><td>▁</td></tr><tr><td>Test_acc</td><td>▁</td></tr></table><br/>"
            ],
            "text/plain": [
              "<IPython.core.display.HTML object>"
            ]
          },
          "metadata": {
            "tags": []
          }
        },
        {
          "output_type": "display_data",
          "data": {
            "text/html": [
              "Synced 5 W&B file(s), 0 media file(s), 0 artifact file(s) and 0 other file(s)"
            ],
            "text/plain": [
              "<IPython.core.display.HTML object>"
            ]
          },
          "metadata": {
            "tags": []
          }
        },
        {
          "output_type": "display_data",
          "data": {
            "text/html": [
              "\n",
              "                    <br/>Synced <strong style=\"color:#cdcd00\">decent-sweep-2</strong>: <a href=\"https://wandb.ai/icgencel/e216642_Assigment_WnB/runs/nnhulieg\" target=\"_blank\">https://wandb.ai/icgencel/e216642_Assigment_WnB/runs/nnhulieg</a><br/>\n",
              "                "
            ],
            "text/plain": [
              "<IPython.core.display.HTML object>"
            ]
          },
          "metadata": {
            "tags": []
          }
        },
        {
          "output_type": "stream",
          "text": [
            "\u001b[34m\u001b[1mwandb\u001b[0m: Agent Starting Run: m57i9626 with config:\n",
            "\u001b[34m\u001b[1mwandb\u001b[0m: \tbatch_size: 128\n",
            "\u001b[34m\u001b[1mwandb\u001b[0m: \tepochs: 10\n",
            "\u001b[34m\u001b[1mwandb\u001b[0m: \tlearning_rate: 0.05\n"
          ],
          "name": "stderr"
        },
        {
          "output_type": "display_data",
          "data": {
            "text/html": [
              "\n",
              "                Tracking run with wandb version 0.10.32<br/>\n",
              "                Syncing run <strong style=\"color:#cdcd00\">pious-sweep-3</strong> to <a href=\"https://wandb.ai\" target=\"_blank\">Weights & Biases</a> <a href=\"https://docs.wandb.com/integrations/jupyter.html\" target=\"_blank\">(Documentation)</a>.<br/>\n",
              "                Project page: <a href=\"https://wandb.ai/icgencel/e216642_Assigment_WnB\" target=\"_blank\">https://wandb.ai/icgencel/e216642_Assigment_WnB</a><br/>\n",
              "                Sweep page: <a href=\"https://wandb.ai/icgencel/e216642_Assigment_WnB/sweeps/kbosc5oy\" target=\"_blank\">https://wandb.ai/icgencel/e216642_Assigment_WnB/sweeps/kbosc5oy</a><br/>\n",
              "Run page: <a href=\"https://wandb.ai/icgencel/e216642_Assigment_WnB/runs/m57i9626\" target=\"_blank\">https://wandb.ai/icgencel/e216642_Assigment_WnB/runs/m57i9626</a><br/>\n",
              "                Run data is saved locally in <code>/content/wandb/run-20210613_204232-m57i9626</code><br/><br/>\n",
              "            "
            ],
            "text/plain": [
              "<IPython.core.display.HTML object>"
            ]
          },
          "metadata": {
            "tags": []
          }
        },
        {
          "output_type": "stream",
          "text": [
            "Epoch:  1 | Epoch Time: 0m 3s\n",
            "\tTrain Loss: 0.722 | Train Acc: 50.12%\n",
            "\t Val. Loss: 0.696 |  Val. Acc: 50.29%\n",
            "Epoch:  2 | Epoch Time: 0m 3s\n",
            "\tTrain Loss: 0.717 | Train Acc: 50.89%\n",
            "\t Val. Loss: 0.715 |  Val. Acc: 49.20%\n",
            "Epoch:  3 | Epoch Time: 0m 3s\n",
            "\tTrain Loss: 0.714 | Train Acc: 53.10%\n",
            "\t Val. Loss: 0.702 |  Val. Acc: 50.75%\n",
            "Epoch:  4 | Epoch Time: 0m 3s\n",
            "\tTrain Loss: 0.682 | Train Acc: 58.25%\n",
            "\t Val. Loss: 0.696 |  Val. Acc: 54.09%\n",
            "Epoch:  5 | Epoch Time: 0m 3s\n",
            "\tTrain Loss: 0.645 | Train Acc: 63.45%\n",
            "\t Val. Loss: 0.684 |  Val. Acc: 57.15%\n",
            "Epoch:  6 | Epoch Time: 0m 3s\n",
            "\tTrain Loss: 0.582 | Train Acc: 69.53%\n",
            "\t Val. Loss: 0.714 |  Val. Acc: 58.09%\n",
            "Epoch:  7 | Epoch Time: 0m 3s\n",
            "\tTrain Loss: 0.527 | Train Acc: 74.52%\n",
            "\t Val. Loss: 0.740 |  Val. Acc: 60.38%\n",
            "Epoch:  8 | Epoch Time: 0m 3s\n",
            "\tTrain Loss: 0.452 | Train Acc: 79.28%\n",
            "\t Val. Loss: 0.752 |  Val. Acc: 60.25%\n",
            "Epoch:  9 | Epoch Time: 0m 3s\n",
            "\tTrain Loss: 0.455 | Train Acc: 78.69%\n",
            "\t Val. Loss: 0.734 |  Val. Acc: 58.99%\n",
            "Epoch: 10 | Epoch Time: 0m 3s\n",
            "\tTrain Loss: 0.463 | Train Acc: 78.51%\n",
            "\t Val. Loss: 0.741 |  Val. Acc: 60.57%\n"
          ],
          "name": "stdout"
        },
        {
          "output_type": "display_data",
          "data": {
            "text/html": [
              "<br/>Waiting for W&B process to finish, PID 240<br/>Program ended successfully."
            ],
            "text/plain": [
              "<IPython.core.display.HTML object>"
            ]
          },
          "metadata": {
            "tags": []
          }
        },
        {
          "output_type": "display_data",
          "data": {
            "application/vnd.jupyter.widget-view+json": {
              "model_id": "0fa7a870694241158ef9f54a224b5ef3",
              "version_minor": 0,
              "version_major": 2
            },
            "text/plain": [
              "VBox(children=(Label(value=' 0.00MB of 0.00MB uploaded (0.00MB deduped)\\r'), FloatProgress(value=1.0, max=1.0)…"
            ]
          },
          "metadata": {
            "tags": []
          }
        },
        {
          "output_type": "display_data",
          "data": {
            "text/html": [
              "Find user logs for this run at: <code>/content/wandb/run-20210613_204232-m57i9626/logs/debug.log</code>"
            ],
            "text/plain": [
              "<IPython.core.display.HTML object>"
            ]
          },
          "metadata": {
            "tags": []
          }
        },
        {
          "output_type": "display_data",
          "data": {
            "text/html": [
              "Find internal logs for this run at: <code>/content/wandb/run-20210613_204232-m57i9626/logs/debug-internal.log</code>"
            ],
            "text/plain": [
              "<IPython.core.display.HTML object>"
            ]
          },
          "metadata": {
            "tags": []
          }
        },
        {
          "output_type": "display_data",
          "data": {
            "text/html": [
              "<h3>Run summary:</h3><br/><style>\n",
              "    table.wandb td:nth-child(1) { padding: 0 10px; text-align: right }\n",
              "    </style><table class=\"wandb\">\n",
              "<tr><td>Train_loss</td><td>0.46278</td></tr><tr><td>_runtime</td><td>41</td></tr><tr><td>_timestamp</td><td>1623616993</td></tr><tr><td>_step</td><td>5</td></tr><tr><td>Valid_loss</td><td>0.74114</td></tr><tr><td>Train_acc</td><td>0.78509</td></tr><tr><td>Valid_acc</td><td>0.60565</td></tr><tr><td>Test_loss</td><td>0.73269</td></tr><tr><td>Test_acc</td><td>0.62228</td></tr></table>"
            ],
            "text/plain": [
              "<IPython.core.display.HTML object>"
            ]
          },
          "metadata": {
            "tags": []
          }
        },
        {
          "output_type": "display_data",
          "data": {
            "text/html": [
              "<h3>Run history:</h3><br/><style>\n",
              "    table.wandb td:nth-child(1) { padding: 0 10px; text-align: right }\n",
              "    </style><table class=\"wandb\">\n",
              "<tr><td>Train_loss</td><td>▁</td></tr><tr><td>_runtime</td><td>▁▁▁▁██</td></tr><tr><td>_timestamp</td><td>▁▁▁▁██</td></tr><tr><td>_step</td><td>▁▂▄▅▇█</td></tr><tr><td>Valid_loss</td><td>▁</td></tr><tr><td>Train_acc</td><td>▁</td></tr><tr><td>Valid_acc</td><td>▁</td></tr><tr><td>Test_loss</td><td>▁</td></tr><tr><td>Test_acc</td><td>▁</td></tr></table><br/>"
            ],
            "text/plain": [
              "<IPython.core.display.HTML object>"
            ]
          },
          "metadata": {
            "tags": []
          }
        },
        {
          "output_type": "display_data",
          "data": {
            "text/html": [
              "Synced 5 W&B file(s), 0 media file(s), 0 artifact file(s) and 0 other file(s)"
            ],
            "text/plain": [
              "<IPython.core.display.HTML object>"
            ]
          },
          "metadata": {
            "tags": []
          }
        },
        {
          "output_type": "display_data",
          "data": {
            "text/html": [
              "\n",
              "                    <br/>Synced <strong style=\"color:#cdcd00\">pious-sweep-3</strong>: <a href=\"https://wandb.ai/icgencel/e216642_Assigment_WnB/runs/m57i9626\" target=\"_blank\">https://wandb.ai/icgencel/e216642_Assigment_WnB/runs/m57i9626</a><br/>\n",
              "                "
            ],
            "text/plain": [
              "<IPython.core.display.HTML object>"
            ]
          },
          "metadata": {
            "tags": []
          }
        },
        {
          "output_type": "stream",
          "text": [
            "\u001b[34m\u001b[1mwandb\u001b[0m: Agent Starting Run: d2kl7244 with config:\n",
            "\u001b[34m\u001b[1mwandb\u001b[0m: \tbatch_size: 128\n",
            "\u001b[34m\u001b[1mwandb\u001b[0m: \tepochs: 10\n",
            "\u001b[34m\u001b[1mwandb\u001b[0m: \tlearning_rate: 0.001\n"
          ],
          "name": "stderr"
        },
        {
          "output_type": "display_data",
          "data": {
            "text/html": [
              "\n",
              "                Tracking run with wandb version 0.10.32<br/>\n",
              "                Syncing run <strong style=\"color:#cdcd00\">fanciful-sweep-4</strong> to <a href=\"https://wandb.ai\" target=\"_blank\">Weights & Biases</a> <a href=\"https://docs.wandb.com/integrations/jupyter.html\" target=\"_blank\">(Documentation)</a>.<br/>\n",
              "                Project page: <a href=\"https://wandb.ai/icgencel/e216642_Assigment_WnB\" target=\"_blank\">https://wandb.ai/icgencel/e216642_Assigment_WnB</a><br/>\n",
              "                Sweep page: <a href=\"https://wandb.ai/icgencel/e216642_Assigment_WnB/sweeps/kbosc5oy\" target=\"_blank\">https://wandb.ai/icgencel/e216642_Assigment_WnB/sweeps/kbosc5oy</a><br/>\n",
              "Run page: <a href=\"https://wandb.ai/icgencel/e216642_Assigment_WnB/runs/d2kl7244\" target=\"_blank\">https://wandb.ai/icgencel/e216642_Assigment_WnB/runs/d2kl7244</a><br/>\n",
              "                Run data is saved locally in <code>/content/wandb/run-20210613_204324-d2kl7244</code><br/><br/>\n",
              "            "
            ],
            "text/plain": [
              "<IPython.core.display.HTML object>"
            ]
          },
          "metadata": {
            "tags": []
          }
        },
        {
          "output_type": "stream",
          "text": [
            "Epoch:  1 | Epoch Time: 0m 3s\n",
            "\tTrain Loss: 0.692 | Train Acc: 51.15%\n",
            "\t Val. Loss: 0.691 |  Val. Acc: 51.77%\n",
            "Epoch:  2 | Epoch Time: 0m 3s\n",
            "\tTrain Loss: 0.682 | Train Acc: 55.87%\n",
            "\t Val. Loss: 0.687 |  Val. Acc: 52.58%\n",
            "Epoch:  3 | Epoch Time: 0m 3s\n",
            "\tTrain Loss: 0.693 | Train Acc: 53.55%\n",
            "\t Val. Loss: 0.692 |  Val. Acc: 50.66%\n",
            "Epoch:  4 | Epoch Time: 0m 3s\n",
            "\tTrain Loss: 0.661 | Train Acc: 60.06%\n",
            "\t Val. Loss: 0.608 |  Val. Acc: 69.91%\n",
            "Epoch:  5 | Epoch Time: 0m 3s\n",
            "\tTrain Loss: 0.597 | Train Acc: 70.38%\n",
            "\t Val. Loss: 0.576 |  Val. Acc: 73.05%\n",
            "Epoch:  6 | Epoch Time: 0m 3s\n",
            "\tTrain Loss: 0.630 | Train Acc: 64.19%\n",
            "\t Val. Loss: 0.686 |  Val. Acc: 53.11%\n",
            "Epoch:  7 | Epoch Time: 0m 3s\n",
            "\tTrain Loss: 0.606 | Train Acc: 65.04%\n",
            "\t Val. Loss: 0.586 |  Val. Acc: 73.55%\n",
            "Epoch:  8 | Epoch Time: 0m 3s\n",
            "\tTrain Loss: 0.652 | Train Acc: 60.61%\n",
            "\t Val. Loss: 0.676 |  Val. Acc: 57.13%\n",
            "Epoch:  9 | Epoch Time: 0m 3s\n",
            "\tTrain Loss: 0.635 | Train Acc: 63.67%\n",
            "\t Val. Loss: 0.646 |  Val. Acc: 60.08%\n",
            "Epoch: 10 | Epoch Time: 0m 3s\n",
            "\tTrain Loss: 0.662 | Train Acc: 59.40%\n",
            "\t Val. Loss: 0.684 |  Val. Acc: 53.26%\n"
          ],
          "name": "stdout"
        },
        {
          "output_type": "display_data",
          "data": {
            "text/html": [
              "<br/>Waiting for W&B process to finish, PID 275<br/>Program ended successfully."
            ],
            "text/plain": [
              "<IPython.core.display.HTML object>"
            ]
          },
          "metadata": {
            "tags": []
          }
        },
        {
          "output_type": "display_data",
          "data": {
            "application/vnd.jupyter.widget-view+json": {
              "model_id": "2d7976404f504ad5b998fffefac69ca1",
              "version_minor": 0,
              "version_major": 2
            },
            "text/plain": [
              "VBox(children=(Label(value=' 0.00MB of 0.00MB uploaded (0.00MB deduped)\\r'), FloatProgress(value=1.0, max=1.0)…"
            ]
          },
          "metadata": {
            "tags": []
          }
        },
        {
          "output_type": "display_data",
          "data": {
            "text/html": [
              "Find user logs for this run at: <code>/content/wandb/run-20210613_204324-d2kl7244/logs/debug.log</code>"
            ],
            "text/plain": [
              "<IPython.core.display.HTML object>"
            ]
          },
          "metadata": {
            "tags": []
          }
        },
        {
          "output_type": "display_data",
          "data": {
            "text/html": [
              "Find internal logs for this run at: <code>/content/wandb/run-20210613_204324-d2kl7244/logs/debug-internal.log</code>"
            ],
            "text/plain": [
              "<IPython.core.display.HTML object>"
            ]
          },
          "metadata": {
            "tags": []
          }
        },
        {
          "output_type": "display_data",
          "data": {
            "text/html": [
              "<h3>Run summary:</h3><br/><style>\n",
              "    table.wandb td:nth-child(1) { padding: 0 10px; text-align: right }\n",
              "    </style><table class=\"wandb\">\n",
              "<tr><td>Train_loss</td><td>0.66177</td></tr><tr><td>_runtime</td><td>42</td></tr><tr><td>_timestamp</td><td>1623617046</td></tr><tr><td>_step</td><td>5</td></tr><tr><td>Valid_loss</td><td>0.68393</td></tr><tr><td>Train_acc</td><td>0.59398</td></tr><tr><td>Valid_acc</td><td>0.5326</td></tr><tr><td>Test_loss</td><td>0.68411</td></tr><tr><td>Test_acc</td><td>0.53461</td></tr></table>"
            ],
            "text/plain": [
              "<IPython.core.display.HTML object>"
            ]
          },
          "metadata": {
            "tags": []
          }
        },
        {
          "output_type": "display_data",
          "data": {
            "text/html": [
              "<h3>Run history:</h3><br/><style>\n",
              "    table.wandb td:nth-child(1) { padding: 0 10px; text-align: right }\n",
              "    </style><table class=\"wandb\">\n",
              "<tr><td>Train_loss</td><td>▁</td></tr><tr><td>_runtime</td><td>▁▁▁▁██</td></tr><tr><td>_timestamp</td><td>▁▁▁▁██</td></tr><tr><td>_step</td><td>▁▂▄▅▇█</td></tr><tr><td>Valid_loss</td><td>▁</td></tr><tr><td>Train_acc</td><td>▁</td></tr><tr><td>Valid_acc</td><td>▁</td></tr><tr><td>Test_loss</td><td>▁</td></tr><tr><td>Test_acc</td><td>▁</td></tr></table><br/>"
            ],
            "text/plain": [
              "<IPython.core.display.HTML object>"
            ]
          },
          "metadata": {
            "tags": []
          }
        },
        {
          "output_type": "display_data",
          "data": {
            "text/html": [
              "Synced 5 W&B file(s), 0 media file(s), 0 artifact file(s) and 0 other file(s)"
            ],
            "text/plain": [
              "<IPython.core.display.HTML object>"
            ]
          },
          "metadata": {
            "tags": []
          }
        },
        {
          "output_type": "display_data",
          "data": {
            "text/html": [
              "\n",
              "                    <br/>Synced <strong style=\"color:#cdcd00\">fanciful-sweep-4</strong>: <a href=\"https://wandb.ai/icgencel/e216642_Assigment_WnB/runs/d2kl7244\" target=\"_blank\">https://wandb.ai/icgencel/e216642_Assigment_WnB/runs/d2kl7244</a><br/>\n",
              "                "
            ],
            "text/plain": [
              "<IPython.core.display.HTML object>"
            ]
          },
          "metadata": {
            "tags": []
          }
        },
        {
          "output_type": "stream",
          "text": [
            "\u001b[34m\u001b[1mwandb\u001b[0m: Agent Starting Run: 37z3w1mc with config:\n",
            "\u001b[34m\u001b[1mwandb\u001b[0m: \tbatch_size: 64\n",
            "\u001b[34m\u001b[1mwandb\u001b[0m: \tepochs: 5\n",
            "\u001b[34m\u001b[1mwandb\u001b[0m: \tlearning_rate: 0.05\n"
          ],
          "name": "stderr"
        },
        {
          "output_type": "display_data",
          "data": {
            "text/html": [
              "\n",
              "                Tracking run with wandb version 0.10.32<br/>\n",
              "                Syncing run <strong style=\"color:#cdcd00\">pretty-sweep-5</strong> to <a href=\"https://wandb.ai\" target=\"_blank\">Weights & Biases</a> <a href=\"https://docs.wandb.com/integrations/jupyter.html\" target=\"_blank\">(Documentation)</a>.<br/>\n",
              "                Project page: <a href=\"https://wandb.ai/icgencel/e216642_Assigment_WnB\" target=\"_blank\">https://wandb.ai/icgencel/e216642_Assigment_WnB</a><br/>\n",
              "                Sweep page: <a href=\"https://wandb.ai/icgencel/e216642_Assigment_WnB/sweeps/kbosc5oy\" target=\"_blank\">https://wandb.ai/icgencel/e216642_Assigment_WnB/sweeps/kbosc5oy</a><br/>\n",
              "Run page: <a href=\"https://wandb.ai/icgencel/e216642_Assigment_WnB/runs/37z3w1mc\" target=\"_blank\">https://wandb.ai/icgencel/e216642_Assigment_WnB/runs/37z3w1mc</a><br/>\n",
              "                Run data is saved locally in <code>/content/wandb/run-20210613_204417-37z3w1mc</code><br/><br/>\n",
              "            "
            ],
            "text/plain": [
              "<IPython.core.display.HTML object>"
            ]
          },
          "metadata": {
            "tags": []
          }
        },
        {
          "output_type": "stream",
          "text": [
            "Epoch:  1 | Epoch Time: 0m 5s\n",
            "\tTrain Loss: 0.744 | Train Acc: 50.45%\n",
            "\t Val. Loss: 0.718 |  Val. Acc: 50.50%\n",
            "Epoch:  2 | Epoch Time: 0m 5s\n",
            "\tTrain Loss: 0.742 | Train Acc: 50.03%\n",
            "\t Val. Loss: 0.701 |  Val. Acc: 51.06%\n",
            "Epoch:  3 | Epoch Time: 0m 5s\n",
            "\tTrain Loss: 0.737 | Train Acc: 50.83%\n",
            "\t Val. Loss: 0.703 |  Val. Acc: 50.34%\n",
            "Epoch:  4 | Epoch Time: 0m 5s\n",
            "\tTrain Loss: 0.727 | Train Acc: 51.20%\n",
            "\t Val. Loss: 0.703 |  Val. Acc: 51.06%\n",
            "Epoch:  5 | Epoch Time: 0m 5s\n",
            "\tTrain Loss: 0.724 | Train Acc: 52.59%\n",
            "\t Val. Loss: 0.701 |  Val. Acc: 51.92%\n"
          ],
          "name": "stdout"
        },
        {
          "output_type": "display_data",
          "data": {
            "text/html": [
              "<br/>Waiting for W&B process to finish, PID 310<br/>Program ended successfully."
            ],
            "text/plain": [
              "<IPython.core.display.HTML object>"
            ]
          },
          "metadata": {
            "tags": []
          }
        },
        {
          "output_type": "display_data",
          "data": {
            "application/vnd.jupyter.widget-view+json": {
              "model_id": "38191da27ddc472a869b1be44184fe1c",
              "version_minor": 0,
              "version_major": 2
            },
            "text/plain": [
              "VBox(children=(Label(value=' 0.00MB of 0.00MB uploaded (0.00MB deduped)\\r'), FloatProgress(value=1.0, max=1.0)…"
            ]
          },
          "metadata": {
            "tags": []
          }
        },
        {
          "output_type": "display_data",
          "data": {
            "text/html": [
              "Find user logs for this run at: <code>/content/wandb/run-20210613_204417-37z3w1mc/logs/debug.log</code>"
            ],
            "text/plain": [
              "<IPython.core.display.HTML object>"
            ]
          },
          "metadata": {
            "tags": []
          }
        },
        {
          "output_type": "display_data",
          "data": {
            "text/html": [
              "Find internal logs for this run at: <code>/content/wandb/run-20210613_204417-37z3w1mc/logs/debug-internal.log</code>"
            ],
            "text/plain": [
              "<IPython.core.display.HTML object>"
            ]
          },
          "metadata": {
            "tags": []
          }
        },
        {
          "output_type": "display_data",
          "data": {
            "text/html": [
              "<h3>Run summary:</h3><br/><style>\n",
              "    table.wandb td:nth-child(1) { padding: 0 10px; text-align: right }\n",
              "    </style><table class=\"wandb\">\n",
              "<tr><td>Train_loss</td><td>0.72419</td></tr><tr><td>_runtime</td><td>30</td></tr><tr><td>_timestamp</td><td>1623617087</td></tr><tr><td>_step</td><td>5</td></tr><tr><td>Valid_loss</td><td>0.70108</td></tr><tr><td>Train_acc</td><td>0.52586</td></tr><tr><td>Valid_acc</td><td>0.5192</td></tr><tr><td>Test_loss</td><td>0.70102</td></tr><tr><td>Test_acc</td><td>0.52158</td></tr></table>"
            ],
            "text/plain": [
              "<IPython.core.display.HTML object>"
            ]
          },
          "metadata": {
            "tags": []
          }
        },
        {
          "output_type": "display_data",
          "data": {
            "text/html": [
              "<h3>Run history:</h3><br/><style>\n",
              "    table.wandb td:nth-child(1) { padding: 0 10px; text-align: right }\n",
              "    </style><table class=\"wandb\">\n",
              "<tr><td>Train_loss</td><td>▁</td></tr><tr><td>_runtime</td><td>▁▁▁▁██</td></tr><tr><td>_timestamp</td><td>▁▁▁▁██</td></tr><tr><td>_step</td><td>▁▂▄▅▇█</td></tr><tr><td>Valid_loss</td><td>▁</td></tr><tr><td>Train_acc</td><td>▁</td></tr><tr><td>Valid_acc</td><td>▁</td></tr><tr><td>Test_loss</td><td>▁</td></tr><tr><td>Test_acc</td><td>▁</td></tr></table><br/>"
            ],
            "text/plain": [
              "<IPython.core.display.HTML object>"
            ]
          },
          "metadata": {
            "tags": []
          }
        },
        {
          "output_type": "display_data",
          "data": {
            "text/html": [
              "Synced 5 W&B file(s), 0 media file(s), 0 artifact file(s) and 0 other file(s)"
            ],
            "text/plain": [
              "<IPython.core.display.HTML object>"
            ]
          },
          "metadata": {
            "tags": []
          }
        },
        {
          "output_type": "display_data",
          "data": {
            "text/html": [
              "\n",
              "                    <br/>Synced <strong style=\"color:#cdcd00\">pretty-sweep-5</strong>: <a href=\"https://wandb.ai/icgencel/e216642_Assigment_WnB/runs/37z3w1mc\" target=\"_blank\">https://wandb.ai/icgencel/e216642_Assigment_WnB/runs/37z3w1mc</a><br/>\n",
              "                "
            ],
            "text/plain": [
              "<IPython.core.display.HTML object>"
            ]
          },
          "metadata": {
            "tags": []
          }
        },
        {
          "output_type": "stream",
          "text": [
            "\u001b[34m\u001b[1mwandb\u001b[0m: Agent Starting Run: f8na3yj0 with config:\n",
            "\u001b[34m\u001b[1mwandb\u001b[0m: \tbatch_size: 64\n",
            "\u001b[34m\u001b[1mwandb\u001b[0m: \tepochs: 5\n",
            "\u001b[34m\u001b[1mwandb\u001b[0m: \tlearning_rate: 0.001\n"
          ],
          "name": "stderr"
        },
        {
          "output_type": "display_data",
          "data": {
            "text/html": [
              "\n",
              "                Tracking run with wandb version 0.10.32<br/>\n",
              "                Syncing run <strong style=\"color:#cdcd00\">vital-sweep-6</strong> to <a href=\"https://wandb.ai\" target=\"_blank\">Weights & Biases</a> <a href=\"https://docs.wandb.com/integrations/jupyter.html\" target=\"_blank\">(Documentation)</a>.<br/>\n",
              "                Project page: <a href=\"https://wandb.ai/icgencel/e216642_Assigment_WnB\" target=\"_blank\">https://wandb.ai/icgencel/e216642_Assigment_WnB</a><br/>\n",
              "                Sweep page: <a href=\"https://wandb.ai/icgencel/e216642_Assigment_WnB/sweeps/kbosc5oy\" target=\"_blank\">https://wandb.ai/icgencel/e216642_Assigment_WnB/sweeps/kbosc5oy</a><br/>\n",
              "Run page: <a href=\"https://wandb.ai/icgencel/e216642_Assigment_WnB/runs/f8na3yj0\" target=\"_blank\">https://wandb.ai/icgencel/e216642_Assigment_WnB/runs/f8na3yj0</a><br/>\n",
              "                Run data is saved locally in <code>/content/wandb/run-20210613_204459-f8na3yj0</code><br/><br/>\n",
              "            "
            ],
            "text/plain": [
              "<IPython.core.display.HTML object>"
            ]
          },
          "metadata": {
            "tags": []
          }
        },
        {
          "output_type": "stream",
          "text": [
            "Epoch:  1 | Epoch Time: 0m 5s\n",
            "\tTrain Loss: 0.688 | Train Acc: 54.38%\n",
            "\t Val. Loss: 0.668 |  Val. Acc: 63.40%\n",
            "Epoch:  2 | Epoch Time: 0m 5s\n",
            "\tTrain Loss: 0.681 | Train Acc: 55.67%\n",
            "\t Val. Loss: 0.692 |  Val. Acc: 51.42%\n",
            "Epoch:  3 | Epoch Time: 0m 5s\n",
            "\tTrain Loss: 0.691 | Train Acc: 52.64%\n",
            "\t Val. Loss: 0.691 |  Val. Acc: 51.42%\n",
            "Epoch:  4 | Epoch Time: 0m 5s\n",
            "\tTrain Loss: 0.680 | Train Acc: 56.73%\n",
            "\t Val. Loss: 0.681 |  Val. Acc: 54.29%\n",
            "Epoch:  5 | Epoch Time: 0m 5s\n",
            "\tTrain Loss: 0.603 | Train Acc: 66.92%\n",
            "\t Val. Loss: 0.549 |  Val. Acc: 71.64%\n"
          ],
          "name": "stdout"
        },
        {
          "output_type": "display_data",
          "data": {
            "text/html": [
              "<br/>Waiting for W&B process to finish, PID 345<br/>Program ended successfully."
            ],
            "text/plain": [
              "<IPython.core.display.HTML object>"
            ]
          },
          "metadata": {
            "tags": []
          }
        },
        {
          "output_type": "display_data",
          "data": {
            "application/vnd.jupyter.widget-view+json": {
              "model_id": "0a690e47371e4e07ad82a7c8f7e0cce7",
              "version_minor": 0,
              "version_major": 2
            },
            "text/plain": [
              "VBox(children=(Label(value=' 0.00MB of 0.00MB uploaded (0.00MB deduped)\\r'), FloatProgress(value=1.0, max=1.0)…"
            ]
          },
          "metadata": {
            "tags": []
          }
        },
        {
          "output_type": "display_data",
          "data": {
            "text/html": [
              "Find user logs for this run at: <code>/content/wandb/run-20210613_204459-f8na3yj0/logs/debug.log</code>"
            ],
            "text/plain": [
              "<IPython.core.display.HTML object>"
            ]
          },
          "metadata": {
            "tags": []
          }
        },
        {
          "output_type": "display_data",
          "data": {
            "text/html": [
              "Find internal logs for this run at: <code>/content/wandb/run-20210613_204459-f8na3yj0/logs/debug-internal.log</code>"
            ],
            "text/plain": [
              "<IPython.core.display.HTML object>"
            ]
          },
          "metadata": {
            "tags": []
          }
        },
        {
          "output_type": "display_data",
          "data": {
            "text/html": [
              "<h3>Run summary:</h3><br/><style>\n",
              "    table.wandb td:nth-child(1) { padding: 0 10px; text-align: right }\n",
              "    </style><table class=\"wandb\">\n",
              "<tr><td>Train_loss</td><td>0.60315</td></tr><tr><td>_runtime</td><td>30</td></tr><tr><td>_timestamp</td><td>1623617129</td></tr><tr><td>_step</td><td>5</td></tr><tr><td>Valid_loss</td><td>0.54929</td></tr><tr><td>Train_acc</td><td>0.66921</td></tr><tr><td>Valid_acc</td><td>0.71641</td></tr><tr><td>Test_loss</td><td>0.54506</td></tr><tr><td>Test_acc</td><td>0.72128</td></tr></table>"
            ],
            "text/plain": [
              "<IPython.core.display.HTML object>"
            ]
          },
          "metadata": {
            "tags": []
          }
        },
        {
          "output_type": "display_data",
          "data": {
            "text/html": [
              "<h3>Run history:</h3><br/><style>\n",
              "    table.wandb td:nth-child(1) { padding: 0 10px; text-align: right }\n",
              "    </style><table class=\"wandb\">\n",
              "<tr><td>Train_loss</td><td>▁</td></tr><tr><td>_runtime</td><td>▁▁▁▁██</td></tr><tr><td>_timestamp</td><td>▁▁▁▁██</td></tr><tr><td>_step</td><td>▁▂▄▅▇█</td></tr><tr><td>Valid_loss</td><td>▁</td></tr><tr><td>Train_acc</td><td>▁</td></tr><tr><td>Valid_acc</td><td>▁</td></tr><tr><td>Test_loss</td><td>▁</td></tr><tr><td>Test_acc</td><td>▁</td></tr></table><br/>"
            ],
            "text/plain": [
              "<IPython.core.display.HTML object>"
            ]
          },
          "metadata": {
            "tags": []
          }
        },
        {
          "output_type": "display_data",
          "data": {
            "text/html": [
              "Synced 5 W&B file(s), 0 media file(s), 0 artifact file(s) and 0 other file(s)"
            ],
            "text/plain": [
              "<IPython.core.display.HTML object>"
            ]
          },
          "metadata": {
            "tags": []
          }
        },
        {
          "output_type": "display_data",
          "data": {
            "text/html": [
              "\n",
              "                    <br/>Synced <strong style=\"color:#cdcd00\">vital-sweep-6</strong>: <a href=\"https://wandb.ai/icgencel/e216642_Assigment_WnB/runs/f8na3yj0\" target=\"_blank\">https://wandb.ai/icgencel/e216642_Assigment_WnB/runs/f8na3yj0</a><br/>\n",
              "                "
            ],
            "text/plain": [
              "<IPython.core.display.HTML object>"
            ]
          },
          "metadata": {
            "tags": []
          }
        },
        {
          "output_type": "stream",
          "text": [
            "\u001b[34m\u001b[1mwandb\u001b[0m: Agent Starting Run: kkx1g1xl with config:\n",
            "\u001b[34m\u001b[1mwandb\u001b[0m: \tbatch_size: 64\n",
            "\u001b[34m\u001b[1mwandb\u001b[0m: \tepochs: 10\n",
            "\u001b[34m\u001b[1mwandb\u001b[0m: \tlearning_rate: 0.05\n"
          ],
          "name": "stderr"
        },
        {
          "output_type": "display_data",
          "data": {
            "text/html": [
              "\n",
              "                Tracking run with wandb version 0.10.32<br/>\n",
              "                Syncing run <strong style=\"color:#cdcd00\">icy-sweep-7</strong> to <a href=\"https://wandb.ai\" target=\"_blank\">Weights & Biases</a> <a href=\"https://docs.wandb.com/integrations/jupyter.html\" target=\"_blank\">(Documentation)</a>.<br/>\n",
              "                Project page: <a href=\"https://wandb.ai/icgencel/e216642_Assigment_WnB\" target=\"_blank\">https://wandb.ai/icgencel/e216642_Assigment_WnB</a><br/>\n",
              "                Sweep page: <a href=\"https://wandb.ai/icgencel/e216642_Assigment_WnB/sweeps/kbosc5oy\" target=\"_blank\">https://wandb.ai/icgencel/e216642_Assigment_WnB/sweeps/kbosc5oy</a><br/>\n",
              "Run page: <a href=\"https://wandb.ai/icgencel/e216642_Assigment_WnB/runs/kkx1g1xl\" target=\"_blank\">https://wandb.ai/icgencel/e216642_Assigment_WnB/runs/kkx1g1xl</a><br/>\n",
              "                Run data is saved locally in <code>/content/wandb/run-20210613_204540-kkx1g1xl</code><br/><br/>\n",
              "            "
            ],
            "text/plain": [
              "<IPython.core.display.HTML object>"
            ]
          },
          "metadata": {
            "tags": []
          }
        },
        {
          "output_type": "stream",
          "text": [
            "Epoch:  1 | Epoch Time: 0m 5s\n",
            "\tTrain Loss: 0.713 | Train Acc: 49.59%\n",
            "\t Val. Loss: 0.711 |  Val. Acc: 49.85%\n",
            "Epoch:  2 | Epoch Time: 0m 5s\n",
            "\tTrain Loss: 0.736 | Train Acc: 51.14%\n",
            "\t Val. Loss: 0.712 |  Val. Acc: 49.66%\n",
            "Epoch:  3 | Epoch Time: 0m 5s\n",
            "\tTrain Loss: 0.751 | Train Acc: 49.81%\n",
            "\t Val. Loss: 0.706 |  Val. Acc: 49.24%\n",
            "Epoch:  4 | Epoch Time: 0m 5s\n",
            "\tTrain Loss: 0.736 | Train Acc: 50.29%\n",
            "\t Val. Loss: 0.714 |  Val. Acc: 49.53%\n",
            "Epoch:  5 | Epoch Time: 0m 5s\n",
            "\tTrain Loss: 0.740 | Train Acc: 49.68%\n",
            "\t Val. Loss: 0.711 |  Val. Acc: 50.23%\n",
            "Epoch:  6 | Epoch Time: 0m 5s\n",
            "\tTrain Loss: 0.733 | Train Acc: 50.28%\n",
            "\t Val. Loss: 0.719 |  Val. Acc: 48.69%\n",
            "Epoch:  7 | Epoch Time: 0m 5s\n",
            "\tTrain Loss: 0.736 | Train Acc: 50.34%\n",
            "\t Val. Loss: 0.709 |  Val. Acc: 49.34%\n",
            "Epoch:  8 | Epoch Time: 0m 5s\n",
            "\tTrain Loss: 0.735 | Train Acc: 50.50%\n",
            "\t Val. Loss: 0.728 |  Val. Acc: 50.13%\n",
            "Epoch:  9 | Epoch Time: 0m 5s\n",
            "\tTrain Loss: 0.731 | Train Acc: 50.75%\n",
            "\t Val. Loss: 0.709 |  Val. Acc: 50.81%\n",
            "Epoch: 10 | Epoch Time: 0m 5s\n",
            "\tTrain Loss: 0.732 | Train Acc: 49.81%\n",
            "\t Val. Loss: 0.710 |  Val. Acc: 50.82%\n"
          ],
          "name": "stdout"
        },
        {
          "output_type": "display_data",
          "data": {
            "text/html": [
              "<br/>Waiting for W&B process to finish, PID 380<br/>Program ended successfully."
            ],
            "text/plain": [
              "<IPython.core.display.HTML object>"
            ]
          },
          "metadata": {
            "tags": []
          }
        },
        {
          "output_type": "display_data",
          "data": {
            "application/vnd.jupyter.widget-view+json": {
              "model_id": "597460b2bbb244ef8a45ac15db82f7ac",
              "version_minor": 0,
              "version_major": 2
            },
            "text/plain": [
              "VBox(children=(Label(value=' 0.00MB of 0.00MB uploaded (0.00MB deduped)\\r'), FloatProgress(value=1.0, max=1.0)…"
            ]
          },
          "metadata": {
            "tags": []
          }
        },
        {
          "output_type": "display_data",
          "data": {
            "text/html": [
              "Find user logs for this run at: <code>/content/wandb/run-20210613_204540-kkx1g1xl/logs/debug.log</code>"
            ],
            "text/plain": [
              "<IPython.core.display.HTML object>"
            ]
          },
          "metadata": {
            "tags": []
          }
        },
        {
          "output_type": "display_data",
          "data": {
            "text/html": [
              "Find internal logs for this run at: <code>/content/wandb/run-20210613_204540-kkx1g1xl/logs/debug-internal.log</code>"
            ],
            "text/plain": [
              "<IPython.core.display.HTML object>"
            ]
          },
          "metadata": {
            "tags": []
          }
        },
        {
          "output_type": "display_data",
          "data": {
            "text/html": [
              "<h3>Run summary:</h3><br/><style>\n",
              "    table.wandb td:nth-child(1) { padding: 0 10px; text-align: right }\n",
              "    </style><table class=\"wandb\">\n",
              "<tr><td>Train_loss</td><td>0.73209</td></tr><tr><td>_runtime</td><td>56</td></tr><tr><td>_timestamp</td><td>1623617196</td></tr><tr><td>_step</td><td>5</td></tr><tr><td>Valid_loss</td><td>0.71018</td></tr><tr><td>Train_acc</td><td>0.4981</td></tr><tr><td>Valid_acc</td><td>0.50817</td></tr><tr><td>Test_loss</td><td>0.71191</td></tr><tr><td>Test_acc</td><td>0.50042</td></tr></table>"
            ],
            "text/plain": [
              "<IPython.core.display.HTML object>"
            ]
          },
          "metadata": {
            "tags": []
          }
        },
        {
          "output_type": "display_data",
          "data": {
            "text/html": [
              "<h3>Run history:</h3><br/><style>\n",
              "    table.wandb td:nth-child(1) { padding: 0 10px; text-align: right }\n",
              "    </style><table class=\"wandb\">\n",
              "<tr><td>Train_loss</td><td>▁</td></tr><tr><td>_runtime</td><td>▁▁▁▁██</td></tr><tr><td>_timestamp</td><td>▁▁▁▁██</td></tr><tr><td>_step</td><td>▁▂▄▅▇█</td></tr><tr><td>Valid_loss</td><td>▁</td></tr><tr><td>Train_acc</td><td>▁</td></tr><tr><td>Valid_acc</td><td>▁</td></tr><tr><td>Test_loss</td><td>▁</td></tr><tr><td>Test_acc</td><td>▁</td></tr></table><br/>"
            ],
            "text/plain": [
              "<IPython.core.display.HTML object>"
            ]
          },
          "metadata": {
            "tags": []
          }
        },
        {
          "output_type": "display_data",
          "data": {
            "text/html": [
              "Synced 5 W&B file(s), 0 media file(s), 0 artifact file(s) and 0 other file(s)"
            ],
            "text/plain": [
              "<IPython.core.display.HTML object>"
            ]
          },
          "metadata": {
            "tags": []
          }
        },
        {
          "output_type": "display_data",
          "data": {
            "text/html": [
              "\n",
              "                    <br/>Synced <strong style=\"color:#cdcd00\">icy-sweep-7</strong>: <a href=\"https://wandb.ai/icgencel/e216642_Assigment_WnB/runs/kkx1g1xl\" target=\"_blank\">https://wandb.ai/icgencel/e216642_Assigment_WnB/runs/kkx1g1xl</a><br/>\n",
              "                "
            ],
            "text/plain": [
              "<IPython.core.display.HTML object>"
            ]
          },
          "metadata": {
            "tags": []
          }
        },
        {
          "output_type": "stream",
          "text": [
            "\u001b[34m\u001b[1mwandb\u001b[0m: Agent Starting Run: fi78t0fm with config:\n",
            "\u001b[34m\u001b[1mwandb\u001b[0m: \tbatch_size: 64\n",
            "\u001b[34m\u001b[1mwandb\u001b[0m: \tepochs: 10\n",
            "\u001b[34m\u001b[1mwandb\u001b[0m: \tlearning_rate: 0.001\n"
          ],
          "name": "stderr"
        },
        {
          "output_type": "display_data",
          "data": {
            "text/html": [
              "\n",
              "                Tracking run with wandb version 0.10.32<br/>\n",
              "                Syncing run <strong style=\"color:#cdcd00\">woven-sweep-8</strong> to <a href=\"https://wandb.ai\" target=\"_blank\">Weights & Biases</a> <a href=\"https://docs.wandb.com/integrations/jupyter.html\" target=\"_blank\">(Documentation)</a>.<br/>\n",
              "                Project page: <a href=\"https://wandb.ai/icgencel/e216642_Assigment_WnB\" target=\"_blank\">https://wandb.ai/icgencel/e216642_Assigment_WnB</a><br/>\n",
              "                Sweep page: <a href=\"https://wandb.ai/icgencel/e216642_Assigment_WnB/sweeps/kbosc5oy\" target=\"_blank\">https://wandb.ai/icgencel/e216642_Assigment_WnB/sweeps/kbosc5oy</a><br/>\n",
              "Run page: <a href=\"https://wandb.ai/icgencel/e216642_Assigment_WnB/runs/fi78t0fm\" target=\"_blank\">https://wandb.ai/icgencel/e216642_Assigment_WnB/runs/fi78t0fm</a><br/>\n",
              "                Run data is saved locally in <code>/content/wandb/run-20210613_204647-fi78t0fm</code><br/><br/>\n",
              "            "
            ],
            "text/plain": [
              "<IPython.core.display.HTML object>"
            ]
          },
          "metadata": {
            "tags": []
          }
        },
        {
          "output_type": "stream",
          "text": [
            "Epoch:  1 | Epoch Time: 0m 5s\n",
            "\tTrain Loss: 0.689 | Train Acc: 53.28%\n",
            "\t Val. Loss: 0.697 |  Val. Acc: 51.38%\n",
            "Epoch:  2 | Epoch Time: 0m 5s\n",
            "\tTrain Loss: 0.691 | Train Acc: 52.15%\n",
            "\t Val. Loss: 0.691 |  Val. Acc: 52.44%\n",
            "Epoch:  3 | Epoch Time: 0m 5s\n",
            "\tTrain Loss: 0.681 | Train Acc: 56.64%\n",
            "\t Val. Loss: 0.693 |  Val. Acc: 52.24%\n",
            "Epoch:  4 | Epoch Time: 0m 5s\n",
            "\tTrain Loss: 0.684 | Train Acc: 54.86%\n",
            "\t Val. Loss: 0.680 |  Val. Acc: 56.33%\n",
            "Epoch:  5 | Epoch Time: 0m 5s\n",
            "\tTrain Loss: 0.667 | Train Acc: 57.72%\n",
            "\t Val. Loss: 0.689 |  Val. Acc: 51.76%\n",
            "Epoch:  6 | Epoch Time: 0m 5s\n",
            "\tTrain Loss: 0.606 | Train Acc: 65.68%\n",
            "\t Val. Loss: 0.578 |  Val. Acc: 73.08%\n",
            "Epoch:  7 | Epoch Time: 0m 5s\n",
            "\tTrain Loss: 0.615 | Train Acc: 62.87%\n",
            "\t Val. Loss: 0.696 |  Val. Acc: 51.84%\n",
            "Epoch:  8 | Epoch Time: 0m 5s\n",
            "\tTrain Loss: 0.582 | Train Acc: 68.03%\n",
            "\t Val. Loss: 0.709 |  Val. Acc: 51.57%\n",
            "Epoch:  9 | Epoch Time: 0m 5s\n",
            "\tTrain Loss: 0.591 | Train Acc: 65.32%\n",
            "\t Val. Loss: 0.706 |  Val. Acc: 53.97%\n",
            "Epoch: 10 | Epoch Time: 0m 5s\n",
            "\tTrain Loss: 0.572 | Train Acc: 70.21%\n",
            "\t Val. Loss: 0.555 |  Val. Acc: 74.68%\n"
          ],
          "name": "stdout"
        },
        {
          "output_type": "display_data",
          "data": {
            "text/html": [
              "<br/>Waiting for W&B process to finish, PID 419<br/>Program ended successfully."
            ],
            "text/plain": [
              "<IPython.core.display.HTML object>"
            ]
          },
          "metadata": {
            "tags": []
          }
        },
        {
          "output_type": "display_data",
          "data": {
            "application/vnd.jupyter.widget-view+json": {
              "model_id": "db89453ad6c943919b69b1511bffe8c8",
              "version_minor": 0,
              "version_major": 2
            },
            "text/plain": [
              "VBox(children=(Label(value=' 0.00MB of 0.00MB uploaded (0.00MB deduped)\\r'), FloatProgress(value=1.0, max=1.0)…"
            ]
          },
          "metadata": {
            "tags": []
          }
        },
        {
          "output_type": "display_data",
          "data": {
            "text/html": [
              "Find user logs for this run at: <code>/content/wandb/run-20210613_204647-fi78t0fm/logs/debug.log</code>"
            ],
            "text/plain": [
              "<IPython.core.display.HTML object>"
            ]
          },
          "metadata": {
            "tags": []
          }
        },
        {
          "output_type": "display_data",
          "data": {
            "text/html": [
              "Find internal logs for this run at: <code>/content/wandb/run-20210613_204647-fi78t0fm/logs/debug-internal.log</code>"
            ],
            "text/plain": [
              "<IPython.core.display.HTML object>"
            ]
          },
          "metadata": {
            "tags": []
          }
        },
        {
          "output_type": "display_data",
          "data": {
            "text/html": [
              "<h3>Run summary:</h3><br/><style>\n",
              "    table.wandb td:nth-child(1) { padding: 0 10px; text-align: right }\n",
              "    </style><table class=\"wandb\">\n",
              "<tr><td>Train_loss</td><td>0.57164</td></tr><tr><td>_runtime</td><td>57</td></tr><tr><td>_timestamp</td><td>1623617264</td></tr><tr><td>_step</td><td>5</td></tr><tr><td>Valid_loss</td><td>0.55547</td></tr><tr><td>Train_acc</td><td>0.70215</td></tr><tr><td>Valid_acc</td><td>0.74682</td></tr><tr><td>Test_loss</td><td>0.55356</td></tr><tr><td>Test_acc</td><td>0.74615</td></tr></table>"
            ],
            "text/plain": [
              "<IPython.core.display.HTML object>"
            ]
          },
          "metadata": {
            "tags": []
          }
        },
        {
          "output_type": "display_data",
          "data": {
            "text/html": [
              "<h3>Run history:</h3><br/><style>\n",
              "    table.wandb td:nth-child(1) { padding: 0 10px; text-align: right }\n",
              "    </style><table class=\"wandb\">\n",
              "<tr><td>Train_loss</td><td>▁</td></tr><tr><td>_runtime</td><td>▁▁▁▁██</td></tr><tr><td>_timestamp</td><td>▁▁▁▁██</td></tr><tr><td>_step</td><td>▁▂▄▅▇█</td></tr><tr><td>Valid_loss</td><td>▁</td></tr><tr><td>Train_acc</td><td>▁</td></tr><tr><td>Valid_acc</td><td>▁</td></tr><tr><td>Test_loss</td><td>▁</td></tr><tr><td>Test_acc</td><td>▁</td></tr></table><br/>"
            ],
            "text/plain": [
              "<IPython.core.display.HTML object>"
            ]
          },
          "metadata": {
            "tags": []
          }
        },
        {
          "output_type": "display_data",
          "data": {
            "text/html": [
              "Synced 5 W&B file(s), 0 media file(s), 0 artifact file(s) and 0 other file(s)"
            ],
            "text/plain": [
              "<IPython.core.display.HTML object>"
            ]
          },
          "metadata": {
            "tags": []
          }
        },
        {
          "output_type": "display_data",
          "data": {
            "text/html": [
              "\n",
              "                    <br/>Synced <strong style=\"color:#cdcd00\">woven-sweep-8</strong>: <a href=\"https://wandb.ai/icgencel/e216642_Assigment_WnB/runs/fi78t0fm\" target=\"_blank\">https://wandb.ai/icgencel/e216642_Assigment_WnB/runs/fi78t0fm</a><br/>\n",
              "                "
            ],
            "text/plain": [
              "<IPython.core.display.HTML object>"
            ]
          },
          "metadata": {
            "tags": []
          }
        },
        {
          "output_type": "stream",
          "text": [
            "\u001b[34m\u001b[1mwandb\u001b[0m: Sweep Agent: Waiting for job.\n",
            "\u001b[34m\u001b[1mwandb\u001b[0m: Sweep Agent: Exiting.\n"
          ],
          "name": "stderr"
        }
      ]
    }
  ]
}